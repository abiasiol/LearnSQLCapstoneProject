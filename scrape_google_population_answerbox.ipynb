{
 "cells": [
  {
   "cell_type": "code",
   "execution_count": 22,
   "metadata": {
    "collapsed": true
   },
   "outputs": [
    {
     "data": {
      "text/plain": "'139 million'"
     },
     "execution_count": 22,
     "metadata": {},
     "output_type": "execute_result"
    }
   ],
   "source": [
    "import requests, lxml\n",
    "from bs4 import BeautifulSoup\n",
    "\n",
    "headers = {\n",
    "  \"User-agent\":\n",
    "  \"Mozilla/5.0 (Windows NT 10.0; Win64; x64) AppleWebKit/537.36 (KHTML, like Gecko) Chrome/70.0.3538.102 Safari/537.36 Edge/18.19582\"\n",
    "}\n",
    "\n",
    "params = {\n",
    "  \"q\": \"population of russia 1980\",\n",
    "}\n",
    "\n",
    "def get_population_answerbox(parameters):\n",
    "  try:\n",
    "      html = requests.get('https://www.google.com/search',headers=headers, params=parameters)\n",
    "      soup = BeautifulSoup(html.text, 'lxml')\n",
    "\n",
    "      place = soup.select_one('.GzssTd span').text\n",
    "      population_year = soup.select_one('.KBXm4e').text.split(' ')\n",
    "      population = population_year[0]\n",
    "      year = population_year[1].replace('(', '').replace(')', '')\n",
    "\n",
    "      explore_more_link = soup.select_one('.tiS4rf')['href']\n",
    "      sources = [source.text for source in soup.select('.kno-ftr span a')]\n",
    "\n",
    "      return population.replace(u'\\xa0', u' ')\n",
    "      # print(f'{place}\\nCurrent population: {population}\\nCaptured in {year}\\n{sources}\\n{explore_more_link}\\n')\n",
    "\n",
    "      # for other_city, other_population in zip(soup.select('.AleqXe'), soup.select('.kpd-lv')):\n",
    "      #   other_place_city = other_city.text.strip()\n",
    "      #   other_place_population = other_population.text\n",
    "\n",
    "        # print(f'{other_place_city}: {other_place_population}')\n",
    "  except Exception:\n",
    "    return 'Not found'\n",
    "\n",
    "\n",
    "\n",
    "\n",
    "\n",
    "get_population_answerbox(params)\n"
   ]
  }
 ],
 "metadata": {
  "kernelspec": {
   "display_name": "Python 3",
   "language": "python",
   "name": "python3"
  },
  "language_info": {
   "codemirror_mode": {
    "name": "ipython",
    "version": 2
   },
   "file_extension": ".py",
   "mimetype": "text/x-python",
   "name": "python",
   "nbconvert_exporter": "python",
   "pygments_lexer": "ipython2",
   "version": "2.7.6"
  }
 },
 "nbformat": 4,
 "nbformat_minor": 0
}