{
 "cells": [
  {
   "cell_type": "markdown",
   "metadata": {
    "collapsed": true,
    "pycharm": {
     "name": "#%% md\n"
    }
   },
   "source": [
    "# Countries Olympics performance evaluation\n",
    "## Data analysis project for Italy National Olympic Committee\n",
    "### October 2021\n",
    "#### Andrea Biasioli"
   ]
  },
  {
   "cell_type": "markdown",
   "source": [
    "## Goal of the analysis\n",
    "The analysis relies on the SportsStats dataset to study country-wide patterns in terms of medal earning.\n",
    "\n",
    "The goal is to understand which countries are currently performing better and which countries are on the rise.\n",
    "\n",
    "The analysis will delve on how the country is faring respect to others of similar size.\n",
    "\n",
    "Additional information provided include an analysis on whether different NOCs rely on single high-talent individuals competing in more editions/events, and which parameters correlate better with winning medals.\n"
   ],
   "metadata": {
    "collapsed": false,
    "pycharm": {
     "name": "#%% md\n"
    }
   }
  },
  {
   "cell_type": "markdown",
   "source": [
    "# Question 1\n",
    "## Which countries are currently the most successful (in terms of number of medals) and which ones are on the rise?\n",
    "\n",
    "- It can be helpful to know if similarly-sized countries are faring better or worse\n",
    "- It can also be helpful to see which countries are consistently performing well (maybe they established a good funding/coaching system)\n",
    "\n",
    "\n"
   ],
   "metadata": {
    "collapsed": false,
    "pycharm": {
     "name": "#%% md\n"
    }
   }
  },
  {
   "cell_type": "markdown",
   "source": [
    "# Question 2\n",
    "## Which countries relies mostly on single-athletes performance to obtain their medals?\n",
    "\n",
    "Some countries performance will be reliant on single individuals. This is not too promising for their future, as when the athlete retires the country performance will likely worsen.\n",
    "\n",
    "We want to make sure that our NOC is not one of them.\n",
    "\n",
    "\n",
    "\n"
   ],
   "metadata": {
    "collapsed": false,
    "pycharm": {
     "name": "#%% md\n"
    }
   }
  },
  {
   "cell_type": "markdown",
   "source": [
    "# Question 3\n",
    "## Is there any connection between the height and the expected performance?\n",
    "\n",
    "- Sometimes young athletes are selected based on their technical skills, and not their physical potential. If a relationship is found between height and performance, maybe the recruiting process could be different and encourage physical-based down selection.\n",
    "- Height may be relevant in more recent editions but not in earlier ones. Is the importance changing in time?\n",
    "- The analysis should be differentiated based on sex\n"
   ],
   "metadata": {
    "collapsed": false,
    "pycharm": {
     "name": "#%% md\n"
    }
   }
  }
 ],
 "metadata": {
  "kernelspec": {
   "display_name": "Python 3",
   "language": "python",
   "name": "python3"
  },
  "language_info": {
   "codemirror_mode": {
    "name": "ipython",
    "version": 2
   },
   "file_extension": ".py",
   "mimetype": "text/x-python",
   "name": "python",
   "nbconvert_exporter": "python",
   "pygments_lexer": "ipython2",
   "version": "2.7.6"
  }
 },
 "nbformat": 4,
 "nbformat_minor": 0
}