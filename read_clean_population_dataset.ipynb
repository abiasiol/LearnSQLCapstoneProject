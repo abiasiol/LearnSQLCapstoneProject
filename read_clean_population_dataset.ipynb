{
 "cells": [
  {
   "cell_type": "code",
   "execution_count": 64,
   "metadata": {
    "collapsed": true
   },
   "outputs": [],
   "source": [
    "import os\n",
    "import pandas as pd\n",
    "from IPython.display import display\n"
   ]
  },
  {
   "cell_type": "code",
   "execution_count": 65,
   "outputs": [
    {
     "data": {
      "text/plain": "                  Country Name Country Code         1960         1961  \\\n0                        Aruba          ARU      54208.0      55434.0   \n1  Africa Eastern and Southern          AFE  130836765.0  134159786.0   \n2                  Afghanistan          AFG    8996967.0    9169406.0   \n3   Africa Western and Central          AFW   96396419.0   98407221.0   \n4                       Angola          ANG    5454938.0    5531451.0   \n\n          1962         1963         1964         1965         1966  \\\n0      56234.0      56699.0      57029.0      57357.0      57702.0   \n1  137614644.0  141202036.0  144920186.0  148769974.0  152752671.0   \n2    9351442.0    9543200.0    9744772.0    9956318.0   10174840.0   \n3  100506960.0  102691339.0  104953470.0  107289875.0  109701811.0   \n4    5608499.0    5679409.0    5734995.0    5770573.0    5781305.0   \n\n          1967  ...         2011         2012         2013         2014  \\\n0      58044.0  ...     102050.0     102565.0     103165.0     103776.0   \n1  156876454.0  ...  532760424.0  547482863.0  562601578.0  578075373.0   \n2   10399936.0  ...   30117411.0   31161378.0   32269592.0   33370804.0   \n3  112195950.0  ...  360285439.0  370243017.0  380437896.0  390882979.0   \n4    5774440.0  ...   24220660.0   25107925.0   26015786.0   26941773.0   \n\n          2015         2016         2017         2018         2019  \\\n0     104339.0     104865.0     105361.0     105846.0     106310.0   \n1  593871847.0  609978946.0  626392880.0  643090131.0  660046272.0   \n2   34413603.0   35383028.0   36296111.0   37171922.0   38041757.0   \n3  401586651.0  412551299.0  423769930.0  435229381.0  446911598.0   \n4   27884380.0   28842482.0   29816769.0   30809787.0   31825299.0   \n\n          2020  \n0     106766.0  \n1  677243299.0  \n2   38928341.0  \n3  458803476.0  \n4   32866268.0  \n\n[5 rows x 63 columns]",
      "text/html": "<div>\n<style scoped>\n    .dataframe tbody tr th:only-of-type {\n        vertical-align: middle;\n    }\n\n    .dataframe tbody tr th {\n        vertical-align: top;\n    }\n\n    .dataframe thead th {\n        text-align: right;\n    }\n</style>\n<table border=\"1\" class=\"dataframe\">\n  <thead>\n    <tr style=\"text-align: right;\">\n      <th></th>\n      <th>Country Name</th>\n      <th>Country Code</th>\n      <th>1960</th>\n      <th>1961</th>\n      <th>1962</th>\n      <th>1963</th>\n      <th>1964</th>\n      <th>1965</th>\n      <th>1966</th>\n      <th>1967</th>\n      <th>...</th>\n      <th>2011</th>\n      <th>2012</th>\n      <th>2013</th>\n      <th>2014</th>\n      <th>2015</th>\n      <th>2016</th>\n      <th>2017</th>\n      <th>2018</th>\n      <th>2019</th>\n      <th>2020</th>\n    </tr>\n  </thead>\n  <tbody>\n    <tr>\n      <th>0</th>\n      <td>Aruba</td>\n      <td>ARU</td>\n      <td>54208.0</td>\n      <td>55434.0</td>\n      <td>56234.0</td>\n      <td>56699.0</td>\n      <td>57029.0</td>\n      <td>57357.0</td>\n      <td>57702.0</td>\n      <td>58044.0</td>\n      <td>...</td>\n      <td>102050.0</td>\n      <td>102565.0</td>\n      <td>103165.0</td>\n      <td>103776.0</td>\n      <td>104339.0</td>\n      <td>104865.0</td>\n      <td>105361.0</td>\n      <td>105846.0</td>\n      <td>106310.0</td>\n      <td>106766.0</td>\n    </tr>\n    <tr>\n      <th>1</th>\n      <td>Africa Eastern and Southern</td>\n      <td>AFE</td>\n      <td>130836765.0</td>\n      <td>134159786.0</td>\n      <td>137614644.0</td>\n      <td>141202036.0</td>\n      <td>144920186.0</td>\n      <td>148769974.0</td>\n      <td>152752671.0</td>\n      <td>156876454.0</td>\n      <td>...</td>\n      <td>532760424.0</td>\n      <td>547482863.0</td>\n      <td>562601578.0</td>\n      <td>578075373.0</td>\n      <td>593871847.0</td>\n      <td>609978946.0</td>\n      <td>626392880.0</td>\n      <td>643090131.0</td>\n      <td>660046272.0</td>\n      <td>677243299.0</td>\n    </tr>\n    <tr>\n      <th>2</th>\n      <td>Afghanistan</td>\n      <td>AFG</td>\n      <td>8996967.0</td>\n      <td>9169406.0</td>\n      <td>9351442.0</td>\n      <td>9543200.0</td>\n      <td>9744772.0</td>\n      <td>9956318.0</td>\n      <td>10174840.0</td>\n      <td>10399936.0</td>\n      <td>...</td>\n      <td>30117411.0</td>\n      <td>31161378.0</td>\n      <td>32269592.0</td>\n      <td>33370804.0</td>\n      <td>34413603.0</td>\n      <td>35383028.0</td>\n      <td>36296111.0</td>\n      <td>37171922.0</td>\n      <td>38041757.0</td>\n      <td>38928341.0</td>\n    </tr>\n    <tr>\n      <th>3</th>\n      <td>Africa Western and Central</td>\n      <td>AFW</td>\n      <td>96396419.0</td>\n      <td>98407221.0</td>\n      <td>100506960.0</td>\n      <td>102691339.0</td>\n      <td>104953470.0</td>\n      <td>107289875.0</td>\n      <td>109701811.0</td>\n      <td>112195950.0</td>\n      <td>...</td>\n      <td>360285439.0</td>\n      <td>370243017.0</td>\n      <td>380437896.0</td>\n      <td>390882979.0</td>\n      <td>401586651.0</td>\n      <td>412551299.0</td>\n      <td>423769930.0</td>\n      <td>435229381.0</td>\n      <td>446911598.0</td>\n      <td>458803476.0</td>\n    </tr>\n    <tr>\n      <th>4</th>\n      <td>Angola</td>\n      <td>ANG</td>\n      <td>5454938.0</td>\n      <td>5531451.0</td>\n      <td>5608499.0</td>\n      <td>5679409.0</td>\n      <td>5734995.0</td>\n      <td>5770573.0</td>\n      <td>5781305.0</td>\n      <td>5774440.0</td>\n      <td>...</td>\n      <td>24220660.0</td>\n      <td>25107925.0</td>\n      <td>26015786.0</td>\n      <td>26941773.0</td>\n      <td>27884380.0</td>\n      <td>28842482.0</td>\n      <td>29816769.0</td>\n      <td>30809787.0</td>\n      <td>31825299.0</td>\n      <td>32866268.0</td>\n    </tr>\n  </tbody>\n</table>\n<p>5 rows × 63 columns</p>\n</div>"
     },
     "metadata": {},
     "output_type": "display_data"
    }
   ],
   "source": [
    "# Import population data from https://data.worldbank.org/indicator/SP.POP.TOTL\n",
    "population_df = pd.read_csv(os.path.join('dataset', 'API_SP.POP.TOTL_DS2_en_csv_v2_3052518.csv'), skiprows=4, index_col=False)\n",
    "population_df = population_df.drop(columns=['Indicator Name', 'Indicator Code'])\n",
    "display(population_df.head(5))\n"
   ],
   "metadata": {
    "collapsed": false,
    "pycharm": {
     "name": "#%%\n"
    }
   }
  },
  {
   "cell_type": "code",
   "execution_count": 66,
   "outputs": [
    {
     "data": {
      "text/plain": "      Country Name Country Code  Year  Population\n2      Afghanistan          AFG  1960     8996967\n271    Afghanistan          AFG  1961     9169406\n540    Afghanistan          AFG  1962     9351442\n809    Afghanistan          AFG  1963     9543200\n1078   Afghanistan          AFG  1964     9744772\n...            ...          ...   ...         ...\n15329     Zimbabwe          ZIM  2016    14030338\n15598     Zimbabwe          ZIM  2017    14236599\n15867     Zimbabwe          ZIM  2018    14438812\n16136     Zimbabwe          ZIM  2019    14645473\n16405     Zimbabwe          ZIM  2020    14862927\n\n[16409 rows x 4 columns]",
      "text/html": "<div>\n<style scoped>\n    .dataframe tbody tr th:only-of-type {\n        vertical-align: middle;\n    }\n\n    .dataframe tbody tr th {\n        vertical-align: top;\n    }\n\n    .dataframe thead th {\n        text-align: right;\n    }\n</style>\n<table border=\"1\" class=\"dataframe\">\n  <thead>\n    <tr style=\"text-align: right;\">\n      <th></th>\n      <th>Country Name</th>\n      <th>Country Code</th>\n      <th>Year</th>\n      <th>Population</th>\n    </tr>\n  </thead>\n  <tbody>\n    <tr>\n      <th>2</th>\n      <td>Afghanistan</td>\n      <td>AFG</td>\n      <td>1960</td>\n      <td>8996967</td>\n    </tr>\n    <tr>\n      <th>271</th>\n      <td>Afghanistan</td>\n      <td>AFG</td>\n      <td>1961</td>\n      <td>9169406</td>\n    </tr>\n    <tr>\n      <th>540</th>\n      <td>Afghanistan</td>\n      <td>AFG</td>\n      <td>1962</td>\n      <td>9351442</td>\n    </tr>\n    <tr>\n      <th>809</th>\n      <td>Afghanistan</td>\n      <td>AFG</td>\n      <td>1963</td>\n      <td>9543200</td>\n    </tr>\n    <tr>\n      <th>1078</th>\n      <td>Afghanistan</td>\n      <td>AFG</td>\n      <td>1964</td>\n      <td>9744772</td>\n    </tr>\n    <tr>\n      <th>...</th>\n      <td>...</td>\n      <td>...</td>\n      <td>...</td>\n      <td>...</td>\n    </tr>\n    <tr>\n      <th>15329</th>\n      <td>Zimbabwe</td>\n      <td>ZIM</td>\n      <td>2016</td>\n      <td>14030338</td>\n    </tr>\n    <tr>\n      <th>15598</th>\n      <td>Zimbabwe</td>\n      <td>ZIM</td>\n      <td>2017</td>\n      <td>14236599</td>\n    </tr>\n    <tr>\n      <th>15867</th>\n      <td>Zimbabwe</td>\n      <td>ZIM</td>\n      <td>2018</td>\n      <td>14438812</td>\n    </tr>\n    <tr>\n      <th>16136</th>\n      <td>Zimbabwe</td>\n      <td>ZIM</td>\n      <td>2019</td>\n      <td>14645473</td>\n    </tr>\n    <tr>\n      <th>16405</th>\n      <td>Zimbabwe</td>\n      <td>ZIM</td>\n      <td>2020</td>\n      <td>14862927</td>\n    </tr>\n  </tbody>\n</table>\n<p>16409 rows × 4 columns</p>\n</div>"
     },
     "metadata": {},
     "output_type": "display_data"
    }
   ],
   "source": [
    "pivoted_population = population_df.melt(id_vars=[\"Country Name\", \"Country Code\"],\n",
    "                            var_name=\"Year\",\n",
    "                            value_name=\"Population\")\n",
    "pivoted_population = pivoted_population.sort_values(by=['Country Name', 'Year'])\n",
    "pivoted_population.Population = pivoted_population.Population.astype('Int64')\n",
    "pivoted_population.Year = pivoted_population.Year.astype(int)\n",
    "display(pivoted_population)"
   ],
   "metadata": {
    "collapsed": false,
    "pycharm": {
     "name": "#%%\n"
    }
   }
  },
  {
   "cell_type": "code",
   "execution_count": 67,
   "outputs": [],
   "source": [
    "# Save to parquet\n",
    "pivoted_population.to_parquet(os.path.join('dataset', 'populations.parquet'))"
   ],
   "metadata": {
    "collapsed": false,
    "pycharm": {
     "name": "#%%\n"
    }
   }
  }
 ],
 "metadata": {
  "kernelspec": {
   "display_name": "Python 3",
   "language": "python",
   "name": "python3"
  },
  "language_info": {
   "codemirror_mode": {
    "name": "ipython",
    "version": 2
   },
   "file_extension": ".py",
   "mimetype": "text/x-python",
   "name": "python",
   "nbconvert_exporter": "python",
   "pygments_lexer": "ipython2",
   "version": "2.7.6"
  }
 },
 "nbformat": 4,
 "nbformat_minor": 0
}