{
 "cells": [
  {
   "cell_type": "code",
   "execution_count": 98,
   "outputs": [],
   "source": [
    "import pandas as pd\n",
    "import os\n",
    "from IPython.display import display\n",
    "from pandasql import sqldf\n",
    "import numpy as np\n",
    "dataset_path = 'dataset'\n",
    "pysqldf = lambda q: sqldf(q, globals())\n",
    "\n",
    "\n",
    "silver_df = pd.read_parquet(os.path.join(dataset_path, 'silver_df.parquet'))\n"
   ],
   "metadata": {
    "collapsed": false,
    "pycharm": {
     "name": "#%%\n"
    }
   }
  },
  {
   "cell_type": "code",
   "execution_count": 99,
   "metadata": {
    "collapsed": true
   },
   "outputs": [],
   "source": [
    "# Like for 3_descriptive_analysis\n",
    "# Extract the number of different athletes for each NOC per Year for Summer Olympics\n",
    "\n",
    "count_distinct_athletes = f\" SELECT NOC, Year, COUNT(DISTINCT ID) as distinct_athletes_no\" \\\n",
    "                f\" FROM silver_df\" \\\n",
    "                f\" WHERE Season='Summer' \" \\\n",
    "                 f\" GROUP BY NOC, Year\"\n",
    "gold_distinct_athletes_df = pysqldf(count_distinct_athletes)\n",
    "\n"
   ]
  },
  {
   "cell_type": "code",
   "execution_count": 100,
   "outputs": [],
   "source": [
    "# Validate the previous query by looking at the number of distinct athletes for team USA\n",
    "# In the last 3 editions (2016, 2012, 2008)\n",
    "\n",
    "# Results should be:\n",
    "# - 2016: 554 (263 men and 291 women) in 33 sports\n",
    "# - 2012: 530 (262 men and 268 women) in 31 sports\n",
    "# - 2008: 588 (306 men and 282 women) in 32 sports\n",
    "\n",
    "# display(gold_distinct_athletes_df.loc[gold_distinct_athletes_df.NOC == 'USA'])\n",
    "# Query result: 555 (+1), 530, 588.\n",
    "# The team USA website reports 558 participants for Rio 2016\n"
   ],
   "metadata": {
    "collapsed": false,
    "pycharm": {
     "name": "#%%\n"
    }
   }
  },
  {
   "cell_type": "code",
   "execution_count": 101,
   "outputs": [],
   "source": [
    "# Extract the number of competitions entries for each NOC per Year for Summer Olympics\n",
    "\n",
    "count_events_partecipations = f\" SELECT NOC, Year, COUNT(1) as events_partecipations_no\" \\\n",
    "                f\" FROM silver_df\" \\\n",
    "                f\" WHERE Season='Summer' \" \\\n",
    "                 f\" GROUP BY NOC, Year\"\n",
    "gold_events_partecipations_df = pysqldf(count_events_partecipations)\n",
    "\n",
    "# display(gold_events_partecipations_df.loc[gold_events_partecipations_df.NOC == 'USA'])\n"
   ],
   "metadata": {
    "collapsed": false,
    "pycharm": {
     "name": "#%%\n"
    }
   }
  },
  {
   "cell_type": "code",
   "execution_count": 102,
   "outputs": [],
   "source": [
    "# Extract number of medals by type for each NOC\n",
    "\n",
    "\n",
    "subquery_count_winning = f\" SELECT NOC, Sport, Event, Year, Season, Games, Team, Medal\" \\\n",
    "                f\" FROM silver_df\" \\\n",
    "                f\" WHERE Medal IS NOT NULL AND Season='Summer' \" \\\n",
    "                 f\" GROUP BY NOC, Sport, Event, Year, Season, Games, Team, Medal\" \\\n",
    "                f\" ORDER BY NOC\"\n",
    "medalists_df = pysqldf(subquery_count_winning)\n"
   ],
   "metadata": {
    "collapsed": false,
    "pycharm": {
     "name": "#%%\n"
    }
   }
  },
  {
   "cell_type": "code",
   "execution_count": 103,
   "outputs": [
    {
     "data": {
      "text/plain": "      NOC  Year  Bronze  Gold  NoMedal  Silver  TotalPartecipants\n0     AFG  1936       0     0        4       0                  4\n1     AFG  1948       0     0        2       0                  2\n2     AFG  1956       0     0        1       0                  1\n3     AFG  1960       0     0       13       0                 13\n4     AFG  1964       0     0        8       0                  8\n...   ...   ...     ...   ...      ...     ...                ...\n2805  ZIM  2000       0     0       19       0                 19\n2806  ZIM  2004       1     1        8       1                 11\n2807  ZIM  2008       0     1       11       3                 15\n2808  ZIM  2012       0     0        8       0                  8\n2809  ZIM  2016       0     0       13       0                 13\n\n[2810 rows x 7 columns]",
      "text/html": "<div>\n<style scoped>\n    .dataframe tbody tr th:only-of-type {\n        vertical-align: middle;\n    }\n\n    .dataframe tbody tr th {\n        vertical-align: top;\n    }\n\n    .dataframe thead th {\n        text-align: right;\n    }\n</style>\n<table border=\"1\" class=\"dataframe\">\n  <thead>\n    <tr style=\"text-align: right;\">\n      <th></th>\n      <th>NOC</th>\n      <th>Year</th>\n      <th>Bronze</th>\n      <th>Gold</th>\n      <th>NoMedal</th>\n      <th>Silver</th>\n      <th>TotalPartecipants</th>\n    </tr>\n  </thead>\n  <tbody>\n    <tr>\n      <th>0</th>\n      <td>AFG</td>\n      <td>1936</td>\n      <td>0</td>\n      <td>0</td>\n      <td>4</td>\n      <td>0</td>\n      <td>4</td>\n    </tr>\n    <tr>\n      <th>1</th>\n      <td>AFG</td>\n      <td>1948</td>\n      <td>0</td>\n      <td>0</td>\n      <td>2</td>\n      <td>0</td>\n      <td>2</td>\n    </tr>\n    <tr>\n      <th>2</th>\n      <td>AFG</td>\n      <td>1956</td>\n      <td>0</td>\n      <td>0</td>\n      <td>1</td>\n      <td>0</td>\n      <td>1</td>\n    </tr>\n    <tr>\n      <th>3</th>\n      <td>AFG</td>\n      <td>1960</td>\n      <td>0</td>\n      <td>0</td>\n      <td>13</td>\n      <td>0</td>\n      <td>13</td>\n    </tr>\n    <tr>\n      <th>4</th>\n      <td>AFG</td>\n      <td>1964</td>\n      <td>0</td>\n      <td>0</td>\n      <td>8</td>\n      <td>0</td>\n      <td>8</td>\n    </tr>\n    <tr>\n      <th>...</th>\n      <td>...</td>\n      <td>...</td>\n      <td>...</td>\n      <td>...</td>\n      <td>...</td>\n      <td>...</td>\n      <td>...</td>\n    </tr>\n    <tr>\n      <th>2805</th>\n      <td>ZIM</td>\n      <td>2000</td>\n      <td>0</td>\n      <td>0</td>\n      <td>19</td>\n      <td>0</td>\n      <td>19</td>\n    </tr>\n    <tr>\n      <th>2806</th>\n      <td>ZIM</td>\n      <td>2004</td>\n      <td>1</td>\n      <td>1</td>\n      <td>8</td>\n      <td>1</td>\n      <td>11</td>\n    </tr>\n    <tr>\n      <th>2807</th>\n      <td>ZIM</td>\n      <td>2008</td>\n      <td>0</td>\n      <td>1</td>\n      <td>11</td>\n      <td>3</td>\n      <td>15</td>\n    </tr>\n    <tr>\n      <th>2808</th>\n      <td>ZIM</td>\n      <td>2012</td>\n      <td>0</td>\n      <td>0</td>\n      <td>8</td>\n      <td>0</td>\n      <td>8</td>\n    </tr>\n    <tr>\n      <th>2809</th>\n      <td>ZIM</td>\n      <td>2016</td>\n      <td>0</td>\n      <td>0</td>\n      <td>13</td>\n      <td>0</td>\n      <td>13</td>\n    </tr>\n  </tbody>\n</table>\n<p>2810 rows × 7 columns</p>\n</div>"
     },
     "metadata": {},
     "output_type": "display_data"
    }
   ],
   "source": [
    "\n",
    "# NOC, year, and different medals\n",
    "noc_medals_df = pd.pivot_table(medalists_df,\n",
    "                               index=['NOC', 'Year'],\n",
    "                               columns='Medal',\n",
    "                               aggfunc='count',\n",
    "                               values='Event',\n",
    "                               fill_value=0,\n",
    "                               margins=True,\n",
    "                               margins_name='TotalPartecipants')\n",
    "\n",
    "noc_medals_df = noc_medals_df.drop(('TotalPartecipants',''))\n",
    "noc_medals_df.columns.name = ''\n",
    "noc_medals_df.reset_index(inplace=True)\n",
    "display(noc_medals_df)\n"
   ],
   "metadata": {
    "collapsed": false,
    "pycharm": {
     "name": "#%%\n"
    }
   }
  },
  {
   "cell_type": "code",
   "execution_count": 104,
   "outputs": [
    {
     "data": {
      "text/plain": "      NOC  Year  events_partecipations_no  distinct_athletes_no  Bronze  Gold  \\\n4     AFG  1964                         8                     8       0     0   \n5     AFG  1968                         5                     5       0     0   \n6     AFG  1972                         8                     8       0     0   \n7     AFG  1980                        11                    11       0     0   \n8     AFG  1988                         5                     5       0     0   \n...   ...   ...                       ...                   ...     ...   ...   \n2805  ZIM  2000                        26                    16       0     0   \n2806  ZIM  2004                        14                    12       1     1   \n2807  ZIM  2008                        16                    13       0     1   \n2808  ZIM  2012                         9                     7       0     0   \n2809  ZIM  2016                        31                    30       0     0   \n\n      NoMedal  Silver  TotalPartecipants  TotalMedals  \n4           8       0                  8            0  \n5           5       0                  5            0  \n6           8       0                  8            0  \n7          11       0                 11            0  \n8           5       0                  5            0  \n...       ...     ...                ...          ...  \n2805       19       0                 19            0  \n2806        8       1                 11            3  \n2807       11       3                 15            4  \n2808        8       0                  8            0  \n2809       13       0                 13            0  \n\n[2180 rows x 10 columns]",
      "text/html": "<div>\n<style scoped>\n    .dataframe tbody tr th:only-of-type {\n        vertical-align: middle;\n    }\n\n    .dataframe tbody tr th {\n        vertical-align: top;\n    }\n\n    .dataframe thead th {\n        text-align: right;\n    }\n</style>\n<table border=\"1\" class=\"dataframe\">\n  <thead>\n    <tr style=\"text-align: right;\">\n      <th></th>\n      <th>NOC</th>\n      <th>Year</th>\n      <th>events_partecipations_no</th>\n      <th>distinct_athletes_no</th>\n      <th>Bronze</th>\n      <th>Gold</th>\n      <th>NoMedal</th>\n      <th>Silver</th>\n      <th>TotalPartecipants</th>\n      <th>TotalMedals</th>\n    </tr>\n  </thead>\n  <tbody>\n    <tr>\n      <th>4</th>\n      <td>AFG</td>\n      <td>1964</td>\n      <td>8</td>\n      <td>8</td>\n      <td>0</td>\n      <td>0</td>\n      <td>8</td>\n      <td>0</td>\n      <td>8</td>\n      <td>0</td>\n    </tr>\n    <tr>\n      <th>5</th>\n      <td>AFG</td>\n      <td>1968</td>\n      <td>5</td>\n      <td>5</td>\n      <td>0</td>\n      <td>0</td>\n      <td>5</td>\n      <td>0</td>\n      <td>5</td>\n      <td>0</td>\n    </tr>\n    <tr>\n      <th>6</th>\n      <td>AFG</td>\n      <td>1972</td>\n      <td>8</td>\n      <td>8</td>\n      <td>0</td>\n      <td>0</td>\n      <td>8</td>\n      <td>0</td>\n      <td>8</td>\n      <td>0</td>\n    </tr>\n    <tr>\n      <th>7</th>\n      <td>AFG</td>\n      <td>1980</td>\n      <td>11</td>\n      <td>11</td>\n      <td>0</td>\n      <td>0</td>\n      <td>11</td>\n      <td>0</td>\n      <td>11</td>\n      <td>0</td>\n    </tr>\n    <tr>\n      <th>8</th>\n      <td>AFG</td>\n      <td>1988</td>\n      <td>5</td>\n      <td>5</td>\n      <td>0</td>\n      <td>0</td>\n      <td>5</td>\n      <td>0</td>\n      <td>5</td>\n      <td>0</td>\n    </tr>\n    <tr>\n      <th>...</th>\n      <td>...</td>\n      <td>...</td>\n      <td>...</td>\n      <td>...</td>\n      <td>...</td>\n      <td>...</td>\n      <td>...</td>\n      <td>...</td>\n      <td>...</td>\n      <td>...</td>\n    </tr>\n    <tr>\n      <th>2805</th>\n      <td>ZIM</td>\n      <td>2000</td>\n      <td>26</td>\n      <td>16</td>\n      <td>0</td>\n      <td>0</td>\n      <td>19</td>\n      <td>0</td>\n      <td>19</td>\n      <td>0</td>\n    </tr>\n    <tr>\n      <th>2806</th>\n      <td>ZIM</td>\n      <td>2004</td>\n      <td>14</td>\n      <td>12</td>\n      <td>1</td>\n      <td>1</td>\n      <td>8</td>\n      <td>1</td>\n      <td>11</td>\n      <td>3</td>\n    </tr>\n    <tr>\n      <th>2807</th>\n      <td>ZIM</td>\n      <td>2008</td>\n      <td>16</td>\n      <td>13</td>\n      <td>0</td>\n      <td>1</td>\n      <td>11</td>\n      <td>3</td>\n      <td>15</td>\n      <td>4</td>\n    </tr>\n    <tr>\n      <th>2808</th>\n      <td>ZIM</td>\n      <td>2012</td>\n      <td>9</td>\n      <td>7</td>\n      <td>0</td>\n      <td>0</td>\n      <td>8</td>\n      <td>0</td>\n      <td>8</td>\n      <td>0</td>\n    </tr>\n    <tr>\n      <th>2809</th>\n      <td>ZIM</td>\n      <td>2016</td>\n      <td>31</td>\n      <td>30</td>\n      <td>0</td>\n      <td>0</td>\n      <td>13</td>\n      <td>0</td>\n      <td>13</td>\n      <td>0</td>\n    </tr>\n  </tbody>\n</table>\n<p>2180 rows × 10 columns</p>\n</div>"
     },
     "metadata": {},
     "output_type": "display_data"
    }
   ],
   "source": [
    "# gold_partecipants_df contains NOC, Year, events_partecipations_no, distinct_athletes_no, Bronze, Silver, Gold, Total\n",
    "gold_partecipants_df = gold_events_partecipations_df.merge(gold_distinct_athletes_df, on=['NOC', 'Year'], how='left')\n",
    "gold_partecipants_df = gold_partecipants_df.merge(noc_medals_df, on=['NOC', 'Year'], how='left')\n",
    "gold_partecipants_df = gold_partecipants_df.fillna(value=0)\n",
    "gold_partecipants_df.Gold = gold_partecipants_df.Gold.astype(int)\n",
    "gold_partecipants_df.Silver = gold_partecipants_df.Silver.astype(int)\n",
    "gold_partecipants_df.Bronze = gold_partecipants_df.Bronze.astype(int)\n",
    "gold_partecipants_df.TotalPartecipants = gold_partecipants_df.TotalPartecipants.astype(int)\n",
    "gold_partecipants_df['TotalMedals'] = gold_partecipants_df.Gold + gold_partecipants_df.Silver + gold_partecipants_df.Bronze\n",
    "gold_partecipants_df = gold_partecipants_df.loc[gold_partecipants_df.Year > 1960]\n",
    "display(gold_partecipants_df)"
   ],
   "metadata": {
    "collapsed": false,
    "pycharm": {
     "name": "#%%\n"
    }
   }
  },
  {
   "cell_type": "code",
   "execution_count": 105,
   "outputs": [
    {
     "data": {
      "text/plain": "      NOC  Year  events_partecipations_no  distinct_athletes_no  Bronze  Gold  \\\n0     AFG  1964                         8                     8       0     0   \n1     AFG  1968                         5                     5       0     0   \n2     AFG  1972                         8                     8       0     0   \n3     AFG  1980                        11                    11       0     0   \n4     AFG  1988                         5                     5       0     0   \n...   ...   ...                       ...                   ...     ...   ...   \n2175  ZIM  2000                        26                    16       0     0   \n2176  ZIM  2004                        14                    12       1     1   \n2177  ZIM  2008                        16                    13       0     1   \n2178  ZIM  2012                         9                     7       0     0   \n2179  ZIM  2016                        31                    30       0     0   \n\n      NoMedal  Silver  TotalPartecipants  TotalMedals       region alpha_3  \\\n0           8       0                  8            0  Afghanistan     AFG   \n1           5       0                  5            0  Afghanistan     AFG   \n2           8       0                  8            0  Afghanistan     AFG   \n3          11       0                 11            0  Afghanistan     AFG   \n4           5       0                  5            0  Afghanistan     AFG   \n...       ...     ...                ...          ...          ...     ...   \n2175       19       0                 19            0     Zimbabwe     ZWE   \n2176        8       1                 11            3     Zimbabwe     ZWE   \n2177       11       3                 15            4     Zimbabwe     ZWE   \n2178        8       0                  8            0     Zimbabwe     ZWE   \n2179       13       0                 13            0     Zimbabwe     ZWE   \n\n        iso_names  \n0     Afghanistan  \n1     Afghanistan  \n2     Afghanistan  \n3     Afghanistan  \n4     Afghanistan  \n...           ...  \n2175     Zimbabwe  \n2176     Zimbabwe  \n2177     Zimbabwe  \n2178     Zimbabwe  \n2179     Zimbabwe  \n\n[2180 rows x 13 columns]",
      "text/html": "<div>\n<style scoped>\n    .dataframe tbody tr th:only-of-type {\n        vertical-align: middle;\n    }\n\n    .dataframe tbody tr th {\n        vertical-align: top;\n    }\n\n    .dataframe thead th {\n        text-align: right;\n    }\n</style>\n<table border=\"1\" class=\"dataframe\">\n  <thead>\n    <tr style=\"text-align: right;\">\n      <th></th>\n      <th>NOC</th>\n      <th>Year</th>\n      <th>events_partecipations_no</th>\n      <th>distinct_athletes_no</th>\n      <th>Bronze</th>\n      <th>Gold</th>\n      <th>NoMedal</th>\n      <th>Silver</th>\n      <th>TotalPartecipants</th>\n      <th>TotalMedals</th>\n      <th>region</th>\n      <th>alpha_3</th>\n      <th>iso_names</th>\n    </tr>\n  </thead>\n  <tbody>\n    <tr>\n      <th>0</th>\n      <td>AFG</td>\n      <td>1964</td>\n      <td>8</td>\n      <td>8</td>\n      <td>0</td>\n      <td>0</td>\n      <td>8</td>\n      <td>0</td>\n      <td>8</td>\n      <td>0</td>\n      <td>Afghanistan</td>\n      <td>AFG</td>\n      <td>Afghanistan</td>\n    </tr>\n    <tr>\n      <th>1</th>\n      <td>AFG</td>\n      <td>1968</td>\n      <td>5</td>\n      <td>5</td>\n      <td>0</td>\n      <td>0</td>\n      <td>5</td>\n      <td>0</td>\n      <td>5</td>\n      <td>0</td>\n      <td>Afghanistan</td>\n      <td>AFG</td>\n      <td>Afghanistan</td>\n    </tr>\n    <tr>\n      <th>2</th>\n      <td>AFG</td>\n      <td>1972</td>\n      <td>8</td>\n      <td>8</td>\n      <td>0</td>\n      <td>0</td>\n      <td>8</td>\n      <td>0</td>\n      <td>8</td>\n      <td>0</td>\n      <td>Afghanistan</td>\n      <td>AFG</td>\n      <td>Afghanistan</td>\n    </tr>\n    <tr>\n      <th>3</th>\n      <td>AFG</td>\n      <td>1980</td>\n      <td>11</td>\n      <td>11</td>\n      <td>0</td>\n      <td>0</td>\n      <td>11</td>\n      <td>0</td>\n      <td>11</td>\n      <td>0</td>\n      <td>Afghanistan</td>\n      <td>AFG</td>\n      <td>Afghanistan</td>\n    </tr>\n    <tr>\n      <th>4</th>\n      <td>AFG</td>\n      <td>1988</td>\n      <td>5</td>\n      <td>5</td>\n      <td>0</td>\n      <td>0</td>\n      <td>5</td>\n      <td>0</td>\n      <td>5</td>\n      <td>0</td>\n      <td>Afghanistan</td>\n      <td>AFG</td>\n      <td>Afghanistan</td>\n    </tr>\n    <tr>\n      <th>...</th>\n      <td>...</td>\n      <td>...</td>\n      <td>...</td>\n      <td>...</td>\n      <td>...</td>\n      <td>...</td>\n      <td>...</td>\n      <td>...</td>\n      <td>...</td>\n      <td>...</td>\n      <td>...</td>\n      <td>...</td>\n      <td>...</td>\n    </tr>\n    <tr>\n      <th>2175</th>\n      <td>ZIM</td>\n      <td>2000</td>\n      <td>26</td>\n      <td>16</td>\n      <td>0</td>\n      <td>0</td>\n      <td>19</td>\n      <td>0</td>\n      <td>19</td>\n      <td>0</td>\n      <td>Zimbabwe</td>\n      <td>ZWE</td>\n      <td>Zimbabwe</td>\n    </tr>\n    <tr>\n      <th>2176</th>\n      <td>ZIM</td>\n      <td>2004</td>\n      <td>14</td>\n      <td>12</td>\n      <td>1</td>\n      <td>1</td>\n      <td>8</td>\n      <td>1</td>\n      <td>11</td>\n      <td>3</td>\n      <td>Zimbabwe</td>\n      <td>ZWE</td>\n      <td>Zimbabwe</td>\n    </tr>\n    <tr>\n      <th>2177</th>\n      <td>ZIM</td>\n      <td>2008</td>\n      <td>16</td>\n      <td>13</td>\n      <td>0</td>\n      <td>1</td>\n      <td>11</td>\n      <td>3</td>\n      <td>15</td>\n      <td>4</td>\n      <td>Zimbabwe</td>\n      <td>ZWE</td>\n      <td>Zimbabwe</td>\n    </tr>\n    <tr>\n      <th>2178</th>\n      <td>ZIM</td>\n      <td>2012</td>\n      <td>9</td>\n      <td>7</td>\n      <td>0</td>\n      <td>0</td>\n      <td>8</td>\n      <td>0</td>\n      <td>8</td>\n      <td>0</td>\n      <td>Zimbabwe</td>\n      <td>ZWE</td>\n      <td>Zimbabwe</td>\n    </tr>\n    <tr>\n      <th>2179</th>\n      <td>ZIM</td>\n      <td>2016</td>\n      <td>31</td>\n      <td>30</td>\n      <td>0</td>\n      <td>0</td>\n      <td>13</td>\n      <td>0</td>\n      <td>13</td>\n      <td>0</td>\n      <td>Zimbabwe</td>\n      <td>ZWE</td>\n      <td>Zimbabwe</td>\n    </tr>\n  </tbody>\n</table>\n<p>2180 rows × 13 columns</p>\n</div>"
     },
     "metadata": {},
     "output_type": "display_data"
    }
   ],
   "source": [
    "# Read NOC table\n",
    "noc_df = pd.read_parquet(os.path.join(dataset_path, 'iso_countries.parquet'))\n",
    "gold_partecipants_df = gold_partecipants_df.merge(noc_df, on=['NOC'], how='left')\n",
    "gold_partecipants_df.fillna('Not Found')\n",
    "display(gold_partecipants_df)"
   ],
   "metadata": {
    "collapsed": false,
    "pycharm": {
     "name": "#%%\n"
    }
   }
  },
  {
   "cell_type": "code",
   "execution_count": 106,
   "outputs": [
    {
     "data": {
      "text/plain": "Empty DataFrame\nColumns: [NOC, Year, events_partecipations_no, distinct_athletes_no, Bronze, Gold, NoMedal, Silver, TotalPartecipants, TotalMedals, region, alpha_3, iso_names]\nIndex: []",
      "text/html": "<div>\n<style scoped>\n    .dataframe tbody tr th:only-of-type {\n        vertical-align: middle;\n    }\n\n    .dataframe tbody tr th {\n        vertical-align: top;\n    }\n\n    .dataframe thead th {\n        text-align: right;\n    }\n</style>\n<table border=\"1\" class=\"dataframe\">\n  <thead>\n    <tr style=\"text-align: right;\">\n      <th></th>\n      <th>NOC</th>\n      <th>Year</th>\n      <th>events_partecipations_no</th>\n      <th>distinct_athletes_no</th>\n      <th>Bronze</th>\n      <th>Gold</th>\n      <th>NoMedal</th>\n      <th>Silver</th>\n      <th>TotalPartecipants</th>\n      <th>TotalMedals</th>\n      <th>region</th>\n      <th>alpha_3</th>\n      <th>iso_names</th>\n    </tr>\n  </thead>\n  <tbody>\n  </tbody>\n</table>\n</div>"
     },
     "metadata": {},
     "output_type": "display_data"
    }
   ],
   "source": [
    "# Regions not found\n",
    "display(gold_partecipants_df.loc[gold_partecipants_df.region == 'Not Found'])\n"
   ],
   "metadata": {
    "collapsed": false,
    "pycharm": {
     "name": "#%%\n"
    }
   }
  },
  {
   "cell_type": "code",
   "execution_count": 107,
   "outputs": [
    {
     "data": {
      "text/plain": "      NOC  Year  events_partecipations_no  distinct_athletes_no  Bronze  Gold  \\\n0     AFG  1964                         8                     8       0     0   \n1     AFG  1968                         5                     5       0     0   \n2     AFG  1972                         8                     8       0     0   \n3     AFG  1980                        11                    11       0     0   \n4     AFG  1988                         5                     5       0     0   \n...   ...   ...                       ...                   ...     ...   ...   \n2175  ZIM  2000                        26                    16       0     0   \n2176  ZIM  2004                        14                    12       1     1   \n2177  ZIM  2008                        16                    13       0     1   \n2178  ZIM  2012                         9                     7       0     0   \n2179  ZIM  2016                        31                    30       0     0   \n\n      NoMedal  Silver  TotalPartecipants  TotalMedals       region alpha_3  \\\n0           8       0                  8            0  Afghanistan     AFG   \n1           5       0                  5            0  Afghanistan     AFG   \n2           8       0                  8            0  Afghanistan     AFG   \n3          11       0                 11            0  Afghanistan     AFG   \n4           5       0                  5            0  Afghanistan     AFG   \n...       ...     ...                ...          ...          ...     ...   \n2175       19       0                 19            0     Zimbabwe     ZWE   \n2176        8       1                 11            3     Zimbabwe     ZWE   \n2177       11       3                 15            4     Zimbabwe     ZWE   \n2178        8       0                  8            0     Zimbabwe     ZWE   \n2179       13       0                 13            0     Zimbabwe     ZWE   \n\n        iso_names population_help  \n0     Afghanistan             AFG  \n1     Afghanistan             AFG  \n2     Afghanistan             AFG  \n3     Afghanistan             AFG  \n4     Afghanistan             AFG  \n...           ...             ...  \n2175     Zimbabwe             ZIM  \n2176     Zimbabwe             ZIM  \n2177     Zimbabwe             ZIM  \n2178     Zimbabwe             ZIM  \n2179     Zimbabwe             ZIM  \n\n[2180 rows x 14 columns]",
      "text/html": "<div>\n<style scoped>\n    .dataframe tbody tr th:only-of-type {\n        vertical-align: middle;\n    }\n\n    .dataframe tbody tr th {\n        vertical-align: top;\n    }\n\n    .dataframe thead th {\n        text-align: right;\n    }\n</style>\n<table border=\"1\" class=\"dataframe\">\n  <thead>\n    <tr style=\"text-align: right;\">\n      <th></th>\n      <th>NOC</th>\n      <th>Year</th>\n      <th>events_partecipations_no</th>\n      <th>distinct_athletes_no</th>\n      <th>Bronze</th>\n      <th>Gold</th>\n      <th>NoMedal</th>\n      <th>Silver</th>\n      <th>TotalPartecipants</th>\n      <th>TotalMedals</th>\n      <th>region</th>\n      <th>alpha_3</th>\n      <th>iso_names</th>\n      <th>population_help</th>\n    </tr>\n  </thead>\n  <tbody>\n    <tr>\n      <th>0</th>\n      <td>AFG</td>\n      <td>1964</td>\n      <td>8</td>\n      <td>8</td>\n      <td>0</td>\n      <td>0</td>\n      <td>8</td>\n      <td>0</td>\n      <td>8</td>\n      <td>0</td>\n      <td>Afghanistan</td>\n      <td>AFG</td>\n      <td>Afghanistan</td>\n      <td>AFG</td>\n    </tr>\n    <tr>\n      <th>1</th>\n      <td>AFG</td>\n      <td>1968</td>\n      <td>5</td>\n      <td>5</td>\n      <td>0</td>\n      <td>0</td>\n      <td>5</td>\n      <td>0</td>\n      <td>5</td>\n      <td>0</td>\n      <td>Afghanistan</td>\n      <td>AFG</td>\n      <td>Afghanistan</td>\n      <td>AFG</td>\n    </tr>\n    <tr>\n      <th>2</th>\n      <td>AFG</td>\n      <td>1972</td>\n      <td>8</td>\n      <td>8</td>\n      <td>0</td>\n      <td>0</td>\n      <td>8</td>\n      <td>0</td>\n      <td>8</td>\n      <td>0</td>\n      <td>Afghanistan</td>\n      <td>AFG</td>\n      <td>Afghanistan</td>\n      <td>AFG</td>\n    </tr>\n    <tr>\n      <th>3</th>\n      <td>AFG</td>\n      <td>1980</td>\n      <td>11</td>\n      <td>11</td>\n      <td>0</td>\n      <td>0</td>\n      <td>11</td>\n      <td>0</td>\n      <td>11</td>\n      <td>0</td>\n      <td>Afghanistan</td>\n      <td>AFG</td>\n      <td>Afghanistan</td>\n      <td>AFG</td>\n    </tr>\n    <tr>\n      <th>4</th>\n      <td>AFG</td>\n      <td>1988</td>\n      <td>5</td>\n      <td>5</td>\n      <td>0</td>\n      <td>0</td>\n      <td>5</td>\n      <td>0</td>\n      <td>5</td>\n      <td>0</td>\n      <td>Afghanistan</td>\n      <td>AFG</td>\n      <td>Afghanistan</td>\n      <td>AFG</td>\n    </tr>\n    <tr>\n      <th>...</th>\n      <td>...</td>\n      <td>...</td>\n      <td>...</td>\n      <td>...</td>\n      <td>...</td>\n      <td>...</td>\n      <td>...</td>\n      <td>...</td>\n      <td>...</td>\n      <td>...</td>\n      <td>...</td>\n      <td>...</td>\n      <td>...</td>\n      <td>...</td>\n    </tr>\n    <tr>\n      <th>2175</th>\n      <td>ZIM</td>\n      <td>2000</td>\n      <td>26</td>\n      <td>16</td>\n      <td>0</td>\n      <td>0</td>\n      <td>19</td>\n      <td>0</td>\n      <td>19</td>\n      <td>0</td>\n      <td>Zimbabwe</td>\n      <td>ZWE</td>\n      <td>Zimbabwe</td>\n      <td>ZIM</td>\n    </tr>\n    <tr>\n      <th>2176</th>\n      <td>ZIM</td>\n      <td>2004</td>\n      <td>14</td>\n      <td>12</td>\n      <td>1</td>\n      <td>1</td>\n      <td>8</td>\n      <td>1</td>\n      <td>11</td>\n      <td>3</td>\n      <td>Zimbabwe</td>\n      <td>ZWE</td>\n      <td>Zimbabwe</td>\n      <td>ZIM</td>\n    </tr>\n    <tr>\n      <th>2177</th>\n      <td>ZIM</td>\n      <td>2008</td>\n      <td>16</td>\n      <td>13</td>\n      <td>0</td>\n      <td>1</td>\n      <td>11</td>\n      <td>3</td>\n      <td>15</td>\n      <td>4</td>\n      <td>Zimbabwe</td>\n      <td>ZWE</td>\n      <td>Zimbabwe</td>\n      <td>ZIM</td>\n    </tr>\n    <tr>\n      <th>2178</th>\n      <td>ZIM</td>\n      <td>2012</td>\n      <td>9</td>\n      <td>7</td>\n      <td>0</td>\n      <td>0</td>\n      <td>8</td>\n      <td>0</td>\n      <td>8</td>\n      <td>0</td>\n      <td>Zimbabwe</td>\n      <td>ZWE</td>\n      <td>Zimbabwe</td>\n      <td>ZIM</td>\n    </tr>\n    <tr>\n      <th>2179</th>\n      <td>ZIM</td>\n      <td>2016</td>\n      <td>31</td>\n      <td>30</td>\n      <td>0</td>\n      <td>0</td>\n      <td>13</td>\n      <td>0</td>\n      <td>13</td>\n      <td>0</td>\n      <td>Zimbabwe</td>\n      <td>ZWE</td>\n      <td>Zimbabwe</td>\n      <td>ZIM</td>\n    </tr>\n  </tbody>\n</table>\n<p>2180 rows × 14 columns</p>\n</div>"
     },
     "metadata": {},
     "output_type": "display_data"
    }
   ],
   "source": [
    "# Column Temporary aide in population search\n",
    "gold_partecipants_df['population_help'] = gold_partecipants_df.NOC\n",
    "\n",
    "\n",
    "# Replacement countries needed for population fill\n",
    "# 'GDR' 'GER'\n",
    "# 'ROT'\n",
    "# 'VNM' 'VIE'\n",
    "# 'EUN' 'RUS'\n",
    "# 'YUG' 'SRB'\n",
    "# 'IOA'\n",
    "# 'URS' 'RUS'\n",
    "# 'FRG' 'GER'\n",
    "# 'YAR' 'YEM'\n",
    "# 'SCG' 'SRB'\n",
    "# 'TCH' 'CZE'\n",
    "# 'YMD' 'YEM'\n",
    "gold_partecipants_df['population_help'] = gold_partecipants_df['population_help'].replace(\n",
    "    to_replace=['GDR', 'VNM', 'EUN', 'YUG', 'URS', 'FRG', 'YAR', 'SCG', 'TCH', 'YMD'],\n",
    "    value=['GER', 'VIE', 'RUS','SRB', 'RUS',  'GER', 'YEM', 'SRB', 'CZE', 'YEM']\n",
    ")\n",
    "\n",
    "display(gold_partecipants_df)\n"
   ],
   "metadata": {
    "collapsed": false,
    "pycharm": {
     "name": "#%%\n"
    }
   }
  },
  {
   "cell_type": "code",
   "execution_count": 108,
   "outputs": [
    {
     "name": "stdout",
     "output_type": "stream",
     "text": [
      "<class 'pandas.core.frame.DataFrame'>\n",
      "Int64Index: 16409 entries, 2 to 16405\n",
      "Data columns (total 4 columns):\n",
      " #   Column        Non-Null Count  Dtype \n",
      "---  ------        --------------  ----- \n",
      " 0   Country Name  16409 non-null  object\n",
      " 1   Country Code  16409 non-null  object\n",
      " 2   Year          16409 non-null  int32 \n",
      " 3   Population    16306 non-null  Int64 \n",
      "dtypes: Int64(1), int32(1), object(2)\n",
      "memory usage: 592.9+ KB\n"
     ]
    }
   ],
   "source": [
    "# Load population data\n",
    "# From https://data.worldbank.org/indicator/SP.POP.TOTL\n",
    "# and https://population.un.org/wpp/Download/Standard/Population/\n",
    "population_df = pd.read_parquet(os.path.join(dataset_path, 'populations.parquet'))\n",
    "population_df.info()"
   ],
   "metadata": {
    "collapsed": false,
    "pycharm": {
     "name": "#%%\n"
    }
   }
  },
  {
   "cell_type": "code",
   "execution_count": 109,
   "outputs": [
    {
     "data": {
      "text/plain": "                  Country Name  Population\nCountry Code Year                         \nAFG          1960  Afghanistan     8996967\n             1961  Afghanistan     9169406\n             1962  Afghanistan     9351442\n             1963  Afghanistan     9543200\n             1964  Afghanistan     9744772",
      "text/html": "<div>\n<style scoped>\n    .dataframe tbody tr th:only-of-type {\n        vertical-align: middle;\n    }\n\n    .dataframe tbody tr th {\n        vertical-align: top;\n    }\n\n    .dataframe thead th {\n        text-align: right;\n    }\n</style>\n<table border=\"1\" class=\"dataframe\">\n  <thead>\n    <tr style=\"text-align: right;\">\n      <th></th>\n      <th></th>\n      <th>Country Name</th>\n      <th>Population</th>\n    </tr>\n    <tr>\n      <th>Country Code</th>\n      <th>Year</th>\n      <th></th>\n      <th></th>\n    </tr>\n  </thead>\n  <tbody>\n    <tr>\n      <th rowspan=\"5\" valign=\"top\">AFG</th>\n      <th>1960</th>\n      <td>Afghanistan</td>\n      <td>8996967</td>\n    </tr>\n    <tr>\n      <th>1961</th>\n      <td>Afghanistan</td>\n      <td>9169406</td>\n    </tr>\n    <tr>\n      <th>1962</th>\n      <td>Afghanistan</td>\n      <td>9351442</td>\n    </tr>\n    <tr>\n      <th>1963</th>\n      <td>Afghanistan</td>\n      <td>9543200</td>\n    </tr>\n    <tr>\n      <th>1964</th>\n      <td>Afghanistan</td>\n      <td>9744772</td>\n    </tr>\n  </tbody>\n</table>\n</div>"
     },
     "metadata": {},
     "output_type": "display_data"
    }
   ],
   "source": [
    "population_df = population_df.set_index(['Country Code', 'Year'])\n",
    "display(population_df.head(5))"
   ],
   "metadata": {
    "collapsed": false,
    "pycharm": {
     "name": "#%%\n"
    }
   }
  },
  {
   "cell_type": "code",
   "execution_count": 110,
   "outputs": [],
   "source": [
    "# Fill population\n",
    "test_pop = population_df.loc[(gold_partecipants_df.NOC, gold_partecipants_df.Year.astype(int)), 'Population'].reset_index()\n",
    "gold_partecipants_df = gold_partecipants_df.merge(test_pop, left_on=['population_help', 'Year'], right_on=['Country Code', 'Year'], how='left')\n"
   ],
   "metadata": {
    "collapsed": false,
    "pycharm": {
     "name": "#%%\n"
    }
   }
  },
  {
   "cell_type": "code",
   "execution_count": 111,
   "outputs": [],
   "source": [
    "# Cleaning up columns\n",
    "gold_partecipants_df = gold_partecipants_df.drop(columns=['population_help', 'Country Code'])\n"
   ],
   "metadata": {
    "collapsed": false,
    "pycharm": {
     "name": "#%%\n"
    }
   }
  },
  {
   "cell_type": "code",
   "execution_count": 112,
   "outputs": [
    {
     "name": "stdout",
     "output_type": "stream",
     "text": [
      "Number of rows with no population: 8\n"
     ]
    },
    {
     "data": {
      "text/plain": "      NOC  Year  events_partecipations_no  distinct_athletes_no  Bronze  Gold  \\\n604   ERI  2012                        12                    12       0     0   \n605   ERI  2016                        12                    12       0     0   \n921   IOA  1992                        76                    58       2     0   \n922   IOA  2000                         4                     4       0     0   \n923   IOA  2012                         4                     4       0     0   \n924   IOA  2016                         9                     9       1     1   \n1121  KUW  1992                        37                    32       0     0   \n1667  ROT  2016                        12                    10       0     0   \n\n      NoMedal  Silver  TotalPartecipants  TotalMedals  \\\n604         7       0                  7            0   \n605         6       0                  6            0   \n921        54       1                 57            3   \n922         4       0                  4            0   \n923         4       0                  4            0   \n924         6       0                  8            2   \n1121       18       0                 18            0   \n1667       12       0                 12            0   \n\n                           region alpha_3 iso_names  Population  \n604                       Eritrea     ERI   Eritrea        <NA>  \n605                       Eritrea     ERI   Eritrea        <NA>  \n921   Individual Olympic Athletes              None        <NA>  \n922   Individual Olympic Athletes              None        <NA>  \n923   Individual Olympic Athletes              None        <NA>  \n924   Individual Olympic Athletes              None        <NA>  \n1121                       Kuwait     KWT    Kuwait        <NA>  \n1667                          NaN     NaN       NaN        <NA>  ",
      "text/html": "<div>\n<style scoped>\n    .dataframe tbody tr th:only-of-type {\n        vertical-align: middle;\n    }\n\n    .dataframe tbody tr th {\n        vertical-align: top;\n    }\n\n    .dataframe thead th {\n        text-align: right;\n    }\n</style>\n<table border=\"1\" class=\"dataframe\">\n  <thead>\n    <tr style=\"text-align: right;\">\n      <th></th>\n      <th>NOC</th>\n      <th>Year</th>\n      <th>events_partecipations_no</th>\n      <th>distinct_athletes_no</th>\n      <th>Bronze</th>\n      <th>Gold</th>\n      <th>NoMedal</th>\n      <th>Silver</th>\n      <th>TotalPartecipants</th>\n      <th>TotalMedals</th>\n      <th>region</th>\n      <th>alpha_3</th>\n      <th>iso_names</th>\n      <th>Population</th>\n    </tr>\n  </thead>\n  <tbody>\n    <tr>\n      <th>604</th>\n      <td>ERI</td>\n      <td>2012</td>\n      <td>12</td>\n      <td>12</td>\n      <td>0</td>\n      <td>0</td>\n      <td>7</td>\n      <td>0</td>\n      <td>7</td>\n      <td>0</td>\n      <td>Eritrea</td>\n      <td>ERI</td>\n      <td>Eritrea</td>\n      <td>&lt;NA&gt;</td>\n    </tr>\n    <tr>\n      <th>605</th>\n      <td>ERI</td>\n      <td>2016</td>\n      <td>12</td>\n      <td>12</td>\n      <td>0</td>\n      <td>0</td>\n      <td>6</td>\n      <td>0</td>\n      <td>6</td>\n      <td>0</td>\n      <td>Eritrea</td>\n      <td>ERI</td>\n      <td>Eritrea</td>\n      <td>&lt;NA&gt;</td>\n    </tr>\n    <tr>\n      <th>921</th>\n      <td>IOA</td>\n      <td>1992</td>\n      <td>76</td>\n      <td>58</td>\n      <td>2</td>\n      <td>0</td>\n      <td>54</td>\n      <td>1</td>\n      <td>57</td>\n      <td>3</td>\n      <td>Individual Olympic Athletes</td>\n      <td></td>\n      <td>None</td>\n      <td>&lt;NA&gt;</td>\n    </tr>\n    <tr>\n      <th>922</th>\n      <td>IOA</td>\n      <td>2000</td>\n      <td>4</td>\n      <td>4</td>\n      <td>0</td>\n      <td>0</td>\n      <td>4</td>\n      <td>0</td>\n      <td>4</td>\n      <td>0</td>\n      <td>Individual Olympic Athletes</td>\n      <td></td>\n      <td>None</td>\n      <td>&lt;NA&gt;</td>\n    </tr>\n    <tr>\n      <th>923</th>\n      <td>IOA</td>\n      <td>2012</td>\n      <td>4</td>\n      <td>4</td>\n      <td>0</td>\n      <td>0</td>\n      <td>4</td>\n      <td>0</td>\n      <td>4</td>\n      <td>0</td>\n      <td>Individual Olympic Athletes</td>\n      <td></td>\n      <td>None</td>\n      <td>&lt;NA&gt;</td>\n    </tr>\n    <tr>\n      <th>924</th>\n      <td>IOA</td>\n      <td>2016</td>\n      <td>9</td>\n      <td>9</td>\n      <td>1</td>\n      <td>1</td>\n      <td>6</td>\n      <td>0</td>\n      <td>8</td>\n      <td>2</td>\n      <td>Individual Olympic Athletes</td>\n      <td></td>\n      <td>None</td>\n      <td>&lt;NA&gt;</td>\n    </tr>\n    <tr>\n      <th>1121</th>\n      <td>KUW</td>\n      <td>1992</td>\n      <td>37</td>\n      <td>32</td>\n      <td>0</td>\n      <td>0</td>\n      <td>18</td>\n      <td>0</td>\n      <td>18</td>\n      <td>0</td>\n      <td>Kuwait</td>\n      <td>KWT</td>\n      <td>Kuwait</td>\n      <td>&lt;NA&gt;</td>\n    </tr>\n    <tr>\n      <th>1667</th>\n      <td>ROT</td>\n      <td>2016</td>\n      <td>12</td>\n      <td>10</td>\n      <td>0</td>\n      <td>0</td>\n      <td>12</td>\n      <td>0</td>\n      <td>12</td>\n      <td>0</td>\n      <td>NaN</td>\n      <td>NaN</td>\n      <td>NaN</td>\n      <td>&lt;NA&gt;</td>\n    </tr>\n  </tbody>\n</table>\n</div>"
     },
     "metadata": {},
     "output_type": "display_data"
    }
   ],
   "source": [
    "# CHECKPOINT: my full db aggregated by country with no nulls\n",
    "# Countries with no known population (like refugees olympic team) are discarded\n",
    "\n",
    "# Countries with no population\n",
    "no_population_df = gold_partecipants_df[gold_partecipants_df['Population'].isna()]\n",
    "print(f'Number of rows with no population: {len(no_population_df)}')\n",
    "display(no_population_df)\n",
    "\n",
    "gold_partecipants_df = gold_partecipants_df.dropna(subset=['Population'])\n",
    "gold_partecipants_df.to_parquet(os.path.join(dataset_path, 'gold_partecipants.parquet'))\n"
   ],
   "metadata": {
    "collapsed": false,
    "pycharm": {
     "name": "#%%\n"
    }
   }
  },
  {
   "cell_type": "code",
   "execution_count": 113,
   "outputs": [
    {
     "name": "stdout",
     "output_type": "stream",
     "text": [
      "Number of rows with no partecipants: 0\n"
     ]
    }
   ],
   "source": [
    "# Entriees with no partecipants\n",
    "print(f'Number of rows with no partecipants: {len(gold_partecipants_df[gold_partecipants_df.TotalPartecipants == 0])}')\n",
    "\n"
   ],
   "metadata": {
    "collapsed": false,
    "pycharm": {
     "name": "#%%\n"
    }
   }
  },
  {
   "cell_type": "code",
   "execution_count": 114,
   "outputs": [
    {
     "name": "stdout",
     "output_type": "stream",
     "text": [
      "<class 'pandas.core.frame.DataFrame'>\n",
      "Int64Index: 2172 entries, 0 to 2179\n",
      "Data columns (total 14 columns):\n",
      " #   Column                    Non-Null Count  Dtype \n",
      "---  ------                    --------------  ----- \n",
      " 0   NOC                       2172 non-null   object\n",
      " 1   Year                      2172 non-null   int64 \n",
      " 2   events_partecipations_no  2172 non-null   int64 \n",
      " 3   distinct_athletes_no      2172 non-null   int64 \n",
      " 4   Bronze                    2172 non-null   int32 \n",
      " 5   Gold                      2172 non-null   int32 \n",
      " 6   NoMedal                   2172 non-null   int64 \n",
      " 7   Silver                    2172 non-null   int32 \n",
      " 8   TotalPartecipants         2172 non-null   int32 \n",
      " 9   TotalMedals               2172 non-null   int32 \n",
      " 10  region                    2160 non-null   object\n",
      " 11  alpha_3                   2160 non-null   object\n",
      " 12  iso_names                 2160 non-null   object\n",
      " 13  Population                2172 non-null   Int64 \n",
      "dtypes: Int64(1), int32(5), int64(4), object(4)\n",
      "memory usage: 214.2+ KB\n"
     ]
    },
    {
     "data": {
      "text/plain": "None"
     },
     "metadata": {},
     "output_type": "display_data"
    },
    {
     "data": {
      "text/plain": "      NOC  Year  events_partecipations_no  distinct_athletes_no  Bronze  Gold  \\\n7     AFG  2008                         4                     4       1     0   \n8     AFG  2012                         6                     6       1     0   \n15    AHO  1988                         4                     3       0     0   \n33    ALG  1984                        33                    33       2     0   \n35    ALG  1992                        36                    35       1     1   \n...   ...   ...                       ...                   ...     ...   ...   \n2160  ZAM  1984                        18                    16       1     0   \n2163  ZAM  1996                         8                     8       0     0   \n2170  ZIM  1980                        52                    42       0     1   \n2176  ZIM  2004                        14                    12       1     1   \n2177  ZIM  2008                        16                    13       0     1   \n\n      NoMedal  Silver  TotalPartecipants  TotalMedals       region alpha_3  \\\n7           3       0                  4            1  Afghanistan     AFG   \n8           5       0                  6            1  Afghanistan     AFG   \n15          3       1                  4            1      Curacao     CUW   \n33         15       0                 17            2      Algeria     DZA   \n35         25       0                 27            2      Algeria     DZA   \n...       ...     ...                ...          ...          ...     ...   \n2160       17       0                 18            1       Zambia     ZMB   \n2163        7       1                  8            1       Zambia     ZMB   \n2170       29       0                 30            1     Zimbabwe     ZWE   \n2176        8       1                 11            3     Zimbabwe     ZWE   \n2177       11       3                 15            4     Zimbabwe     ZWE   \n\n        iso_names  Population  \n7     Afghanistan    27722281  \n8     Afghanistan    31161378  \n15        Curaçao      149254  \n33        Algeria    21763578  \n35        Algeria    27028330  \n...           ...         ...  \n2160       Zambia     6701547  \n2163       Zambia     9339740  \n2170     Zimbabwe     7408630  \n2176     Zimbabwe    12019911  \n2177     Zimbabwe    12379553  \n\n[861 rows x 14 columns]",
      "text/html": "<div>\n<style scoped>\n    .dataframe tbody tr th:only-of-type {\n        vertical-align: middle;\n    }\n\n    .dataframe tbody tr th {\n        vertical-align: top;\n    }\n\n    .dataframe thead th {\n        text-align: right;\n    }\n</style>\n<table border=\"1\" class=\"dataframe\">\n  <thead>\n    <tr style=\"text-align: right;\">\n      <th></th>\n      <th>NOC</th>\n      <th>Year</th>\n      <th>events_partecipations_no</th>\n      <th>distinct_athletes_no</th>\n      <th>Bronze</th>\n      <th>Gold</th>\n      <th>NoMedal</th>\n      <th>Silver</th>\n      <th>TotalPartecipants</th>\n      <th>TotalMedals</th>\n      <th>region</th>\n      <th>alpha_3</th>\n      <th>iso_names</th>\n      <th>Population</th>\n    </tr>\n  </thead>\n  <tbody>\n    <tr>\n      <th>7</th>\n      <td>AFG</td>\n      <td>2008</td>\n      <td>4</td>\n      <td>4</td>\n      <td>1</td>\n      <td>0</td>\n      <td>3</td>\n      <td>0</td>\n      <td>4</td>\n      <td>1</td>\n      <td>Afghanistan</td>\n      <td>AFG</td>\n      <td>Afghanistan</td>\n      <td>27722281</td>\n    </tr>\n    <tr>\n      <th>8</th>\n      <td>AFG</td>\n      <td>2012</td>\n      <td>6</td>\n      <td>6</td>\n      <td>1</td>\n      <td>0</td>\n      <td>5</td>\n      <td>0</td>\n      <td>6</td>\n      <td>1</td>\n      <td>Afghanistan</td>\n      <td>AFG</td>\n      <td>Afghanistan</td>\n      <td>31161378</td>\n    </tr>\n    <tr>\n      <th>15</th>\n      <td>AHO</td>\n      <td>1988</td>\n      <td>4</td>\n      <td>3</td>\n      <td>0</td>\n      <td>0</td>\n      <td>3</td>\n      <td>1</td>\n      <td>4</td>\n      <td>1</td>\n      <td>Curacao</td>\n      <td>CUW</td>\n      <td>Curaçao</td>\n      <td>149254</td>\n    </tr>\n    <tr>\n      <th>33</th>\n      <td>ALG</td>\n      <td>1984</td>\n      <td>33</td>\n      <td>33</td>\n      <td>2</td>\n      <td>0</td>\n      <td>15</td>\n      <td>0</td>\n      <td>17</td>\n      <td>2</td>\n      <td>Algeria</td>\n      <td>DZA</td>\n      <td>Algeria</td>\n      <td>21763578</td>\n    </tr>\n    <tr>\n      <th>35</th>\n      <td>ALG</td>\n      <td>1992</td>\n      <td>36</td>\n      <td>35</td>\n      <td>1</td>\n      <td>1</td>\n      <td>25</td>\n      <td>0</td>\n      <td>27</td>\n      <td>2</td>\n      <td>Algeria</td>\n      <td>DZA</td>\n      <td>Algeria</td>\n      <td>27028330</td>\n    </tr>\n    <tr>\n      <th>...</th>\n      <td>...</td>\n      <td>...</td>\n      <td>...</td>\n      <td>...</td>\n      <td>...</td>\n      <td>...</td>\n      <td>...</td>\n      <td>...</td>\n      <td>...</td>\n      <td>...</td>\n      <td>...</td>\n      <td>...</td>\n      <td>...</td>\n      <td>...</td>\n    </tr>\n    <tr>\n      <th>2160</th>\n      <td>ZAM</td>\n      <td>1984</td>\n      <td>18</td>\n      <td>16</td>\n      <td>1</td>\n      <td>0</td>\n      <td>17</td>\n      <td>0</td>\n      <td>18</td>\n      <td>1</td>\n      <td>Zambia</td>\n      <td>ZMB</td>\n      <td>Zambia</td>\n      <td>6701547</td>\n    </tr>\n    <tr>\n      <th>2163</th>\n      <td>ZAM</td>\n      <td>1996</td>\n      <td>8</td>\n      <td>8</td>\n      <td>0</td>\n      <td>0</td>\n      <td>7</td>\n      <td>1</td>\n      <td>8</td>\n      <td>1</td>\n      <td>Zambia</td>\n      <td>ZMB</td>\n      <td>Zambia</td>\n      <td>9339740</td>\n    </tr>\n    <tr>\n      <th>2170</th>\n      <td>ZIM</td>\n      <td>1980</td>\n      <td>52</td>\n      <td>42</td>\n      <td>0</td>\n      <td>1</td>\n      <td>29</td>\n      <td>0</td>\n      <td>30</td>\n      <td>1</td>\n      <td>Zimbabwe</td>\n      <td>ZWE</td>\n      <td>Zimbabwe</td>\n      <td>7408630</td>\n    </tr>\n    <tr>\n      <th>2176</th>\n      <td>ZIM</td>\n      <td>2004</td>\n      <td>14</td>\n      <td>12</td>\n      <td>1</td>\n      <td>1</td>\n      <td>8</td>\n      <td>1</td>\n      <td>11</td>\n      <td>3</td>\n      <td>Zimbabwe</td>\n      <td>ZWE</td>\n      <td>Zimbabwe</td>\n      <td>12019911</td>\n    </tr>\n    <tr>\n      <th>2177</th>\n      <td>ZIM</td>\n      <td>2008</td>\n      <td>16</td>\n      <td>13</td>\n      <td>0</td>\n      <td>1</td>\n      <td>11</td>\n      <td>3</td>\n      <td>15</td>\n      <td>4</td>\n      <td>Zimbabwe</td>\n      <td>ZWE</td>\n      <td>Zimbabwe</td>\n      <td>12379553</td>\n    </tr>\n  </tbody>\n</table>\n<p>861 rows × 14 columns</p>\n</div>"
     },
     "metadata": {},
     "output_type": "display_data"
    }
   ],
   "source": [
    "display(gold_partecipants_df.info())\n",
    "\n",
    "# Metrics for countries those with one medal or more\n",
    "gold_metrics_partecipants_df = gold_partecipants_df[gold_partecipants_df.TotalMedals > 0]\n",
    "display(gold_metrics_partecipants_df)"
   ],
   "metadata": {
    "collapsed": false,
    "pycharm": {
     "name": "#%%\n"
    }
   }
  },
  {
   "cell_type": "code",
   "execution_count": 115,
   "outputs": [
    {
     "data": {
      "text/plain": "    NOC  Year  events_partecipations_no  distinct_athletes_no  Bronze  Gold  \\\n7   AFG  2008                         4                     4       1     0   \n8   AFG  2012                         6                     6       1     0   \n15  AHO  1988                         4                     3       0     0   \n33  ALG  1984                        33                    33       2     0   \n35  ALG  1992                        36                    35       1     1   \n\n    NoMedal  Silver  TotalPartecipants  TotalMedals       region alpha_3  \\\n7         3       0                  4            1  Afghanistan     AFG   \n8         5       0                  6            1  Afghanistan     AFG   \n15        3       1                  4            1      Curacao     CUW   \n33       15       0                 17            2      Algeria     DZA   \n35       25       0                 27            2      Algeria     DZA   \n\n      iso_names  Population  PopulationPerMedal_thousands  \\\n7   Afghanistan    27722281                     27722.281   \n8   Afghanistan    31161378                     31161.378   \n15      Curaçao      149254                       149.254   \n33      Algeria    21763578                     10881.789   \n35      Algeria    27028330                     13514.165   \n\n    EventPartecipationPerMedal  AthletePerMedal  AthletePerEventPartecipation  \n7                          4.0              4.0                      1.000000  \n8                          6.0              6.0                      1.000000  \n15                         4.0              3.0                      0.750000  \n33                        16.5             16.5                      1.000000  \n35                        18.0             17.5                      0.972222  ",
      "text/html": "<div>\n<style scoped>\n    .dataframe tbody tr th:only-of-type {\n        vertical-align: middle;\n    }\n\n    .dataframe tbody tr th {\n        vertical-align: top;\n    }\n\n    .dataframe thead th {\n        text-align: right;\n    }\n</style>\n<table border=\"1\" class=\"dataframe\">\n  <thead>\n    <tr style=\"text-align: right;\">\n      <th></th>\n      <th>NOC</th>\n      <th>Year</th>\n      <th>events_partecipations_no</th>\n      <th>distinct_athletes_no</th>\n      <th>Bronze</th>\n      <th>Gold</th>\n      <th>NoMedal</th>\n      <th>Silver</th>\n      <th>TotalPartecipants</th>\n      <th>TotalMedals</th>\n      <th>region</th>\n      <th>alpha_3</th>\n      <th>iso_names</th>\n      <th>Population</th>\n      <th>PopulationPerMedal_thousands</th>\n      <th>EventPartecipationPerMedal</th>\n      <th>AthletePerMedal</th>\n      <th>AthletePerEventPartecipation</th>\n    </tr>\n  </thead>\n  <tbody>\n    <tr>\n      <th>7</th>\n      <td>AFG</td>\n      <td>2008</td>\n      <td>4</td>\n      <td>4</td>\n      <td>1</td>\n      <td>0</td>\n      <td>3</td>\n      <td>0</td>\n      <td>4</td>\n      <td>1</td>\n      <td>Afghanistan</td>\n      <td>AFG</td>\n      <td>Afghanistan</td>\n      <td>27722281</td>\n      <td>27722.281</td>\n      <td>4.0</td>\n      <td>4.0</td>\n      <td>1.000000</td>\n    </tr>\n    <tr>\n      <th>8</th>\n      <td>AFG</td>\n      <td>2012</td>\n      <td>6</td>\n      <td>6</td>\n      <td>1</td>\n      <td>0</td>\n      <td>5</td>\n      <td>0</td>\n      <td>6</td>\n      <td>1</td>\n      <td>Afghanistan</td>\n      <td>AFG</td>\n      <td>Afghanistan</td>\n      <td>31161378</td>\n      <td>31161.378</td>\n      <td>6.0</td>\n      <td>6.0</td>\n      <td>1.000000</td>\n    </tr>\n    <tr>\n      <th>15</th>\n      <td>AHO</td>\n      <td>1988</td>\n      <td>4</td>\n      <td>3</td>\n      <td>0</td>\n      <td>0</td>\n      <td>3</td>\n      <td>1</td>\n      <td>4</td>\n      <td>1</td>\n      <td>Curacao</td>\n      <td>CUW</td>\n      <td>Curaçao</td>\n      <td>149254</td>\n      <td>149.254</td>\n      <td>4.0</td>\n      <td>3.0</td>\n      <td>0.750000</td>\n    </tr>\n    <tr>\n      <th>33</th>\n      <td>ALG</td>\n      <td>1984</td>\n      <td>33</td>\n      <td>33</td>\n      <td>2</td>\n      <td>0</td>\n      <td>15</td>\n      <td>0</td>\n      <td>17</td>\n      <td>2</td>\n      <td>Algeria</td>\n      <td>DZA</td>\n      <td>Algeria</td>\n      <td>21763578</td>\n      <td>10881.789</td>\n      <td>16.5</td>\n      <td>16.5</td>\n      <td>1.000000</td>\n    </tr>\n    <tr>\n      <th>35</th>\n      <td>ALG</td>\n      <td>1992</td>\n      <td>36</td>\n      <td>35</td>\n      <td>1</td>\n      <td>1</td>\n      <td>25</td>\n      <td>0</td>\n      <td>27</td>\n      <td>2</td>\n      <td>Algeria</td>\n      <td>DZA</td>\n      <td>Algeria</td>\n      <td>27028330</td>\n      <td>13514.165</td>\n      <td>18.0</td>\n      <td>17.5</td>\n      <td>0.972222</td>\n    </tr>\n  </tbody>\n</table>\n</div>"
     },
     "metadata": {},
     "output_type": "display_data"
    }
   ],
   "source": [
    "gold_metrics_partecipants_df = gold_metrics_partecipants_df.assign(\n",
    "    PopulationPerMedal_thousands = np.divide(np.divide(gold_metrics_partecipants_df.Population, 1000), gold_metrics_partecipants_df.TotalMedals) )\n",
    "gold_metrics_partecipants_df = gold_metrics_partecipants_df.assign(\n",
    "    EventPartecipationPerMedal = np.divide(gold_metrics_partecipants_df.events_partecipations_no, gold_metrics_partecipants_df.TotalMedals) )\n",
    "gold_metrics_partecipants_df = gold_metrics_partecipants_df.assign(\n",
    "    AthletePerMedal = np.divide(gold_metrics_partecipants_df.distinct_athletes_no, gold_metrics_partecipants_df.TotalMedals) )\n",
    "gold_metrics_partecipants_df = gold_metrics_partecipants_df.assign(\n",
    "    AthletePerEventPartecipation = np.divide(gold_metrics_partecipants_df.distinct_athletes_no, gold_metrics_partecipants_df.events_partecipations_no) )\n",
    "\n",
    "display(gold_metrics_partecipants_df.head(5))\n"
   ],
   "metadata": {
    "collapsed": false,
    "pycharm": {
     "name": "#%%\n"
    }
   }
  },
  {
   "cell_type": "code",
   "execution_count": 116,
   "outputs": [
    {
     "data": {
      "text/plain": "       events_partecipations_no  distinct_athletes_no      Bronze        Gold  \\\ncount                861.000000            861.000000  861.000000  861.000000   \nmean                 162.288037            119.869919    4.441347    3.996516   \nstd                  164.983912            119.404391    6.834275    8.565275   \nmin                    3.000000              3.000000    0.000000    0.000000   \n25%                   43.000000             36.000000    1.000000    0.000000   \n50%                   95.000000             74.000000    2.000000    1.000000   \n75%                  232.000000            163.000000    5.000000    4.000000   \nmax                  839.000000            648.000000   46.000000   82.000000   \n\n          NoMedal      Silver  TotalPartecipants  TotalMedals    Population  \\\ncount  861.000000  861.000000         861.000000   861.000000  8.610000e+02   \nmean    66.403020    3.982578          78.823461    12.420441  5.759738e+07   \nstd     50.906791    7.022451          67.263930    21.663220  1.654930e+08   \nmin      2.000000    0.000000           3.000000     1.000000  5.320000e+04   \n25%     27.000000    0.000000          30.000000     2.000000  5.591572e+06   \n50%     52.000000    1.000000          57.000000     4.000000  1.476009e+07   \n75%     94.000000    4.000000         107.000000    13.000000  4.923058e+07   \nmax    234.000000   69.000000         322.000000   195.000000  1.378665e+09   \n\n       PopulationPerMedal_thousands  EventPartecipationPerMedal  \\\ncount                  8.610000e+02                  861.000000   \nmean                   1.661976e+04                   25.607903   \nstd                    7.955359e+04                   24.845350   \nmin                    5.024067e+01                    2.800000   \n25%                    1.012278e+03                   11.560000   \n50%                    2.463843e+03                   18.000000   \n75%                    9.222692e+03                   31.000000   \nmax                    1.129623e+06                  281.000000   \n\n       AthletePerMedal  AthletePerEventPartecipation  \ncount       861.000000                    861.000000  \nmean         19.748040                      0.785246  \nstd          18.492840                      0.119667  \nmin           2.384615                      0.355263  \n25%           8.684211                      0.713287  \n50%          14.142857                      0.785571  \n75%          24.000000                      0.870370  \nmax         174.000000                      1.000000  ",
      "text/html": "<div>\n<style scoped>\n    .dataframe tbody tr th:only-of-type {\n        vertical-align: middle;\n    }\n\n    .dataframe tbody tr th {\n        vertical-align: top;\n    }\n\n    .dataframe thead th {\n        text-align: right;\n    }\n</style>\n<table border=\"1\" class=\"dataframe\">\n  <thead>\n    <tr style=\"text-align: right;\">\n      <th></th>\n      <th>events_partecipations_no</th>\n      <th>distinct_athletes_no</th>\n      <th>Bronze</th>\n      <th>Gold</th>\n      <th>NoMedal</th>\n      <th>Silver</th>\n      <th>TotalPartecipants</th>\n      <th>TotalMedals</th>\n      <th>Population</th>\n      <th>PopulationPerMedal_thousands</th>\n      <th>EventPartecipationPerMedal</th>\n      <th>AthletePerMedal</th>\n      <th>AthletePerEventPartecipation</th>\n    </tr>\n  </thead>\n  <tbody>\n    <tr>\n      <th>count</th>\n      <td>861.000000</td>\n      <td>861.000000</td>\n      <td>861.000000</td>\n      <td>861.000000</td>\n      <td>861.000000</td>\n      <td>861.000000</td>\n      <td>861.000000</td>\n      <td>861.000000</td>\n      <td>8.610000e+02</td>\n      <td>8.610000e+02</td>\n      <td>861.000000</td>\n      <td>861.000000</td>\n      <td>861.000000</td>\n    </tr>\n    <tr>\n      <th>mean</th>\n      <td>162.288037</td>\n      <td>119.869919</td>\n      <td>4.441347</td>\n      <td>3.996516</td>\n      <td>66.403020</td>\n      <td>3.982578</td>\n      <td>78.823461</td>\n      <td>12.420441</td>\n      <td>5.759738e+07</td>\n      <td>1.661976e+04</td>\n      <td>25.607903</td>\n      <td>19.748040</td>\n      <td>0.785246</td>\n    </tr>\n    <tr>\n      <th>std</th>\n      <td>164.983912</td>\n      <td>119.404391</td>\n      <td>6.834275</td>\n      <td>8.565275</td>\n      <td>50.906791</td>\n      <td>7.022451</td>\n      <td>67.263930</td>\n      <td>21.663220</td>\n      <td>1.654930e+08</td>\n      <td>7.955359e+04</td>\n      <td>24.845350</td>\n      <td>18.492840</td>\n      <td>0.119667</td>\n    </tr>\n    <tr>\n      <th>min</th>\n      <td>3.000000</td>\n      <td>3.000000</td>\n      <td>0.000000</td>\n      <td>0.000000</td>\n      <td>2.000000</td>\n      <td>0.000000</td>\n      <td>3.000000</td>\n      <td>1.000000</td>\n      <td>5.320000e+04</td>\n      <td>5.024067e+01</td>\n      <td>2.800000</td>\n      <td>2.384615</td>\n      <td>0.355263</td>\n    </tr>\n    <tr>\n      <th>25%</th>\n      <td>43.000000</td>\n      <td>36.000000</td>\n      <td>1.000000</td>\n      <td>0.000000</td>\n      <td>27.000000</td>\n      <td>0.000000</td>\n      <td>30.000000</td>\n      <td>2.000000</td>\n      <td>5.591572e+06</td>\n      <td>1.012278e+03</td>\n      <td>11.560000</td>\n      <td>8.684211</td>\n      <td>0.713287</td>\n    </tr>\n    <tr>\n      <th>50%</th>\n      <td>95.000000</td>\n      <td>74.000000</td>\n      <td>2.000000</td>\n      <td>1.000000</td>\n      <td>52.000000</td>\n      <td>1.000000</td>\n      <td>57.000000</td>\n      <td>4.000000</td>\n      <td>1.476009e+07</td>\n      <td>2.463843e+03</td>\n      <td>18.000000</td>\n      <td>14.142857</td>\n      <td>0.785571</td>\n    </tr>\n    <tr>\n      <th>75%</th>\n      <td>232.000000</td>\n      <td>163.000000</td>\n      <td>5.000000</td>\n      <td>4.000000</td>\n      <td>94.000000</td>\n      <td>4.000000</td>\n      <td>107.000000</td>\n      <td>13.000000</td>\n      <td>4.923058e+07</td>\n      <td>9.222692e+03</td>\n      <td>31.000000</td>\n      <td>24.000000</td>\n      <td>0.870370</td>\n    </tr>\n    <tr>\n      <th>max</th>\n      <td>839.000000</td>\n      <td>648.000000</td>\n      <td>46.000000</td>\n      <td>82.000000</td>\n      <td>234.000000</td>\n      <td>69.000000</td>\n      <td>322.000000</td>\n      <td>195.000000</td>\n      <td>1.378665e+09</td>\n      <td>1.129623e+06</td>\n      <td>281.000000</td>\n      <td>174.000000</td>\n      <td>1.000000</td>\n    </tr>\n  </tbody>\n</table>\n</div>"
     },
     "execution_count": 116,
     "metadata": {},
     "output_type": "execute_result"
    }
   ],
   "source": [
    "gold_metrics_partecipants_df.drop(columns='Year').describe()"
   ],
   "metadata": {
    "collapsed": false,
    "pycharm": {
     "name": "#%%\n"
    }
   }
  },
  {
   "cell_type": "code",
   "execution_count": 117,
   "outputs": [
    {
     "name": "stdout",
     "output_type": "stream",
     "text": [
      "Gold:\n"
     ]
    },
    {
     "data": {
      "text/plain": "      NOC  Year  events_partecipations_no  distinct_athletes_no  Bronze  Gold  \\\n2082  USA  1984                       693                   522      30    82   \n2063  URS  1980                       660                   489      46    80   \n2064  URS  1988                       647                   481      46    54   \n410   CHN  2008                       730                   599      28    51   \n2061  URS  1972                       531                   371      22    50   \n\n      NoMedal  Silver  TotalPartecipants  TotalMedals         region alpha_3  \\\n2082      135      61                308          173  United States     USA   \n2063      104      69                299          195         Russia     SUN   \n2064      149      31                280          131         Russia     SUN   \n410       204      21                304          100          China     CHN   \n2061      127      27                226           99         Russia     SUN   \n\n                                      iso_names  Population  \n2082                              United States   235825000  \n2063  USSR, Union of Soviet Socialist Republics   139010000  \n2064  USSR, Union of Soviet Socialist Republics   146857000  \n410                                       China  1324655000  \n2061  USSR, Union of Soviet Socialist Republics   131909000  ",
      "text/html": "<div>\n<style scoped>\n    .dataframe tbody tr th:only-of-type {\n        vertical-align: middle;\n    }\n\n    .dataframe tbody tr th {\n        vertical-align: top;\n    }\n\n    .dataframe thead th {\n        text-align: right;\n    }\n</style>\n<table border=\"1\" class=\"dataframe\">\n  <thead>\n    <tr style=\"text-align: right;\">\n      <th></th>\n      <th>NOC</th>\n      <th>Year</th>\n      <th>events_partecipations_no</th>\n      <th>distinct_athletes_no</th>\n      <th>Bronze</th>\n      <th>Gold</th>\n      <th>NoMedal</th>\n      <th>Silver</th>\n      <th>TotalPartecipants</th>\n      <th>TotalMedals</th>\n      <th>region</th>\n      <th>alpha_3</th>\n      <th>iso_names</th>\n      <th>Population</th>\n    </tr>\n  </thead>\n  <tbody>\n    <tr>\n      <th>2082</th>\n      <td>USA</td>\n      <td>1984</td>\n      <td>693</td>\n      <td>522</td>\n      <td>30</td>\n      <td>82</td>\n      <td>135</td>\n      <td>61</td>\n      <td>308</td>\n      <td>173</td>\n      <td>United States</td>\n      <td>USA</td>\n      <td>United States</td>\n      <td>235825000</td>\n    </tr>\n    <tr>\n      <th>2063</th>\n      <td>URS</td>\n      <td>1980</td>\n      <td>660</td>\n      <td>489</td>\n      <td>46</td>\n      <td>80</td>\n      <td>104</td>\n      <td>69</td>\n      <td>299</td>\n      <td>195</td>\n      <td>Russia</td>\n      <td>SUN</td>\n      <td>USSR, Union of Soviet Socialist Republics</td>\n      <td>139010000</td>\n    </tr>\n    <tr>\n      <th>2064</th>\n      <td>URS</td>\n      <td>1988</td>\n      <td>647</td>\n      <td>481</td>\n      <td>46</td>\n      <td>54</td>\n      <td>149</td>\n      <td>31</td>\n      <td>280</td>\n      <td>131</td>\n      <td>Russia</td>\n      <td>SUN</td>\n      <td>USSR, Union of Soviet Socialist Republics</td>\n      <td>146857000</td>\n    </tr>\n    <tr>\n      <th>410</th>\n      <td>CHN</td>\n      <td>2008</td>\n      <td>730</td>\n      <td>599</td>\n      <td>28</td>\n      <td>51</td>\n      <td>204</td>\n      <td>21</td>\n      <td>304</td>\n      <td>100</td>\n      <td>China</td>\n      <td>CHN</td>\n      <td>China</td>\n      <td>1324655000</td>\n    </tr>\n    <tr>\n      <th>2061</th>\n      <td>URS</td>\n      <td>1972</td>\n      <td>531</td>\n      <td>371</td>\n      <td>22</td>\n      <td>50</td>\n      <td>127</td>\n      <td>27</td>\n      <td>226</td>\n      <td>99</td>\n      <td>Russia</td>\n      <td>SUN</td>\n      <td>USSR, Union of Soviet Socialist Republics</td>\n      <td>131909000</td>\n    </tr>\n  </tbody>\n</table>\n</div>"
     },
     "metadata": {},
     "output_type": "display_data"
    },
    {
     "name": "stdout",
     "output_type": "stream",
     "text": [
      "Silver:\n"
     ]
    },
    {
     "data": {
      "text/plain": "      NOC  Year  events_partecipations_no  distinct_athletes_no  Bronze  Gold  \\\n2063  URS  1980                       660                   489      46    80   \n2082  USA  1984                       693                   522      30    82   \n2062  URS  1976                       574                   410      35    49   \n2087  USA  2004                       726                   533      26    36   \n2088  USA  2008                       763                   588      35    36   \n\n      NoMedal  Silver  TotalPartecipants  TotalMedals         region alpha_3  \\\n2063      104      69                299          195         Russia     SUN   \n2082      135      61                308          173  United States     USA   \n2062      111      41                236          125         Russia     SUN   \n2087      211      39                312          101  United States     USA   \n2088      212      39                322          110  United States     USA   \n\n                                      iso_names  Population  \n2063  USSR, Union of Soviet Socialist Republics   139010000  \n2082                              United States   235825000  \n2062  USSR, Union of Soviet Socialist Republics   135147000  \n2087                              United States   292805298  \n2088                              United States   304093966  ",
      "text/html": "<div>\n<style scoped>\n    .dataframe tbody tr th:only-of-type {\n        vertical-align: middle;\n    }\n\n    .dataframe tbody tr th {\n        vertical-align: top;\n    }\n\n    .dataframe thead th {\n        text-align: right;\n    }\n</style>\n<table border=\"1\" class=\"dataframe\">\n  <thead>\n    <tr style=\"text-align: right;\">\n      <th></th>\n      <th>NOC</th>\n      <th>Year</th>\n      <th>events_partecipations_no</th>\n      <th>distinct_athletes_no</th>\n      <th>Bronze</th>\n      <th>Gold</th>\n      <th>NoMedal</th>\n      <th>Silver</th>\n      <th>TotalPartecipants</th>\n      <th>TotalMedals</th>\n      <th>region</th>\n      <th>alpha_3</th>\n      <th>iso_names</th>\n      <th>Population</th>\n    </tr>\n  </thead>\n  <tbody>\n    <tr>\n      <th>2063</th>\n      <td>URS</td>\n      <td>1980</td>\n      <td>660</td>\n      <td>489</td>\n      <td>46</td>\n      <td>80</td>\n      <td>104</td>\n      <td>69</td>\n      <td>299</td>\n      <td>195</td>\n      <td>Russia</td>\n      <td>SUN</td>\n      <td>USSR, Union of Soviet Socialist Republics</td>\n      <td>139010000</td>\n    </tr>\n    <tr>\n      <th>2082</th>\n      <td>USA</td>\n      <td>1984</td>\n      <td>693</td>\n      <td>522</td>\n      <td>30</td>\n      <td>82</td>\n      <td>135</td>\n      <td>61</td>\n      <td>308</td>\n      <td>173</td>\n      <td>United States</td>\n      <td>USA</td>\n      <td>United States</td>\n      <td>235825000</td>\n    </tr>\n    <tr>\n      <th>2062</th>\n      <td>URS</td>\n      <td>1976</td>\n      <td>574</td>\n      <td>410</td>\n      <td>35</td>\n      <td>49</td>\n      <td>111</td>\n      <td>41</td>\n      <td>236</td>\n      <td>125</td>\n      <td>Russia</td>\n      <td>SUN</td>\n      <td>USSR, Union of Soviet Socialist Republics</td>\n      <td>135147000</td>\n    </tr>\n    <tr>\n      <th>2087</th>\n      <td>USA</td>\n      <td>2004</td>\n      <td>726</td>\n      <td>533</td>\n      <td>26</td>\n      <td>36</td>\n      <td>211</td>\n      <td>39</td>\n      <td>312</td>\n      <td>101</td>\n      <td>United States</td>\n      <td>USA</td>\n      <td>United States</td>\n      <td>292805298</td>\n    </tr>\n    <tr>\n      <th>2088</th>\n      <td>USA</td>\n      <td>2008</td>\n      <td>763</td>\n      <td>588</td>\n      <td>35</td>\n      <td>36</td>\n      <td>212</td>\n      <td>39</td>\n      <td>322</td>\n      <td>110</td>\n      <td>United States</td>\n      <td>USA</td>\n      <td>United States</td>\n      <td>304093966</td>\n    </tr>\n  </tbody>\n</table>\n</div>"
     },
     "metadata": {},
     "output_type": "display_data"
    },
    {
     "name": "stdout",
     "output_type": "stream",
     "text": [
      "Bronze:\n"
     ]
    },
    {
     "data": {
      "text/plain": "      NOC  Year  events_partecipations_no  distinct_athletes_no  Bronze  Gold  \\\n2064  URS  1988                       647                   481      46    54   \n2063  URS  1980                       660                   489      46    80   \n742   GDR  1980                       495                   346      42    47   \n2090  USA  2016                       719                   555      38    46   \n2084  USA  1992                       734                   545      37    37   \n\n      NoMedal  Silver  TotalPartecipants  TotalMedals         region alpha_3  \\\n2064      149      31                280          131         Russia     SUN   \n2063      104      69                299          195         Russia     SUN   \n742       104      37                230          126        Germany     DEU   \n2090      200      37                321          121  United States     USA   \n2084      201      34                309          108  United States     USA   \n\n                                      iso_names  Population  \n2064  USSR, Union of Soviet Socialist Republics   146857000  \n2063  USSR, Union of Soviet Socialist Republics   139010000  \n742                                     Germany    78288576  \n2090                              United States   323071755  \n2084                              United States   256514000  ",
      "text/html": "<div>\n<style scoped>\n    .dataframe tbody tr th:only-of-type {\n        vertical-align: middle;\n    }\n\n    .dataframe tbody tr th {\n        vertical-align: top;\n    }\n\n    .dataframe thead th {\n        text-align: right;\n    }\n</style>\n<table border=\"1\" class=\"dataframe\">\n  <thead>\n    <tr style=\"text-align: right;\">\n      <th></th>\n      <th>NOC</th>\n      <th>Year</th>\n      <th>events_partecipations_no</th>\n      <th>distinct_athletes_no</th>\n      <th>Bronze</th>\n      <th>Gold</th>\n      <th>NoMedal</th>\n      <th>Silver</th>\n      <th>TotalPartecipants</th>\n      <th>TotalMedals</th>\n      <th>region</th>\n      <th>alpha_3</th>\n      <th>iso_names</th>\n      <th>Population</th>\n    </tr>\n  </thead>\n  <tbody>\n    <tr>\n      <th>2064</th>\n      <td>URS</td>\n      <td>1988</td>\n      <td>647</td>\n      <td>481</td>\n      <td>46</td>\n      <td>54</td>\n      <td>149</td>\n      <td>31</td>\n      <td>280</td>\n      <td>131</td>\n      <td>Russia</td>\n      <td>SUN</td>\n      <td>USSR, Union of Soviet Socialist Republics</td>\n      <td>146857000</td>\n    </tr>\n    <tr>\n      <th>2063</th>\n      <td>URS</td>\n      <td>1980</td>\n      <td>660</td>\n      <td>489</td>\n      <td>46</td>\n      <td>80</td>\n      <td>104</td>\n      <td>69</td>\n      <td>299</td>\n      <td>195</td>\n      <td>Russia</td>\n      <td>SUN</td>\n      <td>USSR, Union of Soviet Socialist Republics</td>\n      <td>139010000</td>\n    </tr>\n    <tr>\n      <th>742</th>\n      <td>GDR</td>\n      <td>1980</td>\n      <td>495</td>\n      <td>346</td>\n      <td>42</td>\n      <td>47</td>\n      <td>104</td>\n      <td>37</td>\n      <td>230</td>\n      <td>126</td>\n      <td>Germany</td>\n      <td>DEU</td>\n      <td>Germany</td>\n      <td>78288576</td>\n    </tr>\n    <tr>\n      <th>2090</th>\n      <td>USA</td>\n      <td>2016</td>\n      <td>719</td>\n      <td>555</td>\n      <td>38</td>\n      <td>46</td>\n      <td>200</td>\n      <td>37</td>\n      <td>321</td>\n      <td>121</td>\n      <td>United States</td>\n      <td>USA</td>\n      <td>United States</td>\n      <td>323071755</td>\n    </tr>\n    <tr>\n      <th>2084</th>\n      <td>USA</td>\n      <td>1992</td>\n      <td>734</td>\n      <td>545</td>\n      <td>37</td>\n      <td>37</td>\n      <td>201</td>\n      <td>34</td>\n      <td>309</td>\n      <td>108</td>\n      <td>United States</td>\n      <td>USA</td>\n      <td>United States</td>\n      <td>256514000</td>\n    </tr>\n  </tbody>\n</table>\n</div>"
     },
     "metadata": {},
     "output_type": "display_data"
    },
    {
     "name": "stdout",
     "output_type": "stream",
     "text": [
      "Total Medals:\n"
     ]
    },
    {
     "data": {
      "text/plain": "      NOC  Year  events_partecipations_no  distinct_athletes_no  Bronze  Gold  \\\n2063  URS  1980                       660                   489      46    80   \n2082  USA  1984                       693                   522      30    82   \n2064  URS  1988                       647                   481      46    54   \n742   GDR  1980                       495                   346      42    47   \n2062  URS  1976                       574                   410      35    49   \n\n      NoMedal  Silver  TotalPartecipants  TotalMedals         region alpha_3  \\\n2063      104      69                299          195         Russia     SUN   \n2082      135      61                308          173  United States     USA   \n2064      149      31                280          131         Russia     SUN   \n742       104      37                230          126        Germany     DEU   \n2062      111      41                236          125         Russia     SUN   \n\n                                      iso_names  Population  \n2063  USSR, Union of Soviet Socialist Republics   139010000  \n2082                              United States   235825000  \n2064  USSR, Union of Soviet Socialist Republics   146857000  \n742                                     Germany    78288576  \n2062  USSR, Union of Soviet Socialist Republics   135147000  ",
      "text/html": "<div>\n<style scoped>\n    .dataframe tbody tr th:only-of-type {\n        vertical-align: middle;\n    }\n\n    .dataframe tbody tr th {\n        vertical-align: top;\n    }\n\n    .dataframe thead th {\n        text-align: right;\n    }\n</style>\n<table border=\"1\" class=\"dataframe\">\n  <thead>\n    <tr style=\"text-align: right;\">\n      <th></th>\n      <th>NOC</th>\n      <th>Year</th>\n      <th>events_partecipations_no</th>\n      <th>distinct_athletes_no</th>\n      <th>Bronze</th>\n      <th>Gold</th>\n      <th>NoMedal</th>\n      <th>Silver</th>\n      <th>TotalPartecipants</th>\n      <th>TotalMedals</th>\n      <th>region</th>\n      <th>alpha_3</th>\n      <th>iso_names</th>\n      <th>Population</th>\n    </tr>\n  </thead>\n  <tbody>\n    <tr>\n      <th>2063</th>\n      <td>URS</td>\n      <td>1980</td>\n      <td>660</td>\n      <td>489</td>\n      <td>46</td>\n      <td>80</td>\n      <td>104</td>\n      <td>69</td>\n      <td>299</td>\n      <td>195</td>\n      <td>Russia</td>\n      <td>SUN</td>\n      <td>USSR, Union of Soviet Socialist Republics</td>\n      <td>139010000</td>\n    </tr>\n    <tr>\n      <th>2082</th>\n      <td>USA</td>\n      <td>1984</td>\n      <td>693</td>\n      <td>522</td>\n      <td>30</td>\n      <td>82</td>\n      <td>135</td>\n      <td>61</td>\n      <td>308</td>\n      <td>173</td>\n      <td>United States</td>\n      <td>USA</td>\n      <td>United States</td>\n      <td>235825000</td>\n    </tr>\n    <tr>\n      <th>2064</th>\n      <td>URS</td>\n      <td>1988</td>\n      <td>647</td>\n      <td>481</td>\n      <td>46</td>\n      <td>54</td>\n      <td>149</td>\n      <td>31</td>\n      <td>280</td>\n      <td>131</td>\n      <td>Russia</td>\n      <td>SUN</td>\n      <td>USSR, Union of Soviet Socialist Republics</td>\n      <td>146857000</td>\n    </tr>\n    <tr>\n      <th>742</th>\n      <td>GDR</td>\n      <td>1980</td>\n      <td>495</td>\n      <td>346</td>\n      <td>42</td>\n      <td>47</td>\n      <td>104</td>\n      <td>37</td>\n      <td>230</td>\n      <td>126</td>\n      <td>Germany</td>\n      <td>DEU</td>\n      <td>Germany</td>\n      <td>78288576</td>\n    </tr>\n    <tr>\n      <th>2062</th>\n      <td>URS</td>\n      <td>1976</td>\n      <td>574</td>\n      <td>410</td>\n      <td>35</td>\n      <td>49</td>\n      <td>111</td>\n      <td>41</td>\n      <td>236</td>\n      <td>125</td>\n      <td>Russia</td>\n      <td>SUN</td>\n      <td>USSR, Union of Soviet Socialist Republics</td>\n      <td>135147000</td>\n    </tr>\n  </tbody>\n</table>\n</div>"
     },
     "metadata": {},
     "output_type": "display_data"
    }
   ],
   "source": [
    "print('Gold:')\n",
    "display(gold_partecipants_df.sort_values(by='Gold', ascending=False).head(5))\n",
    "print('Silver:')\n",
    "display(gold_partecipants_df.sort_values(by='Silver', ascending=False).head(5))\n",
    "print('Bronze:')\n",
    "display(gold_partecipants_df.sort_values(by='Bronze', ascending=False).head(5))\n",
    "print('Total Medals:')\n",
    "display(gold_partecipants_df.sort_values(by='TotalMedals', ascending=False).head(5))\n"
   ],
   "metadata": {
    "collapsed": false,
    "pycharm": {
     "name": "#%%\n"
    }
   }
  },
  {
   "cell_type": "code",
   "execution_count": 118,
   "outputs": [],
   "source": [
    "gold_metrics_partecipants_df.to_parquet(os.path.join('dataset','gold_countries_year_metrics.parquet'))"
   ],
   "metadata": {
    "collapsed": false,
    "pycharm": {
     "name": "#%%\n"
    }
   }
  }
 ],
 "metadata": {
  "kernelspec": {
   "display_name": "Python 3",
   "language": "python",
   "name": "python3"
  },
  "language_info": {
   "codemirror_mode": {
    "name": "ipython",
    "version": 2
   },
   "file_extension": ".py",
   "mimetype": "text/x-python",
   "name": "python",
   "nbconvert_exporter": "python",
   "pygments_lexer": "ipython2",
   "version": "2.7.6"
  }
 },
 "nbformat": 4,
 "nbformat_minor": 0
}