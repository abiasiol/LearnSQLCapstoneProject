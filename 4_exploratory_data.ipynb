{
 "cells": [
  {
   "cell_type": "code",
   "execution_count": 219,
   "outputs": [],
   "source": [
    "import pandas as pd\n",
    "import os\n",
    "from IPython.display import display\n",
    "from pandasql import sqldf\n",
    "import numpy as np\n",
    "dataset_path = 'dataset'\n",
    "pysqldf = lambda q: sqldf(q, globals())\n",
    "\n",
    "\n",
    "silver_df = pd.read_parquet(os.path.join(dataset_path, 'silver_df.parquet'))\n"
   ],
   "metadata": {
    "collapsed": false,
    "pycharm": {
     "name": "#%%\n"
    }
   }
  },
  {
   "cell_type": "code",
   "execution_count": 220,
   "metadata": {
    "collapsed": true
   },
   "outputs": [
    {
     "data": {
      "text/plain": "      NOC  Year  distinct_athletes_no\n0     AFG  1936                    15\n1     AFG  1948                    25\n2     AFG  1956                    12\n3     AFG  1960                    12\n4     AFG  1964                     8\n...   ...   ...                   ...\n2805  ZIM  2000                    16\n2806  ZIM  2004                    12\n2807  ZIM  2008                    13\n2808  ZIM  2012                     7\n2809  ZIM  2016                    30\n\n[2810 rows x 3 columns]",
      "text/html": "<div>\n<style scoped>\n    .dataframe tbody tr th:only-of-type {\n        vertical-align: middle;\n    }\n\n    .dataframe tbody tr th {\n        vertical-align: top;\n    }\n\n    .dataframe thead th {\n        text-align: right;\n    }\n</style>\n<table border=\"1\" class=\"dataframe\">\n  <thead>\n    <tr style=\"text-align: right;\">\n      <th></th>\n      <th>NOC</th>\n      <th>Year</th>\n      <th>distinct_athletes_no</th>\n    </tr>\n  </thead>\n  <tbody>\n    <tr>\n      <th>0</th>\n      <td>AFG</td>\n      <td>1936</td>\n      <td>15</td>\n    </tr>\n    <tr>\n      <th>1</th>\n      <td>AFG</td>\n      <td>1948</td>\n      <td>25</td>\n    </tr>\n    <tr>\n      <th>2</th>\n      <td>AFG</td>\n      <td>1956</td>\n      <td>12</td>\n    </tr>\n    <tr>\n      <th>3</th>\n      <td>AFG</td>\n      <td>1960</td>\n      <td>12</td>\n    </tr>\n    <tr>\n      <th>4</th>\n      <td>AFG</td>\n      <td>1964</td>\n      <td>8</td>\n    </tr>\n    <tr>\n      <th>...</th>\n      <td>...</td>\n      <td>...</td>\n      <td>...</td>\n    </tr>\n    <tr>\n      <th>2805</th>\n      <td>ZIM</td>\n      <td>2000</td>\n      <td>16</td>\n    </tr>\n    <tr>\n      <th>2806</th>\n      <td>ZIM</td>\n      <td>2004</td>\n      <td>12</td>\n    </tr>\n    <tr>\n      <th>2807</th>\n      <td>ZIM</td>\n      <td>2008</td>\n      <td>13</td>\n    </tr>\n    <tr>\n      <th>2808</th>\n      <td>ZIM</td>\n      <td>2012</td>\n      <td>7</td>\n    </tr>\n    <tr>\n      <th>2809</th>\n      <td>ZIM</td>\n      <td>2016</td>\n      <td>30</td>\n    </tr>\n  </tbody>\n</table>\n<p>2810 rows × 3 columns</p>\n</div>"
     },
     "metadata": {},
     "output_type": "display_data"
    }
   ],
   "source": [
    "# Like for 3_descriptive_analysis\n",
    "# Extract the number of different athletes for each NOC per Year for Summer Olympics\n",
    "\n",
    "count_distinct_athletes = f\" SELECT NOC, Year, COUNT(DISTINCT ID) as distinct_athletes_no\" \\\n",
    "                f\" FROM silver_df\" \\\n",
    "                f\" WHERE Season='Summer' \" \\\n",
    "                 f\" GROUP BY NOC, Year\"\n",
    "gold_distinct_athletes_df = pysqldf(count_distinct_athletes)\n",
    "display(gold_distinct_athletes_df)\n"
   ]
  },
  {
   "cell_type": "code",
   "execution_count": 221,
   "outputs": [
    {
     "data": {
      "text/plain": "      NOC  Year  distinct_athletes_no\n2673  USA  1896                    14\n2674  USA  1900                    75\n2675  USA  1904                   524\n2676  USA  1906                    38\n2677  USA  1908                   122\n2678  USA  1912                   174\n2679  USA  1920                   288\n2680  USA  1924                   299\n2681  USA  1928                   280\n2682  USA  1932                   474\n2683  USA  1936                   359\n2684  USA  1948                   300\n2685  USA  1952                   286\n2686  USA  1956                   305\n2687  USA  1960                   292\n2688  USA  1964                   346\n2689  USA  1968                   357\n2690  USA  1972                   400\n2691  USA  1976                   396\n2692  USA  1984                   522\n2693  USA  1988                   527\n2694  USA  1992                   545\n2695  USA  1996                   648\n2696  USA  2000                   586\n2697  USA  2004                   533\n2698  USA  2008                   588\n2699  USA  2012                   530\n2700  USA  2016                   555",
      "text/html": "<div>\n<style scoped>\n    .dataframe tbody tr th:only-of-type {\n        vertical-align: middle;\n    }\n\n    .dataframe tbody tr th {\n        vertical-align: top;\n    }\n\n    .dataframe thead th {\n        text-align: right;\n    }\n</style>\n<table border=\"1\" class=\"dataframe\">\n  <thead>\n    <tr style=\"text-align: right;\">\n      <th></th>\n      <th>NOC</th>\n      <th>Year</th>\n      <th>distinct_athletes_no</th>\n    </tr>\n  </thead>\n  <tbody>\n    <tr>\n      <th>2673</th>\n      <td>USA</td>\n      <td>1896</td>\n      <td>14</td>\n    </tr>\n    <tr>\n      <th>2674</th>\n      <td>USA</td>\n      <td>1900</td>\n      <td>75</td>\n    </tr>\n    <tr>\n      <th>2675</th>\n      <td>USA</td>\n      <td>1904</td>\n      <td>524</td>\n    </tr>\n    <tr>\n      <th>2676</th>\n      <td>USA</td>\n      <td>1906</td>\n      <td>38</td>\n    </tr>\n    <tr>\n      <th>2677</th>\n      <td>USA</td>\n      <td>1908</td>\n      <td>122</td>\n    </tr>\n    <tr>\n      <th>2678</th>\n      <td>USA</td>\n      <td>1912</td>\n      <td>174</td>\n    </tr>\n    <tr>\n      <th>2679</th>\n      <td>USA</td>\n      <td>1920</td>\n      <td>288</td>\n    </tr>\n    <tr>\n      <th>2680</th>\n      <td>USA</td>\n      <td>1924</td>\n      <td>299</td>\n    </tr>\n    <tr>\n      <th>2681</th>\n      <td>USA</td>\n      <td>1928</td>\n      <td>280</td>\n    </tr>\n    <tr>\n      <th>2682</th>\n      <td>USA</td>\n      <td>1932</td>\n      <td>474</td>\n    </tr>\n    <tr>\n      <th>2683</th>\n      <td>USA</td>\n      <td>1936</td>\n      <td>359</td>\n    </tr>\n    <tr>\n      <th>2684</th>\n      <td>USA</td>\n      <td>1948</td>\n      <td>300</td>\n    </tr>\n    <tr>\n      <th>2685</th>\n      <td>USA</td>\n      <td>1952</td>\n      <td>286</td>\n    </tr>\n    <tr>\n      <th>2686</th>\n      <td>USA</td>\n      <td>1956</td>\n      <td>305</td>\n    </tr>\n    <tr>\n      <th>2687</th>\n      <td>USA</td>\n      <td>1960</td>\n      <td>292</td>\n    </tr>\n    <tr>\n      <th>2688</th>\n      <td>USA</td>\n      <td>1964</td>\n      <td>346</td>\n    </tr>\n    <tr>\n      <th>2689</th>\n      <td>USA</td>\n      <td>1968</td>\n      <td>357</td>\n    </tr>\n    <tr>\n      <th>2690</th>\n      <td>USA</td>\n      <td>1972</td>\n      <td>400</td>\n    </tr>\n    <tr>\n      <th>2691</th>\n      <td>USA</td>\n      <td>1976</td>\n      <td>396</td>\n    </tr>\n    <tr>\n      <th>2692</th>\n      <td>USA</td>\n      <td>1984</td>\n      <td>522</td>\n    </tr>\n    <tr>\n      <th>2693</th>\n      <td>USA</td>\n      <td>1988</td>\n      <td>527</td>\n    </tr>\n    <tr>\n      <th>2694</th>\n      <td>USA</td>\n      <td>1992</td>\n      <td>545</td>\n    </tr>\n    <tr>\n      <th>2695</th>\n      <td>USA</td>\n      <td>1996</td>\n      <td>648</td>\n    </tr>\n    <tr>\n      <th>2696</th>\n      <td>USA</td>\n      <td>2000</td>\n      <td>586</td>\n    </tr>\n    <tr>\n      <th>2697</th>\n      <td>USA</td>\n      <td>2004</td>\n      <td>533</td>\n    </tr>\n    <tr>\n      <th>2698</th>\n      <td>USA</td>\n      <td>2008</td>\n      <td>588</td>\n    </tr>\n    <tr>\n      <th>2699</th>\n      <td>USA</td>\n      <td>2012</td>\n      <td>530</td>\n    </tr>\n    <tr>\n      <th>2700</th>\n      <td>USA</td>\n      <td>2016</td>\n      <td>555</td>\n    </tr>\n  </tbody>\n</table>\n</div>"
     },
     "metadata": {},
     "output_type": "display_data"
    }
   ],
   "source": [
    "# Validate the previous query by looking at the number of distinct athletes for team USA\n",
    "# In the last 3 editions (2016, 2012, 2008)\n",
    "\n",
    "# Results should be:\n",
    "# - 2016: 554 (263 men and 291 women) in 33 sports\n",
    "# - 2012: 530 (262 men and 268 women) in 31 sports\n",
    "# - 2008: 588 (306 men and 282 women) in 32 sports\n",
    "\n",
    "display(gold_distinct_athletes_df.loc[gold_distinct_athletes_df.NOC == 'USA'])\n",
    "# Query result: 555 (+1), 530, 588.\n",
    "# The team USA website reports 558 participants for Rio 2016\n"
   ],
   "metadata": {
    "collapsed": false,
    "pycharm": {
     "name": "#%%\n"
    }
   }
  },
  {
   "cell_type": "code",
   "execution_count": 222,
   "outputs": [
    {
     "data": {
      "text/plain": "      NOC  Year  events_partecipations_no\n0     AFG  1936                        16\n1     AFG  1948                        25\n2     AFG  1956                        12\n3     AFG  1960                        16\n4     AFG  1964                         8\n...   ...   ...                       ...\n2805  ZIM  2000                        26\n2806  ZIM  2004                        14\n2807  ZIM  2008                        16\n2808  ZIM  2012                         9\n2809  ZIM  2016                        31\n\n[2810 rows x 3 columns]",
      "text/html": "<div>\n<style scoped>\n    .dataframe tbody tr th:only-of-type {\n        vertical-align: middle;\n    }\n\n    .dataframe tbody tr th {\n        vertical-align: top;\n    }\n\n    .dataframe thead th {\n        text-align: right;\n    }\n</style>\n<table border=\"1\" class=\"dataframe\">\n  <thead>\n    <tr style=\"text-align: right;\">\n      <th></th>\n      <th>NOC</th>\n      <th>Year</th>\n      <th>events_partecipations_no</th>\n    </tr>\n  </thead>\n  <tbody>\n    <tr>\n      <th>0</th>\n      <td>AFG</td>\n      <td>1936</td>\n      <td>16</td>\n    </tr>\n    <tr>\n      <th>1</th>\n      <td>AFG</td>\n      <td>1948</td>\n      <td>25</td>\n    </tr>\n    <tr>\n      <th>2</th>\n      <td>AFG</td>\n      <td>1956</td>\n      <td>12</td>\n    </tr>\n    <tr>\n      <th>3</th>\n      <td>AFG</td>\n      <td>1960</td>\n      <td>16</td>\n    </tr>\n    <tr>\n      <th>4</th>\n      <td>AFG</td>\n      <td>1964</td>\n      <td>8</td>\n    </tr>\n    <tr>\n      <th>...</th>\n      <td>...</td>\n      <td>...</td>\n      <td>...</td>\n    </tr>\n    <tr>\n      <th>2805</th>\n      <td>ZIM</td>\n      <td>2000</td>\n      <td>26</td>\n    </tr>\n    <tr>\n      <th>2806</th>\n      <td>ZIM</td>\n      <td>2004</td>\n      <td>14</td>\n    </tr>\n    <tr>\n      <th>2807</th>\n      <td>ZIM</td>\n      <td>2008</td>\n      <td>16</td>\n    </tr>\n    <tr>\n      <th>2808</th>\n      <td>ZIM</td>\n      <td>2012</td>\n      <td>9</td>\n    </tr>\n    <tr>\n      <th>2809</th>\n      <td>ZIM</td>\n      <td>2016</td>\n      <td>31</td>\n    </tr>\n  </tbody>\n</table>\n<p>2810 rows × 3 columns</p>\n</div>"
     },
     "metadata": {},
     "output_type": "display_data"
    },
    {
     "data": {
      "text/plain": "      NOC  Year  events_partecipations_no\n2673  USA  1896                        27\n2674  USA  1900                       135\n2675  USA  1904                      1109\n2676  USA  1906                        81\n2677  USA  1908                       218\n2678  USA  1912                       364\n2679  USA  1920                       473\n2680  USA  1924                       459\n2681  USA  1928                       392\n2682  USA  1932                       544\n2683  USA  1936                       472\n2684  USA  1948                       424\n2685  USA  1952                       451\n2686  USA  1956                       443\n2687  USA  1960                       428\n2688  USA  1964                       492\n2689  USA  1968                       529\n2690  USA  1972                       578\n2691  USA  1976                       554\n2692  USA  1984                       693\n2693  USA  1988                       715\n2694  USA  1992                       734\n2695  USA  1996                       839\n2696  USA  2000                       764\n2697  USA  2004                       726\n2698  USA  2008                       763\n2699  USA  2012                       689\n2700  USA  2016                       719",
      "text/html": "<div>\n<style scoped>\n    .dataframe tbody tr th:only-of-type {\n        vertical-align: middle;\n    }\n\n    .dataframe tbody tr th {\n        vertical-align: top;\n    }\n\n    .dataframe thead th {\n        text-align: right;\n    }\n</style>\n<table border=\"1\" class=\"dataframe\">\n  <thead>\n    <tr style=\"text-align: right;\">\n      <th></th>\n      <th>NOC</th>\n      <th>Year</th>\n      <th>events_partecipations_no</th>\n    </tr>\n  </thead>\n  <tbody>\n    <tr>\n      <th>2673</th>\n      <td>USA</td>\n      <td>1896</td>\n      <td>27</td>\n    </tr>\n    <tr>\n      <th>2674</th>\n      <td>USA</td>\n      <td>1900</td>\n      <td>135</td>\n    </tr>\n    <tr>\n      <th>2675</th>\n      <td>USA</td>\n      <td>1904</td>\n      <td>1109</td>\n    </tr>\n    <tr>\n      <th>2676</th>\n      <td>USA</td>\n      <td>1906</td>\n      <td>81</td>\n    </tr>\n    <tr>\n      <th>2677</th>\n      <td>USA</td>\n      <td>1908</td>\n      <td>218</td>\n    </tr>\n    <tr>\n      <th>2678</th>\n      <td>USA</td>\n      <td>1912</td>\n      <td>364</td>\n    </tr>\n    <tr>\n      <th>2679</th>\n      <td>USA</td>\n      <td>1920</td>\n      <td>473</td>\n    </tr>\n    <tr>\n      <th>2680</th>\n      <td>USA</td>\n      <td>1924</td>\n      <td>459</td>\n    </tr>\n    <tr>\n      <th>2681</th>\n      <td>USA</td>\n      <td>1928</td>\n      <td>392</td>\n    </tr>\n    <tr>\n      <th>2682</th>\n      <td>USA</td>\n      <td>1932</td>\n      <td>544</td>\n    </tr>\n    <tr>\n      <th>2683</th>\n      <td>USA</td>\n      <td>1936</td>\n      <td>472</td>\n    </tr>\n    <tr>\n      <th>2684</th>\n      <td>USA</td>\n      <td>1948</td>\n      <td>424</td>\n    </tr>\n    <tr>\n      <th>2685</th>\n      <td>USA</td>\n      <td>1952</td>\n      <td>451</td>\n    </tr>\n    <tr>\n      <th>2686</th>\n      <td>USA</td>\n      <td>1956</td>\n      <td>443</td>\n    </tr>\n    <tr>\n      <th>2687</th>\n      <td>USA</td>\n      <td>1960</td>\n      <td>428</td>\n    </tr>\n    <tr>\n      <th>2688</th>\n      <td>USA</td>\n      <td>1964</td>\n      <td>492</td>\n    </tr>\n    <tr>\n      <th>2689</th>\n      <td>USA</td>\n      <td>1968</td>\n      <td>529</td>\n    </tr>\n    <tr>\n      <th>2690</th>\n      <td>USA</td>\n      <td>1972</td>\n      <td>578</td>\n    </tr>\n    <tr>\n      <th>2691</th>\n      <td>USA</td>\n      <td>1976</td>\n      <td>554</td>\n    </tr>\n    <tr>\n      <th>2692</th>\n      <td>USA</td>\n      <td>1984</td>\n      <td>693</td>\n    </tr>\n    <tr>\n      <th>2693</th>\n      <td>USA</td>\n      <td>1988</td>\n      <td>715</td>\n    </tr>\n    <tr>\n      <th>2694</th>\n      <td>USA</td>\n      <td>1992</td>\n      <td>734</td>\n    </tr>\n    <tr>\n      <th>2695</th>\n      <td>USA</td>\n      <td>1996</td>\n      <td>839</td>\n    </tr>\n    <tr>\n      <th>2696</th>\n      <td>USA</td>\n      <td>2000</td>\n      <td>764</td>\n    </tr>\n    <tr>\n      <th>2697</th>\n      <td>USA</td>\n      <td>2004</td>\n      <td>726</td>\n    </tr>\n    <tr>\n      <th>2698</th>\n      <td>USA</td>\n      <td>2008</td>\n      <td>763</td>\n    </tr>\n    <tr>\n      <th>2699</th>\n      <td>USA</td>\n      <td>2012</td>\n      <td>689</td>\n    </tr>\n    <tr>\n      <th>2700</th>\n      <td>USA</td>\n      <td>2016</td>\n      <td>719</td>\n    </tr>\n  </tbody>\n</table>\n</div>"
     },
     "metadata": {},
     "output_type": "display_data"
    }
   ],
   "source": [
    "# Extract the number of competitions entries for each NOC per Year for Summer Olympics\n",
    "\n",
    "count_events_partecipations = f\" SELECT NOC, Year, COUNT(1) as events_partecipations_no\" \\\n",
    "                f\" FROM silver_df\" \\\n",
    "                f\" WHERE Season='Summer' \" \\\n",
    "                 f\" GROUP BY NOC, Year\"\n",
    "gold_events_partecipations_df = pysqldf(count_events_partecipations)\n",
    "display(gold_events_partecipations_df)\n",
    "display(gold_events_partecipations_df.loc[gold_events_partecipations_df.NOC == 'USA'])\n"
   ],
   "metadata": {
    "collapsed": false,
    "pycharm": {
     "name": "#%%\n"
    }
   }
  },
  {
   "cell_type": "code",
   "execution_count": 223,
   "outputs": [
    {
     "data": {
      "text/plain": "       NOC      Sport                                          Event  Year  \\\n0      AFG  Taekwondo                  Taekwondo Men's Featherweight  2012   \n1      AFG  Taekwondo                      Taekwondo Men's Flyweight  2008   \n2      AHO    Sailing                       Sailing Mixed Windsurfer  1988   \n3      ALG  Athletics                   Athletics Men's 1,500 metres  1996   \n4      ALG  Athletics                   Athletics Men's 1,500 metres  2012   \n...    ...        ...                                            ...   ...   \n16067  ZIM   Swimming         Swimming Women's 200 metres Backstroke  2004   \n16068  ZIM   Swimming         Swimming Women's 200 metres Backstroke  2008   \n16069  ZIM   Swimming  Swimming Women's 200 metres Individual Medley  2004   \n16070  ZIM   Swimming  Swimming Women's 200 metres Individual Medley  2008   \n16071  ZIM   Swimming  Swimming Women's 400 metres Individual Medley  2008   \n\n       Season        Games                  Team   Medal  \n0      Summer  2012 Summer           Afghanistan  Bronze  \n1      Summer  2008 Summer           Afghanistan  Bronze  \n2      Summer  1988 Summer  Netherlands Antilles  Silver  \n3      Summer  1996 Summer               Algeria    Gold  \n4      Summer  2012 Summer               Algeria    Gold  \n...       ...          ...                   ...     ...  \n16067  Summer  2004 Summer              Zimbabwe    Gold  \n16068  Summer  2008 Summer              Zimbabwe    Gold  \n16069  Summer  2004 Summer              Zimbabwe  Bronze  \n16070  Summer  2008 Summer              Zimbabwe  Silver  \n16071  Summer  2008 Summer              Zimbabwe  Silver  \n\n[16072 rows x 8 columns]",
      "text/html": "<div>\n<style scoped>\n    .dataframe tbody tr th:only-of-type {\n        vertical-align: middle;\n    }\n\n    .dataframe tbody tr th {\n        vertical-align: top;\n    }\n\n    .dataframe thead th {\n        text-align: right;\n    }\n</style>\n<table border=\"1\" class=\"dataframe\">\n  <thead>\n    <tr style=\"text-align: right;\">\n      <th></th>\n      <th>NOC</th>\n      <th>Sport</th>\n      <th>Event</th>\n      <th>Year</th>\n      <th>Season</th>\n      <th>Games</th>\n      <th>Team</th>\n      <th>Medal</th>\n    </tr>\n  </thead>\n  <tbody>\n    <tr>\n      <th>0</th>\n      <td>AFG</td>\n      <td>Taekwondo</td>\n      <td>Taekwondo Men's Featherweight</td>\n      <td>2012</td>\n      <td>Summer</td>\n      <td>2012 Summer</td>\n      <td>Afghanistan</td>\n      <td>Bronze</td>\n    </tr>\n    <tr>\n      <th>1</th>\n      <td>AFG</td>\n      <td>Taekwondo</td>\n      <td>Taekwondo Men's Flyweight</td>\n      <td>2008</td>\n      <td>Summer</td>\n      <td>2008 Summer</td>\n      <td>Afghanistan</td>\n      <td>Bronze</td>\n    </tr>\n    <tr>\n      <th>2</th>\n      <td>AHO</td>\n      <td>Sailing</td>\n      <td>Sailing Mixed Windsurfer</td>\n      <td>1988</td>\n      <td>Summer</td>\n      <td>1988 Summer</td>\n      <td>Netherlands Antilles</td>\n      <td>Silver</td>\n    </tr>\n    <tr>\n      <th>3</th>\n      <td>ALG</td>\n      <td>Athletics</td>\n      <td>Athletics Men's 1,500 metres</td>\n      <td>1996</td>\n      <td>Summer</td>\n      <td>1996 Summer</td>\n      <td>Algeria</td>\n      <td>Gold</td>\n    </tr>\n    <tr>\n      <th>4</th>\n      <td>ALG</td>\n      <td>Athletics</td>\n      <td>Athletics Men's 1,500 metres</td>\n      <td>2012</td>\n      <td>Summer</td>\n      <td>2012 Summer</td>\n      <td>Algeria</td>\n      <td>Gold</td>\n    </tr>\n    <tr>\n      <th>...</th>\n      <td>...</td>\n      <td>...</td>\n      <td>...</td>\n      <td>...</td>\n      <td>...</td>\n      <td>...</td>\n      <td>...</td>\n      <td>...</td>\n    </tr>\n    <tr>\n      <th>16067</th>\n      <td>ZIM</td>\n      <td>Swimming</td>\n      <td>Swimming Women's 200 metres Backstroke</td>\n      <td>2004</td>\n      <td>Summer</td>\n      <td>2004 Summer</td>\n      <td>Zimbabwe</td>\n      <td>Gold</td>\n    </tr>\n    <tr>\n      <th>16068</th>\n      <td>ZIM</td>\n      <td>Swimming</td>\n      <td>Swimming Women's 200 metres Backstroke</td>\n      <td>2008</td>\n      <td>Summer</td>\n      <td>2008 Summer</td>\n      <td>Zimbabwe</td>\n      <td>Gold</td>\n    </tr>\n    <tr>\n      <th>16069</th>\n      <td>ZIM</td>\n      <td>Swimming</td>\n      <td>Swimming Women's 200 metres Individual Medley</td>\n      <td>2004</td>\n      <td>Summer</td>\n      <td>2004 Summer</td>\n      <td>Zimbabwe</td>\n      <td>Bronze</td>\n    </tr>\n    <tr>\n      <th>16070</th>\n      <td>ZIM</td>\n      <td>Swimming</td>\n      <td>Swimming Women's 200 metres Individual Medley</td>\n      <td>2008</td>\n      <td>Summer</td>\n      <td>2008 Summer</td>\n      <td>Zimbabwe</td>\n      <td>Silver</td>\n    </tr>\n    <tr>\n      <th>16071</th>\n      <td>ZIM</td>\n      <td>Swimming</td>\n      <td>Swimming Women's 400 metres Individual Medley</td>\n      <td>2008</td>\n      <td>Summer</td>\n      <td>2008 Summer</td>\n      <td>Zimbabwe</td>\n      <td>Silver</td>\n    </tr>\n  </tbody>\n</table>\n<p>16072 rows × 8 columns</p>\n</div>"
     },
     "metadata": {},
     "output_type": "display_data"
    }
   ],
   "source": [
    "# Extract number of medals by type for each NOC\n",
    "\n",
    "\n",
    "subquery_count_winning = f\" SELECT NOC, Sport, Event, Year, Season, Games, Team, Medal\" \\\n",
    "                f\" FROM silver_df\" \\\n",
    "                f\" WHERE Medal IS NOT NULL AND Season='Summer' \" \\\n",
    "                 f\" GROUP BY NOC, Sport, Event, Year, Season, Games, Team, Medal\" \\\n",
    "                f\" ORDER BY NOC\"\n",
    "medalists_df = pysqldf(subquery_count_winning)\n",
    "display(medalists_df)"
   ],
   "metadata": {
    "collapsed": false,
    "pycharm": {
     "name": "#%%\n"
    }
   }
  },
  {
   "cell_type": "code",
   "execution_count": 224,
   "outputs": [
    {
     "data": {
      "text/plain": "        NOC  Year  Bronze  Gold  Silver  Total\n0       AFG  2008       1     0       0      1\n1       AFG  2012       1     0       0      1\n2       AHO  1988       0     0       1      1\n3       ALG  1984       2     0       0      2\n4       ALG  1992       1     1       0      2\n...     ...   ...     ...   ...     ...    ...\n1271    ZAM  1996       0     0       1      1\n1272    ZIM  1980       0     1       0      1\n1273    ZIM  2004       1     1       1      3\n1274    ZIM  2008       0     1       3      4\n1275  Total          5610  5246    5216  16072\n\n[1276 rows x 6 columns]",
      "text/html": "<div>\n<style scoped>\n    .dataframe tbody tr th:only-of-type {\n        vertical-align: middle;\n    }\n\n    .dataframe tbody tr th {\n        vertical-align: top;\n    }\n\n    .dataframe thead th {\n        text-align: right;\n    }\n</style>\n<table border=\"1\" class=\"dataframe\">\n  <thead>\n    <tr style=\"text-align: right;\">\n      <th></th>\n      <th>NOC</th>\n      <th>Year</th>\n      <th>Bronze</th>\n      <th>Gold</th>\n      <th>Silver</th>\n      <th>Total</th>\n    </tr>\n  </thead>\n  <tbody>\n    <tr>\n      <th>0</th>\n      <td>AFG</td>\n      <td>2008</td>\n      <td>1</td>\n      <td>0</td>\n      <td>0</td>\n      <td>1</td>\n    </tr>\n    <tr>\n      <th>1</th>\n      <td>AFG</td>\n      <td>2012</td>\n      <td>1</td>\n      <td>0</td>\n      <td>0</td>\n      <td>1</td>\n    </tr>\n    <tr>\n      <th>2</th>\n      <td>AHO</td>\n      <td>1988</td>\n      <td>0</td>\n      <td>0</td>\n      <td>1</td>\n      <td>1</td>\n    </tr>\n    <tr>\n      <th>3</th>\n      <td>ALG</td>\n      <td>1984</td>\n      <td>2</td>\n      <td>0</td>\n      <td>0</td>\n      <td>2</td>\n    </tr>\n    <tr>\n      <th>4</th>\n      <td>ALG</td>\n      <td>1992</td>\n      <td>1</td>\n      <td>1</td>\n      <td>0</td>\n      <td>2</td>\n    </tr>\n    <tr>\n      <th>...</th>\n      <td>...</td>\n      <td>...</td>\n      <td>...</td>\n      <td>...</td>\n      <td>...</td>\n      <td>...</td>\n    </tr>\n    <tr>\n      <th>1271</th>\n      <td>ZAM</td>\n      <td>1996</td>\n      <td>0</td>\n      <td>0</td>\n      <td>1</td>\n      <td>1</td>\n    </tr>\n    <tr>\n      <th>1272</th>\n      <td>ZIM</td>\n      <td>1980</td>\n      <td>0</td>\n      <td>1</td>\n      <td>0</td>\n      <td>1</td>\n    </tr>\n    <tr>\n      <th>1273</th>\n      <td>ZIM</td>\n      <td>2004</td>\n      <td>1</td>\n      <td>1</td>\n      <td>1</td>\n      <td>3</td>\n    </tr>\n    <tr>\n      <th>1274</th>\n      <td>ZIM</td>\n      <td>2008</td>\n      <td>0</td>\n      <td>1</td>\n      <td>3</td>\n      <td>4</td>\n    </tr>\n    <tr>\n      <th>1275</th>\n      <td>Total</td>\n      <td></td>\n      <td>5610</td>\n      <td>5246</td>\n      <td>5216</td>\n      <td>16072</td>\n    </tr>\n  </tbody>\n</table>\n<p>1276 rows × 6 columns</p>\n</div>"
     },
     "metadata": {},
     "output_type": "display_data"
    }
   ],
   "source": [
    "# NOC, year, and different medals\n",
    "noc_medals_df = pd.pivot_table(medalists_df,\n",
    "                               index=['NOC', 'Year'],\n",
    "                               columns='Medal',\n",
    "                               aggfunc='count',\n",
    "                               values='Event',\n",
    "                               fill_value=0,\n",
    "                               margins=True,\n",
    "                               margins_name='Total')\n",
    "\n",
    "noc_medals_df.columns.name = ''\n",
    "noc_medals_df.reset_index(inplace=True)\n",
    "display(noc_medals_df)\n"
   ],
   "metadata": {
    "collapsed": false,
    "pycharm": {
     "name": "#%%\n"
    }
   }
  },
  {
   "cell_type": "code",
   "execution_count": 225,
   "outputs": [
    {
     "data": {
      "text/plain": "      NOC  Year  events_partecipations_no  distinct_athletes_no  Bronze  Gold  \\\n4     AFG  1964                         8                     8       0     0   \n5     AFG  1968                         5                     5       0     0   \n6     AFG  1972                         8                     8       0     0   \n7     AFG  1980                        11                    11       0     0   \n8     AFG  1988                         5                     5       0     0   \n...   ...   ...                       ...                   ...     ...   ...   \n2805  ZIM  2000                        26                    16       0     0   \n2806  ZIM  2004                        14                    12       1     1   \n2807  ZIM  2008                        16                    13       0     1   \n2808  ZIM  2012                         9                     7       0     0   \n2809  ZIM  2016                        31                    30       0     0   \n\n      Silver  Total  \n4          0      0  \n5          0      0  \n6          0      0  \n7          0      0  \n8          0      0  \n...      ...    ...  \n2805       0      0  \n2806       1      3  \n2807       3      4  \n2808       0      0  \n2809       0      0  \n\n[2180 rows x 8 columns]",
      "text/html": "<div>\n<style scoped>\n    .dataframe tbody tr th:only-of-type {\n        vertical-align: middle;\n    }\n\n    .dataframe tbody tr th {\n        vertical-align: top;\n    }\n\n    .dataframe thead th {\n        text-align: right;\n    }\n</style>\n<table border=\"1\" class=\"dataframe\">\n  <thead>\n    <tr style=\"text-align: right;\">\n      <th></th>\n      <th>NOC</th>\n      <th>Year</th>\n      <th>events_partecipations_no</th>\n      <th>distinct_athletes_no</th>\n      <th>Bronze</th>\n      <th>Gold</th>\n      <th>Silver</th>\n      <th>Total</th>\n    </tr>\n  </thead>\n  <tbody>\n    <tr>\n      <th>4</th>\n      <td>AFG</td>\n      <td>1964</td>\n      <td>8</td>\n      <td>8</td>\n      <td>0</td>\n      <td>0</td>\n      <td>0</td>\n      <td>0</td>\n    </tr>\n    <tr>\n      <th>5</th>\n      <td>AFG</td>\n      <td>1968</td>\n      <td>5</td>\n      <td>5</td>\n      <td>0</td>\n      <td>0</td>\n      <td>0</td>\n      <td>0</td>\n    </tr>\n    <tr>\n      <th>6</th>\n      <td>AFG</td>\n      <td>1972</td>\n      <td>8</td>\n      <td>8</td>\n      <td>0</td>\n      <td>0</td>\n      <td>0</td>\n      <td>0</td>\n    </tr>\n    <tr>\n      <th>7</th>\n      <td>AFG</td>\n      <td>1980</td>\n      <td>11</td>\n      <td>11</td>\n      <td>0</td>\n      <td>0</td>\n      <td>0</td>\n      <td>0</td>\n    </tr>\n    <tr>\n      <th>8</th>\n      <td>AFG</td>\n      <td>1988</td>\n      <td>5</td>\n      <td>5</td>\n      <td>0</td>\n      <td>0</td>\n      <td>0</td>\n      <td>0</td>\n    </tr>\n    <tr>\n      <th>...</th>\n      <td>...</td>\n      <td>...</td>\n      <td>...</td>\n      <td>...</td>\n      <td>...</td>\n      <td>...</td>\n      <td>...</td>\n      <td>...</td>\n    </tr>\n    <tr>\n      <th>2805</th>\n      <td>ZIM</td>\n      <td>2000</td>\n      <td>26</td>\n      <td>16</td>\n      <td>0</td>\n      <td>0</td>\n      <td>0</td>\n      <td>0</td>\n    </tr>\n    <tr>\n      <th>2806</th>\n      <td>ZIM</td>\n      <td>2004</td>\n      <td>14</td>\n      <td>12</td>\n      <td>1</td>\n      <td>1</td>\n      <td>1</td>\n      <td>3</td>\n    </tr>\n    <tr>\n      <th>2807</th>\n      <td>ZIM</td>\n      <td>2008</td>\n      <td>16</td>\n      <td>13</td>\n      <td>0</td>\n      <td>1</td>\n      <td>3</td>\n      <td>4</td>\n    </tr>\n    <tr>\n      <th>2808</th>\n      <td>ZIM</td>\n      <td>2012</td>\n      <td>9</td>\n      <td>7</td>\n      <td>0</td>\n      <td>0</td>\n      <td>0</td>\n      <td>0</td>\n    </tr>\n    <tr>\n      <th>2809</th>\n      <td>ZIM</td>\n      <td>2016</td>\n      <td>31</td>\n      <td>30</td>\n      <td>0</td>\n      <td>0</td>\n      <td>0</td>\n      <td>0</td>\n    </tr>\n  </tbody>\n</table>\n<p>2180 rows × 8 columns</p>\n</div>"
     },
     "metadata": {},
     "output_type": "display_data"
    }
   ],
   "source": [
    "# gold_partecipants_df contains NOC, Year, events_partecipations_no, distinct_athletes_no, Bronze, Silver, Gold, Total\n",
    "gold_partecipants_df = gold_events_partecipations_df.merge(gold_distinct_athletes_df, on=['NOC', 'Year'], how='left')\n",
    "gold_partecipants_df = gold_partecipants_df.merge(noc_medals_df, on=['NOC', 'Year'], how='left')\n",
    "gold_partecipants_df = gold_partecipants_df.fillna(value=0)\n",
    "gold_partecipants_df.Gold = gold_partecipants_df.Gold.astype(int)\n",
    "gold_partecipants_df.Silver = gold_partecipants_df.Silver.astype(int)\n",
    "gold_partecipants_df.Bronze = gold_partecipants_df.Bronze.astype(int)\n",
    "gold_partecipants_df.Total = gold_partecipants_df.Total.astype(int)\n",
    "gold_partecipants_df = gold_partecipants_df.loc[gold_partecipants_df.Year > 1960]\n",
    "display(gold_partecipants_df)"
   ],
   "metadata": {
    "collapsed": false,
    "pycharm": {
     "name": "#%%\n"
    }
   }
  },
  {
   "cell_type": "code",
   "execution_count": 226,
   "outputs": [
    {
     "data": {
      "text/plain": "      NOC  Year  events_partecipations_no  distinct_athletes_no  Bronze  Gold  \\\n0     AFG  1964                         8                     8       0     0   \n1     AFG  1968                         5                     5       0     0   \n2     AFG  1972                         8                     8       0     0   \n3     AFG  1980                        11                    11       0     0   \n4     AFG  1988                         5                     5       0     0   \n...   ...   ...                       ...                   ...     ...   ...   \n2175  ZIM  2000                        26                    16       0     0   \n2176  ZIM  2004                        14                    12       1     1   \n2177  ZIM  2008                        16                    13       0     1   \n2178  ZIM  2012                         9                     7       0     0   \n2179  ZIM  2016                        31                    30       0     0   \n\n      Silver  Total       region notes  \n0          0      0  Afghanistan  None  \n1          0      0  Afghanistan  None  \n2          0      0  Afghanistan  None  \n3          0      0  Afghanistan  None  \n4          0      0  Afghanistan  None  \n...      ...    ...          ...   ...  \n2175       0      0     Zimbabwe  None  \n2176       1      3     Zimbabwe  None  \n2177       3      4     Zimbabwe  None  \n2178       0      0     Zimbabwe  None  \n2179       0      0     Zimbabwe  None  \n\n[2180 rows x 10 columns]",
      "text/html": "<div>\n<style scoped>\n    .dataframe tbody tr th:only-of-type {\n        vertical-align: middle;\n    }\n\n    .dataframe tbody tr th {\n        vertical-align: top;\n    }\n\n    .dataframe thead th {\n        text-align: right;\n    }\n</style>\n<table border=\"1\" class=\"dataframe\">\n  <thead>\n    <tr style=\"text-align: right;\">\n      <th></th>\n      <th>NOC</th>\n      <th>Year</th>\n      <th>events_partecipations_no</th>\n      <th>distinct_athletes_no</th>\n      <th>Bronze</th>\n      <th>Gold</th>\n      <th>Silver</th>\n      <th>Total</th>\n      <th>region</th>\n      <th>notes</th>\n    </tr>\n  </thead>\n  <tbody>\n    <tr>\n      <th>0</th>\n      <td>AFG</td>\n      <td>1964</td>\n      <td>8</td>\n      <td>8</td>\n      <td>0</td>\n      <td>0</td>\n      <td>0</td>\n      <td>0</td>\n      <td>Afghanistan</td>\n      <td>None</td>\n    </tr>\n    <tr>\n      <th>1</th>\n      <td>AFG</td>\n      <td>1968</td>\n      <td>5</td>\n      <td>5</td>\n      <td>0</td>\n      <td>0</td>\n      <td>0</td>\n      <td>0</td>\n      <td>Afghanistan</td>\n      <td>None</td>\n    </tr>\n    <tr>\n      <th>2</th>\n      <td>AFG</td>\n      <td>1972</td>\n      <td>8</td>\n      <td>8</td>\n      <td>0</td>\n      <td>0</td>\n      <td>0</td>\n      <td>0</td>\n      <td>Afghanistan</td>\n      <td>None</td>\n    </tr>\n    <tr>\n      <th>3</th>\n      <td>AFG</td>\n      <td>1980</td>\n      <td>11</td>\n      <td>11</td>\n      <td>0</td>\n      <td>0</td>\n      <td>0</td>\n      <td>0</td>\n      <td>Afghanistan</td>\n      <td>None</td>\n    </tr>\n    <tr>\n      <th>4</th>\n      <td>AFG</td>\n      <td>1988</td>\n      <td>5</td>\n      <td>5</td>\n      <td>0</td>\n      <td>0</td>\n      <td>0</td>\n      <td>0</td>\n      <td>Afghanistan</td>\n      <td>None</td>\n    </tr>\n    <tr>\n      <th>...</th>\n      <td>...</td>\n      <td>...</td>\n      <td>...</td>\n      <td>...</td>\n      <td>...</td>\n      <td>...</td>\n      <td>...</td>\n      <td>...</td>\n      <td>...</td>\n      <td>...</td>\n    </tr>\n    <tr>\n      <th>2175</th>\n      <td>ZIM</td>\n      <td>2000</td>\n      <td>26</td>\n      <td>16</td>\n      <td>0</td>\n      <td>0</td>\n      <td>0</td>\n      <td>0</td>\n      <td>Zimbabwe</td>\n      <td>None</td>\n    </tr>\n    <tr>\n      <th>2176</th>\n      <td>ZIM</td>\n      <td>2004</td>\n      <td>14</td>\n      <td>12</td>\n      <td>1</td>\n      <td>1</td>\n      <td>1</td>\n      <td>3</td>\n      <td>Zimbabwe</td>\n      <td>None</td>\n    </tr>\n    <tr>\n      <th>2177</th>\n      <td>ZIM</td>\n      <td>2008</td>\n      <td>16</td>\n      <td>13</td>\n      <td>0</td>\n      <td>1</td>\n      <td>3</td>\n      <td>4</td>\n      <td>Zimbabwe</td>\n      <td>None</td>\n    </tr>\n    <tr>\n      <th>2178</th>\n      <td>ZIM</td>\n      <td>2012</td>\n      <td>9</td>\n      <td>7</td>\n      <td>0</td>\n      <td>0</td>\n      <td>0</td>\n      <td>0</td>\n      <td>Zimbabwe</td>\n      <td>None</td>\n    </tr>\n    <tr>\n      <th>2179</th>\n      <td>ZIM</td>\n      <td>2016</td>\n      <td>31</td>\n      <td>30</td>\n      <td>0</td>\n      <td>0</td>\n      <td>0</td>\n      <td>0</td>\n      <td>Zimbabwe</td>\n      <td>None</td>\n    </tr>\n  </tbody>\n</table>\n<p>2180 rows × 10 columns</p>\n</div>"
     },
     "metadata": {},
     "output_type": "display_data"
    }
   ],
   "source": [
    "# Read NOC table\n",
    "noc_df = pd.read_parquet(os.path.join(dataset_path, 'silver_noc.parquet'))\n",
    "gold_partecipants_df = gold_partecipants_df.merge(noc_df, on=['NOC'], how='left')\n",
    "gold_partecipants_df.fillna('Not Found')\n",
    "display(gold_partecipants_df)"
   ],
   "metadata": {
    "collapsed": false,
    "pycharm": {
     "name": "#%%\n"
    }
   }
  },
  {
   "cell_type": "code",
   "execution_count": 227,
   "outputs": [
    {
     "data": {
      "text/plain": "Empty DataFrame\nColumns: [NOC, Year, events_partecipations_no, distinct_athletes_no, Bronze, Gold, Silver, Total, region, notes]\nIndex: []",
      "text/html": "<div>\n<style scoped>\n    .dataframe tbody tr th:only-of-type {\n        vertical-align: middle;\n    }\n\n    .dataframe tbody tr th {\n        vertical-align: top;\n    }\n\n    .dataframe thead th {\n        text-align: right;\n    }\n</style>\n<table border=\"1\" class=\"dataframe\">\n  <thead>\n    <tr style=\"text-align: right;\">\n      <th></th>\n      <th>NOC</th>\n      <th>Year</th>\n      <th>events_partecipations_no</th>\n      <th>distinct_athletes_no</th>\n      <th>Bronze</th>\n      <th>Gold</th>\n      <th>Silver</th>\n      <th>Total</th>\n      <th>region</th>\n      <th>notes</th>\n    </tr>\n  </thead>\n  <tbody>\n  </tbody>\n</table>\n</div>"
     },
     "metadata": {},
     "output_type": "display_data"
    }
   ],
   "source": [
    "# Regions not found\n",
    "display(gold_partecipants_df.loc[gold_partecipants_df.region == 'Not Found'])\n"
   ],
   "metadata": {
    "collapsed": false,
    "pycharm": {
     "name": "#%%\n"
    }
   }
  },
  {
   "cell_type": "code",
   "execution_count": 228,
   "outputs": [
    {
     "data": {
      "text/plain": "      NOC  Year  events_partecipations_no  distinct_athletes_no  Bronze  Gold  \\\n0     AFG  1964                         8                     8       0     0   \n1     AFG  1968                         5                     5       0     0   \n2     AFG  1972                         8                     8       0     0   \n3     AFG  1980                        11                    11       0     0   \n4     AFG  1988                         5                     5       0     0   \n...   ...   ...                       ...                   ...     ...   ...   \n2175  ZIM  2000                        26                    16       0     0   \n2176  ZIM  2004                        14                    12       1     1   \n2177  ZIM  2008                        16                    13       0     1   \n2178  ZIM  2012                         9                     7       0     0   \n2179  ZIM  2016                        31                    30       0     0   \n\n      Silver  Total       region notes population_help  \n0          0      0  Afghanistan  None             AFG  \n1          0      0  Afghanistan  None             AFG  \n2          0      0  Afghanistan  None             AFG  \n3          0      0  Afghanistan  None             AFG  \n4          0      0  Afghanistan  None             AFG  \n...      ...    ...          ...   ...             ...  \n2175       0      0     Zimbabwe  None             ZIM  \n2176       1      3     Zimbabwe  None             ZIM  \n2177       3      4     Zimbabwe  None             ZIM  \n2178       0      0     Zimbabwe  None             ZIM  \n2179       0      0     Zimbabwe  None             ZIM  \n\n[2180 rows x 11 columns]",
      "text/html": "<div>\n<style scoped>\n    .dataframe tbody tr th:only-of-type {\n        vertical-align: middle;\n    }\n\n    .dataframe tbody tr th {\n        vertical-align: top;\n    }\n\n    .dataframe thead th {\n        text-align: right;\n    }\n</style>\n<table border=\"1\" class=\"dataframe\">\n  <thead>\n    <tr style=\"text-align: right;\">\n      <th></th>\n      <th>NOC</th>\n      <th>Year</th>\n      <th>events_partecipations_no</th>\n      <th>distinct_athletes_no</th>\n      <th>Bronze</th>\n      <th>Gold</th>\n      <th>Silver</th>\n      <th>Total</th>\n      <th>region</th>\n      <th>notes</th>\n      <th>population_help</th>\n    </tr>\n  </thead>\n  <tbody>\n    <tr>\n      <th>0</th>\n      <td>AFG</td>\n      <td>1964</td>\n      <td>8</td>\n      <td>8</td>\n      <td>0</td>\n      <td>0</td>\n      <td>0</td>\n      <td>0</td>\n      <td>Afghanistan</td>\n      <td>None</td>\n      <td>AFG</td>\n    </tr>\n    <tr>\n      <th>1</th>\n      <td>AFG</td>\n      <td>1968</td>\n      <td>5</td>\n      <td>5</td>\n      <td>0</td>\n      <td>0</td>\n      <td>0</td>\n      <td>0</td>\n      <td>Afghanistan</td>\n      <td>None</td>\n      <td>AFG</td>\n    </tr>\n    <tr>\n      <th>2</th>\n      <td>AFG</td>\n      <td>1972</td>\n      <td>8</td>\n      <td>8</td>\n      <td>0</td>\n      <td>0</td>\n      <td>0</td>\n      <td>0</td>\n      <td>Afghanistan</td>\n      <td>None</td>\n      <td>AFG</td>\n    </tr>\n    <tr>\n      <th>3</th>\n      <td>AFG</td>\n      <td>1980</td>\n      <td>11</td>\n      <td>11</td>\n      <td>0</td>\n      <td>0</td>\n      <td>0</td>\n      <td>0</td>\n      <td>Afghanistan</td>\n      <td>None</td>\n      <td>AFG</td>\n    </tr>\n    <tr>\n      <th>4</th>\n      <td>AFG</td>\n      <td>1988</td>\n      <td>5</td>\n      <td>5</td>\n      <td>0</td>\n      <td>0</td>\n      <td>0</td>\n      <td>0</td>\n      <td>Afghanistan</td>\n      <td>None</td>\n      <td>AFG</td>\n    </tr>\n    <tr>\n      <th>...</th>\n      <td>...</td>\n      <td>...</td>\n      <td>...</td>\n      <td>...</td>\n      <td>...</td>\n      <td>...</td>\n      <td>...</td>\n      <td>...</td>\n      <td>...</td>\n      <td>...</td>\n      <td>...</td>\n    </tr>\n    <tr>\n      <th>2175</th>\n      <td>ZIM</td>\n      <td>2000</td>\n      <td>26</td>\n      <td>16</td>\n      <td>0</td>\n      <td>0</td>\n      <td>0</td>\n      <td>0</td>\n      <td>Zimbabwe</td>\n      <td>None</td>\n      <td>ZIM</td>\n    </tr>\n    <tr>\n      <th>2176</th>\n      <td>ZIM</td>\n      <td>2004</td>\n      <td>14</td>\n      <td>12</td>\n      <td>1</td>\n      <td>1</td>\n      <td>1</td>\n      <td>3</td>\n      <td>Zimbabwe</td>\n      <td>None</td>\n      <td>ZIM</td>\n    </tr>\n    <tr>\n      <th>2177</th>\n      <td>ZIM</td>\n      <td>2008</td>\n      <td>16</td>\n      <td>13</td>\n      <td>0</td>\n      <td>1</td>\n      <td>3</td>\n      <td>4</td>\n      <td>Zimbabwe</td>\n      <td>None</td>\n      <td>ZIM</td>\n    </tr>\n    <tr>\n      <th>2178</th>\n      <td>ZIM</td>\n      <td>2012</td>\n      <td>9</td>\n      <td>7</td>\n      <td>0</td>\n      <td>0</td>\n      <td>0</td>\n      <td>0</td>\n      <td>Zimbabwe</td>\n      <td>None</td>\n      <td>ZIM</td>\n    </tr>\n    <tr>\n      <th>2179</th>\n      <td>ZIM</td>\n      <td>2016</td>\n      <td>31</td>\n      <td>30</td>\n      <td>0</td>\n      <td>0</td>\n      <td>0</td>\n      <td>0</td>\n      <td>Zimbabwe</td>\n      <td>None</td>\n      <td>ZIM</td>\n    </tr>\n  </tbody>\n</table>\n<p>2180 rows × 11 columns</p>\n</div>"
     },
     "metadata": {},
     "output_type": "display_data"
    }
   ],
   "source": [
    "# Column Temporary aide in population search\n",
    "gold_partecipants_df['population_help'] = gold_partecipants_df.NOC\n",
    "\n",
    "\n",
    "# Replacement countries needed for population fill\n",
    "# 'GDR' 'GER'\n",
    "# 'ROT'\n",
    "# 'VNM' 'VIE'\n",
    "# 'EUN' 'RUS'\n",
    "# 'YUG' 'SRB'\n",
    "# 'IOA'\n",
    "# 'URS' 'RUS'\n",
    "# 'FRG' 'GER'\n",
    "# 'YAR' 'YEM'\n",
    "# 'SCG' 'SRB'\n",
    "# 'TCH' 'CZE'\n",
    "# 'YMD' 'YEM'\n",
    "gold_partecipants_df['population_help'] = gold_partecipants_df['population_help'].replace(\n",
    "    to_replace=['GDR', 'VNM', 'EUN', 'YUG', 'URS', 'FRG', 'YAR', 'SCG', 'TCH', 'YMD'],\n",
    "    value=['GER', 'VIE', 'RUS','SRB', 'RUS',  'GER', 'YEM', 'SRB', 'CZE', 'YEM']\n",
    ")\n",
    "\n",
    "display(gold_partecipants_df)\n"
   ],
   "metadata": {
    "collapsed": false,
    "pycharm": {
     "name": "#%%\n"
    }
   }
  },
  {
   "cell_type": "code",
   "execution_count": 229,
   "outputs": [
    {
     "name": "stdout",
     "output_type": "stream",
     "text": [
      "<class 'pandas.core.frame.DataFrame'>\n",
      "Int64Index: 16409 entries, 2 to 16405\n",
      "Data columns (total 4 columns):\n",
      " #   Column        Non-Null Count  Dtype \n",
      "---  ------        --------------  ----- \n",
      " 0   Country Name  16409 non-null  object\n",
      " 1   Country Code  16409 non-null  object\n",
      " 2   Year          16409 non-null  int32 \n",
      " 3   Population    16306 non-null  Int64 \n",
      "dtypes: Int64(1), int32(1), object(2)\n",
      "memory usage: 592.9+ KB\n"
     ]
    }
   ],
   "source": [
    "# Load population data\n",
    "# From https://data.worldbank.org/indicator/SP.POP.TOTL\n",
    "# and https://population.un.org/wpp/Download/Standard/Population/\n",
    "population_df = pd.read_parquet(os.path.join(dataset_path, 'populations.parquet'))\n",
    "population_df.info()"
   ],
   "metadata": {
    "collapsed": false,
    "pycharm": {
     "name": "#%%\n"
    }
   }
  },
  {
   "cell_type": "code",
   "execution_count": 230,
   "outputs": [
    {
     "name": "stdout",
     "output_type": "stream",
     "text": [
      "{'GDR', 'ROT', 'VNM', 'EUN', 'YUG', 'IOA', 'URS', 'FRG', 'YAR', 'SCG', 'TCH', 'YMD'}\n"
     ]
    }
   ],
   "source": [
    "# Check distinct countries in population_df\n",
    "all_countries_codes = set(population_df['Country Code'])\n",
    "\n",
    "# All distinct countries in my olympics df\n",
    "all_olympics_codes = set(gold_partecipants_df.NOC)\n",
    "\n",
    "print(all_olympics_codes - all_countries_codes)"
   ],
   "metadata": {
    "collapsed": false,
    "pycharm": {
     "name": "#%%\n"
    }
   }
  },
  {
   "cell_type": "code",
   "execution_count": 231,
   "outputs": [
    {
     "data": {
      "text/plain": "                  Country Name  Population\nCountry Code Year                         \nAFG          1960  Afghanistan     8996967\n             1961  Afghanistan     9169406\n             1962  Afghanistan     9351442\n             1963  Afghanistan     9543200\n             1964  Afghanistan     9744772",
      "text/html": "<div>\n<style scoped>\n    .dataframe tbody tr th:only-of-type {\n        vertical-align: middle;\n    }\n\n    .dataframe tbody tr th {\n        vertical-align: top;\n    }\n\n    .dataframe thead th {\n        text-align: right;\n    }\n</style>\n<table border=\"1\" class=\"dataframe\">\n  <thead>\n    <tr style=\"text-align: right;\">\n      <th></th>\n      <th></th>\n      <th>Country Name</th>\n      <th>Population</th>\n    </tr>\n    <tr>\n      <th>Country Code</th>\n      <th>Year</th>\n      <th></th>\n      <th></th>\n    </tr>\n  </thead>\n  <tbody>\n    <tr>\n      <th rowspan=\"5\" valign=\"top\">AFG</th>\n      <th>1960</th>\n      <td>Afghanistan</td>\n      <td>8996967</td>\n    </tr>\n    <tr>\n      <th>1961</th>\n      <td>Afghanistan</td>\n      <td>9169406</td>\n    </tr>\n    <tr>\n      <th>1962</th>\n      <td>Afghanistan</td>\n      <td>9351442</td>\n    </tr>\n    <tr>\n      <th>1963</th>\n      <td>Afghanistan</td>\n      <td>9543200</td>\n    </tr>\n    <tr>\n      <th>1964</th>\n      <td>Afghanistan</td>\n      <td>9744772</td>\n    </tr>\n  </tbody>\n</table>\n</div>"
     },
     "metadata": {},
     "output_type": "display_data"
    }
   ],
   "source": [
    "population_df = population_df.set_index(['Country Code', 'Year'])\n",
    "display(population_df.head(5))"
   ],
   "metadata": {
    "collapsed": false,
    "pycharm": {
     "name": "#%%\n"
    }
   }
  },
  {
   "cell_type": "code",
   "execution_count": 232,
   "outputs": [
    {
     "data": {
      "text/plain": "(0       AFG\n 1       AFG\n 2       AFG\n 3       AFG\n 4       AFG\n        ... \n 2175    ZIM\n 2176    ZIM\n 2177    ZIM\n 2178    ZIM\n 2179    ZIM\n Name: NOC, Length: 2180, dtype: object,\n 0       1964\n 1       1968\n 2       1972\n 3       1980\n 4       1988\n         ... \n 2175    2000\n 2176    2004\n 2177    2008\n 2178    2012\n 2179    2016\n Name: Year, Length: 2180, dtype: int64)"
     },
     "metadata": {},
     "output_type": "display_data"
    }
   ],
   "source": [
    "display((gold_partecipants_df.NOC, gold_partecipants_df.Year))\n",
    "\n",
    "# Fill population\n",
    "test_pop = population_df.loc[(gold_partecipants_df.NOC, gold_partecipants_df.Year.astype(int)), 'Population'].reset_index()\n",
    "gold_partecipants_df = gold_partecipants_df.merge(test_pop, left_on=['population_help', 'Year'], right_on=['Country Code', 'Year'], how='left')\n",
    "gold_partecipants_df = gold_partecipants_df.drop(columns=['population_help', 'notes', 'Country Code'])\n",
    "gold_partecipants_df = gold_partecipants_df.dropna(subset=['Population'])\n",
    "gold_partecipants_df = gold_partecipants_df.loc[gold_partecipants_df.Total>0]\n",
    "gold_partecipants_df = gold_partecipants_df.assign(\n",
    "    PopulationPerMedal_thousands = np.divide(gold_partecipants_df.Population/1000, gold_partecipants_df.Total) )\n",
    "gold_partecipants_df = gold_partecipants_df.assign(\n",
    "    EventPartecipationPerMedal = np.divide(gold_partecipants_df.events_partecipations_no, gold_partecipants_df.Total) )\n",
    "gold_partecipants_df = gold_partecipants_df.assign(\n",
    "    AthletePerMedal = np.divide(gold_partecipants_df.distinct_athletes_no, gold_partecipants_df.Total) )\n",
    "gold_partecipants_df = gold_partecipants_df.assign(\n",
    "    AthletePerEventPartecipation = np.divide(gold_partecipants_df.distinct_athletes_no, gold_partecipants_df.events_partecipations_no) )"
   ],
   "metadata": {
    "collapsed": false,
    "pycharm": {
     "name": "#%%\n"
    }
   }
  },
  {
   "cell_type": "code",
   "execution_count": 233,
   "outputs": [
    {
     "data": {
      "text/plain": "       events_partecipations_no  distinct_athletes_no      Bronze        Gold  \\\ncount                861.000000            861.000000  861.000000  861.000000   \nmean                 162.288037            119.869919    4.441347    3.996516   \nstd                  164.983912            119.404391    6.834275    8.565275   \nmin                    3.000000              3.000000    0.000000    0.000000   \n25%                   43.000000             36.000000    1.000000    0.000000   \n50%                   95.000000             74.000000    2.000000    1.000000   \n75%                  232.000000            163.000000    5.000000    4.000000   \nmax                  839.000000            648.000000   46.000000   82.000000   \n\n           Silver       Total    Population  PopulationPerMedal_thousands  \\\ncount  861.000000  861.000000  8.610000e+02                  8.610000e+02   \nmean     3.982578   12.420441  5.759738e+07                  1.661976e+04   \nstd      7.022451   21.663220  1.654930e+08                  7.955359e+04   \nmin      0.000000    1.000000  5.320000e+04                  5.024067e+01   \n25%      0.000000    2.000000  5.591572e+06                  1.012278e+03   \n50%      1.000000    4.000000  1.476009e+07                  2.463843e+03   \n75%      4.000000   13.000000  4.923058e+07                  9.222692e+03   \nmax     69.000000  195.000000  1.378665e+09                  1.129623e+06   \n\n       EventPartecipationPerMedal  AthletePerMedal  \\\ncount                  861.000000       861.000000   \nmean                    25.607903        19.748040   \nstd                     24.845350        18.492840   \nmin                      2.800000         2.384615   \n25%                     11.560000         8.684211   \n50%                     18.000000        14.142857   \n75%                     31.000000        24.000000   \nmax                    281.000000       174.000000   \n\n       AthletePerEventPartecipation  \ncount                    861.000000  \nmean                       0.785246  \nstd                        0.119667  \nmin                        0.355263  \n25%                        0.713287  \n50%                        0.785571  \n75%                        0.870370  \nmax                        1.000000  ",
      "text/html": "<div>\n<style scoped>\n    .dataframe tbody tr th:only-of-type {\n        vertical-align: middle;\n    }\n\n    .dataframe tbody tr th {\n        vertical-align: top;\n    }\n\n    .dataframe thead th {\n        text-align: right;\n    }\n</style>\n<table border=\"1\" class=\"dataframe\">\n  <thead>\n    <tr style=\"text-align: right;\">\n      <th></th>\n      <th>events_partecipations_no</th>\n      <th>distinct_athletes_no</th>\n      <th>Bronze</th>\n      <th>Gold</th>\n      <th>Silver</th>\n      <th>Total</th>\n      <th>Population</th>\n      <th>PopulationPerMedal_thousands</th>\n      <th>EventPartecipationPerMedal</th>\n      <th>AthletePerMedal</th>\n      <th>AthletePerEventPartecipation</th>\n    </tr>\n  </thead>\n  <tbody>\n    <tr>\n      <th>count</th>\n      <td>861.000000</td>\n      <td>861.000000</td>\n      <td>861.000000</td>\n      <td>861.000000</td>\n      <td>861.000000</td>\n      <td>861.000000</td>\n      <td>8.610000e+02</td>\n      <td>8.610000e+02</td>\n      <td>861.000000</td>\n      <td>861.000000</td>\n      <td>861.000000</td>\n    </tr>\n    <tr>\n      <th>mean</th>\n      <td>162.288037</td>\n      <td>119.869919</td>\n      <td>4.441347</td>\n      <td>3.996516</td>\n      <td>3.982578</td>\n      <td>12.420441</td>\n      <td>5.759738e+07</td>\n      <td>1.661976e+04</td>\n      <td>25.607903</td>\n      <td>19.748040</td>\n      <td>0.785246</td>\n    </tr>\n    <tr>\n      <th>std</th>\n      <td>164.983912</td>\n      <td>119.404391</td>\n      <td>6.834275</td>\n      <td>8.565275</td>\n      <td>7.022451</td>\n      <td>21.663220</td>\n      <td>1.654930e+08</td>\n      <td>7.955359e+04</td>\n      <td>24.845350</td>\n      <td>18.492840</td>\n      <td>0.119667</td>\n    </tr>\n    <tr>\n      <th>min</th>\n      <td>3.000000</td>\n      <td>3.000000</td>\n      <td>0.000000</td>\n      <td>0.000000</td>\n      <td>0.000000</td>\n      <td>1.000000</td>\n      <td>5.320000e+04</td>\n      <td>5.024067e+01</td>\n      <td>2.800000</td>\n      <td>2.384615</td>\n      <td>0.355263</td>\n    </tr>\n    <tr>\n      <th>25%</th>\n      <td>43.000000</td>\n      <td>36.000000</td>\n      <td>1.000000</td>\n      <td>0.000000</td>\n      <td>0.000000</td>\n      <td>2.000000</td>\n      <td>5.591572e+06</td>\n      <td>1.012278e+03</td>\n      <td>11.560000</td>\n      <td>8.684211</td>\n      <td>0.713287</td>\n    </tr>\n    <tr>\n      <th>50%</th>\n      <td>95.000000</td>\n      <td>74.000000</td>\n      <td>2.000000</td>\n      <td>1.000000</td>\n      <td>1.000000</td>\n      <td>4.000000</td>\n      <td>1.476009e+07</td>\n      <td>2.463843e+03</td>\n      <td>18.000000</td>\n      <td>14.142857</td>\n      <td>0.785571</td>\n    </tr>\n    <tr>\n      <th>75%</th>\n      <td>232.000000</td>\n      <td>163.000000</td>\n      <td>5.000000</td>\n      <td>4.000000</td>\n      <td>4.000000</td>\n      <td>13.000000</td>\n      <td>4.923058e+07</td>\n      <td>9.222692e+03</td>\n      <td>31.000000</td>\n      <td>24.000000</td>\n      <td>0.870370</td>\n    </tr>\n    <tr>\n      <th>max</th>\n      <td>839.000000</td>\n      <td>648.000000</td>\n      <td>46.000000</td>\n      <td>82.000000</td>\n      <td>69.000000</td>\n      <td>195.000000</td>\n      <td>1.378665e+09</td>\n      <td>1.129623e+06</td>\n      <td>281.000000</td>\n      <td>174.000000</td>\n      <td>1.000000</td>\n    </tr>\n  </tbody>\n</table>\n</div>"
     },
     "execution_count": 233,
     "metadata": {},
     "output_type": "execute_result"
    }
   ],
   "source": [
    "gold_partecipants_df.drop(columns='Year').describe()"
   ],
   "metadata": {
    "collapsed": false,
    "pycharm": {
     "name": "#%%\n"
    }
   }
  },
  {
   "cell_type": "code",
   "execution_count": 234,
   "outputs": [
    {
     "name": "stdout",
     "output_type": "stream",
     "text": [
      "Gold:\n"
     ]
    },
    {
     "data": {
      "text/plain": "      NOC  Year  events_partecipations_no  distinct_athletes_no  Bronze  Gold  \\\n2082  USA  1984                       693                   522      30    82   \n2063  URS  1980                       660                   489      46    80   \n2064  URS  1988                       647                   481      46    54   \n410   CHN  2008                       730                   599      28    51   \n2061  URS  1972                       531                   371      22    50   \n\n      Silver  Total         region  Population  PopulationPerMedal_thousands  \\\n2082      61    173  United States   235825000                   1363.150289   \n2063      69    195         Russia   139010000                    712.871795   \n2064      31    131         Russia   146857000                   1121.045802   \n410       21    100          China  1324655000                      13246.55   \n2061      27     99         Russia   131909000                   1332.414141   \n\n      EventPartecipationPerMedal  AthletePerMedal  \\\n2082                    4.005780         3.017341   \n2063                    3.384615         2.507692   \n2064                    4.938931         3.671756   \n410                     7.300000         5.990000   \n2061                    5.363636         3.747475   \n\n      AthletePerEventPartecipation  \n2082                      0.753247  \n2063                      0.740909  \n2064                      0.743431  \n410                       0.820548  \n2061                      0.698682  ",
      "text/html": "<div>\n<style scoped>\n    .dataframe tbody tr th:only-of-type {\n        vertical-align: middle;\n    }\n\n    .dataframe tbody tr th {\n        vertical-align: top;\n    }\n\n    .dataframe thead th {\n        text-align: right;\n    }\n</style>\n<table border=\"1\" class=\"dataframe\">\n  <thead>\n    <tr style=\"text-align: right;\">\n      <th></th>\n      <th>NOC</th>\n      <th>Year</th>\n      <th>events_partecipations_no</th>\n      <th>distinct_athletes_no</th>\n      <th>Bronze</th>\n      <th>Gold</th>\n      <th>Silver</th>\n      <th>Total</th>\n      <th>region</th>\n      <th>Population</th>\n      <th>PopulationPerMedal_thousands</th>\n      <th>EventPartecipationPerMedal</th>\n      <th>AthletePerMedal</th>\n      <th>AthletePerEventPartecipation</th>\n    </tr>\n  </thead>\n  <tbody>\n    <tr>\n      <th>2082</th>\n      <td>USA</td>\n      <td>1984</td>\n      <td>693</td>\n      <td>522</td>\n      <td>30</td>\n      <td>82</td>\n      <td>61</td>\n      <td>173</td>\n      <td>United States</td>\n      <td>235825000</td>\n      <td>1363.150289</td>\n      <td>4.005780</td>\n      <td>3.017341</td>\n      <td>0.753247</td>\n    </tr>\n    <tr>\n      <th>2063</th>\n      <td>URS</td>\n      <td>1980</td>\n      <td>660</td>\n      <td>489</td>\n      <td>46</td>\n      <td>80</td>\n      <td>69</td>\n      <td>195</td>\n      <td>Russia</td>\n      <td>139010000</td>\n      <td>712.871795</td>\n      <td>3.384615</td>\n      <td>2.507692</td>\n      <td>0.740909</td>\n    </tr>\n    <tr>\n      <th>2064</th>\n      <td>URS</td>\n      <td>1988</td>\n      <td>647</td>\n      <td>481</td>\n      <td>46</td>\n      <td>54</td>\n      <td>31</td>\n      <td>131</td>\n      <td>Russia</td>\n      <td>146857000</td>\n      <td>1121.045802</td>\n      <td>4.938931</td>\n      <td>3.671756</td>\n      <td>0.743431</td>\n    </tr>\n    <tr>\n      <th>410</th>\n      <td>CHN</td>\n      <td>2008</td>\n      <td>730</td>\n      <td>599</td>\n      <td>28</td>\n      <td>51</td>\n      <td>21</td>\n      <td>100</td>\n      <td>China</td>\n      <td>1324655000</td>\n      <td>13246.55</td>\n      <td>7.300000</td>\n      <td>5.990000</td>\n      <td>0.820548</td>\n    </tr>\n    <tr>\n      <th>2061</th>\n      <td>URS</td>\n      <td>1972</td>\n      <td>531</td>\n      <td>371</td>\n      <td>22</td>\n      <td>50</td>\n      <td>27</td>\n      <td>99</td>\n      <td>Russia</td>\n      <td>131909000</td>\n      <td>1332.414141</td>\n      <td>5.363636</td>\n      <td>3.747475</td>\n      <td>0.698682</td>\n    </tr>\n  </tbody>\n</table>\n</div>"
     },
     "metadata": {},
     "output_type": "display_data"
    },
    {
     "name": "stdout",
     "output_type": "stream",
     "text": [
      "Silver:\n"
     ]
    },
    {
     "data": {
      "text/plain": "      NOC  Year  events_partecipations_no  distinct_athletes_no  Bronze  Gold  \\\n2063  URS  1980                       660                   489      46    80   \n2082  USA  1984                       693                   522      30    82   \n2062  URS  1976                       574                   410      35    49   \n2088  USA  2008                       763                   588      35    36   \n2087  USA  2004                       726                   533      26    36   \n\n      Silver  Total         region  Population  PopulationPerMedal_thousands  \\\n2063      69    195         Russia   139010000                    712.871795   \n2082      61    173  United States   235825000                   1363.150289   \n2062      41    125         Russia   135147000                      1081.176   \n2088      39    110  United States   304093966                     2764.4906   \n2087      39    101  United States   292805298                   2899.062356   \n\n      EventPartecipationPerMedal  AthletePerMedal  \\\n2063                    3.384615         2.507692   \n2082                    4.005780         3.017341   \n2062                    4.592000         3.280000   \n2088                    6.936364         5.345455   \n2087                    7.188119         5.277228   \n\n      AthletePerEventPartecipation  \n2063                      0.740909  \n2082                      0.753247  \n2062                      0.714286  \n2088                      0.770642  \n2087                      0.734160  ",
      "text/html": "<div>\n<style scoped>\n    .dataframe tbody tr th:only-of-type {\n        vertical-align: middle;\n    }\n\n    .dataframe tbody tr th {\n        vertical-align: top;\n    }\n\n    .dataframe thead th {\n        text-align: right;\n    }\n</style>\n<table border=\"1\" class=\"dataframe\">\n  <thead>\n    <tr style=\"text-align: right;\">\n      <th></th>\n      <th>NOC</th>\n      <th>Year</th>\n      <th>events_partecipations_no</th>\n      <th>distinct_athletes_no</th>\n      <th>Bronze</th>\n      <th>Gold</th>\n      <th>Silver</th>\n      <th>Total</th>\n      <th>region</th>\n      <th>Population</th>\n      <th>PopulationPerMedal_thousands</th>\n      <th>EventPartecipationPerMedal</th>\n      <th>AthletePerMedal</th>\n      <th>AthletePerEventPartecipation</th>\n    </tr>\n  </thead>\n  <tbody>\n    <tr>\n      <th>2063</th>\n      <td>URS</td>\n      <td>1980</td>\n      <td>660</td>\n      <td>489</td>\n      <td>46</td>\n      <td>80</td>\n      <td>69</td>\n      <td>195</td>\n      <td>Russia</td>\n      <td>139010000</td>\n      <td>712.871795</td>\n      <td>3.384615</td>\n      <td>2.507692</td>\n      <td>0.740909</td>\n    </tr>\n    <tr>\n      <th>2082</th>\n      <td>USA</td>\n      <td>1984</td>\n      <td>693</td>\n      <td>522</td>\n      <td>30</td>\n      <td>82</td>\n      <td>61</td>\n      <td>173</td>\n      <td>United States</td>\n      <td>235825000</td>\n      <td>1363.150289</td>\n      <td>4.005780</td>\n      <td>3.017341</td>\n      <td>0.753247</td>\n    </tr>\n    <tr>\n      <th>2062</th>\n      <td>URS</td>\n      <td>1976</td>\n      <td>574</td>\n      <td>410</td>\n      <td>35</td>\n      <td>49</td>\n      <td>41</td>\n      <td>125</td>\n      <td>Russia</td>\n      <td>135147000</td>\n      <td>1081.176</td>\n      <td>4.592000</td>\n      <td>3.280000</td>\n      <td>0.714286</td>\n    </tr>\n    <tr>\n      <th>2088</th>\n      <td>USA</td>\n      <td>2008</td>\n      <td>763</td>\n      <td>588</td>\n      <td>35</td>\n      <td>36</td>\n      <td>39</td>\n      <td>110</td>\n      <td>United States</td>\n      <td>304093966</td>\n      <td>2764.4906</td>\n      <td>6.936364</td>\n      <td>5.345455</td>\n      <td>0.770642</td>\n    </tr>\n    <tr>\n      <th>2087</th>\n      <td>USA</td>\n      <td>2004</td>\n      <td>726</td>\n      <td>533</td>\n      <td>26</td>\n      <td>36</td>\n      <td>39</td>\n      <td>101</td>\n      <td>United States</td>\n      <td>292805298</td>\n      <td>2899.062356</td>\n      <td>7.188119</td>\n      <td>5.277228</td>\n      <td>0.734160</td>\n    </tr>\n  </tbody>\n</table>\n</div>"
     },
     "metadata": {},
     "output_type": "display_data"
    },
    {
     "name": "stdout",
     "output_type": "stream",
     "text": [
      "Bronze:\n"
     ]
    },
    {
     "data": {
      "text/plain": "      NOC  Year  events_partecipations_no  distinct_athletes_no  Bronze  Gold  \\\n2064  URS  1988                       647                   481      46    54   \n2063  URS  1980                       660                   489      46    80   \n742   GDR  1980                       495                   346      42    47   \n2090  USA  2016                       719                   555      38    46   \n2084  USA  1992                       734                   545      37    37   \n\n      Silver  Total         region  Population  PopulationPerMedal_thousands  \\\n2064      31    131         Russia   146857000                   1121.045802   \n2063      69    195         Russia   139010000                    712.871795   \n742       37    126        Germany    78288576                    621.337905   \n2090      37    121  United States   323071755                   2670.014504   \n2084      34    108  United States   256514000                    2375.12963   \n\n      EventPartecipationPerMedal  AthletePerMedal  \\\n2064                    4.938931         3.671756   \n2063                    3.384615         2.507692   \n742                     3.928571         2.746032   \n2090                    5.942149         4.586777   \n2084                    6.796296         5.046296   \n\n      AthletePerEventPartecipation  \n2064                      0.743431  \n2063                      0.740909  \n742                       0.698990  \n2090                      0.771905  \n2084                      0.742507  ",
      "text/html": "<div>\n<style scoped>\n    .dataframe tbody tr th:only-of-type {\n        vertical-align: middle;\n    }\n\n    .dataframe tbody tr th {\n        vertical-align: top;\n    }\n\n    .dataframe thead th {\n        text-align: right;\n    }\n</style>\n<table border=\"1\" class=\"dataframe\">\n  <thead>\n    <tr style=\"text-align: right;\">\n      <th></th>\n      <th>NOC</th>\n      <th>Year</th>\n      <th>events_partecipations_no</th>\n      <th>distinct_athletes_no</th>\n      <th>Bronze</th>\n      <th>Gold</th>\n      <th>Silver</th>\n      <th>Total</th>\n      <th>region</th>\n      <th>Population</th>\n      <th>PopulationPerMedal_thousands</th>\n      <th>EventPartecipationPerMedal</th>\n      <th>AthletePerMedal</th>\n      <th>AthletePerEventPartecipation</th>\n    </tr>\n  </thead>\n  <tbody>\n    <tr>\n      <th>2064</th>\n      <td>URS</td>\n      <td>1988</td>\n      <td>647</td>\n      <td>481</td>\n      <td>46</td>\n      <td>54</td>\n      <td>31</td>\n      <td>131</td>\n      <td>Russia</td>\n      <td>146857000</td>\n      <td>1121.045802</td>\n      <td>4.938931</td>\n      <td>3.671756</td>\n      <td>0.743431</td>\n    </tr>\n    <tr>\n      <th>2063</th>\n      <td>URS</td>\n      <td>1980</td>\n      <td>660</td>\n      <td>489</td>\n      <td>46</td>\n      <td>80</td>\n      <td>69</td>\n      <td>195</td>\n      <td>Russia</td>\n      <td>139010000</td>\n      <td>712.871795</td>\n      <td>3.384615</td>\n      <td>2.507692</td>\n      <td>0.740909</td>\n    </tr>\n    <tr>\n      <th>742</th>\n      <td>GDR</td>\n      <td>1980</td>\n      <td>495</td>\n      <td>346</td>\n      <td>42</td>\n      <td>47</td>\n      <td>37</td>\n      <td>126</td>\n      <td>Germany</td>\n      <td>78288576</td>\n      <td>621.337905</td>\n      <td>3.928571</td>\n      <td>2.746032</td>\n      <td>0.698990</td>\n    </tr>\n    <tr>\n      <th>2090</th>\n      <td>USA</td>\n      <td>2016</td>\n      <td>719</td>\n      <td>555</td>\n      <td>38</td>\n      <td>46</td>\n      <td>37</td>\n      <td>121</td>\n      <td>United States</td>\n      <td>323071755</td>\n      <td>2670.014504</td>\n      <td>5.942149</td>\n      <td>4.586777</td>\n      <td>0.771905</td>\n    </tr>\n    <tr>\n      <th>2084</th>\n      <td>USA</td>\n      <td>1992</td>\n      <td>734</td>\n      <td>545</td>\n      <td>37</td>\n      <td>37</td>\n      <td>34</td>\n      <td>108</td>\n      <td>United States</td>\n      <td>256514000</td>\n      <td>2375.12963</td>\n      <td>6.796296</td>\n      <td>5.046296</td>\n      <td>0.742507</td>\n    </tr>\n  </tbody>\n</table>\n</div>"
     },
     "metadata": {},
     "output_type": "display_data"
    },
    {
     "name": "stdout",
     "output_type": "stream",
     "text": [
      "Total:\n"
     ]
    },
    {
     "data": {
      "text/plain": "      NOC  Year  events_partecipations_no  distinct_athletes_no  Bronze  Gold  \\\n2063  URS  1980                       660                   489      46    80   \n2082  USA  1984                       693                   522      30    82   \n2064  URS  1988                       647                   481      46    54   \n742   GDR  1980                       495                   346      42    47   \n2062  URS  1976                       574                   410      35    49   \n\n      Silver  Total         region  Population  PopulationPerMedal_thousands  \\\n2063      69    195         Russia   139010000                    712.871795   \n2082      61    173  United States   235825000                   1363.150289   \n2064      31    131         Russia   146857000                   1121.045802   \n742       37    126        Germany    78288576                    621.337905   \n2062      41    125         Russia   135147000                      1081.176   \n\n      EventPartecipationPerMedal  AthletePerMedal  \\\n2063                    3.384615         2.507692   \n2082                    4.005780         3.017341   \n2064                    4.938931         3.671756   \n742                     3.928571         2.746032   \n2062                    4.592000         3.280000   \n\n      AthletePerEventPartecipation  \n2063                      0.740909  \n2082                      0.753247  \n2064                      0.743431  \n742                       0.698990  \n2062                      0.714286  ",
      "text/html": "<div>\n<style scoped>\n    .dataframe tbody tr th:only-of-type {\n        vertical-align: middle;\n    }\n\n    .dataframe tbody tr th {\n        vertical-align: top;\n    }\n\n    .dataframe thead th {\n        text-align: right;\n    }\n</style>\n<table border=\"1\" class=\"dataframe\">\n  <thead>\n    <tr style=\"text-align: right;\">\n      <th></th>\n      <th>NOC</th>\n      <th>Year</th>\n      <th>events_partecipations_no</th>\n      <th>distinct_athletes_no</th>\n      <th>Bronze</th>\n      <th>Gold</th>\n      <th>Silver</th>\n      <th>Total</th>\n      <th>region</th>\n      <th>Population</th>\n      <th>PopulationPerMedal_thousands</th>\n      <th>EventPartecipationPerMedal</th>\n      <th>AthletePerMedal</th>\n      <th>AthletePerEventPartecipation</th>\n    </tr>\n  </thead>\n  <tbody>\n    <tr>\n      <th>2063</th>\n      <td>URS</td>\n      <td>1980</td>\n      <td>660</td>\n      <td>489</td>\n      <td>46</td>\n      <td>80</td>\n      <td>69</td>\n      <td>195</td>\n      <td>Russia</td>\n      <td>139010000</td>\n      <td>712.871795</td>\n      <td>3.384615</td>\n      <td>2.507692</td>\n      <td>0.740909</td>\n    </tr>\n    <tr>\n      <th>2082</th>\n      <td>USA</td>\n      <td>1984</td>\n      <td>693</td>\n      <td>522</td>\n      <td>30</td>\n      <td>82</td>\n      <td>61</td>\n      <td>173</td>\n      <td>United States</td>\n      <td>235825000</td>\n      <td>1363.150289</td>\n      <td>4.005780</td>\n      <td>3.017341</td>\n      <td>0.753247</td>\n    </tr>\n    <tr>\n      <th>2064</th>\n      <td>URS</td>\n      <td>1988</td>\n      <td>647</td>\n      <td>481</td>\n      <td>46</td>\n      <td>54</td>\n      <td>31</td>\n      <td>131</td>\n      <td>Russia</td>\n      <td>146857000</td>\n      <td>1121.045802</td>\n      <td>4.938931</td>\n      <td>3.671756</td>\n      <td>0.743431</td>\n    </tr>\n    <tr>\n      <th>742</th>\n      <td>GDR</td>\n      <td>1980</td>\n      <td>495</td>\n      <td>346</td>\n      <td>42</td>\n      <td>47</td>\n      <td>37</td>\n      <td>126</td>\n      <td>Germany</td>\n      <td>78288576</td>\n      <td>621.337905</td>\n      <td>3.928571</td>\n      <td>2.746032</td>\n      <td>0.698990</td>\n    </tr>\n    <tr>\n      <th>2062</th>\n      <td>URS</td>\n      <td>1976</td>\n      <td>574</td>\n      <td>410</td>\n      <td>35</td>\n      <td>49</td>\n      <td>41</td>\n      <td>125</td>\n      <td>Russia</td>\n      <td>135147000</td>\n      <td>1081.176</td>\n      <td>4.592000</td>\n      <td>3.280000</td>\n      <td>0.714286</td>\n    </tr>\n  </tbody>\n</table>\n</div>"
     },
     "metadata": {},
     "output_type": "display_data"
    }
   ],
   "source": [
    "print('Gold:')\n",
    "display(gold_partecipants_df.sort_values(by='Gold', ascending=False).head(5))\n",
    "print('Silver:')\n",
    "display(gold_partecipants_df.sort_values(by='Silver', ascending=False).head(5))\n",
    "print('Bronze:')\n",
    "display(gold_partecipants_df.sort_values(by='Bronze', ascending=False).head(5))\n",
    "print('Total:')\n",
    "display(gold_partecipants_df.sort_values(by='Total', ascending=False).head(5))\n"
   ],
   "metadata": {
    "collapsed": false,
    "pycharm": {
     "name": "#%%\n"
    }
   }
  },
  {
   "cell_type": "code",
   "execution_count": 235,
   "outputs": [
    {
     "name": "stdout",
     "output_type": "stream",
     "text": [
      "<class 'pandas.core.frame.DataFrame'>\n",
      "Int64Index: 861 entries, 7 to 2177\n",
      "Data columns (total 14 columns):\n",
      " #   Column                        Non-Null Count  Dtype  \n",
      "---  ------                        --------------  -----  \n",
      " 0   NOC                           861 non-null    object \n",
      " 1   Year                          861 non-null    int64  \n",
      " 2   events_partecipations_no      861 non-null    int64  \n",
      " 3   distinct_athletes_no          861 non-null    int64  \n",
      " 4   Bronze                        861 non-null    int32  \n",
      " 5   Gold                          861 non-null    int32  \n",
      " 6   Silver                        861 non-null    int32  \n",
      " 7   Total                         861 non-null    int32  \n",
      " 8   region                        858 non-null    object \n",
      " 9   Population                    861 non-null    Int64  \n",
      " 10  PopulationPerMedal_thousands  861 non-null    Float64\n",
      " 11  EventPartecipationPerMedal    861 non-null    float64\n",
      " 12  AthletePerMedal               861 non-null    float64\n",
      " 13  AthletePerEventPartecipation  861 non-null    float64\n",
      "dtypes: Float64(1), Int64(1), float64(3), int32(4), int64(3), object(2)\n",
      "memory usage: 89.1+ KB\n"
     ]
    }
   ],
   "source": [
    "gold_partecipants_df.info()\n",
    "gold_partecipants_df.to_parquet(os.path.join(dataset_path, 'gold_partecipants.parquet'))\n"
   ],
   "metadata": {
    "collapsed": false,
    "pycharm": {
     "name": "#%%\n"
    }
   }
  }
 ],
 "metadata": {
  "kernelspec": {
   "display_name": "Python 3",
   "language": "python",
   "name": "python3"
  },
  "language_info": {
   "codemirror_mode": {
    "name": "ipython",
    "version": 2
   },
   "file_extension": ".py",
   "mimetype": "text/x-python",
   "name": "python",
   "nbconvert_exporter": "python",
   "pygments_lexer": "ipython2",
   "version": "2.7.6"
  }
 },
 "nbformat": 4,
 "nbformat_minor": 0
}