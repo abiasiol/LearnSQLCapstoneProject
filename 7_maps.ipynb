{
 "cells": [
  {
   "cell_type": "code",
   "execution_count": 208,
   "metadata": {
    "collapsed": true
   },
   "outputs": [],
   "source": [
    "import pandas as pd\n",
    "import os\n",
    "from IPython.display import display\n",
    "from pandasql import sqldf\n",
    "import numpy as np\n",
    "import plotly.express as px\n",
    "import plotly.graph_objects as go\n",
    "dataset_path = 'dataset'\n",
    "pysqldf = lambda q: sqldf(q, globals())\n",
    "\n",
    "\n",
    "gold_df = pd.read_parquet(os.path.join(dataset_path, 'gold_partecipants.parquet'))\n",
    "gold_df['population_display'] = gold_df['Population'].map('{:,}'.format)\n",
    "\n"
   ]
  },
  {
   "cell_type": "code",
   "execution_count": 209,
   "outputs": [],
   "source": [
    "def get_display_customdata(df):\n",
    "    display = '<extra>'+ df.alpha_3 + '</extra><b>' + df.iso_names + ' (' + df.Year.astype(str) + ')</b><br><br>Medals:' + \\\n",
    "                         '<br>Gold: ' + df.Gold.astype(str) + \\\n",
    "                        '<br>Silver: ' + df.Silver.astype(str) + \\\n",
    "                        '<br>Bronze: ' + df.Bronze.astype(str) + \\\n",
    "                        '<br><br>Total medals collected: ' + df.TotalMedals.astype(str) + \\\n",
    "                        '<br>Partecipated to ' + \\\n",
    "                         df.events_partecipations_no.astype(str) + \\\n",
    "                        ' events with ' + df.distinct_athletes_no.astype(str) + ' athletes' + \\\n",
    "                        '<br><br>Country population: ' + df.population_display.astype(str)\n",
    "    return display\n"
   ],
   "metadata": {
    "collapsed": false,
    "pycharm": {
     "name": "#%%\n"
    }
   }
  },
  {
   "cell_type": "code",
   "execution_count": 210,
   "outputs": [
    {
     "data": {
      "text/plain": "   NOC  Year  events_partecipations_no  distinct_athletes_no  Bronze  Gold  \\\n0  AFG  1964                         8                     8       0     0   \n1  AFG  1968                         5                     5       0     0   \n2  AFG  1972                         8                     8       0     0   \n\n   NoMedal  Silver  TotalPartecipants  TotalMedals       region alpha_3  \\\n0        8       0                  8            0  Afghanistan     AFG   \n1        5       0                  5            0  Afghanistan     AFG   \n2        8       0                  8            0  Afghanistan     AFG   \n\n     iso_names  Population population_display  \\\n0  Afghanistan     9744772          9,744,772   \n1  Afghanistan    10637064         10,637,064   \n2  Afghanistan    11791222         11,791,222   \n\n                                             display  \n0  <extra>AFG</extra><b>Afghanistan (1964)</b><br...  \n1  <extra>AFG</extra><b>Afghanistan (1968)</b><br...  \n2  <extra>AFG</extra><b>Afghanistan (1972)</b><br...  ",
      "text/html": "<div>\n<style scoped>\n    .dataframe tbody tr th:only-of-type {\n        vertical-align: middle;\n    }\n\n    .dataframe tbody tr th {\n        vertical-align: top;\n    }\n\n    .dataframe thead th {\n        text-align: right;\n    }\n</style>\n<table border=\"1\" class=\"dataframe\">\n  <thead>\n    <tr style=\"text-align: right;\">\n      <th></th>\n      <th>NOC</th>\n      <th>Year</th>\n      <th>events_partecipations_no</th>\n      <th>distinct_athletes_no</th>\n      <th>Bronze</th>\n      <th>Gold</th>\n      <th>NoMedal</th>\n      <th>Silver</th>\n      <th>TotalPartecipants</th>\n      <th>TotalMedals</th>\n      <th>region</th>\n      <th>alpha_3</th>\n      <th>iso_names</th>\n      <th>Population</th>\n      <th>population_display</th>\n      <th>display</th>\n    </tr>\n  </thead>\n  <tbody>\n    <tr>\n      <th>0</th>\n      <td>AFG</td>\n      <td>1964</td>\n      <td>8</td>\n      <td>8</td>\n      <td>0</td>\n      <td>0</td>\n      <td>8</td>\n      <td>0</td>\n      <td>8</td>\n      <td>0</td>\n      <td>Afghanistan</td>\n      <td>AFG</td>\n      <td>Afghanistan</td>\n      <td>9744772</td>\n      <td>9,744,772</td>\n      <td>&lt;extra&gt;AFG&lt;/extra&gt;&lt;b&gt;Afghanistan (1964)&lt;/b&gt;&lt;br...</td>\n    </tr>\n    <tr>\n      <th>1</th>\n      <td>AFG</td>\n      <td>1968</td>\n      <td>5</td>\n      <td>5</td>\n      <td>0</td>\n      <td>0</td>\n      <td>5</td>\n      <td>0</td>\n      <td>5</td>\n      <td>0</td>\n      <td>Afghanistan</td>\n      <td>AFG</td>\n      <td>Afghanistan</td>\n      <td>10637064</td>\n      <td>10,637,064</td>\n      <td>&lt;extra&gt;AFG&lt;/extra&gt;&lt;b&gt;Afghanistan (1968)&lt;/b&gt;&lt;br...</td>\n    </tr>\n    <tr>\n      <th>2</th>\n      <td>AFG</td>\n      <td>1972</td>\n      <td>8</td>\n      <td>8</td>\n      <td>0</td>\n      <td>0</td>\n      <td>8</td>\n      <td>0</td>\n      <td>8</td>\n      <td>0</td>\n      <td>Afghanistan</td>\n      <td>AFG</td>\n      <td>Afghanistan</td>\n      <td>11791222</td>\n      <td>11,791,222</td>\n      <td>&lt;extra&gt;AFG&lt;/extra&gt;&lt;b&gt;Afghanistan (1972)&lt;/b&gt;&lt;br...</td>\n    </tr>\n  </tbody>\n</table>\n</div>"
     },
     "metadata": {},
     "output_type": "display_data"
    }
   ],
   "source": [
    "gold_df = gold_df.assign(display= get_display_customdata(gold_df))\n",
    "display(gold_df.head(3))\n",
    "\n"
   ],
   "metadata": {
    "collapsed": false,
    "pycharm": {
     "name": "#%%\n"
    }
   }
  },
  {
   "cell_type": "code",
   "execution_count": 211,
   "outputs": [],
   "source": [
    "from scipy import interpolate\n",
    "\n",
    "def get_interpolation_coefficients(x, matrix_y, columns_names):\n",
    "    n_cols = matrix_y.shape[1]\n",
    "    interp = []\n",
    "    for i in range(n_cols):\n",
    "        interp.append(\n",
    "            interpolate.splrep(x, matrix_y[:, i], s=0)\n",
    "        )\n",
    "    return interp\n",
    "\n",
    "def get_derivatives(df, parameter='TotalMedals'):\n",
    "    year_pivot_df = pd.pivot(df, index='Year', columns='NOC', values=parameter)\n",
    "    year_pivot_df = year_pivot_df.fillna(value=0)\n",
    "    velocity_df = pd.DataFrame(np.gradient(year_pivot_df.to_numpy(), 4, axis=0), columns=year_pivot_df.columns)\n",
    "    velocity_df.set_index(year_pivot_df.index, inplace=True)\n",
    "    vel_interpolations = get_interpolation_coefficients(velocity_df.index, velocity_df.to_numpy(), velocity_df.columns)\n",
    "\n",
    "    acceleration_df = pd.DataFrame(np.gradient(velocity_df.to_numpy(), 4, axis=0), columns=year_pivot_df.columns)\n",
    "    acceleration_df.set_index(year_pivot_df.index, inplace=True)\n",
    "    acc_interpolations = get_interpolation_coefficients(acceleration_df.index, acceleration_df.to_numpy(), acceleration_df.columns)\n",
    "    return velocity_df, acceleration_df\n",
    "\n"
   ],
   "metadata": {
    "collapsed": false,
    "pycharm": {
     "name": "#%%\n"
    }
   }
  },
  {
   "cell_type": "code",
   "execution_count": 212,
   "outputs": [],
   "source": [
    "def add_worldwide_derivatives_to_df(df):\n",
    "    vel, acc = get_derivatives(df)\n",
    "    vel = vel.reset_index()\n",
    "    acc = acc.reset_index()\n",
    "    vel_melt = pd.melt(vel, id_vars='Year', var_name='NOC', value_name='velocity')\n",
    "    acc_melt = pd.melt(acc, id_vars='Year', var_name='NOC', value_name='acceleration')\n",
    "    gold_derivatives_df = df.merge(vel_melt, on=['NOC','Year'], how='left')\n",
    "    gold_derivatives_df = gold_derivatives_df.merge(acc_melt, on=['NOC','Year'], how='left')\n",
    "    return gold_derivatives_df\n",
    "\n",
    "x_plot = np.linspace(1992, 2016, 50)\n",
    "\n",
    "my_years = [2016, 2012, 2008]\n",
    "gold_countries_derivatives_df = add_worldwide_derivatives_to_df(gold_df)\n",
    "gold_countries_derivatives_df.to_parquet(os.path.join(dataset_path, 'gold_countries_derivatives.parquet'))"
   ],
   "metadata": {
    "collapsed": false,
    "pycharm": {
     "name": "#%%\n"
    }
   }
  },
  {
   "cell_type": "code",
   "execution_count": 213,
   "outputs": [
    {
     "name": "stdout",
     "output_type": "stream",
     "text": [
      "[2016 2012 2008]\n"
     ]
    }
   ],
   "source": [
    "# Get year 2016\n",
    "def get_recent_three_years(df):\n",
    "    years = df.Year.unique()\n",
    "    years = np.sort(years)\n",
    "    years = years[-3:]\n",
    "    return np.flip(years)\n",
    "\n",
    "recent_years = get_recent_three_years(gold_df)\n",
    "print(recent_years)"
   ],
   "metadata": {
    "collapsed": false,
    "pycharm": {
     "name": "#%%\n"
    }
   }
  },
  {
   "cell_type": "code",
   "execution_count": 214,
   "outputs": [],
   "source": [
    "def filter_by_year_my_country(df, my_country, my_year, threshold=0.2):\n",
    "    # Get population of my country\n",
    "    pop = df['Population'].loc[(df.NOC == my_country) & (df.Year== my_year)].iloc[0]\n",
    "\n",
    "    # Define cut-off percentage threshold\n",
    "    # pop_max = pop +- threshold%\n",
    "    # threshold = 0.15 means pop +- 15%\n",
    "\n",
    "    filtered_countries = df[df.Year == my_year]\n",
    "    filtered_countries = filtered_countries[filtered_countries.Population.between(pop - pop*threshold, pop + pop*threshold )]\n",
    "    filtered_countries = filtered_countries.sort_values(by='TotalMedals')\n",
    "    display(filtered_countries)\n",
    "    return filtered_countries"
   ],
   "metadata": {
    "collapsed": false,
    "pycharm": {
     "name": "#%%\n"
    }
   }
  },
  {
   "cell_type": "code",
   "execution_count": 215,
   "outputs": [],
   "source": [
    "def get_choropleth_title_starts_with(sorting_parameter):\n",
    "    title_starts_with = ''\n",
    "    if sorting_parameter == 'TotalMedals':\n",
    "        title_starts_with = 'Total medals collected'\n",
    "    elif sorting_parameter in ['Gold', 'Silver', 'Bronze']:\n",
    "        title_starts_with = f'{sorting_parameter} medals collected'\n",
    "    elif sorting_parameter == 'velocity':\n",
    "        title_starts_with = f'Best trend'\n",
    "    elif sorting_parameter == 'acceleration':\n",
    "        title_starts_with = f'Fastest improving'\n",
    "    elif sorting_parameter == 'AthletePerEventPartecipation':\n",
    "        title_starts_with = f'Athletes per event'\n",
    "    elif sorting_parameter == 'AthletePerMedal':\n",
    "        title_starts_with = f'Athletes per medal'\n",
    "    elif sorting_parameter == 'EventPartecipationPerMedal':\n",
    "        title_starts_with = f'Event partecipations per medal'\n",
    "    elif sorting_parameter == 'PopulationPerMedal_thousands':\n",
    "        title_starts_with = 'Population (thousands) per medal'\n",
    "    return title_starts_with\n",
    "\n",
    "def get_choropleth_colormap_title(sorting_parameter):\n",
    "    colormap_title = ''\n",
    "    if sorting_parameter == 'TotalMedals':\n",
    "        colormap_title = 'Total medals'\n",
    "    elif sorting_parameter in ['Gold', 'Silver', 'Bronze' ]:\n",
    "        colormap_title = f'{sorting_parameter}'\n",
    "    elif sorting_parameter == 'velocity':\n",
    "        colormap_title = f'Velocity'\n",
    "    elif sorting_parameter == 'acceleration':\n",
    "        colormap_title = f'Acceleration'\n",
    "    elif sorting_parameter == 'AthletePerEventPartecipation':\n",
    "        colormap_title = f'Athl/Event'\n",
    "    elif sorting_parameter == 'AthletePerMedal':\n",
    "        colormap_title = f'Athl/Medal'\n",
    "    elif sorting_parameter == 'EventPartecipationPerMedal':\n",
    "        colormap_title = f'Event/medal'\n",
    "    elif sorting_parameter == 'PopulationPerMedal_thousands':\n",
    "        colormap_title = 'Pop/Medal'\n",
    "    return colormap_title\n",
    "\n",
    "def get_choropleth_colormap(sorting_parameter):\n",
    "    colormap = \"Emrld\"\n",
    "    if sorting_parameter in ['Gold', 'Silver', 'Bronze', 'TotalMedals' ]:\n",
    "        colormap = \"Emrld\"\n",
    "    elif sorting_parameter in ['velocity', 'acceleration']:\n",
    "        colormap = 'RdYlGn'\n",
    "    return colormap\n",
    "\n",
    "def get_fig_choropleth_similar_size(df, my_country, show_years, sort_by = 'TotalMedals', threshold=0.2):\n",
    "    # Show only my country and similar sized ones\n",
    "    fig_cho_size = go.Figure()\n",
    "    \n",
    "    first = True\n",
    "    for year in show_years:\n",
    "        starting_data = filter_by_year_my_country(df, my_country, year, threshold)\n",
    "        display(starting_data)\n",
    "\n",
    "        visible = False\n",
    "        if first:\n",
    "            visible = True\n",
    "            first = False\n",
    "    \n",
    "        fig_cho_size.add_trace( \\\n",
    "            go.Choropleth(\n",
    "            locations=starting_data.alpha_3,\n",
    "            z=starting_data[sort_by],\n",
    "            colorscale=get_choropleth_colormap(sort_by),\n",
    "            customdata=starting_data.display,\n",
    "            hovertemplate='%{customdata}',\n",
    "            text=starting_data.iso_names,\n",
    "            marker_line_color='darkgray',\n",
    "            marker_line_width=0.5,\n",
    "            colorbar_title = get_choropleth_colormap_title(sort_by),\n",
    "            visible=visible\n",
    "            )\n",
    "        )\n",
    "\n",
    "\n",
    "    title_starts_with = get_choropleth_title_starts_with(sort_by)\n",
    "    y_lab_height = 0.98\n",
    "    fig_cho_size.update_layout(\n",
    "        title={\n",
    "            'text': f'{title_starts_with} in year {show_years[0]} by country<br>'\n",
    "                    f'Countries with population similar to '\n",
    "                    f'{starting_data[\"iso_names\"].loc[starting_data.alpha_3 == selected_country].iloc[0]} '\n",
    "                    f'(&plusmn; 20%)',\n",
    "            'y':1,\n",
    "            'x':0.45,\n",
    "            'xanchor': 'center',\n",
    "            'yanchor': 'bottom',\n",
    "            'xref': 'paper',\n",
    "            'yref': 'paper',\n",
    "            'pad': {\"b\": 40, \"t\": 10},\n",
    "        },\n",
    "    \n",
    "           # list([{'label': i,\n",
    "           #                     'args': [\n",
    "           #                          {\n",
    "           #                          'y':[df_select[i]],\n",
    "           #                          }],\n",
    "           #                     'method': 'restyle'} for i in df_select.columns[1:]]),\n",
    "        updatemenus=[\n",
    "            dict(\n",
    "                active=0,\n",
    "                buttons=list([\n",
    "                    dict(label=str(show_years[0]),\n",
    "                         method=\"update\",\n",
    "                         args=[{\"visible\": [True, False, False]},\n",
    "                               {\"title\": f'{title_starts_with} in year {show_years[0]} by country<br>'\n",
    "                                f'Countries with population similar to '\n",
    "                                f'{starting_data[\"iso_names\"].loc[starting_data.alpha_3 == selected_country].iloc[0]} '\n",
    "                                f'(&plusmn; 20%)',}]),\n",
    "                    dict(label=str(show_years[1]),\n",
    "                         method=\"update\",\n",
    "                         args=[{\"visible\": [False, True, False]},\n",
    "                               {\"title\": f'{title_starts_with} in year {show_years[1]} by country<br>'\n",
    "                                f'Countries with population similar to '\n",
    "                                f'{starting_data[\"iso_names\"].loc[starting_data.alpha_3 == selected_country].iloc[0]} '\n",
    "                                f'(&plusmn; 20%)',}]),\n",
    "                    dict(label=str(show_years[2]),\n",
    "                         method=\"update\",\n",
    "                         args=[{\"visible\": [False, False, True]},\n",
    "                               {\"title\": f'{title_starts_with} in year {show_years[2]} by country<br>'\n",
    "                                f'Countries with population similar to '\n",
    "                                f'{starting_data[\"iso_names\"].loc[starting_data.alpha_3 == selected_country].iloc[0]} '\n",
    "                                f'(&plusmn; 20%)',}]),\n",
    "                ]),\n",
    "                x = 0,\n",
    "                xanchor = 'left',\n",
    "                y = y_lab_height,\n",
    "                yanchor = 'top',\n",
    "                pad={\"t\": 10}\n",
    "            )\n",
    "        ],\n",
    "        annotations=[\n",
    "            dict(text=\"Select Olympic year:\", x=0, xref=\"paper\", y=1, yref=\"paper\",\n",
    "                                 align=\"left\", showarrow=False)]\n",
    "    \n",
    "    )\n",
    "    return fig_cho_size\n"
   ],
   "metadata": {
    "collapsed": false,
    "pycharm": {
     "name": "#%%\n"
    }
   }
  },
  {
   "cell_type": "code",
   "execution_count": 216,
   "outputs": [
    {
     "data": {
      "text/plain": "      NOC  Year  events_partecipations_no  distinct_athletes_no  Bronze  Gold  \\\n1407  MYA  2016                         8                     7       0     0   \n1839  SUD  2016                         6                     6       0     0   \n1920  TAN  2016                         7                     7       0     0   \n2052  UGA  2016                        23                    21       0     0   \n41    ALG  2016                        74                    64       0     0   \n84    ARG  2016                       232                   215       0     3   \n471   COL  2016                       157                   143       3     3   \n1619  POL  2016                       289                   234       6     2   \n2058  UKR  2016                       272                   204       4     2   \n1079  KEN  2016                        80                    79       1     6   \n630   ESP  2016                       363                   307       6     7   \n1102  KOR  2016                       263                   207       9     9   \n\n      NoMedal  Silver  TotalPartecipants  TotalMedals       region alpha_3  \\\n1407        8       0                  8            0      Myanmar     MMR   \n1839        6       0                  6            0        Sudan     SDN   \n1920        5       0                  5            0     Tanzania     TZA   \n2052       14       0                 14            0       Uganda     UGA   \n41         48       2                 50            2      Algeria     DZA   \n84         77       1                 81            4    Argentina     ARG   \n471        80       2                 88            8     Colombia     COL   \n1619      138       3                149           11       Poland     POL   \n2058      137       5                148           11      Ukraine     UKR   \n1079       28       6                 41           13        Kenya     KEN   \n630       134       4                151           17        Spain     ESP   \n1102      105       3                126           21  South Korea     KOR   \n\n                         iso_names  Population population_display  \\\n1407                       Myanmar    53045199         53,045,199   \n1839                         Sudan    39847433         39,847,433   \n1920  Tanzania, United Republic of    53049231         53,049,231   \n2052                        Uganda    39649173         39,649,173   \n41                         Algeria    40551398         40,551,398   \n84                       Argentina    43590368         43,590,368   \n471                       Colombia    48175048         48,175,048   \n1619                        Poland    37970087         37,970,087   \n2058                       Ukraine    45004673         45,004,673   \n1079                         Kenya    49051531         49,051,531   \n630                          Spain    46484062         46,484,062   \n1102            Korea, Republic of    51217803         51,217,803   \n\n                                                display  \n1407  <extra>MMR</extra><b>Myanmar (2016)</b><br><br...  \n1839  <extra>SDN</extra><b>Sudan (2016)</b><br><br>M...  \n1920  <extra>TZA</extra><b>Tanzania, United Republic...  \n2052  <extra>UGA</extra><b>Uganda (2016)</b><br><br>...  \n41    <extra>DZA</extra><b>Algeria (2016)</b><br><br...  \n84    <extra>ARG</extra><b>Argentina (2016)</b><br><...  \n471   <extra>COL</extra><b>Colombia (2016)</b><br><b...  \n1619  <extra>POL</extra><b>Poland (2016)</b><br><br>...  \n2058  <extra>UKR</extra><b>Ukraine (2016)</b><br><br...  \n1079  <extra>KEN</extra><b>Kenya (2016)</b><br><br>M...  \n630   <extra>ESP</extra><b>Spain (2016)</b><br><br>M...  \n1102  <extra>KOR</extra><b>Korea, Republic of (2016)...  ",
      "text/html": "<div>\n<style scoped>\n    .dataframe tbody tr th:only-of-type {\n        vertical-align: middle;\n    }\n\n    .dataframe tbody tr th {\n        vertical-align: top;\n    }\n\n    .dataframe thead th {\n        text-align: right;\n    }\n</style>\n<table border=\"1\" class=\"dataframe\">\n  <thead>\n    <tr style=\"text-align: right;\">\n      <th></th>\n      <th>NOC</th>\n      <th>Year</th>\n      <th>events_partecipations_no</th>\n      <th>distinct_athletes_no</th>\n      <th>Bronze</th>\n      <th>Gold</th>\n      <th>NoMedal</th>\n      <th>Silver</th>\n      <th>TotalPartecipants</th>\n      <th>TotalMedals</th>\n      <th>region</th>\n      <th>alpha_3</th>\n      <th>iso_names</th>\n      <th>Population</th>\n      <th>population_display</th>\n      <th>display</th>\n    </tr>\n  </thead>\n  <tbody>\n    <tr>\n      <th>1407</th>\n      <td>MYA</td>\n      <td>2016</td>\n      <td>8</td>\n      <td>7</td>\n      <td>0</td>\n      <td>0</td>\n      <td>8</td>\n      <td>0</td>\n      <td>8</td>\n      <td>0</td>\n      <td>Myanmar</td>\n      <td>MMR</td>\n      <td>Myanmar</td>\n      <td>53045199</td>\n      <td>53,045,199</td>\n      <td>&lt;extra&gt;MMR&lt;/extra&gt;&lt;b&gt;Myanmar (2016)&lt;/b&gt;&lt;br&gt;&lt;br...</td>\n    </tr>\n    <tr>\n      <th>1839</th>\n      <td>SUD</td>\n      <td>2016</td>\n      <td>6</td>\n      <td>6</td>\n      <td>0</td>\n      <td>0</td>\n      <td>6</td>\n      <td>0</td>\n      <td>6</td>\n      <td>0</td>\n      <td>Sudan</td>\n      <td>SDN</td>\n      <td>Sudan</td>\n      <td>39847433</td>\n      <td>39,847,433</td>\n      <td>&lt;extra&gt;SDN&lt;/extra&gt;&lt;b&gt;Sudan (2016)&lt;/b&gt;&lt;br&gt;&lt;br&gt;M...</td>\n    </tr>\n    <tr>\n      <th>1920</th>\n      <td>TAN</td>\n      <td>2016</td>\n      <td>7</td>\n      <td>7</td>\n      <td>0</td>\n      <td>0</td>\n      <td>5</td>\n      <td>0</td>\n      <td>5</td>\n      <td>0</td>\n      <td>Tanzania</td>\n      <td>TZA</td>\n      <td>Tanzania, United Republic of</td>\n      <td>53049231</td>\n      <td>53,049,231</td>\n      <td>&lt;extra&gt;TZA&lt;/extra&gt;&lt;b&gt;Tanzania, United Republic...</td>\n    </tr>\n    <tr>\n      <th>2052</th>\n      <td>UGA</td>\n      <td>2016</td>\n      <td>23</td>\n      <td>21</td>\n      <td>0</td>\n      <td>0</td>\n      <td>14</td>\n      <td>0</td>\n      <td>14</td>\n      <td>0</td>\n      <td>Uganda</td>\n      <td>UGA</td>\n      <td>Uganda</td>\n      <td>39649173</td>\n      <td>39,649,173</td>\n      <td>&lt;extra&gt;UGA&lt;/extra&gt;&lt;b&gt;Uganda (2016)&lt;/b&gt;&lt;br&gt;&lt;br&gt;...</td>\n    </tr>\n    <tr>\n      <th>41</th>\n      <td>ALG</td>\n      <td>2016</td>\n      <td>74</td>\n      <td>64</td>\n      <td>0</td>\n      <td>0</td>\n      <td>48</td>\n      <td>2</td>\n      <td>50</td>\n      <td>2</td>\n      <td>Algeria</td>\n      <td>DZA</td>\n      <td>Algeria</td>\n      <td>40551398</td>\n      <td>40,551,398</td>\n      <td>&lt;extra&gt;DZA&lt;/extra&gt;&lt;b&gt;Algeria (2016)&lt;/b&gt;&lt;br&gt;&lt;br...</td>\n    </tr>\n    <tr>\n      <th>84</th>\n      <td>ARG</td>\n      <td>2016</td>\n      <td>232</td>\n      <td>215</td>\n      <td>0</td>\n      <td>3</td>\n      <td>77</td>\n      <td>1</td>\n      <td>81</td>\n      <td>4</td>\n      <td>Argentina</td>\n      <td>ARG</td>\n      <td>Argentina</td>\n      <td>43590368</td>\n      <td>43,590,368</td>\n      <td>&lt;extra&gt;ARG&lt;/extra&gt;&lt;b&gt;Argentina (2016)&lt;/b&gt;&lt;br&gt;&lt;...</td>\n    </tr>\n    <tr>\n      <th>471</th>\n      <td>COL</td>\n      <td>2016</td>\n      <td>157</td>\n      <td>143</td>\n      <td>3</td>\n      <td>3</td>\n      <td>80</td>\n      <td>2</td>\n      <td>88</td>\n      <td>8</td>\n      <td>Colombia</td>\n      <td>COL</td>\n      <td>Colombia</td>\n      <td>48175048</td>\n      <td>48,175,048</td>\n      <td>&lt;extra&gt;COL&lt;/extra&gt;&lt;b&gt;Colombia (2016)&lt;/b&gt;&lt;br&gt;&lt;b...</td>\n    </tr>\n    <tr>\n      <th>1619</th>\n      <td>POL</td>\n      <td>2016</td>\n      <td>289</td>\n      <td>234</td>\n      <td>6</td>\n      <td>2</td>\n      <td>138</td>\n      <td>3</td>\n      <td>149</td>\n      <td>11</td>\n      <td>Poland</td>\n      <td>POL</td>\n      <td>Poland</td>\n      <td>37970087</td>\n      <td>37,970,087</td>\n      <td>&lt;extra&gt;POL&lt;/extra&gt;&lt;b&gt;Poland (2016)&lt;/b&gt;&lt;br&gt;&lt;br&gt;...</td>\n    </tr>\n    <tr>\n      <th>2058</th>\n      <td>UKR</td>\n      <td>2016</td>\n      <td>272</td>\n      <td>204</td>\n      <td>4</td>\n      <td>2</td>\n      <td>137</td>\n      <td>5</td>\n      <td>148</td>\n      <td>11</td>\n      <td>Ukraine</td>\n      <td>UKR</td>\n      <td>Ukraine</td>\n      <td>45004673</td>\n      <td>45,004,673</td>\n      <td>&lt;extra&gt;UKR&lt;/extra&gt;&lt;b&gt;Ukraine (2016)&lt;/b&gt;&lt;br&gt;&lt;br...</td>\n    </tr>\n    <tr>\n      <th>1079</th>\n      <td>KEN</td>\n      <td>2016</td>\n      <td>80</td>\n      <td>79</td>\n      <td>1</td>\n      <td>6</td>\n      <td>28</td>\n      <td>6</td>\n      <td>41</td>\n      <td>13</td>\n      <td>Kenya</td>\n      <td>KEN</td>\n      <td>Kenya</td>\n      <td>49051531</td>\n      <td>49,051,531</td>\n      <td>&lt;extra&gt;KEN&lt;/extra&gt;&lt;b&gt;Kenya (2016)&lt;/b&gt;&lt;br&gt;&lt;br&gt;M...</td>\n    </tr>\n    <tr>\n      <th>630</th>\n      <td>ESP</td>\n      <td>2016</td>\n      <td>363</td>\n      <td>307</td>\n      <td>6</td>\n      <td>7</td>\n      <td>134</td>\n      <td>4</td>\n      <td>151</td>\n      <td>17</td>\n      <td>Spain</td>\n      <td>ESP</td>\n      <td>Spain</td>\n      <td>46484062</td>\n      <td>46,484,062</td>\n      <td>&lt;extra&gt;ESP&lt;/extra&gt;&lt;b&gt;Spain (2016)&lt;/b&gt;&lt;br&gt;&lt;br&gt;M...</td>\n    </tr>\n    <tr>\n      <th>1102</th>\n      <td>KOR</td>\n      <td>2016</td>\n      <td>263</td>\n      <td>207</td>\n      <td>9</td>\n      <td>9</td>\n      <td>105</td>\n      <td>3</td>\n      <td>126</td>\n      <td>21</td>\n      <td>South Korea</td>\n      <td>KOR</td>\n      <td>Korea, Republic of</td>\n      <td>51217803</td>\n      <td>51,217,803</td>\n      <td>&lt;extra&gt;KOR&lt;/extra&gt;&lt;b&gt;Korea, Republic of (2016)...</td>\n    </tr>\n  </tbody>\n</table>\n</div>"
     },
     "metadata": {},
     "output_type": "display_data"
    },
    {
     "data": {
      "text/plain": "      NOC  Year  events_partecipations_no  distinct_athletes_no  Bronze  Gold  \\\n1407  MYA  2016                         8                     7       0     0   \n1839  SUD  2016                         6                     6       0     0   \n1920  TAN  2016                         7                     7       0     0   \n2052  UGA  2016                        23                    21       0     0   \n41    ALG  2016                        74                    64       0     0   \n84    ARG  2016                       232                   215       0     3   \n471   COL  2016                       157                   143       3     3   \n1619  POL  2016                       289                   234       6     2   \n2058  UKR  2016                       272                   204       4     2   \n1079  KEN  2016                        80                    79       1     6   \n630   ESP  2016                       363                   307       6     7   \n1102  KOR  2016                       263                   207       9     9   \n\n      NoMedal  Silver  TotalPartecipants  TotalMedals       region alpha_3  \\\n1407        8       0                  8            0      Myanmar     MMR   \n1839        6       0                  6            0        Sudan     SDN   \n1920        5       0                  5            0     Tanzania     TZA   \n2052       14       0                 14            0       Uganda     UGA   \n41         48       2                 50            2      Algeria     DZA   \n84         77       1                 81            4    Argentina     ARG   \n471        80       2                 88            8     Colombia     COL   \n1619      138       3                149           11       Poland     POL   \n2058      137       5                148           11      Ukraine     UKR   \n1079       28       6                 41           13        Kenya     KEN   \n630       134       4                151           17        Spain     ESP   \n1102      105       3                126           21  South Korea     KOR   \n\n                         iso_names  Population population_display  \\\n1407                       Myanmar    53045199         53,045,199   \n1839                         Sudan    39847433         39,847,433   \n1920  Tanzania, United Republic of    53049231         53,049,231   \n2052                        Uganda    39649173         39,649,173   \n41                         Algeria    40551398         40,551,398   \n84                       Argentina    43590368         43,590,368   \n471                       Colombia    48175048         48,175,048   \n1619                        Poland    37970087         37,970,087   \n2058                       Ukraine    45004673         45,004,673   \n1079                         Kenya    49051531         49,051,531   \n630                          Spain    46484062         46,484,062   \n1102            Korea, Republic of    51217803         51,217,803   \n\n                                                display  \n1407  <extra>MMR</extra><b>Myanmar (2016)</b><br><br...  \n1839  <extra>SDN</extra><b>Sudan (2016)</b><br><br>M...  \n1920  <extra>TZA</extra><b>Tanzania, United Republic...  \n2052  <extra>UGA</extra><b>Uganda (2016)</b><br><br>...  \n41    <extra>DZA</extra><b>Algeria (2016)</b><br><br...  \n84    <extra>ARG</extra><b>Argentina (2016)</b><br><...  \n471   <extra>COL</extra><b>Colombia (2016)</b><br><b...  \n1619  <extra>POL</extra><b>Poland (2016)</b><br><br>...  \n2058  <extra>UKR</extra><b>Ukraine (2016)</b><br><br...  \n1079  <extra>KEN</extra><b>Kenya (2016)</b><br><br>M...  \n630   <extra>ESP</extra><b>Spain (2016)</b><br><br>M...  \n1102  <extra>KOR</extra><b>Korea, Republic of (2016)...  ",
      "text/html": "<div>\n<style scoped>\n    .dataframe tbody tr th:only-of-type {\n        vertical-align: middle;\n    }\n\n    .dataframe tbody tr th {\n        vertical-align: top;\n    }\n\n    .dataframe thead th {\n        text-align: right;\n    }\n</style>\n<table border=\"1\" class=\"dataframe\">\n  <thead>\n    <tr style=\"text-align: right;\">\n      <th></th>\n      <th>NOC</th>\n      <th>Year</th>\n      <th>events_partecipations_no</th>\n      <th>distinct_athletes_no</th>\n      <th>Bronze</th>\n      <th>Gold</th>\n      <th>NoMedal</th>\n      <th>Silver</th>\n      <th>TotalPartecipants</th>\n      <th>TotalMedals</th>\n      <th>region</th>\n      <th>alpha_3</th>\n      <th>iso_names</th>\n      <th>Population</th>\n      <th>population_display</th>\n      <th>display</th>\n    </tr>\n  </thead>\n  <tbody>\n    <tr>\n      <th>1407</th>\n      <td>MYA</td>\n      <td>2016</td>\n      <td>8</td>\n      <td>7</td>\n      <td>0</td>\n      <td>0</td>\n      <td>8</td>\n      <td>0</td>\n      <td>8</td>\n      <td>0</td>\n      <td>Myanmar</td>\n      <td>MMR</td>\n      <td>Myanmar</td>\n      <td>53045199</td>\n      <td>53,045,199</td>\n      <td>&lt;extra&gt;MMR&lt;/extra&gt;&lt;b&gt;Myanmar (2016)&lt;/b&gt;&lt;br&gt;&lt;br...</td>\n    </tr>\n    <tr>\n      <th>1839</th>\n      <td>SUD</td>\n      <td>2016</td>\n      <td>6</td>\n      <td>6</td>\n      <td>0</td>\n      <td>0</td>\n      <td>6</td>\n      <td>0</td>\n      <td>6</td>\n      <td>0</td>\n      <td>Sudan</td>\n      <td>SDN</td>\n      <td>Sudan</td>\n      <td>39847433</td>\n      <td>39,847,433</td>\n      <td>&lt;extra&gt;SDN&lt;/extra&gt;&lt;b&gt;Sudan (2016)&lt;/b&gt;&lt;br&gt;&lt;br&gt;M...</td>\n    </tr>\n    <tr>\n      <th>1920</th>\n      <td>TAN</td>\n      <td>2016</td>\n      <td>7</td>\n      <td>7</td>\n      <td>0</td>\n      <td>0</td>\n      <td>5</td>\n      <td>0</td>\n      <td>5</td>\n      <td>0</td>\n      <td>Tanzania</td>\n      <td>TZA</td>\n      <td>Tanzania, United Republic of</td>\n      <td>53049231</td>\n      <td>53,049,231</td>\n      <td>&lt;extra&gt;TZA&lt;/extra&gt;&lt;b&gt;Tanzania, United Republic...</td>\n    </tr>\n    <tr>\n      <th>2052</th>\n      <td>UGA</td>\n      <td>2016</td>\n      <td>23</td>\n      <td>21</td>\n      <td>0</td>\n      <td>0</td>\n      <td>14</td>\n      <td>0</td>\n      <td>14</td>\n      <td>0</td>\n      <td>Uganda</td>\n      <td>UGA</td>\n      <td>Uganda</td>\n      <td>39649173</td>\n      <td>39,649,173</td>\n      <td>&lt;extra&gt;UGA&lt;/extra&gt;&lt;b&gt;Uganda (2016)&lt;/b&gt;&lt;br&gt;&lt;br&gt;...</td>\n    </tr>\n    <tr>\n      <th>41</th>\n      <td>ALG</td>\n      <td>2016</td>\n      <td>74</td>\n      <td>64</td>\n      <td>0</td>\n      <td>0</td>\n      <td>48</td>\n      <td>2</td>\n      <td>50</td>\n      <td>2</td>\n      <td>Algeria</td>\n      <td>DZA</td>\n      <td>Algeria</td>\n      <td>40551398</td>\n      <td>40,551,398</td>\n      <td>&lt;extra&gt;DZA&lt;/extra&gt;&lt;b&gt;Algeria (2016)&lt;/b&gt;&lt;br&gt;&lt;br...</td>\n    </tr>\n    <tr>\n      <th>84</th>\n      <td>ARG</td>\n      <td>2016</td>\n      <td>232</td>\n      <td>215</td>\n      <td>0</td>\n      <td>3</td>\n      <td>77</td>\n      <td>1</td>\n      <td>81</td>\n      <td>4</td>\n      <td>Argentina</td>\n      <td>ARG</td>\n      <td>Argentina</td>\n      <td>43590368</td>\n      <td>43,590,368</td>\n      <td>&lt;extra&gt;ARG&lt;/extra&gt;&lt;b&gt;Argentina (2016)&lt;/b&gt;&lt;br&gt;&lt;...</td>\n    </tr>\n    <tr>\n      <th>471</th>\n      <td>COL</td>\n      <td>2016</td>\n      <td>157</td>\n      <td>143</td>\n      <td>3</td>\n      <td>3</td>\n      <td>80</td>\n      <td>2</td>\n      <td>88</td>\n      <td>8</td>\n      <td>Colombia</td>\n      <td>COL</td>\n      <td>Colombia</td>\n      <td>48175048</td>\n      <td>48,175,048</td>\n      <td>&lt;extra&gt;COL&lt;/extra&gt;&lt;b&gt;Colombia (2016)&lt;/b&gt;&lt;br&gt;&lt;b...</td>\n    </tr>\n    <tr>\n      <th>1619</th>\n      <td>POL</td>\n      <td>2016</td>\n      <td>289</td>\n      <td>234</td>\n      <td>6</td>\n      <td>2</td>\n      <td>138</td>\n      <td>3</td>\n      <td>149</td>\n      <td>11</td>\n      <td>Poland</td>\n      <td>POL</td>\n      <td>Poland</td>\n      <td>37970087</td>\n      <td>37,970,087</td>\n      <td>&lt;extra&gt;POL&lt;/extra&gt;&lt;b&gt;Poland (2016)&lt;/b&gt;&lt;br&gt;&lt;br&gt;...</td>\n    </tr>\n    <tr>\n      <th>2058</th>\n      <td>UKR</td>\n      <td>2016</td>\n      <td>272</td>\n      <td>204</td>\n      <td>4</td>\n      <td>2</td>\n      <td>137</td>\n      <td>5</td>\n      <td>148</td>\n      <td>11</td>\n      <td>Ukraine</td>\n      <td>UKR</td>\n      <td>Ukraine</td>\n      <td>45004673</td>\n      <td>45,004,673</td>\n      <td>&lt;extra&gt;UKR&lt;/extra&gt;&lt;b&gt;Ukraine (2016)&lt;/b&gt;&lt;br&gt;&lt;br...</td>\n    </tr>\n    <tr>\n      <th>1079</th>\n      <td>KEN</td>\n      <td>2016</td>\n      <td>80</td>\n      <td>79</td>\n      <td>1</td>\n      <td>6</td>\n      <td>28</td>\n      <td>6</td>\n      <td>41</td>\n      <td>13</td>\n      <td>Kenya</td>\n      <td>KEN</td>\n      <td>Kenya</td>\n      <td>49051531</td>\n      <td>49,051,531</td>\n      <td>&lt;extra&gt;KEN&lt;/extra&gt;&lt;b&gt;Kenya (2016)&lt;/b&gt;&lt;br&gt;&lt;br&gt;M...</td>\n    </tr>\n    <tr>\n      <th>630</th>\n      <td>ESP</td>\n      <td>2016</td>\n      <td>363</td>\n      <td>307</td>\n      <td>6</td>\n      <td>7</td>\n      <td>134</td>\n      <td>4</td>\n      <td>151</td>\n      <td>17</td>\n      <td>Spain</td>\n      <td>ESP</td>\n      <td>Spain</td>\n      <td>46484062</td>\n      <td>46,484,062</td>\n      <td>&lt;extra&gt;ESP&lt;/extra&gt;&lt;b&gt;Spain (2016)&lt;/b&gt;&lt;br&gt;&lt;br&gt;M...</td>\n    </tr>\n    <tr>\n      <th>1102</th>\n      <td>KOR</td>\n      <td>2016</td>\n      <td>263</td>\n      <td>207</td>\n      <td>9</td>\n      <td>9</td>\n      <td>105</td>\n      <td>3</td>\n      <td>126</td>\n      <td>21</td>\n      <td>South Korea</td>\n      <td>KOR</td>\n      <td>Korea, Republic of</td>\n      <td>51217803</td>\n      <td>51,217,803</td>\n      <td>&lt;extra&gt;KOR&lt;/extra&gt;&lt;b&gt;Korea, Republic of (2016)...</td>\n    </tr>\n  </tbody>\n</table>\n</div>"
     },
     "metadata": {},
     "output_type": "display_data"
    },
    {
     "data": {
      "text/plain": "      NOC  Year  events_partecipations_no  distinct_athletes_no  Bronze  Gold  \\\n1406  MYA  2012                         6                     6       0     0   \n1919  TAN  2012                         6                     6       0     0   \n83    ARG  2012                       148                   137       2     1   \n1687  RSA  2012                       145                   124       1     3   \n470   COL  2012                       120                   101       4     1   \n1618  POL  2012                       256                   210       6     2   \n1078  KEN  2012                        51                    47       5     2   \n629   ESP  2012                       339                   278       4     3   \n2057  UKR  2012                       304                   230       9     6   \n1101  KOR  2012                       312                   250       7    13   \n\n      NoMedal  Silver  TotalPartecipants  TotalMedals        region alpha_3  \\\n1406        6       0                  6            0       Myanmar     MMR   \n1919        5       0                  5            0      Tanzania     TZA   \n83         63       1                 67            4     Argentina     ARG   \n1687       59       2                 65            6  South Africa     ZAF   \n470        75       3                 83            8      Colombia     COL   \n1618      141       2                151           10        Poland     POL   \n1078       23       4                 34           11         Kenya     KEN   \n629       121      10                138           17         Spain     ESP   \n2057      159       5                179           20       Ukraine     UKR   \n1101      122       8                150           28   South Korea     KOR   \n\n                         iso_names  Population population_display  \\\n1406                       Myanmar    51413703         51,413,703   \n1919  Tanzania, United Republic of    47053033         47,053,033   \n83                       Argentina    41733271         41,733,271   \n1687                  South Africa    52832659         52,832,659   \n470                       Colombia    46075721         46,075,721   \n1618                        Poland    38063164         38,063,164   \n1078                         Kenya    44343469         44,343,469   \n629                          Spain    46773055         46,773,055   \n2057                       Ukraine    45593342         45,593,342   \n1101            Korea, Republic of    50199853         50,199,853   \n\n                                                display  \n1406  <extra>MMR</extra><b>Myanmar (2012)</b><br><br...  \n1919  <extra>TZA</extra><b>Tanzania, United Republic...  \n83    <extra>ARG</extra><b>Argentina (2012)</b><br><...  \n1687  <extra>ZAF</extra><b>South Africa (2012)</b><b...  \n470   <extra>COL</extra><b>Colombia (2012)</b><br><b...  \n1618  <extra>POL</extra><b>Poland (2012)</b><br><br>...  \n1078  <extra>KEN</extra><b>Kenya (2012)</b><br><br>M...  \n629   <extra>ESP</extra><b>Spain (2012)</b><br><br>M...  \n2057  <extra>UKR</extra><b>Ukraine (2012)</b><br><br...  \n1101  <extra>KOR</extra><b>Korea, Republic of (2012)...  ",
      "text/html": "<div>\n<style scoped>\n    .dataframe tbody tr th:only-of-type {\n        vertical-align: middle;\n    }\n\n    .dataframe tbody tr th {\n        vertical-align: top;\n    }\n\n    .dataframe thead th {\n        text-align: right;\n    }\n</style>\n<table border=\"1\" class=\"dataframe\">\n  <thead>\n    <tr style=\"text-align: right;\">\n      <th></th>\n      <th>NOC</th>\n      <th>Year</th>\n      <th>events_partecipations_no</th>\n      <th>distinct_athletes_no</th>\n      <th>Bronze</th>\n      <th>Gold</th>\n      <th>NoMedal</th>\n      <th>Silver</th>\n      <th>TotalPartecipants</th>\n      <th>TotalMedals</th>\n      <th>region</th>\n      <th>alpha_3</th>\n      <th>iso_names</th>\n      <th>Population</th>\n      <th>population_display</th>\n      <th>display</th>\n    </tr>\n  </thead>\n  <tbody>\n    <tr>\n      <th>1406</th>\n      <td>MYA</td>\n      <td>2012</td>\n      <td>6</td>\n      <td>6</td>\n      <td>0</td>\n      <td>0</td>\n      <td>6</td>\n      <td>0</td>\n      <td>6</td>\n      <td>0</td>\n      <td>Myanmar</td>\n      <td>MMR</td>\n      <td>Myanmar</td>\n      <td>51413703</td>\n      <td>51,413,703</td>\n      <td>&lt;extra&gt;MMR&lt;/extra&gt;&lt;b&gt;Myanmar (2012)&lt;/b&gt;&lt;br&gt;&lt;br...</td>\n    </tr>\n    <tr>\n      <th>1919</th>\n      <td>TAN</td>\n      <td>2012</td>\n      <td>6</td>\n      <td>6</td>\n      <td>0</td>\n      <td>0</td>\n      <td>5</td>\n      <td>0</td>\n      <td>5</td>\n      <td>0</td>\n      <td>Tanzania</td>\n      <td>TZA</td>\n      <td>Tanzania, United Republic of</td>\n      <td>47053033</td>\n      <td>47,053,033</td>\n      <td>&lt;extra&gt;TZA&lt;/extra&gt;&lt;b&gt;Tanzania, United Republic...</td>\n    </tr>\n    <tr>\n      <th>83</th>\n      <td>ARG</td>\n      <td>2012</td>\n      <td>148</td>\n      <td>137</td>\n      <td>2</td>\n      <td>1</td>\n      <td>63</td>\n      <td>1</td>\n      <td>67</td>\n      <td>4</td>\n      <td>Argentina</td>\n      <td>ARG</td>\n      <td>Argentina</td>\n      <td>41733271</td>\n      <td>41,733,271</td>\n      <td>&lt;extra&gt;ARG&lt;/extra&gt;&lt;b&gt;Argentina (2012)&lt;/b&gt;&lt;br&gt;&lt;...</td>\n    </tr>\n    <tr>\n      <th>1687</th>\n      <td>RSA</td>\n      <td>2012</td>\n      <td>145</td>\n      <td>124</td>\n      <td>1</td>\n      <td>3</td>\n      <td>59</td>\n      <td>2</td>\n      <td>65</td>\n      <td>6</td>\n      <td>South Africa</td>\n      <td>ZAF</td>\n      <td>South Africa</td>\n      <td>52832659</td>\n      <td>52,832,659</td>\n      <td>&lt;extra&gt;ZAF&lt;/extra&gt;&lt;b&gt;South Africa (2012)&lt;/b&gt;&lt;b...</td>\n    </tr>\n    <tr>\n      <th>470</th>\n      <td>COL</td>\n      <td>2012</td>\n      <td>120</td>\n      <td>101</td>\n      <td>4</td>\n      <td>1</td>\n      <td>75</td>\n      <td>3</td>\n      <td>83</td>\n      <td>8</td>\n      <td>Colombia</td>\n      <td>COL</td>\n      <td>Colombia</td>\n      <td>46075721</td>\n      <td>46,075,721</td>\n      <td>&lt;extra&gt;COL&lt;/extra&gt;&lt;b&gt;Colombia (2012)&lt;/b&gt;&lt;br&gt;&lt;b...</td>\n    </tr>\n    <tr>\n      <th>1618</th>\n      <td>POL</td>\n      <td>2012</td>\n      <td>256</td>\n      <td>210</td>\n      <td>6</td>\n      <td>2</td>\n      <td>141</td>\n      <td>2</td>\n      <td>151</td>\n      <td>10</td>\n      <td>Poland</td>\n      <td>POL</td>\n      <td>Poland</td>\n      <td>38063164</td>\n      <td>38,063,164</td>\n      <td>&lt;extra&gt;POL&lt;/extra&gt;&lt;b&gt;Poland (2012)&lt;/b&gt;&lt;br&gt;&lt;br&gt;...</td>\n    </tr>\n    <tr>\n      <th>1078</th>\n      <td>KEN</td>\n      <td>2012</td>\n      <td>51</td>\n      <td>47</td>\n      <td>5</td>\n      <td>2</td>\n      <td>23</td>\n      <td>4</td>\n      <td>34</td>\n      <td>11</td>\n      <td>Kenya</td>\n      <td>KEN</td>\n      <td>Kenya</td>\n      <td>44343469</td>\n      <td>44,343,469</td>\n      <td>&lt;extra&gt;KEN&lt;/extra&gt;&lt;b&gt;Kenya (2012)&lt;/b&gt;&lt;br&gt;&lt;br&gt;M...</td>\n    </tr>\n    <tr>\n      <th>629</th>\n      <td>ESP</td>\n      <td>2012</td>\n      <td>339</td>\n      <td>278</td>\n      <td>4</td>\n      <td>3</td>\n      <td>121</td>\n      <td>10</td>\n      <td>138</td>\n      <td>17</td>\n      <td>Spain</td>\n      <td>ESP</td>\n      <td>Spain</td>\n      <td>46773055</td>\n      <td>46,773,055</td>\n      <td>&lt;extra&gt;ESP&lt;/extra&gt;&lt;b&gt;Spain (2012)&lt;/b&gt;&lt;br&gt;&lt;br&gt;M...</td>\n    </tr>\n    <tr>\n      <th>2057</th>\n      <td>UKR</td>\n      <td>2012</td>\n      <td>304</td>\n      <td>230</td>\n      <td>9</td>\n      <td>6</td>\n      <td>159</td>\n      <td>5</td>\n      <td>179</td>\n      <td>20</td>\n      <td>Ukraine</td>\n      <td>UKR</td>\n      <td>Ukraine</td>\n      <td>45593342</td>\n      <td>45,593,342</td>\n      <td>&lt;extra&gt;UKR&lt;/extra&gt;&lt;b&gt;Ukraine (2012)&lt;/b&gt;&lt;br&gt;&lt;br...</td>\n    </tr>\n    <tr>\n      <th>1101</th>\n      <td>KOR</td>\n      <td>2012</td>\n      <td>312</td>\n      <td>250</td>\n      <td>7</td>\n      <td>13</td>\n      <td>122</td>\n      <td>8</td>\n      <td>150</td>\n      <td>28</td>\n      <td>South Korea</td>\n      <td>KOR</td>\n      <td>Korea, Republic of</td>\n      <td>50199853</td>\n      <td>50,199,853</td>\n      <td>&lt;extra&gt;KOR&lt;/extra&gt;&lt;b&gt;Korea, Republic of (2012)...</td>\n    </tr>\n  </tbody>\n</table>\n</div>"
     },
     "metadata": {},
     "output_type": "display_data"
    },
    {
     "data": {
      "text/plain": "      NOC  Year  events_partecipations_no  distinct_athletes_no  Bronze  Gold  \\\n1406  MYA  2012                         6                     6       0     0   \n1919  TAN  2012                         6                     6       0     0   \n83    ARG  2012                       148                   137       2     1   \n1687  RSA  2012                       145                   124       1     3   \n470   COL  2012                       120                   101       4     1   \n1618  POL  2012                       256                   210       6     2   \n1078  KEN  2012                        51                    47       5     2   \n629   ESP  2012                       339                   278       4     3   \n2057  UKR  2012                       304                   230       9     6   \n1101  KOR  2012                       312                   250       7    13   \n\n      NoMedal  Silver  TotalPartecipants  TotalMedals        region alpha_3  \\\n1406        6       0                  6            0       Myanmar     MMR   \n1919        5       0                  5            0      Tanzania     TZA   \n83         63       1                 67            4     Argentina     ARG   \n1687       59       2                 65            6  South Africa     ZAF   \n470        75       3                 83            8      Colombia     COL   \n1618      141       2                151           10        Poland     POL   \n1078       23       4                 34           11         Kenya     KEN   \n629       121      10                138           17         Spain     ESP   \n2057      159       5                179           20       Ukraine     UKR   \n1101      122       8                150           28   South Korea     KOR   \n\n                         iso_names  Population population_display  \\\n1406                       Myanmar    51413703         51,413,703   \n1919  Tanzania, United Republic of    47053033         47,053,033   \n83                       Argentina    41733271         41,733,271   \n1687                  South Africa    52832659         52,832,659   \n470                       Colombia    46075721         46,075,721   \n1618                        Poland    38063164         38,063,164   \n1078                         Kenya    44343469         44,343,469   \n629                          Spain    46773055         46,773,055   \n2057                       Ukraine    45593342         45,593,342   \n1101            Korea, Republic of    50199853         50,199,853   \n\n                                                display  \n1406  <extra>MMR</extra><b>Myanmar (2012)</b><br><br...  \n1919  <extra>TZA</extra><b>Tanzania, United Republic...  \n83    <extra>ARG</extra><b>Argentina (2012)</b><br><...  \n1687  <extra>ZAF</extra><b>South Africa (2012)</b><b...  \n470   <extra>COL</extra><b>Colombia (2012)</b><br><b...  \n1618  <extra>POL</extra><b>Poland (2012)</b><br><br>...  \n1078  <extra>KEN</extra><b>Kenya (2012)</b><br><br>M...  \n629   <extra>ESP</extra><b>Spain (2012)</b><br><br>M...  \n2057  <extra>UKR</extra><b>Ukraine (2012)</b><br><br...  \n1101  <extra>KOR</extra><b>Korea, Republic of (2012)...  ",
      "text/html": "<div>\n<style scoped>\n    .dataframe tbody tr th:only-of-type {\n        vertical-align: middle;\n    }\n\n    .dataframe tbody tr th {\n        vertical-align: top;\n    }\n\n    .dataframe thead th {\n        text-align: right;\n    }\n</style>\n<table border=\"1\" class=\"dataframe\">\n  <thead>\n    <tr style=\"text-align: right;\">\n      <th></th>\n      <th>NOC</th>\n      <th>Year</th>\n      <th>events_partecipations_no</th>\n      <th>distinct_athletes_no</th>\n      <th>Bronze</th>\n      <th>Gold</th>\n      <th>NoMedal</th>\n      <th>Silver</th>\n      <th>TotalPartecipants</th>\n      <th>TotalMedals</th>\n      <th>region</th>\n      <th>alpha_3</th>\n      <th>iso_names</th>\n      <th>Population</th>\n      <th>population_display</th>\n      <th>display</th>\n    </tr>\n  </thead>\n  <tbody>\n    <tr>\n      <th>1406</th>\n      <td>MYA</td>\n      <td>2012</td>\n      <td>6</td>\n      <td>6</td>\n      <td>0</td>\n      <td>0</td>\n      <td>6</td>\n      <td>0</td>\n      <td>6</td>\n      <td>0</td>\n      <td>Myanmar</td>\n      <td>MMR</td>\n      <td>Myanmar</td>\n      <td>51413703</td>\n      <td>51,413,703</td>\n      <td>&lt;extra&gt;MMR&lt;/extra&gt;&lt;b&gt;Myanmar (2012)&lt;/b&gt;&lt;br&gt;&lt;br...</td>\n    </tr>\n    <tr>\n      <th>1919</th>\n      <td>TAN</td>\n      <td>2012</td>\n      <td>6</td>\n      <td>6</td>\n      <td>0</td>\n      <td>0</td>\n      <td>5</td>\n      <td>0</td>\n      <td>5</td>\n      <td>0</td>\n      <td>Tanzania</td>\n      <td>TZA</td>\n      <td>Tanzania, United Republic of</td>\n      <td>47053033</td>\n      <td>47,053,033</td>\n      <td>&lt;extra&gt;TZA&lt;/extra&gt;&lt;b&gt;Tanzania, United Republic...</td>\n    </tr>\n    <tr>\n      <th>83</th>\n      <td>ARG</td>\n      <td>2012</td>\n      <td>148</td>\n      <td>137</td>\n      <td>2</td>\n      <td>1</td>\n      <td>63</td>\n      <td>1</td>\n      <td>67</td>\n      <td>4</td>\n      <td>Argentina</td>\n      <td>ARG</td>\n      <td>Argentina</td>\n      <td>41733271</td>\n      <td>41,733,271</td>\n      <td>&lt;extra&gt;ARG&lt;/extra&gt;&lt;b&gt;Argentina (2012)&lt;/b&gt;&lt;br&gt;&lt;...</td>\n    </tr>\n    <tr>\n      <th>1687</th>\n      <td>RSA</td>\n      <td>2012</td>\n      <td>145</td>\n      <td>124</td>\n      <td>1</td>\n      <td>3</td>\n      <td>59</td>\n      <td>2</td>\n      <td>65</td>\n      <td>6</td>\n      <td>South Africa</td>\n      <td>ZAF</td>\n      <td>South Africa</td>\n      <td>52832659</td>\n      <td>52,832,659</td>\n      <td>&lt;extra&gt;ZAF&lt;/extra&gt;&lt;b&gt;South Africa (2012)&lt;/b&gt;&lt;b...</td>\n    </tr>\n    <tr>\n      <th>470</th>\n      <td>COL</td>\n      <td>2012</td>\n      <td>120</td>\n      <td>101</td>\n      <td>4</td>\n      <td>1</td>\n      <td>75</td>\n      <td>3</td>\n      <td>83</td>\n      <td>8</td>\n      <td>Colombia</td>\n      <td>COL</td>\n      <td>Colombia</td>\n      <td>46075721</td>\n      <td>46,075,721</td>\n      <td>&lt;extra&gt;COL&lt;/extra&gt;&lt;b&gt;Colombia (2012)&lt;/b&gt;&lt;br&gt;&lt;b...</td>\n    </tr>\n    <tr>\n      <th>1618</th>\n      <td>POL</td>\n      <td>2012</td>\n      <td>256</td>\n      <td>210</td>\n      <td>6</td>\n      <td>2</td>\n      <td>141</td>\n      <td>2</td>\n      <td>151</td>\n      <td>10</td>\n      <td>Poland</td>\n      <td>POL</td>\n      <td>Poland</td>\n      <td>38063164</td>\n      <td>38,063,164</td>\n      <td>&lt;extra&gt;POL&lt;/extra&gt;&lt;b&gt;Poland (2012)&lt;/b&gt;&lt;br&gt;&lt;br&gt;...</td>\n    </tr>\n    <tr>\n      <th>1078</th>\n      <td>KEN</td>\n      <td>2012</td>\n      <td>51</td>\n      <td>47</td>\n      <td>5</td>\n      <td>2</td>\n      <td>23</td>\n      <td>4</td>\n      <td>34</td>\n      <td>11</td>\n      <td>Kenya</td>\n      <td>KEN</td>\n      <td>Kenya</td>\n      <td>44343469</td>\n      <td>44,343,469</td>\n      <td>&lt;extra&gt;KEN&lt;/extra&gt;&lt;b&gt;Kenya (2012)&lt;/b&gt;&lt;br&gt;&lt;br&gt;M...</td>\n    </tr>\n    <tr>\n      <th>629</th>\n      <td>ESP</td>\n      <td>2012</td>\n      <td>339</td>\n      <td>278</td>\n      <td>4</td>\n      <td>3</td>\n      <td>121</td>\n      <td>10</td>\n      <td>138</td>\n      <td>17</td>\n      <td>Spain</td>\n      <td>ESP</td>\n      <td>Spain</td>\n      <td>46773055</td>\n      <td>46,773,055</td>\n      <td>&lt;extra&gt;ESP&lt;/extra&gt;&lt;b&gt;Spain (2012)&lt;/b&gt;&lt;br&gt;&lt;br&gt;M...</td>\n    </tr>\n    <tr>\n      <th>2057</th>\n      <td>UKR</td>\n      <td>2012</td>\n      <td>304</td>\n      <td>230</td>\n      <td>9</td>\n      <td>6</td>\n      <td>159</td>\n      <td>5</td>\n      <td>179</td>\n      <td>20</td>\n      <td>Ukraine</td>\n      <td>UKR</td>\n      <td>Ukraine</td>\n      <td>45593342</td>\n      <td>45,593,342</td>\n      <td>&lt;extra&gt;UKR&lt;/extra&gt;&lt;b&gt;Ukraine (2012)&lt;/b&gt;&lt;br&gt;&lt;br...</td>\n    </tr>\n    <tr>\n      <th>1101</th>\n      <td>KOR</td>\n      <td>2012</td>\n      <td>312</td>\n      <td>250</td>\n      <td>7</td>\n      <td>13</td>\n      <td>122</td>\n      <td>8</td>\n      <td>150</td>\n      <td>28</td>\n      <td>South Korea</td>\n      <td>KOR</td>\n      <td>Korea, Republic of</td>\n      <td>50199853</td>\n      <td>50,199,853</td>\n      <td>&lt;extra&gt;KOR&lt;/extra&gt;&lt;b&gt;Korea, Republic of (2012)...</td>\n    </tr>\n  </tbody>\n</table>\n</div>"
     },
     "metadata": {},
     "output_type": "display_data"
    },
    {
     "data": {
      "text/plain": "      NOC  Year  events_partecipations_no  distinct_athletes_no  Bronze  Gold  \\\n1405  MYA  2008                         7                     6       0     0   \n1918  TAN  2008                         9                     9       0     0   \n1686  RSA  2008                       179                   134       0     0   \n469   COL  2008                        90                    67       1     0   \n82    ARG  2008                       145                   132       4     2   \n1617  POL  2008                       316                   257       1     3   \n1077  KEN  2008                        47                    46       5     6   \n628   ESP  2008                       355                   283       3     5   \n2056  UKR  2008                       327                   243      15     7   \n1100  KOR  2008                       329                   265       8    13   \n\n      NoMedal  Silver  TotalPartecipants  TotalMedals        region alpha_3  \\\n1405        7       0                  7            0       Myanmar     MMR   \n1918        6       0                  6            0      Tanzania     TZA   \n1686       88       1                 89            1  South Africa     ZAF   \n469        73       1                 75            2      Colombia     COL   \n82         65       0                 71            6     Argentina     ARG   \n1617      157       6                167           10        Poland     POL   \n1077       23       4                 38           15         Kenya     KEN   \n628       133      10                151           18         Spain     ESP   \n2056      161       5                188           27       Ukraine     UKR   \n1100      122      10                153           31   South Korea     KOR   \n\n                         iso_names  Population population_display  \\\n1405                       Myanmar    49929642         49,929,642   \n1918  Tanzania, United Republic of    41853944         41,853,944   \n1686                  South Africa    49779472         49,779,472   \n469                       Colombia    44254972         44,254,972   \n82                       Argentina    40080159         40,080,159   \n1617                        Poland    38125759         38,125,759   \n1077                         Kenya    39791984         39,791,984   \n628                          Spain    45954106         45,954,106   \n2056                       Ukraine    46258189         46,258,189   \n1100            Korea, Republic of    49054708         49,054,708   \n\n                                                display  \n1405  <extra>MMR</extra><b>Myanmar (2008)</b><br><br...  \n1918  <extra>TZA</extra><b>Tanzania, United Republic...  \n1686  <extra>ZAF</extra><b>South Africa (2008)</b><b...  \n469   <extra>COL</extra><b>Colombia (2008)</b><br><b...  \n82    <extra>ARG</extra><b>Argentina (2008)</b><br><...  \n1617  <extra>POL</extra><b>Poland (2008)</b><br><br>...  \n1077  <extra>KEN</extra><b>Kenya (2008)</b><br><br>M...  \n628   <extra>ESP</extra><b>Spain (2008)</b><br><br>M...  \n2056  <extra>UKR</extra><b>Ukraine (2008)</b><br><br...  \n1100  <extra>KOR</extra><b>Korea, Republic of (2008)...  ",
      "text/html": "<div>\n<style scoped>\n    .dataframe tbody tr th:only-of-type {\n        vertical-align: middle;\n    }\n\n    .dataframe tbody tr th {\n        vertical-align: top;\n    }\n\n    .dataframe thead th {\n        text-align: right;\n    }\n</style>\n<table border=\"1\" class=\"dataframe\">\n  <thead>\n    <tr style=\"text-align: right;\">\n      <th></th>\n      <th>NOC</th>\n      <th>Year</th>\n      <th>events_partecipations_no</th>\n      <th>distinct_athletes_no</th>\n      <th>Bronze</th>\n      <th>Gold</th>\n      <th>NoMedal</th>\n      <th>Silver</th>\n      <th>TotalPartecipants</th>\n      <th>TotalMedals</th>\n      <th>region</th>\n      <th>alpha_3</th>\n      <th>iso_names</th>\n      <th>Population</th>\n      <th>population_display</th>\n      <th>display</th>\n    </tr>\n  </thead>\n  <tbody>\n    <tr>\n      <th>1405</th>\n      <td>MYA</td>\n      <td>2008</td>\n      <td>7</td>\n      <td>6</td>\n      <td>0</td>\n      <td>0</td>\n      <td>7</td>\n      <td>0</td>\n      <td>7</td>\n      <td>0</td>\n      <td>Myanmar</td>\n      <td>MMR</td>\n      <td>Myanmar</td>\n      <td>49929642</td>\n      <td>49,929,642</td>\n      <td>&lt;extra&gt;MMR&lt;/extra&gt;&lt;b&gt;Myanmar (2008)&lt;/b&gt;&lt;br&gt;&lt;br...</td>\n    </tr>\n    <tr>\n      <th>1918</th>\n      <td>TAN</td>\n      <td>2008</td>\n      <td>9</td>\n      <td>9</td>\n      <td>0</td>\n      <td>0</td>\n      <td>6</td>\n      <td>0</td>\n      <td>6</td>\n      <td>0</td>\n      <td>Tanzania</td>\n      <td>TZA</td>\n      <td>Tanzania, United Republic of</td>\n      <td>41853944</td>\n      <td>41,853,944</td>\n      <td>&lt;extra&gt;TZA&lt;/extra&gt;&lt;b&gt;Tanzania, United Republic...</td>\n    </tr>\n    <tr>\n      <th>1686</th>\n      <td>RSA</td>\n      <td>2008</td>\n      <td>179</td>\n      <td>134</td>\n      <td>0</td>\n      <td>0</td>\n      <td>88</td>\n      <td>1</td>\n      <td>89</td>\n      <td>1</td>\n      <td>South Africa</td>\n      <td>ZAF</td>\n      <td>South Africa</td>\n      <td>49779472</td>\n      <td>49,779,472</td>\n      <td>&lt;extra&gt;ZAF&lt;/extra&gt;&lt;b&gt;South Africa (2008)&lt;/b&gt;&lt;b...</td>\n    </tr>\n    <tr>\n      <th>469</th>\n      <td>COL</td>\n      <td>2008</td>\n      <td>90</td>\n      <td>67</td>\n      <td>1</td>\n      <td>0</td>\n      <td>73</td>\n      <td>1</td>\n      <td>75</td>\n      <td>2</td>\n      <td>Colombia</td>\n      <td>COL</td>\n      <td>Colombia</td>\n      <td>44254972</td>\n      <td>44,254,972</td>\n      <td>&lt;extra&gt;COL&lt;/extra&gt;&lt;b&gt;Colombia (2008)&lt;/b&gt;&lt;br&gt;&lt;b...</td>\n    </tr>\n    <tr>\n      <th>82</th>\n      <td>ARG</td>\n      <td>2008</td>\n      <td>145</td>\n      <td>132</td>\n      <td>4</td>\n      <td>2</td>\n      <td>65</td>\n      <td>0</td>\n      <td>71</td>\n      <td>6</td>\n      <td>Argentina</td>\n      <td>ARG</td>\n      <td>Argentina</td>\n      <td>40080159</td>\n      <td>40,080,159</td>\n      <td>&lt;extra&gt;ARG&lt;/extra&gt;&lt;b&gt;Argentina (2008)&lt;/b&gt;&lt;br&gt;&lt;...</td>\n    </tr>\n    <tr>\n      <th>1617</th>\n      <td>POL</td>\n      <td>2008</td>\n      <td>316</td>\n      <td>257</td>\n      <td>1</td>\n      <td>3</td>\n      <td>157</td>\n      <td>6</td>\n      <td>167</td>\n      <td>10</td>\n      <td>Poland</td>\n      <td>POL</td>\n      <td>Poland</td>\n      <td>38125759</td>\n      <td>38,125,759</td>\n      <td>&lt;extra&gt;POL&lt;/extra&gt;&lt;b&gt;Poland (2008)&lt;/b&gt;&lt;br&gt;&lt;br&gt;...</td>\n    </tr>\n    <tr>\n      <th>1077</th>\n      <td>KEN</td>\n      <td>2008</td>\n      <td>47</td>\n      <td>46</td>\n      <td>5</td>\n      <td>6</td>\n      <td>23</td>\n      <td>4</td>\n      <td>38</td>\n      <td>15</td>\n      <td>Kenya</td>\n      <td>KEN</td>\n      <td>Kenya</td>\n      <td>39791984</td>\n      <td>39,791,984</td>\n      <td>&lt;extra&gt;KEN&lt;/extra&gt;&lt;b&gt;Kenya (2008)&lt;/b&gt;&lt;br&gt;&lt;br&gt;M...</td>\n    </tr>\n    <tr>\n      <th>628</th>\n      <td>ESP</td>\n      <td>2008</td>\n      <td>355</td>\n      <td>283</td>\n      <td>3</td>\n      <td>5</td>\n      <td>133</td>\n      <td>10</td>\n      <td>151</td>\n      <td>18</td>\n      <td>Spain</td>\n      <td>ESP</td>\n      <td>Spain</td>\n      <td>45954106</td>\n      <td>45,954,106</td>\n      <td>&lt;extra&gt;ESP&lt;/extra&gt;&lt;b&gt;Spain (2008)&lt;/b&gt;&lt;br&gt;&lt;br&gt;M...</td>\n    </tr>\n    <tr>\n      <th>2056</th>\n      <td>UKR</td>\n      <td>2008</td>\n      <td>327</td>\n      <td>243</td>\n      <td>15</td>\n      <td>7</td>\n      <td>161</td>\n      <td>5</td>\n      <td>188</td>\n      <td>27</td>\n      <td>Ukraine</td>\n      <td>UKR</td>\n      <td>Ukraine</td>\n      <td>46258189</td>\n      <td>46,258,189</td>\n      <td>&lt;extra&gt;UKR&lt;/extra&gt;&lt;b&gt;Ukraine (2008)&lt;/b&gt;&lt;br&gt;&lt;br...</td>\n    </tr>\n    <tr>\n      <th>1100</th>\n      <td>KOR</td>\n      <td>2008</td>\n      <td>329</td>\n      <td>265</td>\n      <td>8</td>\n      <td>13</td>\n      <td>122</td>\n      <td>10</td>\n      <td>153</td>\n      <td>31</td>\n      <td>South Korea</td>\n      <td>KOR</td>\n      <td>Korea, Republic of</td>\n      <td>49054708</td>\n      <td>49,054,708</td>\n      <td>&lt;extra&gt;KOR&lt;/extra&gt;&lt;b&gt;Korea, Republic of (2008)...</td>\n    </tr>\n  </tbody>\n</table>\n</div>"
     },
     "metadata": {},
     "output_type": "display_data"
    },
    {
     "data": {
      "text/plain": "      NOC  Year  events_partecipations_no  distinct_athletes_no  Bronze  Gold  \\\n1405  MYA  2008                         7                     6       0     0   \n1918  TAN  2008                         9                     9       0     0   \n1686  RSA  2008                       179                   134       0     0   \n469   COL  2008                        90                    67       1     0   \n82    ARG  2008                       145                   132       4     2   \n1617  POL  2008                       316                   257       1     3   \n1077  KEN  2008                        47                    46       5     6   \n628   ESP  2008                       355                   283       3     5   \n2056  UKR  2008                       327                   243      15     7   \n1100  KOR  2008                       329                   265       8    13   \n\n      NoMedal  Silver  TotalPartecipants  TotalMedals        region alpha_3  \\\n1405        7       0                  7            0       Myanmar     MMR   \n1918        6       0                  6            0      Tanzania     TZA   \n1686       88       1                 89            1  South Africa     ZAF   \n469        73       1                 75            2      Colombia     COL   \n82         65       0                 71            6     Argentina     ARG   \n1617      157       6                167           10        Poland     POL   \n1077       23       4                 38           15         Kenya     KEN   \n628       133      10                151           18         Spain     ESP   \n2056      161       5                188           27       Ukraine     UKR   \n1100      122      10                153           31   South Korea     KOR   \n\n                         iso_names  Population population_display  \\\n1405                       Myanmar    49929642         49,929,642   \n1918  Tanzania, United Republic of    41853944         41,853,944   \n1686                  South Africa    49779472         49,779,472   \n469                       Colombia    44254972         44,254,972   \n82                       Argentina    40080159         40,080,159   \n1617                        Poland    38125759         38,125,759   \n1077                         Kenya    39791984         39,791,984   \n628                          Spain    45954106         45,954,106   \n2056                       Ukraine    46258189         46,258,189   \n1100            Korea, Republic of    49054708         49,054,708   \n\n                                                display  \n1405  <extra>MMR</extra><b>Myanmar (2008)</b><br><br...  \n1918  <extra>TZA</extra><b>Tanzania, United Republic...  \n1686  <extra>ZAF</extra><b>South Africa (2008)</b><b...  \n469   <extra>COL</extra><b>Colombia (2008)</b><br><b...  \n82    <extra>ARG</extra><b>Argentina (2008)</b><br><...  \n1617  <extra>POL</extra><b>Poland (2008)</b><br><br>...  \n1077  <extra>KEN</extra><b>Kenya (2008)</b><br><br>M...  \n628   <extra>ESP</extra><b>Spain (2008)</b><br><br>M...  \n2056  <extra>UKR</extra><b>Ukraine (2008)</b><br><br...  \n1100  <extra>KOR</extra><b>Korea, Republic of (2008)...  ",
      "text/html": "<div>\n<style scoped>\n    .dataframe tbody tr th:only-of-type {\n        vertical-align: middle;\n    }\n\n    .dataframe tbody tr th {\n        vertical-align: top;\n    }\n\n    .dataframe thead th {\n        text-align: right;\n    }\n</style>\n<table border=\"1\" class=\"dataframe\">\n  <thead>\n    <tr style=\"text-align: right;\">\n      <th></th>\n      <th>NOC</th>\n      <th>Year</th>\n      <th>events_partecipations_no</th>\n      <th>distinct_athletes_no</th>\n      <th>Bronze</th>\n      <th>Gold</th>\n      <th>NoMedal</th>\n      <th>Silver</th>\n      <th>TotalPartecipants</th>\n      <th>TotalMedals</th>\n      <th>region</th>\n      <th>alpha_3</th>\n      <th>iso_names</th>\n      <th>Population</th>\n      <th>population_display</th>\n      <th>display</th>\n    </tr>\n  </thead>\n  <tbody>\n    <tr>\n      <th>1405</th>\n      <td>MYA</td>\n      <td>2008</td>\n      <td>7</td>\n      <td>6</td>\n      <td>0</td>\n      <td>0</td>\n      <td>7</td>\n      <td>0</td>\n      <td>7</td>\n      <td>0</td>\n      <td>Myanmar</td>\n      <td>MMR</td>\n      <td>Myanmar</td>\n      <td>49929642</td>\n      <td>49,929,642</td>\n      <td>&lt;extra&gt;MMR&lt;/extra&gt;&lt;b&gt;Myanmar (2008)&lt;/b&gt;&lt;br&gt;&lt;br...</td>\n    </tr>\n    <tr>\n      <th>1918</th>\n      <td>TAN</td>\n      <td>2008</td>\n      <td>9</td>\n      <td>9</td>\n      <td>0</td>\n      <td>0</td>\n      <td>6</td>\n      <td>0</td>\n      <td>6</td>\n      <td>0</td>\n      <td>Tanzania</td>\n      <td>TZA</td>\n      <td>Tanzania, United Republic of</td>\n      <td>41853944</td>\n      <td>41,853,944</td>\n      <td>&lt;extra&gt;TZA&lt;/extra&gt;&lt;b&gt;Tanzania, United Republic...</td>\n    </tr>\n    <tr>\n      <th>1686</th>\n      <td>RSA</td>\n      <td>2008</td>\n      <td>179</td>\n      <td>134</td>\n      <td>0</td>\n      <td>0</td>\n      <td>88</td>\n      <td>1</td>\n      <td>89</td>\n      <td>1</td>\n      <td>South Africa</td>\n      <td>ZAF</td>\n      <td>South Africa</td>\n      <td>49779472</td>\n      <td>49,779,472</td>\n      <td>&lt;extra&gt;ZAF&lt;/extra&gt;&lt;b&gt;South Africa (2008)&lt;/b&gt;&lt;b...</td>\n    </tr>\n    <tr>\n      <th>469</th>\n      <td>COL</td>\n      <td>2008</td>\n      <td>90</td>\n      <td>67</td>\n      <td>1</td>\n      <td>0</td>\n      <td>73</td>\n      <td>1</td>\n      <td>75</td>\n      <td>2</td>\n      <td>Colombia</td>\n      <td>COL</td>\n      <td>Colombia</td>\n      <td>44254972</td>\n      <td>44,254,972</td>\n      <td>&lt;extra&gt;COL&lt;/extra&gt;&lt;b&gt;Colombia (2008)&lt;/b&gt;&lt;br&gt;&lt;b...</td>\n    </tr>\n    <tr>\n      <th>82</th>\n      <td>ARG</td>\n      <td>2008</td>\n      <td>145</td>\n      <td>132</td>\n      <td>4</td>\n      <td>2</td>\n      <td>65</td>\n      <td>0</td>\n      <td>71</td>\n      <td>6</td>\n      <td>Argentina</td>\n      <td>ARG</td>\n      <td>Argentina</td>\n      <td>40080159</td>\n      <td>40,080,159</td>\n      <td>&lt;extra&gt;ARG&lt;/extra&gt;&lt;b&gt;Argentina (2008)&lt;/b&gt;&lt;br&gt;&lt;...</td>\n    </tr>\n    <tr>\n      <th>1617</th>\n      <td>POL</td>\n      <td>2008</td>\n      <td>316</td>\n      <td>257</td>\n      <td>1</td>\n      <td>3</td>\n      <td>157</td>\n      <td>6</td>\n      <td>167</td>\n      <td>10</td>\n      <td>Poland</td>\n      <td>POL</td>\n      <td>Poland</td>\n      <td>38125759</td>\n      <td>38,125,759</td>\n      <td>&lt;extra&gt;POL&lt;/extra&gt;&lt;b&gt;Poland (2008)&lt;/b&gt;&lt;br&gt;&lt;br&gt;...</td>\n    </tr>\n    <tr>\n      <th>1077</th>\n      <td>KEN</td>\n      <td>2008</td>\n      <td>47</td>\n      <td>46</td>\n      <td>5</td>\n      <td>6</td>\n      <td>23</td>\n      <td>4</td>\n      <td>38</td>\n      <td>15</td>\n      <td>Kenya</td>\n      <td>KEN</td>\n      <td>Kenya</td>\n      <td>39791984</td>\n      <td>39,791,984</td>\n      <td>&lt;extra&gt;KEN&lt;/extra&gt;&lt;b&gt;Kenya (2008)&lt;/b&gt;&lt;br&gt;&lt;br&gt;M...</td>\n    </tr>\n    <tr>\n      <th>628</th>\n      <td>ESP</td>\n      <td>2008</td>\n      <td>355</td>\n      <td>283</td>\n      <td>3</td>\n      <td>5</td>\n      <td>133</td>\n      <td>10</td>\n      <td>151</td>\n      <td>18</td>\n      <td>Spain</td>\n      <td>ESP</td>\n      <td>Spain</td>\n      <td>45954106</td>\n      <td>45,954,106</td>\n      <td>&lt;extra&gt;ESP&lt;/extra&gt;&lt;b&gt;Spain (2008)&lt;/b&gt;&lt;br&gt;&lt;br&gt;M...</td>\n    </tr>\n    <tr>\n      <th>2056</th>\n      <td>UKR</td>\n      <td>2008</td>\n      <td>327</td>\n      <td>243</td>\n      <td>15</td>\n      <td>7</td>\n      <td>161</td>\n      <td>5</td>\n      <td>188</td>\n      <td>27</td>\n      <td>Ukraine</td>\n      <td>UKR</td>\n      <td>Ukraine</td>\n      <td>46258189</td>\n      <td>46,258,189</td>\n      <td>&lt;extra&gt;UKR&lt;/extra&gt;&lt;b&gt;Ukraine (2008)&lt;/b&gt;&lt;br&gt;&lt;br...</td>\n    </tr>\n    <tr>\n      <th>1100</th>\n      <td>KOR</td>\n      <td>2008</td>\n      <td>329</td>\n      <td>265</td>\n      <td>8</td>\n      <td>13</td>\n      <td>122</td>\n      <td>10</td>\n      <td>153</td>\n      <td>31</td>\n      <td>South Korea</td>\n      <td>KOR</td>\n      <td>Korea, Republic of</td>\n      <td>49054708</td>\n      <td>49,054,708</td>\n      <td>&lt;extra&gt;KOR&lt;/extra&gt;&lt;b&gt;Korea, Republic of (2008)...</td>\n    </tr>\n  </tbody>\n</table>\n</div>"
     },
     "metadata": {},
     "output_type": "display_data"
    }
   ],
   "source": [
    "\n",
    "import pycountry\n",
    "\n",
    "selected_country = \"ESP\"\n",
    "\n",
    "if selected_country in gold_df.alpha_3.unique():\n",
    "    fig = get_fig_choropleth_similar_size(gold_df, selected_country, recent_years)\n",
    "    fig.show(renderer='browser')\n",
    "else:\n",
    "    print(f\"What did you mean by {selected_country}?\")\n",
    "    print(pycountry.countries.search_fuzzy(selected_country))\n"
   ],
   "metadata": {
    "collapsed": false,
    "pycharm": {
     "name": "#%%\n"
    }
   }
  },
  {
   "cell_type": "code",
   "execution_count": 217,
   "outputs": [],
   "source": [
    "# World View\n",
    "\n",
    "def get_fig_choropleth_world(df, show_years, sort_by = 'TotalMedals'):\n",
    "    fig_world = go.Figure()\n",
    "\n",
    "    first = True\n",
    "\n",
    "    for year in show_years:\n",
    "        year_df = df.loc[df.Year == year]\n",
    "        dupes = year_df.loc[year_df.duplicated(subset=['Year', 'alpha_3'], keep=False)]\n",
    "\n",
    "        visible = False\n",
    "        if first:\n",
    "            visible = True\n",
    "            first = False\n",
    "\n",
    "        fig_world.add_trace( \\\n",
    "            go.Choropleth(\n",
    "            locations=year_df.alpha_3,\n",
    "            z=year_df[sort_by],\n",
    "            colorscale=get_choropleth_colormap(sort_by),\n",
    "            customdata=year_df.display,\n",
    "            hovertemplate='%{customdata}',\n",
    "            text=year_df.iso_names,\n",
    "            marker_line_color='darkgray',\n",
    "            marker_line_width=0.5,\n",
    "            colorbar_title = get_choropleth_colormap_title(sort_by),\n",
    "            visible=visible,\n",
    "            )\n",
    "        )\n",
    "\n",
    "    title_starts_with = get_choropleth_title_starts_with(sort_by)\n",
    "    y_label_height = 0.98\n",
    "    fig_world.update_layout(\n",
    "        title={\n",
    "            'text': f'{title_starts_with} in year {show_years[0]} worldwide',\n",
    "            'y':1,\n",
    "            'x':0.45,\n",
    "            'xanchor': 'center',\n",
    "            'yanchor': 'bottom',\n",
    "            'xref': 'paper',\n",
    "            'yref': 'paper',\n",
    "            'pad': {\"b\": 20, \"t\": 10},\n",
    "        },\n",
    "        updatemenus=[\n",
    "            dict(\n",
    "                active=0,\n",
    "                buttons=list([\n",
    "                    dict(label=str(show_years[0]),\n",
    "                         method=\"update\",\n",
    "                         args=[{\"visible\": [True, False, False]},\n",
    "                               {\"title\": f'{title_starts_with} in year {show_years[0]} worldwide'}]),\n",
    "                    dict(label=str(show_years[1]),\n",
    "                         method=\"update\",\n",
    "                         args=[{\"visible\": [False, True, False]},\n",
    "                               {\"title\": f'{title_starts_with} in year {show_years[1]} worldwide'}]),\n",
    "                    dict(label=str(show_years[2]),\n",
    "                         method=\"update\",\n",
    "                         args=[{\"visible\": [False, False, True]},\n",
    "                               {\"title\": f'{title_starts_with} in year {show_years[2]} worldwide'}]),\n",
    "                ]),\n",
    "                x = 0,\n",
    "                xanchor = 'left',\n",
    "                y = y_label_height,\n",
    "                yanchor = 'top',\n",
    "                pad={\"t\": 10}\n",
    "            )\n",
    "        ],\n",
    "        annotations=[\n",
    "            dict(text=\"Select Olympic year:\", x=0, xref=\"paper\", y=1, yref=\"paper\",\n",
    "                                 align=\"left\", showarrow=False)]\n",
    "\n",
    "    )\n",
    "    return fig_world\n"
   ],
   "metadata": {
    "collapsed": false,
    "pycharm": {
     "name": "#%%\n"
    }
   }
  },
  {
   "cell_type": "code",
   "execution_count": 218,
   "outputs": [],
   "source": [
    "fig = get_fig_choropleth_world(gold_df, recent_years)\n",
    "fig.show(renderer='browser')"
   ],
   "metadata": {
    "collapsed": false,
    "pycharm": {
     "name": "#%%"
    }
   }
  },
  {
   "cell_type": "code",
   "execution_count": 219,
   "outputs": [],
   "source": [
    "fig = get_fig_choropleth_world(gold_countries_derivatives_df, recent_years, 'velocity')\n",
    "fig.show(renderer='browser')"
   ],
   "metadata": {
    "collapsed": false,
    "pycharm": {
     "name": "#%%\n"
    }
   }
  },
  {
   "cell_type": "code",
   "execution_count": 220,
   "outputs": [],
   "source": [
    "fig = get_fig_choropleth_world(gold_countries_derivatives_df, recent_years, 'acceleration')\n",
    "fig.show(renderer='browser')"
   ],
   "metadata": {
    "collapsed": false,
    "pycharm": {
     "name": "#%%\n"
    }
   }
  },
  {
   "cell_type": "code",
   "execution_count": 221,
   "outputs": [
    {
     "data": {
      "text/plain": "    NOC  Year  events_partecipations_no  distinct_athletes_no  Bronze  Gold  \\\n7   AFG  2008                         4                     4       1     0   \n8   AFG  2012                         6                     6       1     0   \n15  AHO  1988                         4                     3       0     0   \n\n    NoMedal  Silver  TotalPartecipants  TotalMedals       region alpha_3  \\\n7         3       0                  4            1  Afghanistan     AFG   \n8         5       0                  6            1  Afghanistan     AFG   \n15        3       1                  4            1      Curacao     CUW   \n\n      iso_names  Population  PopulationPerMedal_thousands  \\\n7   Afghanistan    27722281                     27722.281   \n8   Afghanistan    31161378                     31161.378   \n15      Curaçao      149254                       149.254   \n\n    EventPartecipationPerMedal  AthletePerMedal  AthletePerEventPartecipation  \\\n7                          4.0              4.0                          1.00   \n8                          6.0              6.0                          1.00   \n15                         4.0              3.0                          0.75   \n\n   population_display                                            display  \n7          27,722,281  <extra>AFG</extra><b>Afghanistan (2008)</b><br...  \n8          31,161,378  <extra>AFG</extra><b>Afghanistan (2012)</b><br...  \n15            149,254  <extra>CUW</extra><b>Curaçao (1988)</b><br><br...  ",
      "text/html": "<div>\n<style scoped>\n    .dataframe tbody tr th:only-of-type {\n        vertical-align: middle;\n    }\n\n    .dataframe tbody tr th {\n        vertical-align: top;\n    }\n\n    .dataframe thead th {\n        text-align: right;\n    }\n</style>\n<table border=\"1\" class=\"dataframe\">\n  <thead>\n    <tr style=\"text-align: right;\">\n      <th></th>\n      <th>NOC</th>\n      <th>Year</th>\n      <th>events_partecipations_no</th>\n      <th>distinct_athletes_no</th>\n      <th>Bronze</th>\n      <th>Gold</th>\n      <th>NoMedal</th>\n      <th>Silver</th>\n      <th>TotalPartecipants</th>\n      <th>TotalMedals</th>\n      <th>region</th>\n      <th>alpha_3</th>\n      <th>iso_names</th>\n      <th>Population</th>\n      <th>PopulationPerMedal_thousands</th>\n      <th>EventPartecipationPerMedal</th>\n      <th>AthletePerMedal</th>\n      <th>AthletePerEventPartecipation</th>\n      <th>population_display</th>\n      <th>display</th>\n    </tr>\n  </thead>\n  <tbody>\n    <tr>\n      <th>7</th>\n      <td>AFG</td>\n      <td>2008</td>\n      <td>4</td>\n      <td>4</td>\n      <td>1</td>\n      <td>0</td>\n      <td>3</td>\n      <td>0</td>\n      <td>4</td>\n      <td>1</td>\n      <td>Afghanistan</td>\n      <td>AFG</td>\n      <td>Afghanistan</td>\n      <td>27722281</td>\n      <td>27722.281</td>\n      <td>4.0</td>\n      <td>4.0</td>\n      <td>1.00</td>\n      <td>27,722,281</td>\n      <td>&lt;extra&gt;AFG&lt;/extra&gt;&lt;b&gt;Afghanistan (2008)&lt;/b&gt;&lt;br...</td>\n    </tr>\n    <tr>\n      <th>8</th>\n      <td>AFG</td>\n      <td>2012</td>\n      <td>6</td>\n      <td>6</td>\n      <td>1</td>\n      <td>0</td>\n      <td>5</td>\n      <td>0</td>\n      <td>6</td>\n      <td>1</td>\n      <td>Afghanistan</td>\n      <td>AFG</td>\n      <td>Afghanistan</td>\n      <td>31161378</td>\n      <td>31161.378</td>\n      <td>6.0</td>\n      <td>6.0</td>\n      <td>1.00</td>\n      <td>31,161,378</td>\n      <td>&lt;extra&gt;AFG&lt;/extra&gt;&lt;b&gt;Afghanistan (2012)&lt;/b&gt;&lt;br...</td>\n    </tr>\n    <tr>\n      <th>15</th>\n      <td>AHO</td>\n      <td>1988</td>\n      <td>4</td>\n      <td>3</td>\n      <td>0</td>\n      <td>0</td>\n      <td>3</td>\n      <td>1</td>\n      <td>4</td>\n      <td>1</td>\n      <td>Curacao</td>\n      <td>CUW</td>\n      <td>Curaçao</td>\n      <td>149254</td>\n      <td>149.254</td>\n      <td>4.0</td>\n      <td>3.0</td>\n      <td>0.75</td>\n      <td>149,254</td>\n      <td>&lt;extra&gt;CUW&lt;/extra&gt;&lt;b&gt;Curaçao (1988)&lt;/b&gt;&lt;br&gt;&lt;br...</td>\n    </tr>\n  </tbody>\n</table>\n</div>"
     },
     "metadata": {},
     "output_type": "display_data"
    }
   ],
   "source": [
    "gold_metrics_df = pd.read_parquet(os.path.join(dataset_path, 'gold_countries_year_metrics.parquet'))\n",
    "gold_metrics_df['population_display'] = gold_metrics_df['Population'].map('{:,}'.format)\n",
    "gold_metrics_df = gold_metrics_df.assign(display= get_display_customdata(gold_metrics_df))\n",
    "\n",
    "display(gold_metrics_df.head(3))\n"
   ],
   "metadata": {
    "collapsed": false,
    "pycharm": {
     "name": "#%%\n"
    }
   }
  },
  {
   "cell_type": "code",
   "execution_count": 222,
   "outputs": [],
   "source": [
    "fig = get_fig_choropleth_world(gold_metrics_df, recent_years, 'AthletePerEventPartecipation')\n",
    "fig.show(renderer='browser')\n",
    "\n"
   ],
   "metadata": {
    "collapsed": false,
    "pycharm": {
     "name": "#%%\n"
    }
   }
  },
  {
   "cell_type": "code",
   "execution_count": 223,
   "outputs": [],
   "source": [
    "fig = get_fig_choropleth_world(gold_metrics_df, recent_years, 'PopulationPerMedal_thousands')\n",
    "fig.show(renderer='browser')"
   ],
   "metadata": {
    "collapsed": false,
    "pycharm": {
     "name": "#%%\n"
    }
   }
  },
  {
   "cell_type": "code",
   "execution_count": 224,
   "outputs": [],
   "source": [
    "fig = get_fig_choropleth_world(gold_metrics_df, recent_years, 'AthletePerMedal')\n",
    "fig.show(renderer='browser')\n"
   ],
   "metadata": {
    "collapsed": false,
    "pycharm": {
     "name": "#%%\n"
    }
   }
  }
 ],
 "metadata": {
  "kernelspec": {
   "display_name": "Python 3",
   "language": "python",
   "name": "python3"
  },
  "language_info": {
   "codemirror_mode": {
    "name": "ipython",
    "version": 2
   },
   "file_extension": ".py",
   "mimetype": "text/x-python",
   "name": "python",
   "nbconvert_exporter": "python",
   "pygments_lexer": "ipython2",
   "version": "2.7.6"
  }
 },
 "nbformat": 4,
 "nbformat_minor": 0
}