{
 "cells": [
  {
   "cell_type": "code",
   "execution_count": 237,
   "metadata": {
    "collapsed": true
   },
   "outputs": [
    {
     "data": {
      "text/plain": "   NOC  Year  events_partecipations_no  distinct_athletes_no  Bronze  Gold  \\\n0  AFG  1964                         8                     8       0     0   \n1  AFG  1968                         5                     5       0     0   \n2  AFG  1972                         8                     8       0     0   \n\n   NoMedal  Silver  TotalPartecipants  TotalMedals       region alpha_3  \\\n0        8       0                  8            0  Afghanistan     AFG   \n1        5       0                  5            0  Afghanistan     AFG   \n2        8       0                  8            0  Afghanistan     AFG   \n\n     iso_names  Population population_display  \\\n0  Afghanistan     9744772          9,744,772   \n1  Afghanistan    10637064         10,637,064   \n2  Afghanistan    11791222         11,791,222   \n\n                                             display  \n0  <extra>AFG</extra><b>Afghanistan (1964)</b><br...  \n1  <extra>AFG</extra><b>Afghanistan (1968)</b><br...  \n2  <extra>AFG</extra><b>Afghanistan (1972)</b><br...  ",
      "text/html": "<div>\n<style scoped>\n    .dataframe tbody tr th:only-of-type {\n        vertical-align: middle;\n    }\n\n    .dataframe tbody tr th {\n        vertical-align: top;\n    }\n\n    .dataframe thead th {\n        text-align: right;\n    }\n</style>\n<table border=\"1\" class=\"dataframe\">\n  <thead>\n    <tr style=\"text-align: right;\">\n      <th></th>\n      <th>NOC</th>\n      <th>Year</th>\n      <th>events_partecipations_no</th>\n      <th>distinct_athletes_no</th>\n      <th>Bronze</th>\n      <th>Gold</th>\n      <th>NoMedal</th>\n      <th>Silver</th>\n      <th>TotalPartecipants</th>\n      <th>TotalMedals</th>\n      <th>region</th>\n      <th>alpha_3</th>\n      <th>iso_names</th>\n      <th>Population</th>\n      <th>population_display</th>\n      <th>display</th>\n    </tr>\n  </thead>\n  <tbody>\n    <tr>\n      <th>0</th>\n      <td>AFG</td>\n      <td>1964</td>\n      <td>8</td>\n      <td>8</td>\n      <td>0</td>\n      <td>0</td>\n      <td>8</td>\n      <td>0</td>\n      <td>8</td>\n      <td>0</td>\n      <td>Afghanistan</td>\n      <td>AFG</td>\n      <td>Afghanistan</td>\n      <td>9744772</td>\n      <td>9,744,772</td>\n      <td>&lt;extra&gt;AFG&lt;/extra&gt;&lt;b&gt;Afghanistan (1964)&lt;/b&gt;&lt;br...</td>\n    </tr>\n    <tr>\n      <th>1</th>\n      <td>AFG</td>\n      <td>1968</td>\n      <td>5</td>\n      <td>5</td>\n      <td>0</td>\n      <td>0</td>\n      <td>5</td>\n      <td>0</td>\n      <td>5</td>\n      <td>0</td>\n      <td>Afghanistan</td>\n      <td>AFG</td>\n      <td>Afghanistan</td>\n      <td>10637064</td>\n      <td>10,637,064</td>\n      <td>&lt;extra&gt;AFG&lt;/extra&gt;&lt;b&gt;Afghanistan (1968)&lt;/b&gt;&lt;br...</td>\n    </tr>\n    <tr>\n      <th>2</th>\n      <td>AFG</td>\n      <td>1972</td>\n      <td>8</td>\n      <td>8</td>\n      <td>0</td>\n      <td>0</td>\n      <td>8</td>\n      <td>0</td>\n      <td>8</td>\n      <td>0</td>\n      <td>Afghanistan</td>\n      <td>AFG</td>\n      <td>Afghanistan</td>\n      <td>11791222</td>\n      <td>11,791,222</td>\n      <td>&lt;extra&gt;AFG&lt;/extra&gt;&lt;b&gt;Afghanistan (1972)&lt;/b&gt;&lt;br...</td>\n    </tr>\n  </tbody>\n</table>\n</div>"
     },
     "metadata": {},
     "output_type": "display_data"
    }
   ],
   "source": [
    "import pandas as pd\n",
    "import os\n",
    "from IPython.display import display\n",
    "from pandasql import sqldf\n",
    "import numpy as np\n",
    "import importlib\n",
    "\n",
    "import plotly.express as px\n",
    "import plotly.graph_objects as go\n",
    "import maps_plotting_functions as mp\n",
    "importlib.reload(mp)\n",
    "dataset_path = 'dataset'\n",
    "pysqldf = lambda q: sqldf(q, globals())\n",
    "\n",
    "\n",
    "gold_df = pd.read_parquet(os.path.join(dataset_path, 'gold_partecipants.parquet'))\n",
    "gold_df['population_display'] = gold_df['Population'].map('{:,}'.format)\n",
    "gold_df = gold_df.assign(display= mp.get_display_customdata(gold_df))\n",
    "display(gold_df.head(3))"
   ]
  },
  {
   "cell_type": "code",
   "execution_count": 233,
   "outputs": [],
   "source": [
    "\n",
    "x_plot = np.linspace(1992, 2016, 50)\n",
    "\n",
    "my_years = [2016, 2012, 2008]\n",
    "gold_countries_derivatives_df = mp.add_worldwide_derivatives_to_df(gold_df)\n",
    "gold_countries_derivatives_df.to_parquet(os.path.join(dataset_path, 'gold_countries_derivatives.parquet'))"
   ],
   "metadata": {
    "collapsed": false,
    "pycharm": {
     "name": "#%%\n"
    }
   }
  },
  {
   "cell_type": "code",
   "execution_count": 234,
   "outputs": [
    {
     "name": "stdout",
     "output_type": "stream",
     "text": [
      "[2016 2012 2008]\n"
     ]
    }
   ],
   "source": [
    "# Get year 2016\n",
    "def get_recent_three_years(df):\n",
    "    years = df.Year.unique()\n",
    "    years = np.sort(years)\n",
    "    years = years[-3:]\n",
    "    return np.flip(years)\n",
    "\n",
    "recent_years = get_recent_three_years(gold_df)\n",
    "print(recent_years)"
   ],
   "metadata": {
    "collapsed": false,
    "pycharm": {
     "name": "#%%\n"
    }
   }
  },
  {
   "cell_type": "code",
   "execution_count": 235,
   "outputs": [],
   "source": [
    "import pycountry\n",
    "\n",
    "selected_country = \"ESP\"\n",
    "\n",
    "if selected_country in gold_df.alpha_3.unique():\n",
    "    fig = mp.get_fig_choropleth_similar_size(gold_df, selected_country, recent_years)\n",
    "    fig.show(renderer='browser')\n",
    "else:\n",
    "    print(f\"What did you mean by {selected_country}?\")\n",
    "    print(pycountry.countries.search_fuzzy(selected_country))\n"
   ],
   "metadata": {
    "collapsed": false,
    "pycharm": {
     "name": "#%%\n"
    }
   }
  },
  {
   "cell_type": "code",
   "execution_count": null,
   "outputs": [],
   "source": [
    "# World View\n"
   ],
   "metadata": {
    "collapsed": false,
    "pycharm": {
     "name": "#%%\n"
    }
   }
  },
  {
   "cell_type": "code",
   "execution_count": 236,
   "outputs": [],
   "source": [
    "fig = mp.get_fig_choropleth_world(gold_df, recent_years)\n",
    "fig.show(renderer='browser')"
   ],
   "metadata": {
    "collapsed": false,
    "pycharm": {
     "name": "#%%"
    }
   }
  },
  {
   "cell_type": "code",
   "execution_count": null,
   "outputs": [],
   "source": [
    "fig = mp.get_fig_choropleth_world(gold_countries_derivatives_df, recent_years, 'velocity')\n",
    "fig.show(renderer='browser')"
   ],
   "metadata": {
    "collapsed": false,
    "pycharm": {
     "name": "#%%\n"
    }
   }
  },
  {
   "cell_type": "code",
   "execution_count": null,
   "outputs": [],
   "source": [
    "fig = mp.get_fig_choropleth_world(gold_countries_derivatives_df, recent_years, 'acceleration')\n",
    "fig.show(renderer='browser')"
   ],
   "metadata": {
    "collapsed": false,
    "pycharm": {
     "name": "#%%\n"
    }
   }
  },
  {
   "cell_type": "code",
   "execution_count": null,
   "outputs": [],
   "source": [
    "gold_metrics_df = pd.read_parquet(os.path.join(dataset_path, 'gold_countries_year_metrics.parquet'))\n",
    "gold_metrics_df['population_display'] = gold_metrics_df['Population'].map('{:,}'.format)\n",
    "gold_metrics_df = gold_metrics_df.assign(display= mp.get_display_customdata(gold_metrics_df))\n",
    "\n",
    "display(gold_metrics_df.head(3))\n"
   ],
   "metadata": {
    "collapsed": false,
    "pycharm": {
     "name": "#%%\n"
    }
   }
  },
  {
   "cell_type": "code",
   "execution_count": null,
   "outputs": [],
   "source": [
    "fig = mp.get_fig_choropleth_world(gold_metrics_df, recent_years, 'AthletePerEventPartecipation')\n",
    "fig.show(renderer='browser')\n"
   ],
   "metadata": {
    "collapsed": false,
    "pycharm": {
     "name": "#%%\n"
    }
   }
  },
  {
   "cell_type": "code",
   "execution_count": null,
   "outputs": [],
   "source": [
    "fig = mp.get_fig_choropleth_world(gold_metrics_df, recent_years, 'PopulationPerMedal_thousands')\n",
    "fig.show(renderer='browser')"
   ],
   "metadata": {
    "collapsed": false,
    "pycharm": {
     "name": "#%%\n"
    }
   }
  },
  {
   "cell_type": "code",
   "execution_count": null,
   "outputs": [],
   "source": [
    "fig = mp.get_fig_choropleth_world(gold_metrics_df, recent_years, 'AthletePerMedal')\n",
    "fig.show(renderer='browser')\n"
   ],
   "metadata": {
    "collapsed": false,
    "pycharm": {
     "name": "#%%\n"
    }
   }
  }
 ],
 "metadata": {
  "kernelspec": {
   "display_name": "Python 3",
   "language": "python",
   "name": "python3"
  },
  "language_info": {
   "codemirror_mode": {
    "name": "ipython",
    "version": 2
   },
   "file_extension": ".py",
   "mimetype": "text/x-python",
   "name": "python",
   "nbconvert_exporter": "python",
   "pygments_lexer": "ipython2",
   "version": "2.7.6"
  }
 },
 "nbformat": 4,
 "nbformat_minor": 0
}