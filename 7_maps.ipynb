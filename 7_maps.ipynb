{
 "cells": [
  {
   "cell_type": "code",
   "execution_count": 60,
   "metadata": {
    "collapsed": true
   },
   "outputs": [
    {
     "data": {
      "text/plain": "   NOC  Year  events_partecipations_no  distinct_athletes_no  Bronze  Gold  \\\n0  AFG  1964                         8                     8       0     0   \n1  AFG  1968                         5                     5       0     0   \n2  AFG  1972                         8                     8       0     0   \n3  AFG  1980                        11                    11       0     0   \n\n   NoMedal  Silver  TotalPartecipants  TotalMedals       region alpha_3  \\\n0        8       0                  8            0  Afghanistan     AFG   \n1        5       0                  5            0  Afghanistan     AFG   \n2        8       0                  8            0  Afghanistan     AFG   \n3       11       0                 11            0  Afghanistan     AFG   \n\n     iso_names  Population population_display  \\\n0  Afghanistan     9744772          9,744,772   \n1  Afghanistan    10637064         10,637,064   \n2  Afghanistan    11791222         11,791,222   \n3  Afghanistan    13356500         13,356,500   \n\n                                             display  \n0  <extra>AFG</extra><b>Afghanistan (1964)</b><br...  \n1  <extra>AFG</extra><b>Afghanistan (1968)</b><br...  \n2  <extra>AFG</extra><b>Afghanistan (1972)</b><br...  \n3  <extra>AFG</extra><b>Afghanistan (1980)</b><br...  ",
      "text/html": "<div>\n<style scoped>\n    .dataframe tbody tr th:only-of-type {\n        vertical-align: middle;\n    }\n\n    .dataframe tbody tr th {\n        vertical-align: top;\n    }\n\n    .dataframe thead th {\n        text-align: right;\n    }\n</style>\n<table border=\"1\" class=\"dataframe\">\n  <thead>\n    <tr style=\"text-align: right;\">\n      <th></th>\n      <th>NOC</th>\n      <th>Year</th>\n      <th>events_partecipations_no</th>\n      <th>distinct_athletes_no</th>\n      <th>Bronze</th>\n      <th>Gold</th>\n      <th>NoMedal</th>\n      <th>Silver</th>\n      <th>TotalPartecipants</th>\n      <th>TotalMedals</th>\n      <th>region</th>\n      <th>alpha_3</th>\n      <th>iso_names</th>\n      <th>Population</th>\n      <th>population_display</th>\n      <th>display</th>\n    </tr>\n  </thead>\n  <tbody>\n    <tr>\n      <th>0</th>\n      <td>AFG</td>\n      <td>1964</td>\n      <td>8</td>\n      <td>8</td>\n      <td>0</td>\n      <td>0</td>\n      <td>8</td>\n      <td>0</td>\n      <td>8</td>\n      <td>0</td>\n      <td>Afghanistan</td>\n      <td>AFG</td>\n      <td>Afghanistan</td>\n      <td>9744772</td>\n      <td>9,744,772</td>\n      <td>&lt;extra&gt;AFG&lt;/extra&gt;&lt;b&gt;Afghanistan (1964)&lt;/b&gt;&lt;br...</td>\n    </tr>\n    <tr>\n      <th>1</th>\n      <td>AFG</td>\n      <td>1968</td>\n      <td>5</td>\n      <td>5</td>\n      <td>0</td>\n      <td>0</td>\n      <td>5</td>\n      <td>0</td>\n      <td>5</td>\n      <td>0</td>\n      <td>Afghanistan</td>\n      <td>AFG</td>\n      <td>Afghanistan</td>\n      <td>10637064</td>\n      <td>10,637,064</td>\n      <td>&lt;extra&gt;AFG&lt;/extra&gt;&lt;b&gt;Afghanistan (1968)&lt;/b&gt;&lt;br...</td>\n    </tr>\n    <tr>\n      <th>2</th>\n      <td>AFG</td>\n      <td>1972</td>\n      <td>8</td>\n      <td>8</td>\n      <td>0</td>\n      <td>0</td>\n      <td>8</td>\n      <td>0</td>\n      <td>8</td>\n      <td>0</td>\n      <td>Afghanistan</td>\n      <td>AFG</td>\n      <td>Afghanistan</td>\n      <td>11791222</td>\n      <td>11,791,222</td>\n      <td>&lt;extra&gt;AFG&lt;/extra&gt;&lt;b&gt;Afghanistan (1972)&lt;/b&gt;&lt;br...</td>\n    </tr>\n    <tr>\n      <th>3</th>\n      <td>AFG</td>\n      <td>1980</td>\n      <td>11</td>\n      <td>11</td>\n      <td>0</td>\n      <td>0</td>\n      <td>11</td>\n      <td>0</td>\n      <td>11</td>\n      <td>0</td>\n      <td>Afghanistan</td>\n      <td>AFG</td>\n      <td>Afghanistan</td>\n      <td>13356500</td>\n      <td>13,356,500</td>\n      <td>&lt;extra&gt;AFG&lt;/extra&gt;&lt;b&gt;Afghanistan (1980)&lt;/b&gt;&lt;br...</td>\n    </tr>\n  </tbody>\n</table>\n</div>"
     },
     "metadata": {},
     "output_type": "display_data"
    },
    {
     "data": {
      "text/plain": "              Year  events_partecipations_no  distinct_athletes_no  \\\ncount  2172.000000               2172.000000           2172.000000   \nmean   1994.353591                 72.735727             54.224678   \nstd      15.418744                127.345644             92.575305   \nmin    1964.000000                  1.000000              1.000000   \n25%    1984.000000                  6.000000              6.000000   \n50%    1996.000000                 19.000000             15.000000   \n75%    2008.000000                 69.000000             55.000000   \nmax    2016.000000                839.000000            648.000000   \n\n            Bronze         Gold      NoMedal       Silver  TotalPartecipants  \\\ncount  2172.000000  2172.000000  2172.000000  2172.000000        2172.000000   \nmean      1.760589     1.584254    32.296961     1.578729          37.220534   \nstd       4.819138     5.734554    42.986407     4.830310          54.648482   \nmin       0.000000     0.000000     1.000000     0.000000           1.000000   \n25%       0.000000     0.000000     5.000000     0.000000           6.000000   \n50%       0.000000     0.000000    13.000000     0.000000          13.000000   \n75%       1.000000     1.000000    41.000000     1.000000          44.000000   \nmax      46.000000    82.000000   234.000000    69.000000         322.000000   \n\n       TotalMedals    Population  \ncount  2172.000000  2.172000e+03  \nmean      4.923573  3.016961e+07  \nstd      14.927513  1.128458e+08  \nmin       0.000000  9.880000e+03  \n25%       0.000000  1.444370e+06  \n50%       0.000000  6.443196e+06  \n75%       3.000000  2.040153e+07  \nmax     195.000000  1.378665e+09  ",
      "text/html": "<div>\n<style scoped>\n    .dataframe tbody tr th:only-of-type {\n        vertical-align: middle;\n    }\n\n    .dataframe tbody tr th {\n        vertical-align: top;\n    }\n\n    .dataframe thead th {\n        text-align: right;\n    }\n</style>\n<table border=\"1\" class=\"dataframe\">\n  <thead>\n    <tr style=\"text-align: right;\">\n      <th></th>\n      <th>Year</th>\n      <th>events_partecipations_no</th>\n      <th>distinct_athletes_no</th>\n      <th>Bronze</th>\n      <th>Gold</th>\n      <th>NoMedal</th>\n      <th>Silver</th>\n      <th>TotalPartecipants</th>\n      <th>TotalMedals</th>\n      <th>Population</th>\n    </tr>\n  </thead>\n  <tbody>\n    <tr>\n      <th>count</th>\n      <td>2172.000000</td>\n      <td>2172.000000</td>\n      <td>2172.000000</td>\n      <td>2172.000000</td>\n      <td>2172.000000</td>\n      <td>2172.000000</td>\n      <td>2172.000000</td>\n      <td>2172.000000</td>\n      <td>2172.000000</td>\n      <td>2.172000e+03</td>\n    </tr>\n    <tr>\n      <th>mean</th>\n      <td>1994.353591</td>\n      <td>72.735727</td>\n      <td>54.224678</td>\n      <td>1.760589</td>\n      <td>1.584254</td>\n      <td>32.296961</td>\n      <td>1.578729</td>\n      <td>37.220534</td>\n      <td>4.923573</td>\n      <td>3.016961e+07</td>\n    </tr>\n    <tr>\n      <th>std</th>\n      <td>15.418744</td>\n      <td>127.345644</td>\n      <td>92.575305</td>\n      <td>4.819138</td>\n      <td>5.734554</td>\n      <td>42.986407</td>\n      <td>4.830310</td>\n      <td>54.648482</td>\n      <td>14.927513</td>\n      <td>1.128458e+08</td>\n    </tr>\n    <tr>\n      <th>min</th>\n      <td>1964.000000</td>\n      <td>1.000000</td>\n      <td>1.000000</td>\n      <td>0.000000</td>\n      <td>0.000000</td>\n      <td>1.000000</td>\n      <td>0.000000</td>\n      <td>1.000000</td>\n      <td>0.000000</td>\n      <td>9.880000e+03</td>\n    </tr>\n    <tr>\n      <th>25%</th>\n      <td>1984.000000</td>\n      <td>6.000000</td>\n      <td>6.000000</td>\n      <td>0.000000</td>\n      <td>0.000000</td>\n      <td>5.000000</td>\n      <td>0.000000</td>\n      <td>6.000000</td>\n      <td>0.000000</td>\n      <td>1.444370e+06</td>\n    </tr>\n    <tr>\n      <th>50%</th>\n      <td>1996.000000</td>\n      <td>19.000000</td>\n      <td>15.000000</td>\n      <td>0.000000</td>\n      <td>0.000000</td>\n      <td>13.000000</td>\n      <td>0.000000</td>\n      <td>13.000000</td>\n      <td>0.000000</td>\n      <td>6.443196e+06</td>\n    </tr>\n    <tr>\n      <th>75%</th>\n      <td>2008.000000</td>\n      <td>69.000000</td>\n      <td>55.000000</td>\n      <td>1.000000</td>\n      <td>1.000000</td>\n      <td>41.000000</td>\n      <td>1.000000</td>\n      <td>44.000000</td>\n      <td>3.000000</td>\n      <td>2.040153e+07</td>\n    </tr>\n    <tr>\n      <th>max</th>\n      <td>2016.000000</td>\n      <td>839.000000</td>\n      <td>648.000000</td>\n      <td>46.000000</td>\n      <td>82.000000</td>\n      <td>234.000000</td>\n      <td>69.000000</td>\n      <td>322.000000</td>\n      <td>195.000000</td>\n      <td>1.378665e+09</td>\n    </tr>\n  </tbody>\n</table>\n</div>"
     },
     "metadata": {},
     "output_type": "display_data"
    }
   ],
   "source": [
    "import pandas as pd\n",
    "import os\n",
    "from IPython.display import display\n",
    "from pandasql import sqldf\n",
    "import numpy as np\n",
    "import plotly.express as px\n",
    "import plotly.graph_objects as go\n",
    "dataset_path = 'dataset'\n",
    "pysqldf = lambda q: sqldf(q, globals())\n",
    "\n",
    "\n",
    "gold_df = pd.read_parquet(os.path.join(dataset_path, 'gold_partecipants.parquet'))\n",
    "\n",
    "\n"
   ]
  },
  {
   "cell_type": "code",
   "execution_count": 132,
   "outputs": [
    {
     "data": {
      "text/plain": "NOC     AFG    AHO  ALB    ALG  AND  ANG  ANT    ARG    ARM  ARU  ...    VEN  \\\nYear                                                              ...          \n1964  0.000  0.000  0.0  0.000  0.0  0.0  0.0  0.250  0.000  0.0  ...  0.250   \n1968  0.000  0.000  0.0  0.000  0.0  0.0  0.0  0.000  0.000  0.0  ...  0.000   \n1972  0.000  0.000  0.0  0.000  0.0  0.0  0.0 -0.250  0.000  0.0  ...  0.000   \n1976  0.000  0.000  0.0  0.000  0.0  0.0  0.0 -0.125  0.000  0.0  ...  0.125   \n1980  0.000  0.000  0.0  0.250  0.0  0.0  0.0  0.000  0.000  0.0  ...  0.250   \n1984  0.000  0.125  0.0  0.000  0.0  0.0  0.0  0.250  0.000  0.0  ... -0.125   \n1988  0.000  0.000  0.0  0.000  0.0  0.0  0.0  0.125  0.000  0.0  ... -0.375   \n1992  0.000 -0.125  0.0  0.375  0.0  0.0  0.0  0.125  0.250  0.0  ...  0.000   \n1996  0.000  0.000  0.0  0.375  0.0  0.0  0.0  0.375  0.125  0.0  ...  0.000   \n2000  0.000  0.000  0.0 -0.375  0.0  0.0  0.0  0.375 -0.250  0.0  ...  0.250   \n2004  0.125  0.000  0.0 -0.375  0.0  0.0  0.0  0.250  0.625  0.0  ...  0.125   \n2008  0.125  0.000  0.0  0.125  0.0  0.0  0.0 -0.250  0.375  0.0  ... -0.125   \n2012 -0.125  0.000  0.0  0.000  0.0  0.0  0.0 -0.250 -0.250  0.0  ...  0.250   \n2016 -0.250  0.000  0.0  0.250  0.0  0.0  0.0  0.000  0.250  0.0  ...  0.500   \n\nNOC     VIE  VIN  VNM  YAR  YEM  YMD    YUG    ZAM    ZIM  \nYear                                                       \n1964  0.000  0.0  0.0  0.0  0.0  0.0  0.750  0.000  0.000  \n1968  0.000  0.0  0.0  0.0  0.0  0.0  0.000  0.000  0.000  \n1972  0.000  0.0  0.0  0.0  0.0  0.0  0.000  0.000  0.000  \n1976  0.000  0.0  0.0  0.0  0.0  0.0  0.500  0.000  0.125  \n1980  0.000  0.0  0.0  0.0  0.0  0.0  1.250  0.125  0.000  \n1984  0.000  0.0  0.0  0.0  0.0  0.0  0.375  0.000 -0.125  \n1988  0.000  0.0  0.0  0.0  0.0  0.0 -2.250 -0.125  0.000  \n1992  0.000  0.0  0.0  0.0  0.0  0.0 -1.500  0.125  0.000  \n1996  0.125  0.0  0.0  0.0  0.0  0.0  0.000  0.000  0.000  \n2000  0.000  0.0  0.0  0.0  0.0  0.0  0.000 -0.125  0.375  \n2004  0.000  0.0  0.0  0.0  0.0  0.0  0.000  0.000  0.500  \n2008  0.000  0.0  0.0  0.0  0.0  0.0  0.000  0.000 -0.375  \n2012  0.125  0.0  0.0  0.0  0.0  0.0  0.000  0.000 -0.500  \n2016  0.500  0.0  0.0  0.0  0.0  0.0  0.000  0.000  0.000  \n\n[14 rows x 217 columns]",
      "text/html": "<div>\n<style scoped>\n    .dataframe tbody tr th:only-of-type {\n        vertical-align: middle;\n    }\n\n    .dataframe tbody tr th {\n        vertical-align: top;\n    }\n\n    .dataframe thead th {\n        text-align: right;\n    }\n</style>\n<table border=\"1\" class=\"dataframe\">\n  <thead>\n    <tr style=\"text-align: right;\">\n      <th>NOC</th>\n      <th>AFG</th>\n      <th>AHO</th>\n      <th>ALB</th>\n      <th>ALG</th>\n      <th>AND</th>\n      <th>ANG</th>\n      <th>ANT</th>\n      <th>ARG</th>\n      <th>ARM</th>\n      <th>ARU</th>\n      <th>...</th>\n      <th>VEN</th>\n      <th>VIE</th>\n      <th>VIN</th>\n      <th>VNM</th>\n      <th>YAR</th>\n      <th>YEM</th>\n      <th>YMD</th>\n      <th>YUG</th>\n      <th>ZAM</th>\n      <th>ZIM</th>\n    </tr>\n    <tr>\n      <th>Year</th>\n      <th></th>\n      <th></th>\n      <th></th>\n      <th></th>\n      <th></th>\n      <th></th>\n      <th></th>\n      <th></th>\n      <th></th>\n      <th></th>\n      <th></th>\n      <th></th>\n      <th></th>\n      <th></th>\n      <th></th>\n      <th></th>\n      <th></th>\n      <th></th>\n      <th></th>\n      <th></th>\n      <th></th>\n    </tr>\n  </thead>\n  <tbody>\n    <tr>\n      <th>1964</th>\n      <td>0.000</td>\n      <td>0.000</td>\n      <td>0.0</td>\n      <td>0.000</td>\n      <td>0.0</td>\n      <td>0.0</td>\n      <td>0.0</td>\n      <td>0.250</td>\n      <td>0.000</td>\n      <td>0.0</td>\n      <td>...</td>\n      <td>0.250</td>\n      <td>0.000</td>\n      <td>0.0</td>\n      <td>0.0</td>\n      <td>0.0</td>\n      <td>0.0</td>\n      <td>0.0</td>\n      <td>0.750</td>\n      <td>0.000</td>\n      <td>0.000</td>\n    </tr>\n    <tr>\n      <th>1968</th>\n      <td>0.000</td>\n      <td>0.000</td>\n      <td>0.0</td>\n      <td>0.000</td>\n      <td>0.0</td>\n      <td>0.0</td>\n      <td>0.0</td>\n      <td>0.000</td>\n      <td>0.000</td>\n      <td>0.0</td>\n      <td>...</td>\n      <td>0.000</td>\n      <td>0.000</td>\n      <td>0.0</td>\n      <td>0.0</td>\n      <td>0.0</td>\n      <td>0.0</td>\n      <td>0.0</td>\n      <td>0.000</td>\n      <td>0.000</td>\n      <td>0.000</td>\n    </tr>\n    <tr>\n      <th>1972</th>\n      <td>0.000</td>\n      <td>0.000</td>\n      <td>0.0</td>\n      <td>0.000</td>\n      <td>0.0</td>\n      <td>0.0</td>\n      <td>0.0</td>\n      <td>-0.250</td>\n      <td>0.000</td>\n      <td>0.0</td>\n      <td>...</td>\n      <td>0.000</td>\n      <td>0.000</td>\n      <td>0.0</td>\n      <td>0.0</td>\n      <td>0.0</td>\n      <td>0.0</td>\n      <td>0.0</td>\n      <td>0.000</td>\n      <td>0.000</td>\n      <td>0.000</td>\n    </tr>\n    <tr>\n      <th>1976</th>\n      <td>0.000</td>\n      <td>0.000</td>\n      <td>0.0</td>\n      <td>0.000</td>\n      <td>0.0</td>\n      <td>0.0</td>\n      <td>0.0</td>\n      <td>-0.125</td>\n      <td>0.000</td>\n      <td>0.0</td>\n      <td>...</td>\n      <td>0.125</td>\n      <td>0.000</td>\n      <td>0.0</td>\n      <td>0.0</td>\n      <td>0.0</td>\n      <td>0.0</td>\n      <td>0.0</td>\n      <td>0.500</td>\n      <td>0.000</td>\n      <td>0.125</td>\n    </tr>\n    <tr>\n      <th>1980</th>\n      <td>0.000</td>\n      <td>0.000</td>\n      <td>0.0</td>\n      <td>0.250</td>\n      <td>0.0</td>\n      <td>0.0</td>\n      <td>0.0</td>\n      <td>0.000</td>\n      <td>0.000</td>\n      <td>0.0</td>\n      <td>...</td>\n      <td>0.250</td>\n      <td>0.000</td>\n      <td>0.0</td>\n      <td>0.0</td>\n      <td>0.0</td>\n      <td>0.0</td>\n      <td>0.0</td>\n      <td>1.250</td>\n      <td>0.125</td>\n      <td>0.000</td>\n    </tr>\n    <tr>\n      <th>1984</th>\n      <td>0.000</td>\n      <td>0.125</td>\n      <td>0.0</td>\n      <td>0.000</td>\n      <td>0.0</td>\n      <td>0.0</td>\n      <td>0.0</td>\n      <td>0.250</td>\n      <td>0.000</td>\n      <td>0.0</td>\n      <td>...</td>\n      <td>-0.125</td>\n      <td>0.000</td>\n      <td>0.0</td>\n      <td>0.0</td>\n      <td>0.0</td>\n      <td>0.0</td>\n      <td>0.0</td>\n      <td>0.375</td>\n      <td>0.000</td>\n      <td>-0.125</td>\n    </tr>\n    <tr>\n      <th>1988</th>\n      <td>0.000</td>\n      <td>0.000</td>\n      <td>0.0</td>\n      <td>0.000</td>\n      <td>0.0</td>\n      <td>0.0</td>\n      <td>0.0</td>\n      <td>0.125</td>\n      <td>0.000</td>\n      <td>0.0</td>\n      <td>...</td>\n      <td>-0.375</td>\n      <td>0.000</td>\n      <td>0.0</td>\n      <td>0.0</td>\n      <td>0.0</td>\n      <td>0.0</td>\n      <td>0.0</td>\n      <td>-2.250</td>\n      <td>-0.125</td>\n      <td>0.000</td>\n    </tr>\n    <tr>\n      <th>1992</th>\n      <td>0.000</td>\n      <td>-0.125</td>\n      <td>0.0</td>\n      <td>0.375</td>\n      <td>0.0</td>\n      <td>0.0</td>\n      <td>0.0</td>\n      <td>0.125</td>\n      <td>0.250</td>\n      <td>0.0</td>\n      <td>...</td>\n      <td>0.000</td>\n      <td>0.000</td>\n      <td>0.0</td>\n      <td>0.0</td>\n      <td>0.0</td>\n      <td>0.0</td>\n      <td>0.0</td>\n      <td>-1.500</td>\n      <td>0.125</td>\n      <td>0.000</td>\n    </tr>\n    <tr>\n      <th>1996</th>\n      <td>0.000</td>\n      <td>0.000</td>\n      <td>0.0</td>\n      <td>0.375</td>\n      <td>0.0</td>\n      <td>0.0</td>\n      <td>0.0</td>\n      <td>0.375</td>\n      <td>0.125</td>\n      <td>0.0</td>\n      <td>...</td>\n      <td>0.000</td>\n      <td>0.125</td>\n      <td>0.0</td>\n      <td>0.0</td>\n      <td>0.0</td>\n      <td>0.0</td>\n      <td>0.0</td>\n      <td>0.000</td>\n      <td>0.000</td>\n      <td>0.000</td>\n    </tr>\n    <tr>\n      <th>2000</th>\n      <td>0.000</td>\n      <td>0.000</td>\n      <td>0.0</td>\n      <td>-0.375</td>\n      <td>0.0</td>\n      <td>0.0</td>\n      <td>0.0</td>\n      <td>0.375</td>\n      <td>-0.250</td>\n      <td>0.0</td>\n      <td>...</td>\n      <td>0.250</td>\n      <td>0.000</td>\n      <td>0.0</td>\n      <td>0.0</td>\n      <td>0.0</td>\n      <td>0.0</td>\n      <td>0.0</td>\n      <td>0.000</td>\n      <td>-0.125</td>\n      <td>0.375</td>\n    </tr>\n    <tr>\n      <th>2004</th>\n      <td>0.125</td>\n      <td>0.000</td>\n      <td>0.0</td>\n      <td>-0.375</td>\n      <td>0.0</td>\n      <td>0.0</td>\n      <td>0.0</td>\n      <td>0.250</td>\n      <td>0.625</td>\n      <td>0.0</td>\n      <td>...</td>\n      <td>0.125</td>\n      <td>0.000</td>\n      <td>0.0</td>\n      <td>0.0</td>\n      <td>0.0</td>\n      <td>0.0</td>\n      <td>0.0</td>\n      <td>0.000</td>\n      <td>0.000</td>\n      <td>0.500</td>\n    </tr>\n    <tr>\n      <th>2008</th>\n      <td>0.125</td>\n      <td>0.000</td>\n      <td>0.0</td>\n      <td>0.125</td>\n      <td>0.0</td>\n      <td>0.0</td>\n      <td>0.0</td>\n      <td>-0.250</td>\n      <td>0.375</td>\n      <td>0.0</td>\n      <td>...</td>\n      <td>-0.125</td>\n      <td>0.000</td>\n      <td>0.0</td>\n      <td>0.0</td>\n      <td>0.0</td>\n      <td>0.0</td>\n      <td>0.0</td>\n      <td>0.000</td>\n      <td>0.000</td>\n      <td>-0.375</td>\n    </tr>\n    <tr>\n      <th>2012</th>\n      <td>-0.125</td>\n      <td>0.000</td>\n      <td>0.0</td>\n      <td>0.000</td>\n      <td>0.0</td>\n      <td>0.0</td>\n      <td>0.0</td>\n      <td>-0.250</td>\n      <td>-0.250</td>\n      <td>0.0</td>\n      <td>...</td>\n      <td>0.250</td>\n      <td>0.125</td>\n      <td>0.0</td>\n      <td>0.0</td>\n      <td>0.0</td>\n      <td>0.0</td>\n      <td>0.0</td>\n      <td>0.000</td>\n      <td>0.000</td>\n      <td>-0.500</td>\n    </tr>\n    <tr>\n      <th>2016</th>\n      <td>-0.250</td>\n      <td>0.000</td>\n      <td>0.0</td>\n      <td>0.250</td>\n      <td>0.0</td>\n      <td>0.0</td>\n      <td>0.0</td>\n      <td>0.000</td>\n      <td>0.250</td>\n      <td>0.0</td>\n      <td>...</td>\n      <td>0.500</td>\n      <td>0.500</td>\n      <td>0.0</td>\n      <td>0.0</td>\n      <td>0.0</td>\n      <td>0.0</td>\n      <td>0.0</td>\n      <td>0.000</td>\n      <td>0.000</td>\n      <td>0.000</td>\n    </tr>\n  </tbody>\n</table>\n<p>14 rows × 217 columns</p>\n</div>"
     },
     "metadata": {},
     "output_type": "display_data"
    },
    {
     "data": {
      "text/plain": "NOC        AFG       AHO  ALB       ALG  AND  ANG  ANT       ARG       ARM  \\\nYear                                                                         \n1964  0.000000  0.000000  0.0  0.000000  0.0  0.0  0.0 -0.062500  0.000000   \n1968  0.000000  0.000000  0.0  0.000000  0.0  0.0  0.0 -0.062500  0.000000   \n1972  0.000000  0.000000  0.0  0.000000  0.0  0.0  0.0 -0.015625  0.000000   \n1976  0.000000  0.000000  0.0  0.031250  0.0  0.0  0.0  0.031250  0.000000   \n1980  0.000000  0.015625  0.0  0.000000  0.0  0.0  0.0  0.046875  0.000000   \n1984  0.000000  0.000000  0.0 -0.031250  0.0  0.0  0.0  0.015625  0.000000   \n1988  0.000000 -0.031250  0.0  0.046875  0.0  0.0  0.0 -0.015625  0.031250   \n1992  0.000000  0.000000  0.0  0.046875  0.0  0.0  0.0  0.031250  0.015625   \n1996  0.000000  0.015625  0.0 -0.093750  0.0  0.0  0.0  0.031250 -0.062500   \n2000  0.015625  0.000000  0.0 -0.093750  0.0  0.0  0.0 -0.015625  0.062500   \n2004  0.015625  0.000000  0.0  0.062500  0.0  0.0  0.0 -0.078125  0.078125   \n2008 -0.031250  0.000000  0.0  0.046875  0.0  0.0  0.0 -0.062500 -0.109375   \n2012 -0.046875  0.000000  0.0  0.015625  0.0  0.0  0.0  0.031250 -0.015625   \n2016 -0.031250  0.000000  0.0  0.062500  0.0  0.0  0.0  0.062500  0.125000   \n\nNOC   ARU  ...       VEN       VIE  VIN  VNM  YAR  YEM  YMD       YUG  \\\nYear       ...                                                          \n1964  0.0  ... -0.062500  0.000000  0.0  0.0  0.0  0.0  0.0 -0.187500   \n1968  0.0  ... -0.031250  0.000000  0.0  0.0  0.0  0.0  0.0 -0.093750   \n1972  0.0  ...  0.015625  0.000000  0.0  0.0  0.0  0.0  0.0  0.062500   \n1976  0.0  ...  0.031250  0.000000  0.0  0.0  0.0  0.0  0.0  0.156250   \n1980  0.0  ... -0.031250  0.000000  0.0  0.0  0.0  0.0  0.0 -0.015625   \n1984  0.0  ... -0.078125  0.000000  0.0  0.0  0.0  0.0  0.0 -0.437500   \n1988  0.0  ...  0.015625  0.000000  0.0  0.0  0.0  0.0  0.0 -0.234375   \n1992  0.0  ...  0.046875  0.015625  0.0  0.0  0.0  0.0  0.0  0.281250   \n1996  0.0  ...  0.031250  0.000000  0.0  0.0  0.0  0.0  0.0  0.187500   \n2000  0.0  ...  0.015625 -0.015625  0.0  0.0  0.0  0.0  0.0  0.000000   \n2004  0.0  ... -0.046875  0.000000  0.0  0.0  0.0  0.0  0.0  0.000000   \n2008  0.0  ...  0.015625  0.015625  0.0  0.0  0.0  0.0  0.0  0.000000   \n2012  0.0  ...  0.078125  0.062500  0.0  0.0  0.0  0.0  0.0  0.000000   \n2016  0.0  ...  0.062500  0.093750  0.0  0.0  0.0  0.0  0.0  0.000000   \n\nNOC        ZAM       ZIM  \nYear                      \n1964  0.000000  0.000000  \n1968  0.000000  0.000000  \n1972  0.000000  0.015625  \n1976  0.015625  0.000000  \n1980  0.000000 -0.031250  \n1984 -0.031250  0.000000  \n1988  0.015625  0.015625  \n1992  0.015625  0.000000  \n1996 -0.031250  0.046875  \n2000  0.000000  0.062500  \n2004  0.015625 -0.093750  \n2008  0.000000 -0.125000  \n2012  0.000000  0.046875  \n2016  0.000000  0.125000  \n\n[14 rows x 217 columns]",
      "text/html": "<div>\n<style scoped>\n    .dataframe tbody tr th:only-of-type {\n        vertical-align: middle;\n    }\n\n    .dataframe tbody tr th {\n        vertical-align: top;\n    }\n\n    .dataframe thead th {\n        text-align: right;\n    }\n</style>\n<table border=\"1\" class=\"dataframe\">\n  <thead>\n    <tr style=\"text-align: right;\">\n      <th>NOC</th>\n      <th>AFG</th>\n      <th>AHO</th>\n      <th>ALB</th>\n      <th>ALG</th>\n      <th>AND</th>\n      <th>ANG</th>\n      <th>ANT</th>\n      <th>ARG</th>\n      <th>ARM</th>\n      <th>ARU</th>\n      <th>...</th>\n      <th>VEN</th>\n      <th>VIE</th>\n      <th>VIN</th>\n      <th>VNM</th>\n      <th>YAR</th>\n      <th>YEM</th>\n      <th>YMD</th>\n      <th>YUG</th>\n      <th>ZAM</th>\n      <th>ZIM</th>\n    </tr>\n    <tr>\n      <th>Year</th>\n      <th></th>\n      <th></th>\n      <th></th>\n      <th></th>\n      <th></th>\n      <th></th>\n      <th></th>\n      <th></th>\n      <th></th>\n      <th></th>\n      <th></th>\n      <th></th>\n      <th></th>\n      <th></th>\n      <th></th>\n      <th></th>\n      <th></th>\n      <th></th>\n      <th></th>\n      <th></th>\n      <th></th>\n    </tr>\n  </thead>\n  <tbody>\n    <tr>\n      <th>1964</th>\n      <td>0.000000</td>\n      <td>0.000000</td>\n      <td>0.0</td>\n      <td>0.000000</td>\n      <td>0.0</td>\n      <td>0.0</td>\n      <td>0.0</td>\n      <td>-0.062500</td>\n      <td>0.000000</td>\n      <td>0.0</td>\n      <td>...</td>\n      <td>-0.062500</td>\n      <td>0.000000</td>\n      <td>0.0</td>\n      <td>0.0</td>\n      <td>0.0</td>\n      <td>0.0</td>\n      <td>0.0</td>\n      <td>-0.187500</td>\n      <td>0.000000</td>\n      <td>0.000000</td>\n    </tr>\n    <tr>\n      <th>1968</th>\n      <td>0.000000</td>\n      <td>0.000000</td>\n      <td>0.0</td>\n      <td>0.000000</td>\n      <td>0.0</td>\n      <td>0.0</td>\n      <td>0.0</td>\n      <td>-0.062500</td>\n      <td>0.000000</td>\n      <td>0.0</td>\n      <td>...</td>\n      <td>-0.031250</td>\n      <td>0.000000</td>\n      <td>0.0</td>\n      <td>0.0</td>\n      <td>0.0</td>\n      <td>0.0</td>\n      <td>0.0</td>\n      <td>-0.093750</td>\n      <td>0.000000</td>\n      <td>0.000000</td>\n    </tr>\n    <tr>\n      <th>1972</th>\n      <td>0.000000</td>\n      <td>0.000000</td>\n      <td>0.0</td>\n      <td>0.000000</td>\n      <td>0.0</td>\n      <td>0.0</td>\n      <td>0.0</td>\n      <td>-0.015625</td>\n      <td>0.000000</td>\n      <td>0.0</td>\n      <td>...</td>\n      <td>0.015625</td>\n      <td>0.000000</td>\n      <td>0.0</td>\n      <td>0.0</td>\n      <td>0.0</td>\n      <td>0.0</td>\n      <td>0.0</td>\n      <td>0.062500</td>\n      <td>0.000000</td>\n      <td>0.015625</td>\n    </tr>\n    <tr>\n      <th>1976</th>\n      <td>0.000000</td>\n      <td>0.000000</td>\n      <td>0.0</td>\n      <td>0.031250</td>\n      <td>0.0</td>\n      <td>0.0</td>\n      <td>0.0</td>\n      <td>0.031250</td>\n      <td>0.000000</td>\n      <td>0.0</td>\n      <td>...</td>\n      <td>0.031250</td>\n      <td>0.000000</td>\n      <td>0.0</td>\n      <td>0.0</td>\n      <td>0.0</td>\n      <td>0.0</td>\n      <td>0.0</td>\n      <td>0.156250</td>\n      <td>0.015625</td>\n      <td>0.000000</td>\n    </tr>\n    <tr>\n      <th>1980</th>\n      <td>0.000000</td>\n      <td>0.015625</td>\n      <td>0.0</td>\n      <td>0.000000</td>\n      <td>0.0</td>\n      <td>0.0</td>\n      <td>0.0</td>\n      <td>0.046875</td>\n      <td>0.000000</td>\n      <td>0.0</td>\n      <td>...</td>\n      <td>-0.031250</td>\n      <td>0.000000</td>\n      <td>0.0</td>\n      <td>0.0</td>\n      <td>0.0</td>\n      <td>0.0</td>\n      <td>0.0</td>\n      <td>-0.015625</td>\n      <td>0.000000</td>\n      <td>-0.031250</td>\n    </tr>\n    <tr>\n      <th>1984</th>\n      <td>0.000000</td>\n      <td>0.000000</td>\n      <td>0.0</td>\n      <td>-0.031250</td>\n      <td>0.0</td>\n      <td>0.0</td>\n      <td>0.0</td>\n      <td>0.015625</td>\n      <td>0.000000</td>\n      <td>0.0</td>\n      <td>...</td>\n      <td>-0.078125</td>\n      <td>0.000000</td>\n      <td>0.0</td>\n      <td>0.0</td>\n      <td>0.0</td>\n      <td>0.0</td>\n      <td>0.0</td>\n      <td>-0.437500</td>\n      <td>-0.031250</td>\n      <td>0.000000</td>\n    </tr>\n    <tr>\n      <th>1988</th>\n      <td>0.000000</td>\n      <td>-0.031250</td>\n      <td>0.0</td>\n      <td>0.046875</td>\n      <td>0.0</td>\n      <td>0.0</td>\n      <td>0.0</td>\n      <td>-0.015625</td>\n      <td>0.031250</td>\n      <td>0.0</td>\n      <td>...</td>\n      <td>0.015625</td>\n      <td>0.000000</td>\n      <td>0.0</td>\n      <td>0.0</td>\n      <td>0.0</td>\n      <td>0.0</td>\n      <td>0.0</td>\n      <td>-0.234375</td>\n      <td>0.015625</td>\n      <td>0.015625</td>\n    </tr>\n    <tr>\n      <th>1992</th>\n      <td>0.000000</td>\n      <td>0.000000</td>\n      <td>0.0</td>\n      <td>0.046875</td>\n      <td>0.0</td>\n      <td>0.0</td>\n      <td>0.0</td>\n      <td>0.031250</td>\n      <td>0.015625</td>\n      <td>0.0</td>\n      <td>...</td>\n      <td>0.046875</td>\n      <td>0.015625</td>\n      <td>0.0</td>\n      <td>0.0</td>\n      <td>0.0</td>\n      <td>0.0</td>\n      <td>0.0</td>\n      <td>0.281250</td>\n      <td>0.015625</td>\n      <td>0.000000</td>\n    </tr>\n    <tr>\n      <th>1996</th>\n      <td>0.000000</td>\n      <td>0.015625</td>\n      <td>0.0</td>\n      <td>-0.093750</td>\n      <td>0.0</td>\n      <td>0.0</td>\n      <td>0.0</td>\n      <td>0.031250</td>\n      <td>-0.062500</td>\n      <td>0.0</td>\n      <td>...</td>\n      <td>0.031250</td>\n      <td>0.000000</td>\n      <td>0.0</td>\n      <td>0.0</td>\n      <td>0.0</td>\n      <td>0.0</td>\n      <td>0.0</td>\n      <td>0.187500</td>\n      <td>-0.031250</td>\n      <td>0.046875</td>\n    </tr>\n    <tr>\n      <th>2000</th>\n      <td>0.015625</td>\n      <td>0.000000</td>\n      <td>0.0</td>\n      <td>-0.093750</td>\n      <td>0.0</td>\n      <td>0.0</td>\n      <td>0.0</td>\n      <td>-0.015625</td>\n      <td>0.062500</td>\n      <td>0.0</td>\n      <td>...</td>\n      <td>0.015625</td>\n      <td>-0.015625</td>\n      <td>0.0</td>\n      <td>0.0</td>\n      <td>0.0</td>\n      <td>0.0</td>\n      <td>0.0</td>\n      <td>0.000000</td>\n      <td>0.000000</td>\n      <td>0.062500</td>\n    </tr>\n    <tr>\n      <th>2004</th>\n      <td>0.015625</td>\n      <td>0.000000</td>\n      <td>0.0</td>\n      <td>0.062500</td>\n      <td>0.0</td>\n      <td>0.0</td>\n      <td>0.0</td>\n      <td>-0.078125</td>\n      <td>0.078125</td>\n      <td>0.0</td>\n      <td>...</td>\n      <td>-0.046875</td>\n      <td>0.000000</td>\n      <td>0.0</td>\n      <td>0.0</td>\n      <td>0.0</td>\n      <td>0.0</td>\n      <td>0.0</td>\n      <td>0.000000</td>\n      <td>0.015625</td>\n      <td>-0.093750</td>\n    </tr>\n    <tr>\n      <th>2008</th>\n      <td>-0.031250</td>\n      <td>0.000000</td>\n      <td>0.0</td>\n      <td>0.046875</td>\n      <td>0.0</td>\n      <td>0.0</td>\n      <td>0.0</td>\n      <td>-0.062500</td>\n      <td>-0.109375</td>\n      <td>0.0</td>\n      <td>...</td>\n      <td>0.015625</td>\n      <td>0.015625</td>\n      <td>0.0</td>\n      <td>0.0</td>\n      <td>0.0</td>\n      <td>0.0</td>\n      <td>0.0</td>\n      <td>0.000000</td>\n      <td>0.000000</td>\n      <td>-0.125000</td>\n    </tr>\n    <tr>\n      <th>2012</th>\n      <td>-0.046875</td>\n      <td>0.000000</td>\n      <td>0.0</td>\n      <td>0.015625</td>\n      <td>0.0</td>\n      <td>0.0</td>\n      <td>0.0</td>\n      <td>0.031250</td>\n      <td>-0.015625</td>\n      <td>0.0</td>\n      <td>...</td>\n      <td>0.078125</td>\n      <td>0.062500</td>\n      <td>0.0</td>\n      <td>0.0</td>\n      <td>0.0</td>\n      <td>0.0</td>\n      <td>0.0</td>\n      <td>0.000000</td>\n      <td>0.000000</td>\n      <td>0.046875</td>\n    </tr>\n    <tr>\n      <th>2016</th>\n      <td>-0.031250</td>\n      <td>0.000000</td>\n      <td>0.0</td>\n      <td>0.062500</td>\n      <td>0.0</td>\n      <td>0.0</td>\n      <td>0.0</td>\n      <td>0.062500</td>\n      <td>0.125000</td>\n      <td>0.0</td>\n      <td>...</td>\n      <td>0.062500</td>\n      <td>0.093750</td>\n      <td>0.0</td>\n      <td>0.0</td>\n      <td>0.0</td>\n      <td>0.0</td>\n      <td>0.0</td>\n      <td>0.000000</td>\n      <td>0.000000</td>\n      <td>0.125000</td>\n    </tr>\n  </tbody>\n</table>\n<p>14 rows × 217 columns</p>\n</div>"
     },
     "metadata": {},
     "output_type": "display_data"
    },
    {
     "data": {
      "application/vnd.plotly.v1+json": {
       "config": {
        "plotlyServerURL": "https://plot.ly"
       },
       "data": [
        {
         "hovertemplate": "variable=wide_variable_0<br>x=%{x}<br>value=%{y}<extra></extra>",
         "legendgroup": "wide_variable_0",
         "line": {
          "color": "#636efa",
          "dash": "solid"
         },
         "marker": {
          "symbol": "circle"
         },
         "mode": "lines",
         "name": "wide_variable_0",
         "orientation": "v",
         "showlegend": true,
         "type": "scatter",
         "x": [
          1964.0,
          1965.061224489796,
          1966.1224489795918,
          1967.1836734693877,
          1968.2448979591836,
          1969.3061224489795,
          1970.3673469387754,
          1971.4285714285713,
          1972.4897959183672,
          1973.5510204081634,
          1974.6122448979593,
          1975.6734693877552,
          1976.734693877551,
          1977.795918367347,
          1978.857142857143,
          1979.9183673469388,
          1980.9795918367347,
          1982.0408163265306,
          1983.1020408163265,
          1984.1632653061224,
          1985.2244897959183,
          1986.2857142857142,
          1987.3469387755101,
          1988.408163265306,
          1989.469387755102,
          1990.530612244898,
          1991.591836734694,
          1992.6530612244899,
          1993.7142857142858,
          1994.7755102040817,
          1995.8367346938776,
          1996.8979591836735,
          1997.9591836734694,
          1999.0204081632653,
          2000.0816326530612,
          2001.142857142857,
          2002.204081632653,
          2003.265306122449,
          2004.3265306122448,
          2005.3877551020407,
          2006.4489795918366,
          2007.5102040816328,
          2008.5714285714287,
          2009.6326530612246,
          2010.6938775510205,
          2011.7551020408164,
          2012.8163265306123,
          2013.8775510204082,
          2014.938775510204,
          2016.0
         ],
         "xaxis": "x",
         "y": [
          0.40625000000000006,
          0.44374531228558434,
          0.4219905714353704,
          0.35999872527812893,
          0.2767827216426314,
          0.19135550835764822,
          0.12273003325195075,
          0.08991924415430992,
          0.11107086002882648,
          0.1803184931558195,
          0.26524604787556094,
          0.33206347713678463,
          0.3489794520621499,
          0.30540166835713145,
          0.20350603919773574,
          0.04564394821694001,
          -0.15789602882959908,
          -0.35680404595190734,
          -0.48818466316918974,
          -0.48922176746707957,
          -0.33216741984326587,
          -0.07843894575924244,
          0.19658409791157477,
          0.41824190286092383,
          0.5425762555757685,
          0.5671613137467445,
          0.4925193251873567,
          0.3213189317800333,
          0.08646694028794777,
          -0.15677716054261498,
          -0.3526298599758939,
          -0.4537246710377408,
          -0.4664477002729436,
          -0.41832563306555937,
          -0.3369341654290561,
          -0.24551966502941294,
          -0.15356155139696293,
          -0.06780892311880508,
          0.005023354075405552,
          0.060711389723460636,
          0.09916705045310278,
          0.12069213653390032,
          0.12567924336289896,
          0.11627545643919641,
          0.09621479067674656,
          0.06928843809602686,
          0.039287590717514836,
          0.010003440561688025,
          -0.014772820350976093,
          -0.03125
         ],
         "yaxis": "y"
        }
       ],
       "layout": {
        "legend": {
         "title": {
          "text": "variable"
         },
         "tracegroupgap": 0
        },
        "margin": {
         "t": 60
        },
        "template": {
         "data": {
          "bar": [
           {
            "error_x": {
             "color": "#2a3f5f"
            },
            "error_y": {
             "color": "#2a3f5f"
            },
            "marker": {
             "line": {
              "color": "#E5ECF6",
              "width": 0.5
             },
             "pattern": {
              "fillmode": "overlay",
              "size": 10,
              "solidity": 0.2
             }
            },
            "type": "bar"
           }
          ],
          "barpolar": [
           {
            "marker": {
             "line": {
              "color": "#E5ECF6",
              "width": 0.5
             },
             "pattern": {
              "fillmode": "overlay",
              "size": 10,
              "solidity": 0.2
             }
            },
            "type": "barpolar"
           }
          ],
          "carpet": [
           {
            "aaxis": {
             "endlinecolor": "#2a3f5f",
             "gridcolor": "white",
             "linecolor": "white",
             "minorgridcolor": "white",
             "startlinecolor": "#2a3f5f"
            },
            "baxis": {
             "endlinecolor": "#2a3f5f",
             "gridcolor": "white",
             "linecolor": "white",
             "minorgridcolor": "white",
             "startlinecolor": "#2a3f5f"
            },
            "type": "carpet"
           }
          ],
          "choropleth": [
           {
            "colorbar": {
             "outlinewidth": 0,
             "ticks": ""
            },
            "type": "choropleth"
           }
          ],
          "contour": [
           {
            "colorbar": {
             "outlinewidth": 0,
             "ticks": ""
            },
            "colorscale": [
             [
              0.0,
              "#0d0887"
             ],
             [
              0.1111111111111111,
              "#46039f"
             ],
             [
              0.2222222222222222,
              "#7201a8"
             ],
             [
              0.3333333333333333,
              "#9c179e"
             ],
             [
              0.4444444444444444,
              "#bd3786"
             ],
             [
              0.5555555555555556,
              "#d8576b"
             ],
             [
              0.6666666666666666,
              "#ed7953"
             ],
             [
              0.7777777777777778,
              "#fb9f3a"
             ],
             [
              0.8888888888888888,
              "#fdca26"
             ],
             [
              1.0,
              "#f0f921"
             ]
            ],
            "type": "contour"
           }
          ],
          "contourcarpet": [
           {
            "colorbar": {
             "outlinewidth": 0,
             "ticks": ""
            },
            "type": "contourcarpet"
           }
          ],
          "heatmap": [
           {
            "colorbar": {
             "outlinewidth": 0,
             "ticks": ""
            },
            "colorscale": [
             [
              0.0,
              "#0d0887"
             ],
             [
              0.1111111111111111,
              "#46039f"
             ],
             [
              0.2222222222222222,
              "#7201a8"
             ],
             [
              0.3333333333333333,
              "#9c179e"
             ],
             [
              0.4444444444444444,
              "#bd3786"
             ],
             [
              0.5555555555555556,
              "#d8576b"
             ],
             [
              0.6666666666666666,
              "#ed7953"
             ],
             [
              0.7777777777777778,
              "#fb9f3a"
             ],
             [
              0.8888888888888888,
              "#fdca26"
             ],
             [
              1.0,
              "#f0f921"
             ]
            ],
            "type": "heatmap"
           }
          ],
          "heatmapgl": [
           {
            "colorbar": {
             "outlinewidth": 0,
             "ticks": ""
            },
            "colorscale": [
             [
              0.0,
              "#0d0887"
             ],
             [
              0.1111111111111111,
              "#46039f"
             ],
             [
              0.2222222222222222,
              "#7201a8"
             ],
             [
              0.3333333333333333,
              "#9c179e"
             ],
             [
              0.4444444444444444,
              "#bd3786"
             ],
             [
              0.5555555555555556,
              "#d8576b"
             ],
             [
              0.6666666666666666,
              "#ed7953"
             ],
             [
              0.7777777777777778,
              "#fb9f3a"
             ],
             [
              0.8888888888888888,
              "#fdca26"
             ],
             [
              1.0,
              "#f0f921"
             ]
            ],
            "type": "heatmapgl"
           }
          ],
          "histogram": [
           {
            "marker": {
             "pattern": {
              "fillmode": "overlay",
              "size": 10,
              "solidity": 0.2
             }
            },
            "type": "histogram"
           }
          ],
          "histogram2d": [
           {
            "colorbar": {
             "outlinewidth": 0,
             "ticks": ""
            },
            "colorscale": [
             [
              0.0,
              "#0d0887"
             ],
             [
              0.1111111111111111,
              "#46039f"
             ],
             [
              0.2222222222222222,
              "#7201a8"
             ],
             [
              0.3333333333333333,
              "#9c179e"
             ],
             [
              0.4444444444444444,
              "#bd3786"
             ],
             [
              0.5555555555555556,
              "#d8576b"
             ],
             [
              0.6666666666666666,
              "#ed7953"
             ],
             [
              0.7777777777777778,
              "#fb9f3a"
             ],
             [
              0.8888888888888888,
              "#fdca26"
             ],
             [
              1.0,
              "#f0f921"
             ]
            ],
            "type": "histogram2d"
           }
          ],
          "histogram2dcontour": [
           {
            "colorbar": {
             "outlinewidth": 0,
             "ticks": ""
            },
            "colorscale": [
             [
              0.0,
              "#0d0887"
             ],
             [
              0.1111111111111111,
              "#46039f"
             ],
             [
              0.2222222222222222,
              "#7201a8"
             ],
             [
              0.3333333333333333,
              "#9c179e"
             ],
             [
              0.4444444444444444,
              "#bd3786"
             ],
             [
              0.5555555555555556,
              "#d8576b"
             ],
             [
              0.6666666666666666,
              "#ed7953"
             ],
             [
              0.7777777777777778,
              "#fb9f3a"
             ],
             [
              0.8888888888888888,
              "#fdca26"
             ],
             [
              1.0,
              "#f0f921"
             ]
            ],
            "type": "histogram2dcontour"
           }
          ],
          "mesh3d": [
           {
            "colorbar": {
             "outlinewidth": 0,
             "ticks": ""
            },
            "type": "mesh3d"
           }
          ],
          "parcoords": [
           {
            "line": {
             "colorbar": {
              "outlinewidth": 0,
              "ticks": ""
             }
            },
            "type": "parcoords"
           }
          ],
          "pie": [
           {
            "automargin": true,
            "type": "pie"
           }
          ],
          "scatter": [
           {
            "marker": {
             "colorbar": {
              "outlinewidth": 0,
              "ticks": ""
             }
            },
            "type": "scatter"
           }
          ],
          "scatter3d": [
           {
            "line": {
             "colorbar": {
              "outlinewidth": 0,
              "ticks": ""
             }
            },
            "marker": {
             "colorbar": {
              "outlinewidth": 0,
              "ticks": ""
             }
            },
            "type": "scatter3d"
           }
          ],
          "scattercarpet": [
           {
            "marker": {
             "colorbar": {
              "outlinewidth": 0,
              "ticks": ""
             }
            },
            "type": "scattercarpet"
           }
          ],
          "scattergeo": [
           {
            "marker": {
             "colorbar": {
              "outlinewidth": 0,
              "ticks": ""
             }
            },
            "type": "scattergeo"
           }
          ],
          "scattergl": [
           {
            "marker": {
             "colorbar": {
              "outlinewidth": 0,
              "ticks": ""
             }
            },
            "type": "scattergl"
           }
          ],
          "scattermapbox": [
           {
            "marker": {
             "colorbar": {
              "outlinewidth": 0,
              "ticks": ""
             }
            },
            "type": "scattermapbox"
           }
          ],
          "scatterpolar": [
           {
            "marker": {
             "colorbar": {
              "outlinewidth": 0,
              "ticks": ""
             }
            },
            "type": "scatterpolar"
           }
          ],
          "scatterpolargl": [
           {
            "marker": {
             "colorbar": {
              "outlinewidth": 0,
              "ticks": ""
             }
            },
            "type": "scatterpolargl"
           }
          ],
          "scatterternary": [
           {
            "marker": {
             "colorbar": {
              "outlinewidth": 0,
              "ticks": ""
             }
            },
            "type": "scatterternary"
           }
          ],
          "surface": [
           {
            "colorbar": {
             "outlinewidth": 0,
             "ticks": ""
            },
            "colorscale": [
             [
              0.0,
              "#0d0887"
             ],
             [
              0.1111111111111111,
              "#46039f"
             ],
             [
              0.2222222222222222,
              "#7201a8"
             ],
             [
              0.3333333333333333,
              "#9c179e"
             ],
             [
              0.4444444444444444,
              "#bd3786"
             ],
             [
              0.5555555555555556,
              "#d8576b"
             ],
             [
              0.6666666666666666,
              "#ed7953"
             ],
             [
              0.7777777777777778,
              "#fb9f3a"
             ],
             [
              0.8888888888888888,
              "#fdca26"
             ],
             [
              1.0,
              "#f0f921"
             ]
            ],
            "type": "surface"
           }
          ],
          "table": [
           {
            "cells": {
             "fill": {
              "color": "#EBF0F8"
             },
             "line": {
              "color": "white"
             }
            },
            "header": {
             "fill": {
              "color": "#C8D4E3"
             },
             "line": {
              "color": "white"
             }
            },
            "type": "table"
           }
          ]
         },
         "layout": {
          "annotationdefaults": {
           "arrowcolor": "#2a3f5f",
           "arrowhead": 0,
           "arrowwidth": 1
          },
          "autotypenumbers": "strict",
          "coloraxis": {
           "colorbar": {
            "outlinewidth": 0,
            "ticks": ""
           }
          },
          "colorscale": {
           "diverging": [
            [
             0,
             "#8e0152"
            ],
            [
             0.1,
             "#c51b7d"
            ],
            [
             0.2,
             "#de77ae"
            ],
            [
             0.3,
             "#f1b6da"
            ],
            [
             0.4,
             "#fde0ef"
            ],
            [
             0.5,
             "#f7f7f7"
            ],
            [
             0.6,
             "#e6f5d0"
            ],
            [
             0.7,
             "#b8e186"
            ],
            [
             0.8,
             "#7fbc41"
            ],
            [
             0.9,
             "#4d9221"
            ],
            [
             1,
             "#276419"
            ]
           ],
           "sequential": [
            [
             0.0,
             "#0d0887"
            ],
            [
             0.1111111111111111,
             "#46039f"
            ],
            [
             0.2222222222222222,
             "#7201a8"
            ],
            [
             0.3333333333333333,
             "#9c179e"
            ],
            [
             0.4444444444444444,
             "#bd3786"
            ],
            [
             0.5555555555555556,
             "#d8576b"
            ],
            [
             0.6666666666666666,
             "#ed7953"
            ],
            [
             0.7777777777777778,
             "#fb9f3a"
            ],
            [
             0.8888888888888888,
             "#fdca26"
            ],
            [
             1.0,
             "#f0f921"
            ]
           ],
           "sequentialminus": [
            [
             0.0,
             "#0d0887"
            ],
            [
             0.1111111111111111,
             "#46039f"
            ],
            [
             0.2222222222222222,
             "#7201a8"
            ],
            [
             0.3333333333333333,
             "#9c179e"
            ],
            [
             0.4444444444444444,
             "#bd3786"
            ],
            [
             0.5555555555555556,
             "#d8576b"
            ],
            [
             0.6666666666666666,
             "#ed7953"
            ],
            [
             0.7777777777777778,
             "#fb9f3a"
            ],
            [
             0.8888888888888888,
             "#fdca26"
            ],
            [
             1.0,
             "#f0f921"
            ]
           ]
          },
          "colorway": [
           "#636efa",
           "#EF553B",
           "#00cc96",
           "#ab63fa",
           "#FFA15A",
           "#19d3f3",
           "#FF6692",
           "#B6E880",
           "#FF97FF",
           "#FECB52"
          ],
          "font": {
           "color": "#2a3f5f"
          },
          "geo": {
           "bgcolor": "white",
           "lakecolor": "white",
           "landcolor": "#E5ECF6",
           "showlakes": true,
           "showland": true,
           "subunitcolor": "white"
          },
          "hoverlabel": {
           "align": "left"
          },
          "hovermode": "closest",
          "mapbox": {
           "style": "light"
          },
          "paper_bgcolor": "white",
          "plot_bgcolor": "#E5ECF6",
          "polar": {
           "angularaxis": {
            "gridcolor": "white",
            "linecolor": "white",
            "ticks": ""
           },
           "bgcolor": "#E5ECF6",
           "radialaxis": {
            "gridcolor": "white",
            "linecolor": "white",
            "ticks": ""
           }
          },
          "scene": {
           "xaxis": {
            "backgroundcolor": "#E5ECF6",
            "gridcolor": "white",
            "gridwidth": 2,
            "linecolor": "white",
            "showbackground": true,
            "ticks": "",
            "zerolinecolor": "white"
           },
           "yaxis": {
            "backgroundcolor": "#E5ECF6",
            "gridcolor": "white",
            "gridwidth": 2,
            "linecolor": "white",
            "showbackground": true,
            "ticks": "",
            "zerolinecolor": "white"
           },
           "zaxis": {
            "backgroundcolor": "#E5ECF6",
            "gridcolor": "white",
            "gridwidth": 2,
            "linecolor": "white",
            "showbackground": true,
            "ticks": "",
            "zerolinecolor": "white"
           }
          },
          "shapedefaults": {
           "line": {
            "color": "#2a3f5f"
           }
          },
          "ternary": {
           "aaxis": {
            "gridcolor": "white",
            "linecolor": "white",
            "ticks": ""
           },
           "baxis": {
            "gridcolor": "white",
            "linecolor": "white",
            "ticks": ""
           },
           "bgcolor": "#E5ECF6",
           "caxis": {
            "gridcolor": "white",
            "linecolor": "white",
            "ticks": ""
           }
          },
          "title": {
           "x": 0.05
          },
          "xaxis": {
           "automargin": true,
           "gridcolor": "white",
           "linecolor": "white",
           "ticks": "",
           "title": {
            "standoff": 15
           },
           "zerolinecolor": "white",
           "zerolinewidth": 2
          },
          "yaxis": {
           "automargin": true,
           "gridcolor": "white",
           "linecolor": "white",
           "ticks": "",
           "title": {
            "standoff": 15
           },
           "zerolinecolor": "white",
           "zerolinewidth": 2
          }
         }
        },
        "xaxis": {
         "anchor": "y",
         "domain": [
          0.0,
          1.0
         ],
         "title": {
          "text": "x"
         }
        },
        "yaxis": {
         "anchor": "x",
         "domain": [
          0.0,
          1.0
         ],
         "title": {
          "text": "value"
         }
        }
       }
      },
      "text/html": "<div>                            <div id=\"e484e0f5-4965-4ac4-9b3a-c160fa09b2dd\" class=\"plotly-graph-div\" style=\"height:525px; width:100%;\"></div>            <script type=\"text/javascript\">                require([\"plotly\"], function(Plotly) {                    window.PLOTLYENV=window.PLOTLYENV || {};                                    if (document.getElementById(\"e484e0f5-4965-4ac4-9b3a-c160fa09b2dd\")) {                    Plotly.newPlot(                        \"e484e0f5-4965-4ac4-9b3a-c160fa09b2dd\",                        [{\"hovertemplate\":\"variable=wide_variable_0<br>x=%{x}<br>value=%{y}<extra></extra>\",\"legendgroup\":\"wide_variable_0\",\"line\":{\"color\":\"#636efa\",\"dash\":\"solid\"},\"marker\":{\"symbol\":\"circle\"},\"mode\":\"lines\",\"name\":\"wide_variable_0\",\"orientation\":\"v\",\"showlegend\":true,\"type\":\"scatter\",\"x\":[1964.0,1965.061224489796,1966.1224489795918,1967.1836734693877,1968.2448979591836,1969.3061224489795,1970.3673469387754,1971.4285714285713,1972.4897959183672,1973.5510204081634,1974.6122448979593,1975.6734693877552,1976.734693877551,1977.795918367347,1978.857142857143,1979.9183673469388,1980.9795918367347,1982.0408163265306,1983.1020408163265,1984.1632653061224,1985.2244897959183,1986.2857142857142,1987.3469387755101,1988.408163265306,1989.469387755102,1990.530612244898,1991.591836734694,1992.6530612244899,1993.7142857142858,1994.7755102040817,1995.8367346938776,1996.8979591836735,1997.9591836734694,1999.0204081632653,2000.0816326530612,2001.142857142857,2002.204081632653,2003.265306122449,2004.3265306122448,2005.3877551020407,2006.4489795918366,2007.5102040816328,2008.5714285714287,2009.6326530612246,2010.6938775510205,2011.7551020408164,2012.8163265306123,2013.8775510204082,2014.938775510204,2016.0],\"xaxis\":\"x\",\"y\":[0.40625000000000006,0.44374531228558434,0.4219905714353704,0.35999872527812893,0.2767827216426314,0.19135550835764822,0.12273003325195075,0.08991924415430992,0.11107086002882648,0.1803184931558195,0.26524604787556094,0.33206347713678463,0.3489794520621499,0.30540166835713145,0.20350603919773574,0.04564394821694001,-0.15789602882959908,-0.35680404595190734,-0.48818466316918974,-0.48922176746707957,-0.33216741984326587,-0.07843894575924244,0.19658409791157477,0.41824190286092383,0.5425762555757685,0.5671613137467445,0.4925193251873567,0.3213189317800333,0.08646694028794777,-0.15677716054261498,-0.3526298599758939,-0.4537246710377408,-0.4664477002729436,-0.41832563306555937,-0.3369341654290561,-0.24551966502941294,-0.15356155139696293,-0.06780892311880508,0.005023354075405552,0.060711389723460636,0.09916705045310278,0.12069213653390032,0.12567924336289896,0.11627545643919641,0.09621479067674656,0.06928843809602686,0.039287590717514836,0.010003440561688025,-0.014772820350976093,-0.03125],\"yaxis\":\"y\"}],                        {\"legend\":{\"title\":{\"text\":\"variable\"},\"tracegroupgap\":0},\"margin\":{\"t\":60},\"template\":{\"data\":{\"bar\":[{\"error_x\":{\"color\":\"#2a3f5f\"},\"error_y\":{\"color\":\"#2a3f5f\"},\"marker\":{\"line\":{\"color\":\"#E5ECF6\",\"width\":0.5},\"pattern\":{\"fillmode\":\"overlay\",\"size\":10,\"solidity\":0.2}},\"type\":\"bar\"}],\"barpolar\":[{\"marker\":{\"line\":{\"color\":\"#E5ECF6\",\"width\":0.5},\"pattern\":{\"fillmode\":\"overlay\",\"size\":10,\"solidity\":0.2}},\"type\":\"barpolar\"}],\"carpet\":[{\"aaxis\":{\"endlinecolor\":\"#2a3f5f\",\"gridcolor\":\"white\",\"linecolor\":\"white\",\"minorgridcolor\":\"white\",\"startlinecolor\":\"#2a3f5f\"},\"baxis\":{\"endlinecolor\":\"#2a3f5f\",\"gridcolor\":\"white\",\"linecolor\":\"white\",\"minorgridcolor\":\"white\",\"startlinecolor\":\"#2a3f5f\"},\"type\":\"carpet\"}],\"choropleth\":[{\"colorbar\":{\"outlinewidth\":0,\"ticks\":\"\"},\"type\":\"choropleth\"}],\"contour\":[{\"colorbar\":{\"outlinewidth\":0,\"ticks\":\"\"},\"colorscale\":[[0.0,\"#0d0887\"],[0.1111111111111111,\"#46039f\"],[0.2222222222222222,\"#7201a8\"],[0.3333333333333333,\"#9c179e\"],[0.4444444444444444,\"#bd3786\"],[0.5555555555555556,\"#d8576b\"],[0.6666666666666666,\"#ed7953\"],[0.7777777777777778,\"#fb9f3a\"],[0.8888888888888888,\"#fdca26\"],[1.0,\"#f0f921\"]],\"type\":\"contour\"}],\"contourcarpet\":[{\"colorbar\":{\"outlinewidth\":0,\"ticks\":\"\"},\"type\":\"contourcarpet\"}],\"heatmap\":[{\"colorbar\":{\"outlinewidth\":0,\"ticks\":\"\"},\"colorscale\":[[0.0,\"#0d0887\"],[0.1111111111111111,\"#46039f\"],[0.2222222222222222,\"#7201a8\"],[0.3333333333333333,\"#9c179e\"],[0.4444444444444444,\"#bd3786\"],[0.5555555555555556,\"#d8576b\"],[0.6666666666666666,\"#ed7953\"],[0.7777777777777778,\"#fb9f3a\"],[0.8888888888888888,\"#fdca26\"],[1.0,\"#f0f921\"]],\"type\":\"heatmap\"}],\"heatmapgl\":[{\"colorbar\":{\"outlinewidth\":0,\"ticks\":\"\"},\"colorscale\":[[0.0,\"#0d0887\"],[0.1111111111111111,\"#46039f\"],[0.2222222222222222,\"#7201a8\"],[0.3333333333333333,\"#9c179e\"],[0.4444444444444444,\"#bd3786\"],[0.5555555555555556,\"#d8576b\"],[0.6666666666666666,\"#ed7953\"],[0.7777777777777778,\"#fb9f3a\"],[0.8888888888888888,\"#fdca26\"],[1.0,\"#f0f921\"]],\"type\":\"heatmapgl\"}],\"histogram\":[{\"marker\":{\"pattern\":{\"fillmode\":\"overlay\",\"size\":10,\"solidity\":0.2}},\"type\":\"histogram\"}],\"histogram2d\":[{\"colorbar\":{\"outlinewidth\":0,\"ticks\":\"\"},\"colorscale\":[[0.0,\"#0d0887\"],[0.1111111111111111,\"#46039f\"],[0.2222222222222222,\"#7201a8\"],[0.3333333333333333,\"#9c179e\"],[0.4444444444444444,\"#bd3786\"],[0.5555555555555556,\"#d8576b\"],[0.6666666666666666,\"#ed7953\"],[0.7777777777777778,\"#fb9f3a\"],[0.8888888888888888,\"#fdca26\"],[1.0,\"#f0f921\"]],\"type\":\"histogram2d\"}],\"histogram2dcontour\":[{\"colorbar\":{\"outlinewidth\":0,\"ticks\":\"\"},\"colorscale\":[[0.0,\"#0d0887\"],[0.1111111111111111,\"#46039f\"],[0.2222222222222222,\"#7201a8\"],[0.3333333333333333,\"#9c179e\"],[0.4444444444444444,\"#bd3786\"],[0.5555555555555556,\"#d8576b\"],[0.6666666666666666,\"#ed7953\"],[0.7777777777777778,\"#fb9f3a\"],[0.8888888888888888,\"#fdca26\"],[1.0,\"#f0f921\"]],\"type\":\"histogram2dcontour\"}],\"mesh3d\":[{\"colorbar\":{\"outlinewidth\":0,\"ticks\":\"\"},\"type\":\"mesh3d\"}],\"parcoords\":[{\"line\":{\"colorbar\":{\"outlinewidth\":0,\"ticks\":\"\"}},\"type\":\"parcoords\"}],\"pie\":[{\"automargin\":true,\"type\":\"pie\"}],\"scatter\":[{\"marker\":{\"colorbar\":{\"outlinewidth\":0,\"ticks\":\"\"}},\"type\":\"scatter\"}],\"scatter3d\":[{\"line\":{\"colorbar\":{\"outlinewidth\":0,\"ticks\":\"\"}},\"marker\":{\"colorbar\":{\"outlinewidth\":0,\"ticks\":\"\"}},\"type\":\"scatter3d\"}],\"scattercarpet\":[{\"marker\":{\"colorbar\":{\"outlinewidth\":0,\"ticks\":\"\"}},\"type\":\"scattercarpet\"}],\"scattergeo\":[{\"marker\":{\"colorbar\":{\"outlinewidth\":0,\"ticks\":\"\"}},\"type\":\"scattergeo\"}],\"scattergl\":[{\"marker\":{\"colorbar\":{\"outlinewidth\":0,\"ticks\":\"\"}},\"type\":\"scattergl\"}],\"scattermapbox\":[{\"marker\":{\"colorbar\":{\"outlinewidth\":0,\"ticks\":\"\"}},\"type\":\"scattermapbox\"}],\"scatterpolar\":[{\"marker\":{\"colorbar\":{\"outlinewidth\":0,\"ticks\":\"\"}},\"type\":\"scatterpolar\"}],\"scatterpolargl\":[{\"marker\":{\"colorbar\":{\"outlinewidth\":0,\"ticks\":\"\"}},\"type\":\"scatterpolargl\"}],\"scatterternary\":[{\"marker\":{\"colorbar\":{\"outlinewidth\":0,\"ticks\":\"\"}},\"type\":\"scatterternary\"}],\"surface\":[{\"colorbar\":{\"outlinewidth\":0,\"ticks\":\"\"},\"colorscale\":[[0.0,\"#0d0887\"],[0.1111111111111111,\"#46039f\"],[0.2222222222222222,\"#7201a8\"],[0.3333333333333333,\"#9c179e\"],[0.4444444444444444,\"#bd3786\"],[0.5555555555555556,\"#d8576b\"],[0.6666666666666666,\"#ed7953\"],[0.7777777777777778,\"#fb9f3a\"],[0.8888888888888888,\"#fdca26\"],[1.0,\"#f0f921\"]],\"type\":\"surface\"}],\"table\":[{\"cells\":{\"fill\":{\"color\":\"#EBF0F8\"},\"line\":{\"color\":\"white\"}},\"header\":{\"fill\":{\"color\":\"#C8D4E3\"},\"line\":{\"color\":\"white\"}},\"type\":\"table\"}]},\"layout\":{\"annotationdefaults\":{\"arrowcolor\":\"#2a3f5f\",\"arrowhead\":0,\"arrowwidth\":1},\"autotypenumbers\":\"strict\",\"coloraxis\":{\"colorbar\":{\"outlinewidth\":0,\"ticks\":\"\"}},\"colorscale\":{\"diverging\":[[0,\"#8e0152\"],[0.1,\"#c51b7d\"],[0.2,\"#de77ae\"],[0.3,\"#f1b6da\"],[0.4,\"#fde0ef\"],[0.5,\"#f7f7f7\"],[0.6,\"#e6f5d0\"],[0.7,\"#b8e186\"],[0.8,\"#7fbc41\"],[0.9,\"#4d9221\"],[1,\"#276419\"]],\"sequential\":[[0.0,\"#0d0887\"],[0.1111111111111111,\"#46039f\"],[0.2222222222222222,\"#7201a8\"],[0.3333333333333333,\"#9c179e\"],[0.4444444444444444,\"#bd3786\"],[0.5555555555555556,\"#d8576b\"],[0.6666666666666666,\"#ed7953\"],[0.7777777777777778,\"#fb9f3a\"],[0.8888888888888888,\"#fdca26\"],[1.0,\"#f0f921\"]],\"sequentialminus\":[[0.0,\"#0d0887\"],[0.1111111111111111,\"#46039f\"],[0.2222222222222222,\"#7201a8\"],[0.3333333333333333,\"#9c179e\"],[0.4444444444444444,\"#bd3786\"],[0.5555555555555556,\"#d8576b\"],[0.6666666666666666,\"#ed7953\"],[0.7777777777777778,\"#fb9f3a\"],[0.8888888888888888,\"#fdca26\"],[1.0,\"#f0f921\"]]},\"colorway\":[\"#636efa\",\"#EF553B\",\"#00cc96\",\"#ab63fa\",\"#FFA15A\",\"#19d3f3\",\"#FF6692\",\"#B6E880\",\"#FF97FF\",\"#FECB52\"],\"font\":{\"color\":\"#2a3f5f\"},\"geo\":{\"bgcolor\":\"white\",\"lakecolor\":\"white\",\"landcolor\":\"#E5ECF6\",\"showlakes\":true,\"showland\":true,\"subunitcolor\":\"white\"},\"hoverlabel\":{\"align\":\"left\"},\"hovermode\":\"closest\",\"mapbox\":{\"style\":\"light\"},\"paper_bgcolor\":\"white\",\"plot_bgcolor\":\"#E5ECF6\",\"polar\":{\"angularaxis\":{\"gridcolor\":\"white\",\"linecolor\":\"white\",\"ticks\":\"\"},\"bgcolor\":\"#E5ECF6\",\"radialaxis\":{\"gridcolor\":\"white\",\"linecolor\":\"white\",\"ticks\":\"\"}},\"scene\":{\"xaxis\":{\"backgroundcolor\":\"#E5ECF6\",\"gridcolor\":\"white\",\"gridwidth\":2,\"linecolor\":\"white\",\"showbackground\":true,\"ticks\":\"\",\"zerolinecolor\":\"white\"},\"yaxis\":{\"backgroundcolor\":\"#E5ECF6\",\"gridcolor\":\"white\",\"gridwidth\":2,\"linecolor\":\"white\",\"showbackground\":true,\"ticks\":\"\",\"zerolinecolor\":\"white\"},\"zaxis\":{\"backgroundcolor\":\"#E5ECF6\",\"gridcolor\":\"white\",\"gridwidth\":2,\"linecolor\":\"white\",\"showbackground\":true,\"ticks\":\"\",\"zerolinecolor\":\"white\"}},\"shapedefaults\":{\"line\":{\"color\":\"#2a3f5f\"}},\"ternary\":{\"aaxis\":{\"gridcolor\":\"white\",\"linecolor\":\"white\",\"ticks\":\"\"},\"baxis\":{\"gridcolor\":\"white\",\"linecolor\":\"white\",\"ticks\":\"\"},\"bgcolor\":\"#E5ECF6\",\"caxis\":{\"gridcolor\":\"white\",\"linecolor\":\"white\",\"ticks\":\"\"}},\"title\":{\"x\":0.05},\"xaxis\":{\"automargin\":true,\"gridcolor\":\"white\",\"linecolor\":\"white\",\"ticks\":\"\",\"title\":{\"standoff\":15},\"zerolinecolor\":\"white\",\"zerolinewidth\":2},\"yaxis\":{\"automargin\":true,\"gridcolor\":\"white\",\"linecolor\":\"white\",\"ticks\":\"\",\"title\":{\"standoff\":15},\"zerolinecolor\":\"white\",\"zerolinewidth\":2}}},\"xaxis\":{\"anchor\":\"y\",\"domain\":[0.0,1.0],\"title\":{\"text\":\"x\"}},\"yaxis\":{\"anchor\":\"x\",\"domain\":[0.0,1.0],\"title\":{\"text\":\"value\"}}},                        {\"responsive\": true}                    ).then(function(){\n                            \nvar gd = document.getElementById('e484e0f5-4965-4ac4-9b3a-c160fa09b2dd');\nvar x = new MutationObserver(function (mutations, observer) {{\n        var display = window.getComputedStyle(gd).display;\n        if (!display || display === 'none') {{\n            console.log([gd, 'removed!']);\n            Plotly.purge(gd);\n            observer.disconnect();\n        }}\n}});\n\n// Listen for the removal of the full notebook cells\nvar notebookContainer = gd.closest('#notebook-container');\nif (notebookContainer) {{\n    x.observe(notebookContainer, {childList: true});\n}}\n\n// Listen for the clearing of the current output cell\nvar outputEl = gd.closest('.output');\nif (outputEl) {{\n    x.observe(outputEl, {childList: true});\n}}\n\n                        })                };                });            </script>        </div>"
     },
     "metadata": {},
     "output_type": "display_data"
    }
   ],
   "source": [
    "year_pivot_df = pd.pivot(gold_df, index='Year', columns='NOC', values='TotalMedals')\n",
    "year_pivot_df = year_pivot_df.fillna(value=0)\n",
    "velocity_df = pd.DataFrame(np.gradient(year_pivot_df.to_numpy(), 4, axis=0), columns=year_pivot_df.columns)\n",
    "velocity_df.set_index(year_pivot_df.index, inplace=True)\n",
    "display(velocity_df)\n",
    "\n",
    "acceleration_df = pd.DataFrame(np.gradient(velocity_df.to_numpy(), 4, axis=0), columns=year_pivot_df.columns)\n",
    "acceleration_df.set_index(year_pivot_df.index, inplace=True)\n",
    "display(acceleration_df)\n",
    "\n",
    "import plotly.express as px\n",
    "from scipy import interpolate\n",
    "ita = interpolate.splrep(acceleration_df.index, acceleration_df.ITA, s=0)\n",
    "x_plot = np.linspace(1964, 2016, 50)\n",
    "fig = px.line(acceleration_df, x=x_plot, y=[interpolate.splev(x_plot, ita)])\n",
    "fig.show()\n",
    "\n",
    "\n"
   ],
   "metadata": {
    "collapsed": false,
    "pycharm": {
     "name": "#%%\n"
    }
   }
  },
  {
   "cell_type": "code",
   "execution_count": null,
   "outputs": [],
   "source": [
    "gold_df['population_display'] = gold_df['Population'].map('{:,}'.format)\n",
    "gold_df['display'] = '<extra>'+ gold_df.alpha_3 + '</extra><b>' + gold_df.iso_names + ' (' + gold_df.Year.astype(str) + ')</b><br><br>Medals:' + \\\n",
    "                     '<br>Gold: ' + gold_df.Gold.astype(str) + \\\n",
    "                    '<br>Silver: ' + gold_df.Silver.astype(str) + \\\n",
    "                    '<br>Bronze: ' + gold_df.Bronze.astype(str) + \\\n",
    "                    '<br><br>Total medals collected: ' + gold_df.TotalMedals.astype(str) + \\\n",
    "                    '<br>Partecipated to ' + \\\n",
    "                     gold_df.events_partecipations_no.astype(str) + \\\n",
    "                    ' events with ' + gold_df.distinct_athletes_no.astype(str) + ' athletes' + \\\n",
    "                    '<br><br>Country population: ' + gold_df.population_display.astype(str)\n",
    "\n",
    "display(gold_df.head(4))\n",
    "display(gold_df.describe())\n"
   ],
   "metadata": {
    "collapsed": false,
    "pycharm": {
     "name": "#%%\n"
    }
   }
  },
  {
   "cell_type": "code",
   "execution_count": 73,
   "outputs": [
    {
     "data": {
      "text/plain": "      NOC  Year  events_partecipations_no  distinct_athletes_no  Bronze  Gold  \\\n649   EUN  1992                       650                   475      29    45   \n2084  USA  1992                       734                   545      37    37   \n760   GER  1992                       653                   463      28    33   \n406   CHN  1992                       394                   244      15    16   \n510   CUB  1992                       196                   176      11    14   \n...   ...   ...                       ...                   ...     ...   ...   \n752   GEQ  1992                         8                     7       0     0   \n712   GAM  1992                         8                     5       0     0   \n703   GAB  1992                         5                     5       0     0   \n655   FIJ  1992                        36                    18       0     0   \n2173  ZIM  1992                        28                    19       0     0   \n\n      NoMedal  Silver  TotalPartecipants  TotalMedals             region  \\\n649       182      38                294          112             Russia   \n2084      201      34                309          108      United States   \n760       188      21                270           82            Germany   \n406       127      22                180           53              China   \n510        65       6                 96           31               Cuba   \n...       ...     ...                ...          ...                ...   \n752         8       0                  8            0  Equatorial Guinea   \n712         5       0                  5            0             Gambia   \n703         5       0                  5            0              Gabon   \n655        32       0                 32            0               Fiji   \n2173       22       0                 22            0           Zimbabwe   \n\n     alpha_3           iso_names  Population population_display  \\\n649      RUS  Russian Federation   148538197        148,538,197   \n2084     USA       United States   256514000        256,514,000   \n760      DEU             Germany    80624598         80,624,598   \n406      CHN               China  1164970000      1,164,970,000   \n510      CUB                Cuba    10736386         10,736,386   \n...      ...                 ...         ...                ...   \n752      GNQ   Equatorial Guinea      447269            447,269   \n712      GMB              Gambia     1027476          1,027,476   \n703      GAB               Gabon     1002573          1,002,573   \n655      FJI                Fiji      744470            744,470   \n2173     ZWE            Zimbabwe    10900511         10,900,511   \n\n                                                display  \n649   <extra>RUS</extra><b>Russian Federation (1992)...  \n2084  <extra>USA</extra><b>United States (1992)</b><...  \n760   <extra>DEU</extra><b>Germany (1992)</b><br><br...  \n406   <extra>CHN</extra><b>China (1992)</b><br><br>M...  \n510   <extra>CUB</extra><b>Cuba (1992)</b><br><br>Me...  \n...                                                 ...  \n752   <extra>GNQ</extra><b>Equatorial Guinea (1992)<...  \n712   <extra>GMB</extra><b>Gambia (1992)</b><br><br>...  \n703   <extra>GAB</extra><b>Gabon (1992)</b><br><br>M...  \n655   <extra>FJI</extra><b>Fiji (1992)</b><br><br>Me...  \n2173  <extra>ZWE</extra><b>Zimbabwe (1992)</b><br><b...  \n\n[167 rows x 16 columns]",
      "text/html": "<div>\n<style scoped>\n    .dataframe tbody tr th:only-of-type {\n        vertical-align: middle;\n    }\n\n    .dataframe tbody tr th {\n        vertical-align: top;\n    }\n\n    .dataframe thead th {\n        text-align: right;\n    }\n</style>\n<table border=\"1\" class=\"dataframe\">\n  <thead>\n    <tr style=\"text-align: right;\">\n      <th></th>\n      <th>NOC</th>\n      <th>Year</th>\n      <th>events_partecipations_no</th>\n      <th>distinct_athletes_no</th>\n      <th>Bronze</th>\n      <th>Gold</th>\n      <th>NoMedal</th>\n      <th>Silver</th>\n      <th>TotalPartecipants</th>\n      <th>TotalMedals</th>\n      <th>region</th>\n      <th>alpha_3</th>\n      <th>iso_names</th>\n      <th>Population</th>\n      <th>population_display</th>\n      <th>display</th>\n    </tr>\n  </thead>\n  <tbody>\n    <tr>\n      <th>649</th>\n      <td>EUN</td>\n      <td>1992</td>\n      <td>650</td>\n      <td>475</td>\n      <td>29</td>\n      <td>45</td>\n      <td>182</td>\n      <td>38</td>\n      <td>294</td>\n      <td>112</td>\n      <td>Russia</td>\n      <td>RUS</td>\n      <td>Russian Federation</td>\n      <td>148538197</td>\n      <td>148,538,197</td>\n      <td>&lt;extra&gt;RUS&lt;/extra&gt;&lt;b&gt;Russian Federation (1992)...</td>\n    </tr>\n    <tr>\n      <th>2084</th>\n      <td>USA</td>\n      <td>1992</td>\n      <td>734</td>\n      <td>545</td>\n      <td>37</td>\n      <td>37</td>\n      <td>201</td>\n      <td>34</td>\n      <td>309</td>\n      <td>108</td>\n      <td>United States</td>\n      <td>USA</td>\n      <td>United States</td>\n      <td>256514000</td>\n      <td>256,514,000</td>\n      <td>&lt;extra&gt;USA&lt;/extra&gt;&lt;b&gt;United States (1992)&lt;/b&gt;&lt;...</td>\n    </tr>\n    <tr>\n      <th>760</th>\n      <td>GER</td>\n      <td>1992</td>\n      <td>653</td>\n      <td>463</td>\n      <td>28</td>\n      <td>33</td>\n      <td>188</td>\n      <td>21</td>\n      <td>270</td>\n      <td>82</td>\n      <td>Germany</td>\n      <td>DEU</td>\n      <td>Germany</td>\n      <td>80624598</td>\n      <td>80,624,598</td>\n      <td>&lt;extra&gt;DEU&lt;/extra&gt;&lt;b&gt;Germany (1992)&lt;/b&gt;&lt;br&gt;&lt;br...</td>\n    </tr>\n    <tr>\n      <th>406</th>\n      <td>CHN</td>\n      <td>1992</td>\n      <td>394</td>\n      <td>244</td>\n      <td>15</td>\n      <td>16</td>\n      <td>127</td>\n      <td>22</td>\n      <td>180</td>\n      <td>53</td>\n      <td>China</td>\n      <td>CHN</td>\n      <td>China</td>\n      <td>1164970000</td>\n      <td>1,164,970,000</td>\n      <td>&lt;extra&gt;CHN&lt;/extra&gt;&lt;b&gt;China (1992)&lt;/b&gt;&lt;br&gt;&lt;br&gt;M...</td>\n    </tr>\n    <tr>\n      <th>510</th>\n      <td>CUB</td>\n      <td>1992</td>\n      <td>196</td>\n      <td>176</td>\n      <td>11</td>\n      <td>14</td>\n      <td>65</td>\n      <td>6</td>\n      <td>96</td>\n      <td>31</td>\n      <td>Cuba</td>\n      <td>CUB</td>\n      <td>Cuba</td>\n      <td>10736386</td>\n      <td>10,736,386</td>\n      <td>&lt;extra&gt;CUB&lt;/extra&gt;&lt;b&gt;Cuba (1992)&lt;/b&gt;&lt;br&gt;&lt;br&gt;Me...</td>\n    </tr>\n    <tr>\n      <th>...</th>\n      <td>...</td>\n      <td>...</td>\n      <td>...</td>\n      <td>...</td>\n      <td>...</td>\n      <td>...</td>\n      <td>...</td>\n      <td>...</td>\n      <td>...</td>\n      <td>...</td>\n      <td>...</td>\n      <td>...</td>\n      <td>...</td>\n      <td>...</td>\n      <td>...</td>\n      <td>...</td>\n    </tr>\n    <tr>\n      <th>752</th>\n      <td>GEQ</td>\n      <td>1992</td>\n      <td>8</td>\n      <td>7</td>\n      <td>0</td>\n      <td>0</td>\n      <td>8</td>\n      <td>0</td>\n      <td>8</td>\n      <td>0</td>\n      <td>Equatorial Guinea</td>\n      <td>GNQ</td>\n      <td>Equatorial Guinea</td>\n      <td>447269</td>\n      <td>447,269</td>\n      <td>&lt;extra&gt;GNQ&lt;/extra&gt;&lt;b&gt;Equatorial Guinea (1992)&lt;...</td>\n    </tr>\n    <tr>\n      <th>712</th>\n      <td>GAM</td>\n      <td>1992</td>\n      <td>8</td>\n      <td>5</td>\n      <td>0</td>\n      <td>0</td>\n      <td>5</td>\n      <td>0</td>\n      <td>5</td>\n      <td>0</td>\n      <td>Gambia</td>\n      <td>GMB</td>\n      <td>Gambia</td>\n      <td>1027476</td>\n      <td>1,027,476</td>\n      <td>&lt;extra&gt;GMB&lt;/extra&gt;&lt;b&gt;Gambia (1992)&lt;/b&gt;&lt;br&gt;&lt;br&gt;...</td>\n    </tr>\n    <tr>\n      <th>703</th>\n      <td>GAB</td>\n      <td>1992</td>\n      <td>5</td>\n      <td>5</td>\n      <td>0</td>\n      <td>0</td>\n      <td>5</td>\n      <td>0</td>\n      <td>5</td>\n      <td>0</td>\n      <td>Gabon</td>\n      <td>GAB</td>\n      <td>Gabon</td>\n      <td>1002573</td>\n      <td>1,002,573</td>\n      <td>&lt;extra&gt;GAB&lt;/extra&gt;&lt;b&gt;Gabon (1992)&lt;/b&gt;&lt;br&gt;&lt;br&gt;M...</td>\n    </tr>\n    <tr>\n      <th>655</th>\n      <td>FIJ</td>\n      <td>1992</td>\n      <td>36</td>\n      <td>18</td>\n      <td>0</td>\n      <td>0</td>\n      <td>32</td>\n      <td>0</td>\n      <td>32</td>\n      <td>0</td>\n      <td>Fiji</td>\n      <td>FJI</td>\n      <td>Fiji</td>\n      <td>744470</td>\n      <td>744,470</td>\n      <td>&lt;extra&gt;FJI&lt;/extra&gt;&lt;b&gt;Fiji (1992)&lt;/b&gt;&lt;br&gt;&lt;br&gt;Me...</td>\n    </tr>\n    <tr>\n      <th>2173</th>\n      <td>ZIM</td>\n      <td>1992</td>\n      <td>28</td>\n      <td>19</td>\n      <td>0</td>\n      <td>0</td>\n      <td>22</td>\n      <td>0</td>\n      <td>22</td>\n      <td>0</td>\n      <td>Zimbabwe</td>\n      <td>ZWE</td>\n      <td>Zimbabwe</td>\n      <td>10900511</td>\n      <td>10,900,511</td>\n      <td>&lt;extra&gt;ZWE&lt;/extra&gt;&lt;b&gt;Zimbabwe (1992)&lt;/b&gt;&lt;br&gt;&lt;b...</td>\n    </tr>\n  </tbody>\n</table>\n<p>167 rows × 16 columns</p>\n</div>"
     },
     "metadata": {},
     "output_type": "display_data"
    }
   ],
   "source": [
    "# Get year 2016\n",
    "year = 1992\n",
    "year_df = gold_df.loc[gold_df.Year == year]\n",
    "dupes = year_df.loc[year_df.duplicated(subset=['Year', 'alpha_3'], keep=False)]\n",
    "display(year_df.sort_values(by='TotalMedals', ascending=False))\n",
    "\n",
    "data = \\\n",
    "    go.Choropleth(\n",
    "    locations=year_df.alpha_3,\n",
    "    z=year_df.TotalMedals,\n",
    "    colorscale=\"Emrld\",\n",
    "    customdata=year_df.display,\n",
    "    hovertemplate='%{customdata}',\n",
    "    text=year_df.iso_names,\n",
    "    marker_line_color='darkgray',\n",
    "    marker_line_width=0.5,\n",
    "    colorbar_title = 'Medals'\n",
    "    )\n",
    "\n",
    "fig = go.Figure(data=data)\n",
    "fig.show(renderer='browser')"
   ],
   "metadata": {
    "collapsed": false,
    "pycharm": {
     "name": "#%%\n"
    }
   }
  },
  {
   "cell_type": "code",
   "execution_count": null,
   "outputs": [],
   "source": [],
   "metadata": {
    "collapsed": false,
    "pycharm": {
     "name": "#%%"
    }
   }
  }
 ],
 "metadata": {
  "kernelspec": {
   "display_name": "Python 3",
   "language": "python",
   "name": "python3"
  },
  "language_info": {
   "codemirror_mode": {
    "name": "ipython",
    "version": 2
   },
   "file_extension": ".py",
   "mimetype": "text/x-python",
   "name": "python",
   "nbconvert_exporter": "python",
   "pygments_lexer": "ipython2",
   "version": "2.7.6"
  }
 },
 "nbformat": 4,
 "nbformat_minor": 0
}