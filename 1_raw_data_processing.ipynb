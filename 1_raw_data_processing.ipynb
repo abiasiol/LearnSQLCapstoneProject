{
 "cells": [
  {
   "cell_type": "code",
   "execution_count": 2,
   "metadata": {
    "collapsed": true
   },
   "outputs": [],
   "source": [
    "import pandas as pd\n",
    "import os\n",
    "import numpy as np\n",
    "from IPython.display import display\n",
    "# pd.set_option('display.max_rows', )"
   ]
  },
  {
   "cell_type": "code",
   "execution_count": 3,
   "outputs": [
    {
     "name": "stdout",
     "output_type": "stream",
     "text": [
      "<class 'pandas.core.frame.DataFrame'>\n",
      "RangeIndex: 271116 entries, 0 to 271115\n",
      "Data columns (total 15 columns):\n",
      " #   Column  Non-Null Count   Dtype  \n",
      "---  ------  --------------   -----  \n",
      " 0   ID      271116 non-null  int64  \n",
      " 1   Name    271116 non-null  object \n",
      " 2   Sex     271116 non-null  object \n",
      " 3   Age     261642 non-null  float64\n",
      " 4   Height  210945 non-null  float64\n",
      " 5   Weight  208241 non-null  float64\n",
      " 6   Team    271116 non-null  object \n",
      " 7   NOC     271116 non-null  object \n",
      " 8   Games   271116 non-null  object \n",
      " 9   Year    271116 non-null  int64  \n",
      " 10  Season  271116 non-null  object \n",
      " 11  City    271116 non-null  object \n",
      " 12  Sport   271116 non-null  object \n",
      " 13  Event   271116 non-null  object \n",
      " 14  Medal   39783 non-null   object \n",
      "dtypes: float64(3), int64(2), object(10)\n",
      "memory usage: 31.0+ MB\n"
     ]
    }
   ],
   "source": [
    "datasets_path = 'dataset/'\n",
    "\n",
    "# Load the csv dataset\n",
    "raw_df = pd.read_csv(os.path.join(datasets_path, 'athlete_events.csv'))\n",
    "\n",
    "# Visualize df info\n",
    "raw_df.info()"
   ],
   "metadata": {
    "collapsed": false,
    "pycharm": {
     "name": "#%%\n"
    }
   }
  },
  {
   "cell_type": "code",
   "execution_count": 144,
   "outputs": [
    {
     "data": {
      "text/plain": "   ID                      Name Sex   Age  Height  Weight            Team  \\\n0   1                 A Dijiang   M  24.0   180.0    80.0           China   \n1   2                  A Lamusi   M  23.0   170.0    60.0           China   \n2   3       Gunnar Nielsen Aaby   M  24.0     NaN     NaN         Denmark   \n3   4      Edgar Lindenau Aabye   M  34.0     NaN     NaN  Denmark/Sweden   \n4   5  Christine Jacoba Aaftink   F  21.0   185.0    82.0     Netherlands   \n\n   NOC        Games  Year  Season       City          Sport  \\\n0  CHN  1992 Summer  1992  Summer  Barcelona     Basketball   \n1  CHN  2012 Summer  2012  Summer     London           Judo   \n2  DEN  1920 Summer  1920  Summer  Antwerpen       Football   \n3  DEN  1900 Summer  1900  Summer      Paris     Tug-Of-War   \n4  NED  1988 Winter  1988  Winter    Calgary  Speed Skating   \n\n                              Event Medal  \n0       Basketball Men's Basketball   NaN  \n1      Judo Men's Extra-Lightweight   NaN  \n2           Football Men's Football   NaN  \n3       Tug-Of-War Men's Tug-Of-War  Gold  \n4  Speed Skating Women's 500 metres   NaN  ",
      "text/html": "<div>\n<style scoped>\n    .dataframe tbody tr th:only-of-type {\n        vertical-align: middle;\n    }\n\n    .dataframe tbody tr th {\n        vertical-align: top;\n    }\n\n    .dataframe thead th {\n        text-align: right;\n    }\n</style>\n<table border=\"1\" class=\"dataframe\">\n  <thead>\n    <tr style=\"text-align: right;\">\n      <th></th>\n      <th>ID</th>\n      <th>Name</th>\n      <th>Sex</th>\n      <th>Age</th>\n      <th>Height</th>\n      <th>Weight</th>\n      <th>Team</th>\n      <th>NOC</th>\n      <th>Games</th>\n      <th>Year</th>\n      <th>Season</th>\n      <th>City</th>\n      <th>Sport</th>\n      <th>Event</th>\n      <th>Medal</th>\n    </tr>\n  </thead>\n  <tbody>\n    <tr>\n      <th>0</th>\n      <td>1</td>\n      <td>A Dijiang</td>\n      <td>M</td>\n      <td>24.0</td>\n      <td>180.0</td>\n      <td>80.0</td>\n      <td>China</td>\n      <td>CHN</td>\n      <td>1992 Summer</td>\n      <td>1992</td>\n      <td>Summer</td>\n      <td>Barcelona</td>\n      <td>Basketball</td>\n      <td>Basketball Men's Basketball</td>\n      <td>NaN</td>\n    </tr>\n    <tr>\n      <th>1</th>\n      <td>2</td>\n      <td>A Lamusi</td>\n      <td>M</td>\n      <td>23.0</td>\n      <td>170.0</td>\n      <td>60.0</td>\n      <td>China</td>\n      <td>CHN</td>\n      <td>2012 Summer</td>\n      <td>2012</td>\n      <td>Summer</td>\n      <td>London</td>\n      <td>Judo</td>\n      <td>Judo Men's Extra-Lightweight</td>\n      <td>NaN</td>\n    </tr>\n    <tr>\n      <th>2</th>\n      <td>3</td>\n      <td>Gunnar Nielsen Aaby</td>\n      <td>M</td>\n      <td>24.0</td>\n      <td>NaN</td>\n      <td>NaN</td>\n      <td>Denmark</td>\n      <td>DEN</td>\n      <td>1920 Summer</td>\n      <td>1920</td>\n      <td>Summer</td>\n      <td>Antwerpen</td>\n      <td>Football</td>\n      <td>Football Men's Football</td>\n      <td>NaN</td>\n    </tr>\n    <tr>\n      <th>3</th>\n      <td>4</td>\n      <td>Edgar Lindenau Aabye</td>\n      <td>M</td>\n      <td>34.0</td>\n      <td>NaN</td>\n      <td>NaN</td>\n      <td>Denmark/Sweden</td>\n      <td>DEN</td>\n      <td>1900 Summer</td>\n      <td>1900</td>\n      <td>Summer</td>\n      <td>Paris</td>\n      <td>Tug-Of-War</td>\n      <td>Tug-Of-War Men's Tug-Of-War</td>\n      <td>Gold</td>\n    </tr>\n    <tr>\n      <th>4</th>\n      <td>5</td>\n      <td>Christine Jacoba Aaftink</td>\n      <td>F</td>\n      <td>21.0</td>\n      <td>185.0</td>\n      <td>82.0</td>\n      <td>Netherlands</td>\n      <td>NED</td>\n      <td>1988 Winter</td>\n      <td>1988</td>\n      <td>Winter</td>\n      <td>Calgary</td>\n      <td>Speed Skating</td>\n      <td>Speed Skating Women's 500 metres</td>\n      <td>NaN</td>\n    </tr>\n  </tbody>\n</table>\n</div>"
     },
     "metadata": {},
     "output_type": "display_data"
    }
   ],
   "source": [
    "# First 5 rows to make sure of data types\n",
    "display(raw_df.head(5))"
   ],
   "metadata": {
    "collapsed": false,
    "pycharm": {
     "name": "#%%\n"
    }
   }
  },
  {
   "cell_type": "code",
   "execution_count": 145,
   "outputs": [],
   "source": [
    "import re\n",
    "\n",
    "# Find the -1 -2 suffixes from names and teams and take them off\n",
    "p = '(-\\d+)'\n",
    "raw_df.Team = raw_df.Team.str.replace(p, '', case=False, regex=True)\n",
    "\n",
    "raw_df.Name = raw_df.Name.str.replace(p, '', case=False, regex=True)"
   ],
   "metadata": {
    "collapsed": false,
    "pycharm": {
     "name": "#%%\n"
    }
   }
  },
  {
   "cell_type": "code",
   "execution_count": 146,
   "outputs": [],
   "source": [
    "# Cast to appropriate data types\n",
    "\n",
    "# Sex\n",
    "raw_df.Sex = raw_df.Sex.astype(pd.CategoricalDtype(categories=['M', 'F']))\n",
    "raw_df.Age = raw_df.Age.astype('Int8')\n",
    "raw_df.Height = np.floor(pd.to_numeric(raw_df.Height, errors='coerce')).astype('Int16')\n",
    "raw_df.Weight = raw_df.Weight.astype('float32')\n",
    "raw_df.NOC = raw_df.NOC.astype('category')\n",
    "raw_df.Games = raw_df.Games.astype('category')\n",
    "raw_df.Year = raw_df.Year.astype('uint16')\n",
    "raw_df.Season = raw_df.Season.astype('category')\n",
    "raw_df.City = raw_df.City.astype('category')\n",
    "raw_df.Sport = raw_df.Sport.astype('category')\n",
    "raw_df.Event = raw_df.Event.astype('category')\n",
    "raw_df.Medal = raw_df.Medal.astype(pd.CategoricalDtype(categories=['Gold', 'Silver', 'Bronze'], ordered=True))\n",
    "raw_df.Team = raw_df.Team.astype('category')"
   ],
   "metadata": {
    "collapsed": false,
    "pycharm": {
     "name": "#%%\n"
    }
   }
  },
  {
   "cell_type": "code",
   "execution_count": 147,
   "outputs": [
    {
     "data": {
      "text/plain": "            ID                                 Name Sex  Age  Height  Weight  \\\n1251       704                   Dsir Antoine Acket   M   27    <NA>     NaN   \n1252       704                   Dsir Antoine Acket   M   27    <NA>     NaN   \n4281      2449               William Truman Aldrich   M   48    <NA>     NaN   \n4282      2449               William Truman Aldrich   M   48    <NA>     NaN   \n4283      2449               William Truman Aldrich   M   48    <NA>     NaN   \n...        ...                                  ...  ..  ...     ...     ...   \n269997  135072  Anna Katrina Zinkeisen (-Heseltine)   F   46    <NA>     NaN   \n269998  135073   Doris Clare Zinkeisen (-Johnstone)   F   49    <NA>     NaN   \n269999  135073   Doris Clare Zinkeisen (-Johnstone)   F   49    <NA>     NaN   \n270199  135173                     Henri Achille Zo   M   58    <NA>     NaN   \n270200  135173                     Henri Achille Zo   M   58    <NA>     NaN   \n\n                 Team  NOC        Games  Year  Season         City  \\\n1251          Belgium  BEL  1932 Summer  1932  Summer  Los Angeles   \n1252          Belgium  BEL  1932 Summer  1932  Summer  Los Angeles   \n4281    United States  USA  1928 Summer  1928  Summer    Amsterdam   \n4282    United States  USA  1928 Summer  1928  Summer    Amsterdam   \n4283    United States  USA  1928 Summer  1928  Summer    Amsterdam   \n...               ...  ...          ...   ...     ...          ...   \n269997  Great Britain  GBR  1948 Summer  1948  Summer       London   \n269998  Great Britain  GBR  1948 Summer  1948  Summer       London   \n269999  Great Britain  GBR  1948 Summer  1948  Summer       London   \n270199         France  FRA  1932 Summer  1932  Summer  Los Angeles   \n270200         France  FRA  1932 Summer  1932  Summer  Los Angeles   \n\n                   Sport                                              Event  \\\n1251    Art Competitions     Art Competitions Mixed Painting, Unknown Event   \n1252    Art Competitions     Art Competitions Mixed Painting, Unknown Event   \n4281    Art Competitions  Art Competitions Mixed Painting, Drawings And ...   \n4282    Art Competitions  Art Competitions Mixed Painting, Drawings And ...   \n4283    Art Competitions  Art Competitions Mixed Painting, Drawings And ...   \n...                  ...                                                ...   \n269997  Art Competitions     Art Competitions Mixed Painting, Unknown Event   \n269998  Art Competitions     Art Competitions Mixed Painting, Unknown Event   \n269999  Art Competitions     Art Competitions Mixed Painting, Unknown Event   \n270199  Art Competitions     Art Competitions Mixed Painting, Unknown Event   \n270200  Art Competitions     Art Competitions Mixed Painting, Unknown Event   \n\n       Medal  \n1251     NaN  \n1252     NaN  \n4281     NaN  \n4282     NaN  \n4283     NaN  \n...      ...  \n269997   NaN  \n269998   NaN  \n269999   NaN  \n270199   NaN  \n270200   NaN  \n\n[2003 rows x 15 columns]",
      "text/html": "<div>\n<style scoped>\n    .dataframe tbody tr th:only-of-type {\n        vertical-align: middle;\n    }\n\n    .dataframe tbody tr th {\n        vertical-align: top;\n    }\n\n    .dataframe thead th {\n        text-align: right;\n    }\n</style>\n<table border=\"1\" class=\"dataframe\">\n  <thead>\n    <tr style=\"text-align: right;\">\n      <th></th>\n      <th>ID</th>\n      <th>Name</th>\n      <th>Sex</th>\n      <th>Age</th>\n      <th>Height</th>\n      <th>Weight</th>\n      <th>Team</th>\n      <th>NOC</th>\n      <th>Games</th>\n      <th>Year</th>\n      <th>Season</th>\n      <th>City</th>\n      <th>Sport</th>\n      <th>Event</th>\n      <th>Medal</th>\n    </tr>\n  </thead>\n  <tbody>\n    <tr>\n      <th>1251</th>\n      <td>704</td>\n      <td>Dsir Antoine Acket</td>\n      <td>M</td>\n      <td>27</td>\n      <td>&lt;NA&gt;</td>\n      <td>NaN</td>\n      <td>Belgium</td>\n      <td>BEL</td>\n      <td>1932 Summer</td>\n      <td>1932</td>\n      <td>Summer</td>\n      <td>Los Angeles</td>\n      <td>Art Competitions</td>\n      <td>Art Competitions Mixed Painting, Unknown Event</td>\n      <td>NaN</td>\n    </tr>\n    <tr>\n      <th>1252</th>\n      <td>704</td>\n      <td>Dsir Antoine Acket</td>\n      <td>M</td>\n      <td>27</td>\n      <td>&lt;NA&gt;</td>\n      <td>NaN</td>\n      <td>Belgium</td>\n      <td>BEL</td>\n      <td>1932 Summer</td>\n      <td>1932</td>\n      <td>Summer</td>\n      <td>Los Angeles</td>\n      <td>Art Competitions</td>\n      <td>Art Competitions Mixed Painting, Unknown Event</td>\n      <td>NaN</td>\n    </tr>\n    <tr>\n      <th>4281</th>\n      <td>2449</td>\n      <td>William Truman Aldrich</td>\n      <td>M</td>\n      <td>48</td>\n      <td>&lt;NA&gt;</td>\n      <td>NaN</td>\n      <td>United States</td>\n      <td>USA</td>\n      <td>1928 Summer</td>\n      <td>1928</td>\n      <td>Summer</td>\n      <td>Amsterdam</td>\n      <td>Art Competitions</td>\n      <td>Art Competitions Mixed Painting, Drawings And ...</td>\n      <td>NaN</td>\n    </tr>\n    <tr>\n      <th>4282</th>\n      <td>2449</td>\n      <td>William Truman Aldrich</td>\n      <td>M</td>\n      <td>48</td>\n      <td>&lt;NA&gt;</td>\n      <td>NaN</td>\n      <td>United States</td>\n      <td>USA</td>\n      <td>1928 Summer</td>\n      <td>1928</td>\n      <td>Summer</td>\n      <td>Amsterdam</td>\n      <td>Art Competitions</td>\n      <td>Art Competitions Mixed Painting, Drawings And ...</td>\n      <td>NaN</td>\n    </tr>\n    <tr>\n      <th>4283</th>\n      <td>2449</td>\n      <td>William Truman Aldrich</td>\n      <td>M</td>\n      <td>48</td>\n      <td>&lt;NA&gt;</td>\n      <td>NaN</td>\n      <td>United States</td>\n      <td>USA</td>\n      <td>1928 Summer</td>\n      <td>1928</td>\n      <td>Summer</td>\n      <td>Amsterdam</td>\n      <td>Art Competitions</td>\n      <td>Art Competitions Mixed Painting, Drawings And ...</td>\n      <td>NaN</td>\n    </tr>\n    <tr>\n      <th>...</th>\n      <td>...</td>\n      <td>...</td>\n      <td>...</td>\n      <td>...</td>\n      <td>...</td>\n      <td>...</td>\n      <td>...</td>\n      <td>...</td>\n      <td>...</td>\n      <td>...</td>\n      <td>...</td>\n      <td>...</td>\n      <td>...</td>\n      <td>...</td>\n      <td>...</td>\n    </tr>\n    <tr>\n      <th>269997</th>\n      <td>135072</td>\n      <td>Anna Katrina Zinkeisen (-Heseltine)</td>\n      <td>F</td>\n      <td>46</td>\n      <td>&lt;NA&gt;</td>\n      <td>NaN</td>\n      <td>Great Britain</td>\n      <td>GBR</td>\n      <td>1948 Summer</td>\n      <td>1948</td>\n      <td>Summer</td>\n      <td>London</td>\n      <td>Art Competitions</td>\n      <td>Art Competitions Mixed Painting, Unknown Event</td>\n      <td>NaN</td>\n    </tr>\n    <tr>\n      <th>269998</th>\n      <td>135073</td>\n      <td>Doris Clare Zinkeisen (-Johnstone)</td>\n      <td>F</td>\n      <td>49</td>\n      <td>&lt;NA&gt;</td>\n      <td>NaN</td>\n      <td>Great Britain</td>\n      <td>GBR</td>\n      <td>1948 Summer</td>\n      <td>1948</td>\n      <td>Summer</td>\n      <td>London</td>\n      <td>Art Competitions</td>\n      <td>Art Competitions Mixed Painting, Unknown Event</td>\n      <td>NaN</td>\n    </tr>\n    <tr>\n      <th>269999</th>\n      <td>135073</td>\n      <td>Doris Clare Zinkeisen (-Johnstone)</td>\n      <td>F</td>\n      <td>49</td>\n      <td>&lt;NA&gt;</td>\n      <td>NaN</td>\n      <td>Great Britain</td>\n      <td>GBR</td>\n      <td>1948 Summer</td>\n      <td>1948</td>\n      <td>Summer</td>\n      <td>London</td>\n      <td>Art Competitions</td>\n      <td>Art Competitions Mixed Painting, Unknown Event</td>\n      <td>NaN</td>\n    </tr>\n    <tr>\n      <th>270199</th>\n      <td>135173</td>\n      <td>Henri Achille Zo</td>\n      <td>M</td>\n      <td>58</td>\n      <td>&lt;NA&gt;</td>\n      <td>NaN</td>\n      <td>France</td>\n      <td>FRA</td>\n      <td>1932 Summer</td>\n      <td>1932</td>\n      <td>Summer</td>\n      <td>Los Angeles</td>\n      <td>Art Competitions</td>\n      <td>Art Competitions Mixed Painting, Unknown Event</td>\n      <td>NaN</td>\n    </tr>\n    <tr>\n      <th>270200</th>\n      <td>135173</td>\n      <td>Henri Achille Zo</td>\n      <td>M</td>\n      <td>58</td>\n      <td>&lt;NA&gt;</td>\n      <td>NaN</td>\n      <td>France</td>\n      <td>FRA</td>\n      <td>1932 Summer</td>\n      <td>1932</td>\n      <td>Summer</td>\n      <td>Los Angeles</td>\n      <td>Art Competitions</td>\n      <td>Art Competitions Mixed Painting, Unknown Event</td>\n      <td>NaN</td>\n    </tr>\n  </tbody>\n</table>\n<p>2003 rows × 15 columns</p>\n</div>"
     },
     "metadata": {},
     "output_type": "display_data"
    }
   ],
   "source": [
    "# Find duplicates\n",
    "dups = raw_df.duplicated(subset=['ID', 'Name', 'Sex', 'Team', 'Games', 'Year', 'Season', 'City', 'Sport', 'Event', 'Medal'], keep=False)\n",
    "dups_df = raw_df[dups]\n",
    "display(dups_df)\n",
    "\n",
    "raw_df = raw_df.drop_duplicates(subset=['ID', 'Name', 'Sex', 'Team', 'Games',\n",
    "                                        'Year', 'Season', 'City', 'Sport',\n",
    "                                        'Event', 'Medal'])"
   ],
   "metadata": {
    "collapsed": false,
    "pycharm": {
     "name": "#%%\n"
    }
   }
  },
  {
   "cell_type": "code",
   "execution_count": 148,
   "outputs": [
    {
     "data": {
      "text/plain": "   ID                      Name Sex  Age  Height  Weight            Team  NOC  \\\n0   1                 A Dijiang   M   24     180    80.0           China  CHN   \n1   2                  A Lamusi   M   23     170    60.0           China  CHN   \n2   3       Gunnar Nielsen Aaby   M   24    <NA>     NaN         Denmark  DEN   \n3   4      Edgar Lindenau Aabye   M   34    <NA>     NaN  Denmark/Sweden  DEN   \n4   5  Christine Jacoba Aaftink   F   21     185    82.0     Netherlands  NED   \n\n         Games  Year  Season       City          Sport  \\\n0  1992 Summer  1992  Summer  Barcelona     Basketball   \n1  2012 Summer  2012  Summer     London           Judo   \n2  1920 Summer  1920  Summer  Antwerpen       Football   \n3  1900 Summer  1900  Summer      Paris     Tug-Of-War   \n4  1988 Winter  1988  Winter    Calgary  Speed Skating   \n\n                              Event Medal  \n0       Basketball Men's Basketball   NaN  \n1      Judo Men's Extra-Lightweight   NaN  \n2           Football Men's Football   NaN  \n3       Tug-Of-War Men's Tug-Of-War  Gold  \n4  Speed Skating Women's 500 metres   NaN  ",
      "text/html": "<div>\n<style scoped>\n    .dataframe tbody tr th:only-of-type {\n        vertical-align: middle;\n    }\n\n    .dataframe tbody tr th {\n        vertical-align: top;\n    }\n\n    .dataframe thead th {\n        text-align: right;\n    }\n</style>\n<table border=\"1\" class=\"dataframe\">\n  <thead>\n    <tr style=\"text-align: right;\">\n      <th></th>\n      <th>ID</th>\n      <th>Name</th>\n      <th>Sex</th>\n      <th>Age</th>\n      <th>Height</th>\n      <th>Weight</th>\n      <th>Team</th>\n      <th>NOC</th>\n      <th>Games</th>\n      <th>Year</th>\n      <th>Season</th>\n      <th>City</th>\n      <th>Sport</th>\n      <th>Event</th>\n      <th>Medal</th>\n    </tr>\n  </thead>\n  <tbody>\n    <tr>\n      <th>0</th>\n      <td>1</td>\n      <td>A Dijiang</td>\n      <td>M</td>\n      <td>24</td>\n      <td>180</td>\n      <td>80.0</td>\n      <td>China</td>\n      <td>CHN</td>\n      <td>1992 Summer</td>\n      <td>1992</td>\n      <td>Summer</td>\n      <td>Barcelona</td>\n      <td>Basketball</td>\n      <td>Basketball Men's Basketball</td>\n      <td>NaN</td>\n    </tr>\n    <tr>\n      <th>1</th>\n      <td>2</td>\n      <td>A Lamusi</td>\n      <td>M</td>\n      <td>23</td>\n      <td>170</td>\n      <td>60.0</td>\n      <td>China</td>\n      <td>CHN</td>\n      <td>2012 Summer</td>\n      <td>2012</td>\n      <td>Summer</td>\n      <td>London</td>\n      <td>Judo</td>\n      <td>Judo Men's Extra-Lightweight</td>\n      <td>NaN</td>\n    </tr>\n    <tr>\n      <th>2</th>\n      <td>3</td>\n      <td>Gunnar Nielsen Aaby</td>\n      <td>M</td>\n      <td>24</td>\n      <td>&lt;NA&gt;</td>\n      <td>NaN</td>\n      <td>Denmark</td>\n      <td>DEN</td>\n      <td>1920 Summer</td>\n      <td>1920</td>\n      <td>Summer</td>\n      <td>Antwerpen</td>\n      <td>Football</td>\n      <td>Football Men's Football</td>\n      <td>NaN</td>\n    </tr>\n    <tr>\n      <th>3</th>\n      <td>4</td>\n      <td>Edgar Lindenau Aabye</td>\n      <td>M</td>\n      <td>34</td>\n      <td>&lt;NA&gt;</td>\n      <td>NaN</td>\n      <td>Denmark/Sweden</td>\n      <td>DEN</td>\n      <td>1900 Summer</td>\n      <td>1900</td>\n      <td>Summer</td>\n      <td>Paris</td>\n      <td>Tug-Of-War</td>\n      <td>Tug-Of-War Men's Tug-Of-War</td>\n      <td>Gold</td>\n    </tr>\n    <tr>\n      <th>4</th>\n      <td>5</td>\n      <td>Christine Jacoba Aaftink</td>\n      <td>F</td>\n      <td>21</td>\n      <td>185</td>\n      <td>82.0</td>\n      <td>Netherlands</td>\n      <td>NED</td>\n      <td>1988 Winter</td>\n      <td>1988</td>\n      <td>Winter</td>\n      <td>Calgary</td>\n      <td>Speed Skating</td>\n      <td>Speed Skating Women's 500 metres</td>\n      <td>NaN</td>\n    </tr>\n  </tbody>\n</table>\n</div>"
     },
     "metadata": {},
     "output_type": "display_data"
    },
    {
     "name": "stdout",
     "output_type": "stream",
     "text": [
      "<class 'pandas.core.frame.DataFrame'>\n",
      "Int64Index: 269728 entries, 0 to 271115\n",
      "Data columns (total 15 columns):\n",
      " #   Column  Non-Null Count   Dtype   \n",
      "---  ------  --------------   -----   \n",
      " 0   ID      269728 non-null  int64   \n",
      " 1   Name    269728 non-null  object  \n",
      " 2   Sex     269728 non-null  category\n",
      " 3   Age     260414 non-null  Int8    \n",
      " 4   Height  210917 non-null  Int16   \n",
      " 5   Weight  208204 non-null  float32 \n",
      " 6   Team    269728 non-null  category\n",
      " 7   NOC     269728 non-null  category\n",
      " 8   Games   269728 non-null  category\n",
      " 9   Year    269728 non-null  uint16  \n",
      " 10  Season  269728 non-null  category\n",
      " 11  City    269728 non-null  category\n",
      " 12  Sport   269728 non-null  category\n",
      " 13  Event   269728 non-null  category\n",
      " 14  Medal   39772 non-null   category\n",
      "dtypes: Int16(1), Int8(1), category(9), float32(1), int64(1), object(1), uint16(1)\n",
      "memory usage: 12.2+ MB\n"
     ]
    }
   ],
   "source": [
    "display(raw_df.head(5))\n",
    "raw_df.info()\n",
    "# Save to a parquet silver table\n",
    "raw_df.to_parquet(os.path.join(datasets_path, 'silver_df.parquet'))\n",
    "\n"
   ],
   "metadata": {
    "collapsed": false,
    "pycharm": {
     "name": "#%%\n"
    }
   }
  },
  {
   "cell_type": "code",
   "execution_count": 4,
   "outputs": [
    {
     "name": "stdout",
     "output_type": "stream",
     "text": [
      "<class 'pandas.core.frame.DataFrame'>\n",
      "RangeIndex: 230 entries, 0 to 229\n",
      "Data columns (total 3 columns):\n",
      " #   Column  Non-Null Count  Dtype \n",
      "---  ------  --------------  ----- \n",
      " 0   NOC     230 non-null    object\n",
      " 1   region  228 non-null    object\n",
      " 2   notes   21 non-null     object\n",
      "dtypes: object(3)\n",
      "memory usage: 5.5+ KB\n"
     ]
    },
    {
     "data": {
      "text/plain": "   NOC       region                 notes\n0  AFG  Afghanistan                   NaN\n1  AHO      Curacao  Netherlands Antilles\n2  ALB      Albania                   NaN\n3  ALG      Algeria                   NaN\n4  AND      Andorra                   NaN\n5  ANG       Angola                   NaN\n6  ANT      Antigua   Antigua and Barbuda\n7  ANZ    Australia           Australasia\n8  ARG    Argentina                   NaN\n9  ARM      Armenia                   NaN",
      "text/html": "<div>\n<style scoped>\n    .dataframe tbody tr th:only-of-type {\n        vertical-align: middle;\n    }\n\n    .dataframe tbody tr th {\n        vertical-align: top;\n    }\n\n    .dataframe thead th {\n        text-align: right;\n    }\n</style>\n<table border=\"1\" class=\"dataframe\">\n  <thead>\n    <tr style=\"text-align: right;\">\n      <th></th>\n      <th>NOC</th>\n      <th>region</th>\n      <th>notes</th>\n    </tr>\n  </thead>\n  <tbody>\n    <tr>\n      <th>0</th>\n      <td>AFG</td>\n      <td>Afghanistan</td>\n      <td>NaN</td>\n    </tr>\n    <tr>\n      <th>1</th>\n      <td>AHO</td>\n      <td>Curacao</td>\n      <td>Netherlands Antilles</td>\n    </tr>\n    <tr>\n      <th>2</th>\n      <td>ALB</td>\n      <td>Albania</td>\n      <td>NaN</td>\n    </tr>\n    <tr>\n      <th>3</th>\n      <td>ALG</td>\n      <td>Algeria</td>\n      <td>NaN</td>\n    </tr>\n    <tr>\n      <th>4</th>\n      <td>AND</td>\n      <td>Andorra</td>\n      <td>NaN</td>\n    </tr>\n    <tr>\n      <th>5</th>\n      <td>ANG</td>\n      <td>Angola</td>\n      <td>NaN</td>\n    </tr>\n    <tr>\n      <th>6</th>\n      <td>ANT</td>\n      <td>Antigua</td>\n      <td>Antigua and Barbuda</td>\n    </tr>\n    <tr>\n      <th>7</th>\n      <td>ANZ</td>\n      <td>Australia</td>\n      <td>Australasia</td>\n    </tr>\n    <tr>\n      <th>8</th>\n      <td>ARG</td>\n      <td>Argentina</td>\n      <td>NaN</td>\n    </tr>\n    <tr>\n      <th>9</th>\n      <td>ARM</td>\n      <td>Armenia</td>\n      <td>NaN</td>\n    </tr>\n  </tbody>\n</table>\n</div>"
     },
     "execution_count": 4,
     "metadata": {},
     "output_type": "execute_result"
    }
   ],
   "source": [
    "noc_df = pd.read_csv(os.path.join(datasets_path, 'noc_regions.csv'))\n",
    "\n",
    "# Visualize df info\n",
    "noc_df.info()\n",
    "noc_df.head(10)\n",
    "\n"
   ],
   "metadata": {
    "collapsed": false,
    "pycharm": {
     "name": "#%%\n"
    }
   }
  },
  {
   "cell_type": "code",
   "execution_count": 5,
   "outputs": [
    {
     "name": "stdout",
     "output_type": "stream",
     "text": [
      "[False]\n"
     ]
    }
   ],
   "source": [
    "# Check for duplicates\n",
    "dups = noc_df.duplicated(subset=['NOC', 'region'], keep=False)\n",
    "print(dups.unique())"
   ],
   "metadata": {
    "collapsed": false,
    "pycharm": {
     "name": "#%%\n"
    }
   }
  },
  {
   "cell_type": "code",
   "execution_count": 6,
   "outputs": [],
   "source": [
    "noc_df.to_parquet(os.path.join(datasets_path, 'silver_noc.parquet'))\n"
   ],
   "metadata": {
    "collapsed": false,
    "pycharm": {
     "name": "#%%\n"
    }
   }
  }
 ],
 "metadata": {
  "kernelspec": {
   "display_name": "Python 3",
   "language": "python",
   "name": "python3"
  },
  "language_info": {
   "codemirror_mode": {
    "name": "ipython",
    "version": 2
   },
   "file_extension": ".py",
   "mimetype": "text/x-python",
   "name": "python",
   "nbconvert_exporter": "python",
   "pygments_lexer": "ipython2",
   "version": "2.7.6"
  }
 },
 "nbformat": 4,
 "nbformat_minor": 0
}