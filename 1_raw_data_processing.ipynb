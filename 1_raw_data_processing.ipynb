{
 "cells": [
  {
   "cell_type": "code",
   "execution_count": 146,
   "metadata": {
    "collapsed": true
   },
   "outputs": [],
   "source": [
    "import pandas as pd\n",
    "import os\n",
    "import numpy as np\n",
    "from IPython.display import display\n",
    "import pycountry\n",
    "# pd.set_option('display.max_rows', )"
   ]
  },
  {
   "cell_type": "code",
   "execution_count": 133,
   "outputs": [
    {
     "name": "stdout",
     "output_type": "stream",
     "text": [
      "<class 'pandas.core.frame.DataFrame'>\n",
      "RangeIndex: 271116 entries, 0 to 271115\n",
      "Data columns (total 15 columns):\n",
      " #   Column  Non-Null Count   Dtype  \n",
      "---  ------  --------------   -----  \n",
      " 0   ID      271116 non-null  int64  \n",
      " 1   Name    271116 non-null  object \n",
      " 2   Sex     271116 non-null  object \n",
      " 3   Age     261642 non-null  float64\n",
      " 4   Height  210945 non-null  float64\n",
      " 5   Weight  208241 non-null  float64\n",
      " 6   Team    271116 non-null  object \n",
      " 7   NOC     271116 non-null  object \n",
      " 8   Games   271116 non-null  object \n",
      " 9   Year    271116 non-null  int64  \n",
      " 10  Season  271116 non-null  object \n",
      " 11  City    271116 non-null  object \n",
      " 12  Sport   271116 non-null  object \n",
      " 13  Event   271116 non-null  object \n",
      " 14  Medal   39783 non-null   object \n",
      "dtypes: float64(3), int64(2), object(10)\n",
      "memory usage: 31.0+ MB\n"
     ]
    }
   ],
   "source": [
    "datasets_path = 'dataset/'\n",
    "\n",
    "# Load the csv dataset\n",
    "raw_df = pd.read_csv(os.path.join(datasets_path, 'athlete_events.csv'))\n",
    "\n",
    "# Visualize df info\n",
    "raw_df.info()"
   ],
   "metadata": {
    "collapsed": false,
    "pycharm": {
     "name": "#%%\n"
    }
   }
  },
  {
   "cell_type": "code",
   "execution_count": 134,
   "outputs": [
    {
     "data": {
      "text/plain": "   ID                      Name Sex   Age  Height  Weight            Team  \\\n0   1                 A Dijiang   M  24.0   180.0    80.0           China   \n1   2                  A Lamusi   M  23.0   170.0    60.0           China   \n2   3       Gunnar Nielsen Aaby   M  24.0     NaN     NaN         Denmark   \n3   4      Edgar Lindenau Aabye   M  34.0     NaN     NaN  Denmark/Sweden   \n4   5  Christine Jacoba Aaftink   F  21.0   185.0    82.0     Netherlands   \n\n   NOC        Games  Year  Season       City          Sport  \\\n0  CHN  1992 Summer  1992  Summer  Barcelona     Basketball   \n1  CHN  2012 Summer  2012  Summer     London           Judo   \n2  DEN  1920 Summer  1920  Summer  Antwerpen       Football   \n3  DEN  1900 Summer  1900  Summer      Paris     Tug-Of-War   \n4  NED  1988 Winter  1988  Winter    Calgary  Speed Skating   \n\n                              Event Medal  \n0       Basketball Men's Basketball   NaN  \n1      Judo Men's Extra-Lightweight   NaN  \n2           Football Men's Football   NaN  \n3       Tug-Of-War Men's Tug-Of-War  Gold  \n4  Speed Skating Women's 500 metres   NaN  ",
      "text/html": "<div>\n<style scoped>\n    .dataframe tbody tr th:only-of-type {\n        vertical-align: middle;\n    }\n\n    .dataframe tbody tr th {\n        vertical-align: top;\n    }\n\n    .dataframe thead th {\n        text-align: right;\n    }\n</style>\n<table border=\"1\" class=\"dataframe\">\n  <thead>\n    <tr style=\"text-align: right;\">\n      <th></th>\n      <th>ID</th>\n      <th>Name</th>\n      <th>Sex</th>\n      <th>Age</th>\n      <th>Height</th>\n      <th>Weight</th>\n      <th>Team</th>\n      <th>NOC</th>\n      <th>Games</th>\n      <th>Year</th>\n      <th>Season</th>\n      <th>City</th>\n      <th>Sport</th>\n      <th>Event</th>\n      <th>Medal</th>\n    </tr>\n  </thead>\n  <tbody>\n    <tr>\n      <th>0</th>\n      <td>1</td>\n      <td>A Dijiang</td>\n      <td>M</td>\n      <td>24.0</td>\n      <td>180.0</td>\n      <td>80.0</td>\n      <td>China</td>\n      <td>CHN</td>\n      <td>1992 Summer</td>\n      <td>1992</td>\n      <td>Summer</td>\n      <td>Barcelona</td>\n      <td>Basketball</td>\n      <td>Basketball Men's Basketball</td>\n      <td>NaN</td>\n    </tr>\n    <tr>\n      <th>1</th>\n      <td>2</td>\n      <td>A Lamusi</td>\n      <td>M</td>\n      <td>23.0</td>\n      <td>170.0</td>\n      <td>60.0</td>\n      <td>China</td>\n      <td>CHN</td>\n      <td>2012 Summer</td>\n      <td>2012</td>\n      <td>Summer</td>\n      <td>London</td>\n      <td>Judo</td>\n      <td>Judo Men's Extra-Lightweight</td>\n      <td>NaN</td>\n    </tr>\n    <tr>\n      <th>2</th>\n      <td>3</td>\n      <td>Gunnar Nielsen Aaby</td>\n      <td>M</td>\n      <td>24.0</td>\n      <td>NaN</td>\n      <td>NaN</td>\n      <td>Denmark</td>\n      <td>DEN</td>\n      <td>1920 Summer</td>\n      <td>1920</td>\n      <td>Summer</td>\n      <td>Antwerpen</td>\n      <td>Football</td>\n      <td>Football Men's Football</td>\n      <td>NaN</td>\n    </tr>\n    <tr>\n      <th>3</th>\n      <td>4</td>\n      <td>Edgar Lindenau Aabye</td>\n      <td>M</td>\n      <td>34.0</td>\n      <td>NaN</td>\n      <td>NaN</td>\n      <td>Denmark/Sweden</td>\n      <td>DEN</td>\n      <td>1900 Summer</td>\n      <td>1900</td>\n      <td>Summer</td>\n      <td>Paris</td>\n      <td>Tug-Of-War</td>\n      <td>Tug-Of-War Men's Tug-Of-War</td>\n      <td>Gold</td>\n    </tr>\n    <tr>\n      <th>4</th>\n      <td>5</td>\n      <td>Christine Jacoba Aaftink</td>\n      <td>F</td>\n      <td>21.0</td>\n      <td>185.0</td>\n      <td>82.0</td>\n      <td>Netherlands</td>\n      <td>NED</td>\n      <td>1988 Winter</td>\n      <td>1988</td>\n      <td>Winter</td>\n      <td>Calgary</td>\n      <td>Speed Skating</td>\n      <td>Speed Skating Women's 500 metres</td>\n      <td>NaN</td>\n    </tr>\n  </tbody>\n</table>\n</div>"
     },
     "metadata": {},
     "output_type": "display_data"
    }
   ],
   "source": [
    "# First 5 rows to make sure of data types\n",
    "display(raw_df.head(5))"
   ],
   "metadata": {
    "collapsed": false,
    "pycharm": {
     "name": "#%%\n"
    }
   }
  },
  {
   "cell_type": "code",
   "execution_count": 135,
   "outputs": [],
   "source": [
    "import re\n",
    "\n",
    "# Find the -1 -2 suffixes from names and teams and take them off\n",
    "p = '(-\\d+)'\n",
    "raw_df.Team = raw_df.Team.str.replace(p, '', case=False, regex=True)\n",
    "\n",
    "raw_df.Name = raw_df.Name.str.replace(p, '', case=False, regex=True)"
   ],
   "metadata": {
    "collapsed": false,
    "pycharm": {
     "name": "#%%\n"
    }
   }
  },
  {
   "cell_type": "code",
   "execution_count": 136,
   "outputs": [],
   "source": [
    "# Cast to appropriate data types\n",
    "\n",
    "# Sex\n",
    "raw_df.Sex = raw_df.Sex.astype(pd.CategoricalDtype(categories=['M', 'F']))\n",
    "raw_df.Age = raw_df.Age.astype('Int8')\n",
    "raw_df.Height = np.floor(pd.to_numeric(raw_df.Height, errors='coerce')).astype('Int16')\n",
    "raw_df.Weight = raw_df.Weight.astype('float32')\n",
    "raw_df.NOC = raw_df.NOC.astype('category')\n",
    "raw_df.Games = raw_df.Games.astype('category')\n",
    "raw_df.Year = raw_df.Year.astype('uint16')\n",
    "raw_df.Season = raw_df.Season.astype('category')\n",
    "raw_df.City = raw_df.City.astype('category')\n",
    "raw_df.Sport = raw_df.Sport.astype('category')\n",
    "raw_df.Event = raw_df.Event.astype('category')\n",
    "raw_df.Medal = raw_df.Medal.astype(pd.CategoricalDtype(categories=['Gold', 'Silver', 'Bronze'], ordered=True))\n",
    "raw_df.Team = raw_df.Team.astype('category')"
   ],
   "metadata": {
    "collapsed": false,
    "pycharm": {
     "name": "#%%\n"
    }
   }
  },
  {
   "cell_type": "code",
   "execution_count": 137,
   "outputs": [
    {
     "data": {
      "text/plain": "            ID                                 Name Sex  Age  Height  Weight  \\\n1251       704                   Dsir Antoine Acket   M   27    <NA>     NaN   \n1252       704                   Dsir Antoine Acket   M   27    <NA>     NaN   \n4281      2449               William Truman Aldrich   M   48    <NA>     NaN   \n4282      2449               William Truman Aldrich   M   48    <NA>     NaN   \n4283      2449               William Truman Aldrich   M   48    <NA>     NaN   \n...        ...                                  ...  ..  ...     ...     ...   \n269997  135072  Anna Katrina Zinkeisen (-Heseltine)   F   46    <NA>     NaN   \n269998  135073   Doris Clare Zinkeisen (-Johnstone)   F   49    <NA>     NaN   \n269999  135073   Doris Clare Zinkeisen (-Johnstone)   F   49    <NA>     NaN   \n270199  135173                     Henri Achille Zo   M   58    <NA>     NaN   \n270200  135173                     Henri Achille Zo   M   58    <NA>     NaN   \n\n                 Team  NOC        Games  Year  Season         City  \\\n1251          Belgium  BEL  1932 Summer  1932  Summer  Los Angeles   \n1252          Belgium  BEL  1932 Summer  1932  Summer  Los Angeles   \n4281    United States  USA  1928 Summer  1928  Summer    Amsterdam   \n4282    United States  USA  1928 Summer  1928  Summer    Amsterdam   \n4283    United States  USA  1928 Summer  1928  Summer    Amsterdam   \n...               ...  ...          ...   ...     ...          ...   \n269997  Great Britain  GBR  1948 Summer  1948  Summer       London   \n269998  Great Britain  GBR  1948 Summer  1948  Summer       London   \n269999  Great Britain  GBR  1948 Summer  1948  Summer       London   \n270199         France  FRA  1932 Summer  1932  Summer  Los Angeles   \n270200         France  FRA  1932 Summer  1932  Summer  Los Angeles   \n\n                   Sport                                              Event  \\\n1251    Art Competitions     Art Competitions Mixed Painting, Unknown Event   \n1252    Art Competitions     Art Competitions Mixed Painting, Unknown Event   \n4281    Art Competitions  Art Competitions Mixed Painting, Drawings And ...   \n4282    Art Competitions  Art Competitions Mixed Painting, Drawings And ...   \n4283    Art Competitions  Art Competitions Mixed Painting, Drawings And ...   \n...                  ...                                                ...   \n269997  Art Competitions     Art Competitions Mixed Painting, Unknown Event   \n269998  Art Competitions     Art Competitions Mixed Painting, Unknown Event   \n269999  Art Competitions     Art Competitions Mixed Painting, Unknown Event   \n270199  Art Competitions     Art Competitions Mixed Painting, Unknown Event   \n270200  Art Competitions     Art Competitions Mixed Painting, Unknown Event   \n\n       Medal  \n1251     NaN  \n1252     NaN  \n4281     NaN  \n4282     NaN  \n4283     NaN  \n...      ...  \n269997   NaN  \n269998   NaN  \n269999   NaN  \n270199   NaN  \n270200   NaN  \n\n[2003 rows x 15 columns]",
      "text/html": "<div>\n<style scoped>\n    .dataframe tbody tr th:only-of-type {\n        vertical-align: middle;\n    }\n\n    .dataframe tbody tr th {\n        vertical-align: top;\n    }\n\n    .dataframe thead th {\n        text-align: right;\n    }\n</style>\n<table border=\"1\" class=\"dataframe\">\n  <thead>\n    <tr style=\"text-align: right;\">\n      <th></th>\n      <th>ID</th>\n      <th>Name</th>\n      <th>Sex</th>\n      <th>Age</th>\n      <th>Height</th>\n      <th>Weight</th>\n      <th>Team</th>\n      <th>NOC</th>\n      <th>Games</th>\n      <th>Year</th>\n      <th>Season</th>\n      <th>City</th>\n      <th>Sport</th>\n      <th>Event</th>\n      <th>Medal</th>\n    </tr>\n  </thead>\n  <tbody>\n    <tr>\n      <th>1251</th>\n      <td>704</td>\n      <td>Dsir Antoine Acket</td>\n      <td>M</td>\n      <td>27</td>\n      <td>&lt;NA&gt;</td>\n      <td>NaN</td>\n      <td>Belgium</td>\n      <td>BEL</td>\n      <td>1932 Summer</td>\n      <td>1932</td>\n      <td>Summer</td>\n      <td>Los Angeles</td>\n      <td>Art Competitions</td>\n      <td>Art Competitions Mixed Painting, Unknown Event</td>\n      <td>NaN</td>\n    </tr>\n    <tr>\n      <th>1252</th>\n      <td>704</td>\n      <td>Dsir Antoine Acket</td>\n      <td>M</td>\n      <td>27</td>\n      <td>&lt;NA&gt;</td>\n      <td>NaN</td>\n      <td>Belgium</td>\n      <td>BEL</td>\n      <td>1932 Summer</td>\n      <td>1932</td>\n      <td>Summer</td>\n      <td>Los Angeles</td>\n      <td>Art Competitions</td>\n      <td>Art Competitions Mixed Painting, Unknown Event</td>\n      <td>NaN</td>\n    </tr>\n    <tr>\n      <th>4281</th>\n      <td>2449</td>\n      <td>William Truman Aldrich</td>\n      <td>M</td>\n      <td>48</td>\n      <td>&lt;NA&gt;</td>\n      <td>NaN</td>\n      <td>United States</td>\n      <td>USA</td>\n      <td>1928 Summer</td>\n      <td>1928</td>\n      <td>Summer</td>\n      <td>Amsterdam</td>\n      <td>Art Competitions</td>\n      <td>Art Competitions Mixed Painting, Drawings And ...</td>\n      <td>NaN</td>\n    </tr>\n    <tr>\n      <th>4282</th>\n      <td>2449</td>\n      <td>William Truman Aldrich</td>\n      <td>M</td>\n      <td>48</td>\n      <td>&lt;NA&gt;</td>\n      <td>NaN</td>\n      <td>United States</td>\n      <td>USA</td>\n      <td>1928 Summer</td>\n      <td>1928</td>\n      <td>Summer</td>\n      <td>Amsterdam</td>\n      <td>Art Competitions</td>\n      <td>Art Competitions Mixed Painting, Drawings And ...</td>\n      <td>NaN</td>\n    </tr>\n    <tr>\n      <th>4283</th>\n      <td>2449</td>\n      <td>William Truman Aldrich</td>\n      <td>M</td>\n      <td>48</td>\n      <td>&lt;NA&gt;</td>\n      <td>NaN</td>\n      <td>United States</td>\n      <td>USA</td>\n      <td>1928 Summer</td>\n      <td>1928</td>\n      <td>Summer</td>\n      <td>Amsterdam</td>\n      <td>Art Competitions</td>\n      <td>Art Competitions Mixed Painting, Drawings And ...</td>\n      <td>NaN</td>\n    </tr>\n    <tr>\n      <th>...</th>\n      <td>...</td>\n      <td>...</td>\n      <td>...</td>\n      <td>...</td>\n      <td>...</td>\n      <td>...</td>\n      <td>...</td>\n      <td>...</td>\n      <td>...</td>\n      <td>...</td>\n      <td>...</td>\n      <td>...</td>\n      <td>...</td>\n      <td>...</td>\n      <td>...</td>\n    </tr>\n    <tr>\n      <th>269997</th>\n      <td>135072</td>\n      <td>Anna Katrina Zinkeisen (-Heseltine)</td>\n      <td>F</td>\n      <td>46</td>\n      <td>&lt;NA&gt;</td>\n      <td>NaN</td>\n      <td>Great Britain</td>\n      <td>GBR</td>\n      <td>1948 Summer</td>\n      <td>1948</td>\n      <td>Summer</td>\n      <td>London</td>\n      <td>Art Competitions</td>\n      <td>Art Competitions Mixed Painting, Unknown Event</td>\n      <td>NaN</td>\n    </tr>\n    <tr>\n      <th>269998</th>\n      <td>135073</td>\n      <td>Doris Clare Zinkeisen (-Johnstone)</td>\n      <td>F</td>\n      <td>49</td>\n      <td>&lt;NA&gt;</td>\n      <td>NaN</td>\n      <td>Great Britain</td>\n      <td>GBR</td>\n      <td>1948 Summer</td>\n      <td>1948</td>\n      <td>Summer</td>\n      <td>London</td>\n      <td>Art Competitions</td>\n      <td>Art Competitions Mixed Painting, Unknown Event</td>\n      <td>NaN</td>\n    </tr>\n    <tr>\n      <th>269999</th>\n      <td>135073</td>\n      <td>Doris Clare Zinkeisen (-Johnstone)</td>\n      <td>F</td>\n      <td>49</td>\n      <td>&lt;NA&gt;</td>\n      <td>NaN</td>\n      <td>Great Britain</td>\n      <td>GBR</td>\n      <td>1948 Summer</td>\n      <td>1948</td>\n      <td>Summer</td>\n      <td>London</td>\n      <td>Art Competitions</td>\n      <td>Art Competitions Mixed Painting, Unknown Event</td>\n      <td>NaN</td>\n    </tr>\n    <tr>\n      <th>270199</th>\n      <td>135173</td>\n      <td>Henri Achille Zo</td>\n      <td>M</td>\n      <td>58</td>\n      <td>&lt;NA&gt;</td>\n      <td>NaN</td>\n      <td>France</td>\n      <td>FRA</td>\n      <td>1932 Summer</td>\n      <td>1932</td>\n      <td>Summer</td>\n      <td>Los Angeles</td>\n      <td>Art Competitions</td>\n      <td>Art Competitions Mixed Painting, Unknown Event</td>\n      <td>NaN</td>\n    </tr>\n    <tr>\n      <th>270200</th>\n      <td>135173</td>\n      <td>Henri Achille Zo</td>\n      <td>M</td>\n      <td>58</td>\n      <td>&lt;NA&gt;</td>\n      <td>NaN</td>\n      <td>France</td>\n      <td>FRA</td>\n      <td>1932 Summer</td>\n      <td>1932</td>\n      <td>Summer</td>\n      <td>Los Angeles</td>\n      <td>Art Competitions</td>\n      <td>Art Competitions Mixed Painting, Unknown Event</td>\n      <td>NaN</td>\n    </tr>\n  </tbody>\n</table>\n<p>2003 rows × 15 columns</p>\n</div>"
     },
     "metadata": {},
     "output_type": "display_data"
    }
   ],
   "source": [
    "# Find duplicates\n",
    "dups = raw_df.duplicated(subset=['ID', 'Name', 'Sex', 'Team', 'Games', 'Year', 'Season', 'City', 'Sport', 'Event', 'Medal'], keep=False)\n",
    "dups_df = raw_df[dups]\n",
    "display(dups_df)\n",
    "\n",
    "raw_df = raw_df.drop_duplicates(subset=['ID', 'Name', 'Sex', 'Team', 'Games',\n",
    "                                        'Year', 'Season', 'City', 'Sport',\n",
    "                                        'Event', 'Medal'])\n",
    "\n",
    "raw_df['Medal'] = raw_df['Medal'].astype(pd.CategoricalDtype(categories=['Gold', 'Silver', 'Bronze', 'NoMedal'], ordered=True))\n",
    "raw_df['Medal'] = raw_df['Medal'].fillna(value='NoMedal')\n"
   ],
   "metadata": {
    "collapsed": false,
    "pycharm": {
     "name": "#%%\n"
    }
   }
  },
  {
   "cell_type": "code",
   "execution_count": 138,
   "outputs": [
    {
     "data": {
      "text/plain": "   ID                      Name Sex  Age  Height  Weight            Team  NOC  \\\n0   1                 A Dijiang   M   24     180    80.0           China  CHN   \n1   2                  A Lamusi   M   23     170    60.0           China  CHN   \n2   3       Gunnar Nielsen Aaby   M   24    <NA>     NaN         Denmark  DEN   \n3   4      Edgar Lindenau Aabye   M   34    <NA>     NaN  Denmark/Sweden  DEN   \n4   5  Christine Jacoba Aaftink   F   21     185    82.0     Netherlands  NED   \n\n         Games  Year  Season       City          Sport  \\\n0  1992 Summer  1992  Summer  Barcelona     Basketball   \n1  2012 Summer  2012  Summer     London           Judo   \n2  1920 Summer  1920  Summer  Antwerpen       Football   \n3  1900 Summer  1900  Summer      Paris     Tug-Of-War   \n4  1988 Winter  1988  Winter    Calgary  Speed Skating   \n\n                              Event    Medal  \n0       Basketball Men's Basketball  NoMedal  \n1      Judo Men's Extra-Lightweight  NoMedal  \n2           Football Men's Football  NoMedal  \n3       Tug-Of-War Men's Tug-Of-War     Gold  \n4  Speed Skating Women's 500 metres  NoMedal  ",
      "text/html": "<div>\n<style scoped>\n    .dataframe tbody tr th:only-of-type {\n        vertical-align: middle;\n    }\n\n    .dataframe tbody tr th {\n        vertical-align: top;\n    }\n\n    .dataframe thead th {\n        text-align: right;\n    }\n</style>\n<table border=\"1\" class=\"dataframe\">\n  <thead>\n    <tr style=\"text-align: right;\">\n      <th></th>\n      <th>ID</th>\n      <th>Name</th>\n      <th>Sex</th>\n      <th>Age</th>\n      <th>Height</th>\n      <th>Weight</th>\n      <th>Team</th>\n      <th>NOC</th>\n      <th>Games</th>\n      <th>Year</th>\n      <th>Season</th>\n      <th>City</th>\n      <th>Sport</th>\n      <th>Event</th>\n      <th>Medal</th>\n    </tr>\n  </thead>\n  <tbody>\n    <tr>\n      <th>0</th>\n      <td>1</td>\n      <td>A Dijiang</td>\n      <td>M</td>\n      <td>24</td>\n      <td>180</td>\n      <td>80.0</td>\n      <td>China</td>\n      <td>CHN</td>\n      <td>1992 Summer</td>\n      <td>1992</td>\n      <td>Summer</td>\n      <td>Barcelona</td>\n      <td>Basketball</td>\n      <td>Basketball Men's Basketball</td>\n      <td>NoMedal</td>\n    </tr>\n    <tr>\n      <th>1</th>\n      <td>2</td>\n      <td>A Lamusi</td>\n      <td>M</td>\n      <td>23</td>\n      <td>170</td>\n      <td>60.0</td>\n      <td>China</td>\n      <td>CHN</td>\n      <td>2012 Summer</td>\n      <td>2012</td>\n      <td>Summer</td>\n      <td>London</td>\n      <td>Judo</td>\n      <td>Judo Men's Extra-Lightweight</td>\n      <td>NoMedal</td>\n    </tr>\n    <tr>\n      <th>2</th>\n      <td>3</td>\n      <td>Gunnar Nielsen Aaby</td>\n      <td>M</td>\n      <td>24</td>\n      <td>&lt;NA&gt;</td>\n      <td>NaN</td>\n      <td>Denmark</td>\n      <td>DEN</td>\n      <td>1920 Summer</td>\n      <td>1920</td>\n      <td>Summer</td>\n      <td>Antwerpen</td>\n      <td>Football</td>\n      <td>Football Men's Football</td>\n      <td>NoMedal</td>\n    </tr>\n    <tr>\n      <th>3</th>\n      <td>4</td>\n      <td>Edgar Lindenau Aabye</td>\n      <td>M</td>\n      <td>34</td>\n      <td>&lt;NA&gt;</td>\n      <td>NaN</td>\n      <td>Denmark/Sweden</td>\n      <td>DEN</td>\n      <td>1900 Summer</td>\n      <td>1900</td>\n      <td>Summer</td>\n      <td>Paris</td>\n      <td>Tug-Of-War</td>\n      <td>Tug-Of-War Men's Tug-Of-War</td>\n      <td>Gold</td>\n    </tr>\n    <tr>\n      <th>4</th>\n      <td>5</td>\n      <td>Christine Jacoba Aaftink</td>\n      <td>F</td>\n      <td>21</td>\n      <td>185</td>\n      <td>82.0</td>\n      <td>Netherlands</td>\n      <td>NED</td>\n      <td>1988 Winter</td>\n      <td>1988</td>\n      <td>Winter</td>\n      <td>Calgary</td>\n      <td>Speed Skating</td>\n      <td>Speed Skating Women's 500 metres</td>\n      <td>NoMedal</td>\n    </tr>\n  </tbody>\n</table>\n</div>"
     },
     "metadata": {},
     "output_type": "display_data"
    },
    {
     "name": "stdout",
     "output_type": "stream",
     "text": [
      "<class 'pandas.core.frame.DataFrame'>\n",
      "Int64Index: 269728 entries, 0 to 271115\n",
      "Data columns (total 15 columns):\n",
      " #   Column  Non-Null Count   Dtype   \n",
      "---  ------  --------------   -----   \n",
      " 0   ID      269728 non-null  int64   \n",
      " 1   Name    269728 non-null  object  \n",
      " 2   Sex     269728 non-null  category\n",
      " 3   Age     260414 non-null  Int8    \n",
      " 4   Height  210917 non-null  Int16   \n",
      " 5   Weight  208204 non-null  float32 \n",
      " 6   Team    269728 non-null  category\n",
      " 7   NOC     269728 non-null  category\n",
      " 8   Games   269728 non-null  category\n",
      " 9   Year    269728 non-null  uint16  \n",
      " 10  Season  269728 non-null  category\n",
      " 11  City    269728 non-null  category\n",
      " 12  Sport   269728 non-null  category\n",
      " 13  Event   269728 non-null  category\n",
      " 14  Medal   269728 non-null  category\n",
      "dtypes: Int16(1), Int8(1), category(9), float32(1), int64(1), object(1), uint16(1)\n",
      "memory usage: 12.2+ MB\n"
     ]
    }
   ],
   "source": [
    "display(raw_df.head(5))\n",
    "raw_df.info()\n",
    "# Save to a parquet silver table\n",
    "raw_df.to_parquet(os.path.join(datasets_path, 'silver_df.parquet'))\n",
    "\n"
   ],
   "metadata": {
    "collapsed": false,
    "pycharm": {
     "name": "#%%\n"
    }
   }
  },
  {
   "cell_type": "code",
   "execution_count": 151,
   "outputs": [
    {
     "name": "stdout",
     "output_type": "stream",
     "text": [
      "<class 'pandas.core.frame.DataFrame'>\n",
      "RangeIndex: 230 entries, 0 to 229\n",
      "Data columns (total 3 columns):\n",
      " #   Column  Non-Null Count  Dtype \n",
      "---  ------  --------------  ----- \n",
      " 0   NOC     230 non-null    object\n",
      " 1   region  228 non-null    object\n",
      " 2   notes   21 non-null     object\n",
      "dtypes: object(3)\n",
      "memory usage: 5.5+ KB\n"
     ]
    },
    {
     "data": {
      "text/plain": "   NOC       region                 notes\n0  AFG  Afghanistan                   NaN\n1  AHO      Curacao  Netherlands Antilles\n2  ALB      Albania                   NaN\n3  ALG      Algeria                   NaN\n4  AND      Andorra                   NaN\n5  ANG       Angola                   NaN\n6  ANT      Antigua   Antigua and Barbuda\n7  ANZ    Australia           Australasia\n8  ARG    Argentina                   NaN\n9  ARM      Armenia                   NaN",
      "text/html": "<div>\n<style scoped>\n    .dataframe tbody tr th:only-of-type {\n        vertical-align: middle;\n    }\n\n    .dataframe tbody tr th {\n        vertical-align: top;\n    }\n\n    .dataframe thead th {\n        text-align: right;\n    }\n</style>\n<table border=\"1\" class=\"dataframe\">\n  <thead>\n    <tr style=\"text-align: right;\">\n      <th></th>\n      <th>NOC</th>\n      <th>region</th>\n      <th>notes</th>\n    </tr>\n  </thead>\n  <tbody>\n    <tr>\n      <th>0</th>\n      <td>AFG</td>\n      <td>Afghanistan</td>\n      <td>NaN</td>\n    </tr>\n    <tr>\n      <th>1</th>\n      <td>AHO</td>\n      <td>Curacao</td>\n      <td>Netherlands Antilles</td>\n    </tr>\n    <tr>\n      <th>2</th>\n      <td>ALB</td>\n      <td>Albania</td>\n      <td>NaN</td>\n    </tr>\n    <tr>\n      <th>3</th>\n      <td>ALG</td>\n      <td>Algeria</td>\n      <td>NaN</td>\n    </tr>\n    <tr>\n      <th>4</th>\n      <td>AND</td>\n      <td>Andorra</td>\n      <td>NaN</td>\n    </tr>\n    <tr>\n      <th>5</th>\n      <td>ANG</td>\n      <td>Angola</td>\n      <td>NaN</td>\n    </tr>\n    <tr>\n      <th>6</th>\n      <td>ANT</td>\n      <td>Antigua</td>\n      <td>Antigua and Barbuda</td>\n    </tr>\n    <tr>\n      <th>7</th>\n      <td>ANZ</td>\n      <td>Australia</td>\n      <td>Australasia</td>\n    </tr>\n    <tr>\n      <th>8</th>\n      <td>ARG</td>\n      <td>Argentina</td>\n      <td>NaN</td>\n    </tr>\n    <tr>\n      <th>9</th>\n      <td>ARM</td>\n      <td>Armenia</td>\n      <td>NaN</td>\n    </tr>\n  </tbody>\n</table>\n</div>"
     },
     "execution_count": 151,
     "metadata": {},
     "output_type": "execute_result"
    }
   ],
   "source": [
    "noc_df = pd.read_csv(os.path.join(datasets_path, 'noc_regions.csv'))\n",
    "\n",
    "# Visualize df info\n",
    "noc_df.info()\n",
    "noc_df.head(10)\n",
    "\n"
   ],
   "metadata": {
    "collapsed": false,
    "pycharm": {
     "name": "#%%\n"
    }
   }
  },
  {
   "cell_type": "code",
   "execution_count": 152,
   "outputs": [
    {
     "name": "stdout",
     "output_type": "stream",
     "text": [
      "[False]\n"
     ]
    }
   ],
   "source": [
    "# Check for duplicates\n",
    "dups = noc_df.duplicated(subset=['NOC', 'region'], keep=False)\n",
    "print(dups.unique())"
   ],
   "metadata": {
    "collapsed": false,
    "pycharm": {
     "name": "#%%\n"
    }
   }
  },
  {
   "cell_type": "code",
   "execution_count": 141,
   "outputs": [],
   "source": [
    "# noc_df.to_parquet(os.path.join(datasets_path, 'silver_noc.parquet'))"
   ],
   "metadata": {
    "collapsed": false,
    "pycharm": {
     "name": "#%%\n"
    }
   }
  },
  {
   "cell_type": "code",
   "execution_count": 153,
   "outputs": [
    {
     "name": "stdout",
     "output_type": "stream",
     "text": [
      "Region Curacao (AHO), multiple match found: [Country(alpha_2='NL', alpha_3='NLD', name='Netherlands', numeric='528', official_name='Kingdom of the Netherlands'), Country(alpha_2='CW', alpha_3='CUW', name='Curaçao', numeric='531', official_name='Curaçao')]\n",
      "Region Antigua (ANT), multiple match found: [Country(alpha_2='AG', alpha_3='ATG', name='Antigua and Barbuda', numeric='028')]\n",
      "Region Brunei (BRU), multiple match found: [Country(alpha_2='BN', alpha_3='BRN', name='Brunei Darussalam', numeric='096')]\n",
      "Region Republic of Congo (CGO), no match found\n",
      "Region Russia (EUN), multiple match found: [Country(alpha_2='RU', alpha_3='RUS', name='Russian Federation', numeric='643')]\n",
      "Region Individual Olympic Athletes (IOA), no match found\n",
      "Region Iran (IRI), multiple match found: [Country(alpha_2='IR', alpha_3='IRN', name='Iran, Islamic Republic of', numeric='364', official_name='Islamic Republic of Iran'), Country(alpha_2='AL', alpha_3='ALB', name='Albania', numeric='008', official_name='Republic of Albania'), Country(alpha_2='SI', alpha_3='SVN', name='Slovenia', numeric='705', official_name='Republic of Slovenia'), Country(alpha_2='VE', alpha_3='VEN', common_name='Venezuela', name='Venezuela, Bolivarian Republic of', numeric='862', official_name='Bolivarian Republic of Venezuela'), Country(alpha_2='BT', alpha_3='BTN', name='Bhutan', numeric='064', official_name='Kingdom of Bhutan'), Country(alpha_2='PH', alpha_3='PHL', name='Philippines', numeric='608', official_name='Republic of the Philippines'), Country(alpha_2='MG', alpha_3='MDG', name='Madagascar', numeric='450', official_name='Republic of Madagascar')]\n",
      "Region Virgin Islands, US (ISV), no match found\n",
      "Region Kosovo (KOS), multiple match found: [Country(alpha_2='RS', alpha_3='SRB', name='Serbia', numeric='688', official_name='Republic of Serbia')]\n",
      "Region Palestine (PLE), multiple match found: [Country(alpha_2='PS', alpha_3='PSE', name='Palestine, State of', numeric='275', official_name='the State of Palestine')]\n",
      "Region Saint Kitts (SKN), multiple match found: [Country(alpha_2='KN', alpha_3='KNA', name='Saint Kitts and Nevis', numeric='659')]\n",
      "Region Syria (UAR), multiple match found: [Country(alpha_2='SY', alpha_3='SYR', name='Syrian Arab Republic', numeric='760')]\n",
      "Region Russia (URS), multiple match found: [Country(alpha_2='RU', alpha_3='RUS', name='Russian Federation', numeric='643')]\n",
      "Region Saint Vincent (VIN), multiple match found: [Country(alpha_2='VC', alpha_3='VCT', name='Saint Vincent and the Grenadines', numeric='670')]\n",
      "Region Trinidad (WIF), multiple match found: [Country(alpha_2='TT', alpha_3='TTO', name='Trinidad and Tobago', numeric='780', official_name='Republic of Trinidad and Tobago'), Country(alpha_2='DO', alpha_3='DOM', name='Dominican Republic', numeric='214')]\n"
     ]
    },
    {
     "data": {
      "text/plain": "          region                 notes alpha_3\nNOC                                           \nAFG  Afghanistan                   NaN     AFG\nAHO      Curacao  Netherlands Antilles        \nALB      Albania                   NaN     ALB\nALG      Algeria                   NaN     DZA\nAND      Andorra                   NaN     AND\n..           ...                   ...     ...\nYEM        Yemen                   NaN     YEM\nYMD        Yemen           South Yemen     YEM\nYUG       Serbia            Yugoslavia     SRB\nZAM       Zambia                   NaN     ZMB\nZIM     Zimbabwe                   NaN     ZWE\n\n[228 rows x 3 columns]",
      "text/html": "<div>\n<style scoped>\n    .dataframe tbody tr th:only-of-type {\n        vertical-align: middle;\n    }\n\n    .dataframe tbody tr th {\n        vertical-align: top;\n    }\n\n    .dataframe thead th {\n        text-align: right;\n    }\n</style>\n<table border=\"1\" class=\"dataframe\">\n  <thead>\n    <tr style=\"text-align: right;\">\n      <th></th>\n      <th>region</th>\n      <th>notes</th>\n      <th>alpha_3</th>\n    </tr>\n    <tr>\n      <th>NOC</th>\n      <th></th>\n      <th></th>\n      <th></th>\n    </tr>\n  </thead>\n  <tbody>\n    <tr>\n      <th>AFG</th>\n      <td>Afghanistan</td>\n      <td>NaN</td>\n      <td>AFG</td>\n    </tr>\n    <tr>\n      <th>AHO</th>\n      <td>Curacao</td>\n      <td>Netherlands Antilles</td>\n      <td></td>\n    </tr>\n    <tr>\n      <th>ALB</th>\n      <td>Albania</td>\n      <td>NaN</td>\n      <td>ALB</td>\n    </tr>\n    <tr>\n      <th>ALG</th>\n      <td>Algeria</td>\n      <td>NaN</td>\n      <td>DZA</td>\n    </tr>\n    <tr>\n      <th>AND</th>\n      <td>Andorra</td>\n      <td>NaN</td>\n      <td>AND</td>\n    </tr>\n    <tr>\n      <th>...</th>\n      <td>...</td>\n      <td>...</td>\n      <td>...</td>\n    </tr>\n    <tr>\n      <th>YEM</th>\n      <td>Yemen</td>\n      <td>NaN</td>\n      <td>YEM</td>\n    </tr>\n    <tr>\n      <th>YMD</th>\n      <td>Yemen</td>\n      <td>South Yemen</td>\n      <td>YEM</td>\n    </tr>\n    <tr>\n      <th>YUG</th>\n      <td>Serbia</td>\n      <td>Yugoslavia</td>\n      <td>SRB</td>\n    </tr>\n    <tr>\n      <th>ZAM</th>\n      <td>Zambia</td>\n      <td>NaN</td>\n      <td>ZMB</td>\n    </tr>\n    <tr>\n      <th>ZIM</th>\n      <td>Zimbabwe</td>\n      <td>NaN</td>\n      <td>ZWE</td>\n    </tr>\n  </tbody>\n</table>\n<p>228 rows × 3 columns</p>\n</div>"
     },
     "metadata": {},
     "output_type": "display_data"
    }
   ],
   "source": [
    "query_country_df = noc_df.dropna(subset=['region'])\n",
    "\n",
    "\n",
    "countries_alpha_3 = []\n",
    "for region, code in zip(query_country_df.region, query_country_df.NOC):\n",
    "    try:\n",
    "        country_returned = pycountry.countries.lookup(region)\n",
    "        alpha3_print = country_returned.alpha_3\n",
    "    except LookupError:\n",
    "        # Try to find a match with the code\n",
    "        try:\n",
    "            country_returned = pycountry.countries.lookup(code)\n",
    "            alpha3_print = country_returned.alpha_3\n",
    "        except LookupError:\n",
    "            # Try to find a fuzzy match\n",
    "            try:\n",
    "                country_returned = pycountry.countries.search_fuzzy(region)\n",
    "                if country_returned == 1:\n",
    "                    alpha3_print = country_returned[0].alpha_3\n",
    "                else:\n",
    "                    print(f'Region {region} ({code}), multiple match found: {country_returned}')\n",
    "                    alpha3_print = ''\n",
    "            except LookupError:\n",
    "                print(f'Region {region} ({code}), no match found')\n",
    "                alpha3_print = ''\n",
    "    countries_alpha_3.append(alpha3_print)\n",
    "query_country_df = query_country_df.assign(alpha_3 = countries_alpha_3)\n",
    "query_country_df = query_country_df.set_index('NOC')\n",
    "display(query_country_df)"
   ],
   "metadata": {
    "collapsed": false,
    "pycharm": {
     "name": "#%%\n"
    }
   }
  },
  {
   "cell_type": "code",
   "execution_count": 154,
   "outputs": [
    {
     "data": {
      "text/plain": "          region                 notes alpha_3\nNOC                                           \nAFG  Afghanistan                   NaN     AFG\nAHO      Curacao  Netherlands Antilles     CUW\nALB      Albania                   NaN     ALB",
      "text/html": "<div>\n<style scoped>\n    .dataframe tbody tr th:only-of-type {\n        vertical-align: middle;\n    }\n\n    .dataframe tbody tr th {\n        vertical-align: top;\n    }\n\n    .dataframe thead th {\n        text-align: right;\n    }\n</style>\n<table border=\"1\" class=\"dataframe\">\n  <thead>\n    <tr style=\"text-align: right;\">\n      <th></th>\n      <th>region</th>\n      <th>notes</th>\n      <th>alpha_3</th>\n    </tr>\n    <tr>\n      <th>NOC</th>\n      <th></th>\n      <th></th>\n      <th></th>\n    </tr>\n  </thead>\n  <tbody>\n    <tr>\n      <th>AFG</th>\n      <td>Afghanistan</td>\n      <td>NaN</td>\n      <td>AFG</td>\n    </tr>\n    <tr>\n      <th>AHO</th>\n      <td>Curacao</td>\n      <td>Netherlands Antilles</td>\n      <td>CUW</td>\n    </tr>\n    <tr>\n      <th>ALB</th>\n      <td>Albania</td>\n      <td>NaN</td>\n      <td>ALB</td>\n    </tr>\n  </tbody>\n</table>\n</div>"
     },
     "metadata": {},
     "output_type": "display_data"
    }
   ],
   "source": [
    "query_country_df['alpha_3'].loc['AHO'] = 'CUW'\n",
    "query_country_df['alpha_3'].loc['ANT'] = 'ATG'\n",
    "query_country_df['alpha_3'].loc['BRU'] = 'BRN'\n",
    "query_country_df['alpha_3'].loc['CGO'] = 'COG'\n",
    "query_country_df['alpha_3'].loc['EUN'] = 'RUS'\n",
    "query_country_df['alpha_3'].loc['IOA'] = ''\n",
    "query_country_df['alpha_3'].loc['IRI'] = 'IRN'\n",
    "query_country_df['alpha_3'].loc['KOS'] = ''\n",
    "query_country_df['alpha_3'].loc['PLE'] = 'PSE'\n",
    "query_country_df['alpha_3'].loc['SKN'] = 'KNA'\n",
    "query_country_df['alpha_3'].loc['UAR'] = 'SYR'\n",
    "query_country_df['alpha_3'].loc['URS'] = 'SUN'\n",
    "query_country_df['alpha_3'].loc['VIN'] = 'VCT'\n",
    "query_country_df['alpha_3'].loc['WIF'] = 'TTO'\n",
    "query_country_df['alpha_3'].loc['ISV'] = 'VIR'\n",
    "query_country_df['alpha_3'].loc['HKG'] = 'HKG'\n",
    "display(query_country_df.head(3))"
   ],
   "metadata": {
    "collapsed": false,
    "pycharm": {
     "name": "#%%\n"
    }
   }
  },
  {
   "cell_type": "code",
   "execution_count": 155,
   "outputs": [
    {
     "name": "stdout",
     "output_type": "stream",
     "text": [
      "AFG\n",
      "CUW\n",
      "ALB\n",
      "DZA\n",
      "AND\n",
      "AGO\n",
      "ATG\n",
      "AUS\n",
      "ARG\n",
      "ARM\n",
      "ABW\n",
      "ASM\n",
      "AUS\n",
      "AUT\n",
      "AZE\n",
      "BHS\n",
      "BGD\n",
      "BRB\n",
      "BDI\n",
      "BEL\n",
      "BEN\n",
      "BMU\n",
      "BTN\n",
      "BIH\n",
      "BLZ\n",
      "BLR\n",
      "CZE\n",
      "BOL\n",
      "BWA\n",
      "BRA\n",
      "BHR\n",
      "BRN\n",
      "BGR\n",
      "BFA\n",
      "CAF\n",
      "KHM\n",
      "CAN\n",
      "CYM\n",
      "COG\n",
      "TCD\n",
      "CHL\n",
      "CHN\n",
      "CIV\n",
      "CMR\n",
      "COD\n",
      "COK\n",
      "COL\n",
      "COM\n",
      "CPV\n",
      "CRI\n",
      "HRV\n",
      "GRC\n",
      "CUB\n",
      "CYP\n",
      "CZE\n",
      "DNK\n",
      "DJI\n",
      "DMA\n",
      "DOM\n",
      "ECU\n",
      "EGY\n",
      "ERI\n",
      "SLV\n",
      "ESP\n",
      "EST\n",
      "ETH\n",
      "RUS\n",
      "FJI\n",
      "FIN\n",
      "FRA\n",
      "DEU\n",
      "FSM\n",
      "GAB\n",
      "GMB\n",
      "GBR\n",
      "GNB\n",
      "DEU\n",
      "GEO\n",
      "GNQ\n",
      "DEU\n",
      "GHA\n",
      "GRC\n",
      "GRD\n",
      "GTM\n",
      "GIN\n",
      "GUM\n",
      "GUY\n",
      "HTI\n",
      "HKG\n",
      "HND\n",
      "HUN\n",
      "IDN\n",
      "IND\n",
      "\n",
      "No country code\n",
      "IRN\n",
      "IRL\n",
      "IRQ\n",
      "ISL\n",
      "ISR\n",
      "VIR\n",
      "ITA\n",
      "VGB\n",
      "JAM\n",
      "JOR\n",
      "JPN\n",
      "KAZ\n",
      "KEN\n",
      "KGZ\n",
      "KIR\n",
      "KOR\n",
      "\n",
      "No country code\n",
      "SAU\n",
      "KWT\n",
      "LAO\n",
      "LVA\n",
      "LBY\n",
      "LBR\n",
      "LCA\n",
      "LSO\n",
      "LBN\n",
      "LIE\n",
      "LTU\n",
      "LUX\n",
      "MDG\n",
      "MYS\n",
      "MAR\n",
      "MYS\n",
      "MWI\n",
      "MDA\n",
      "MDV\n",
      "MEX\n",
      "MNG\n",
      "MHL\n",
      "MKD\n",
      "MLI\n",
      "MLT\n",
      "MNE\n",
      "MCO\n",
      "MOZ\n",
      "MUS\n",
      "MRT\n",
      "MMR\n",
      "NAM\n",
      "MYS\n",
      "NIC\n",
      "NLD\n",
      "NPL\n",
      "CAN\n",
      "NGA\n",
      "NER\n",
      "NOR\n",
      "NRU\n",
      "NZL\n",
      "OMN\n",
      "PAK\n",
      "PAN\n",
      "PRY\n",
      "PER\n",
      "PHL\n",
      "PSE\n",
      "PLW\n",
      "PNG\n",
      "POL\n",
      "PRT\n",
      "PRK\n",
      "PRI\n",
      "QAT\n",
      "ZWE\n",
      "ROU\n",
      "ZAF\n",
      "RUS\n",
      "RWA\n",
      "DEU\n",
      "WSM\n",
      "SRB\n",
      "SEN\n",
      "SYC\n",
      "SGP\n",
      "KNA\n",
      "SLE\n",
      "SVN\n",
      "SMR\n",
      "SLB\n",
      "SOM\n",
      "SRB\n",
      "LKA\n",
      "SSD\n",
      "STP\n",
      "SDN\n",
      "CHE\n",
      "SUR\n",
      "SVK\n",
      "SWE\n",
      "SWZ\n",
      "SYR\n",
      "TZA\n",
      "CZE\n",
      "TON\n",
      "THA\n",
      "TJK\n",
      "TKM\n",
      "TLS\n",
      "TGO\n",
      "TWN\n",
      "TTO\n",
      "TUN\n",
      "TUR\n",
      "TUV\n",
      "ARE\n",
      "SYR\n",
      "UGA\n",
      "UKR\n",
      "SUN\n",
      "URY\n",
      "USA\n",
      "UZB\n",
      "VUT\n",
      "VEN\n",
      "VNM\n",
      "VCT\n",
      "VNM\n",
      "TTO\n",
      "YEM\n",
      "YEM\n",
      "YEM\n",
      "SRB\n",
      "ZMB\n",
      "ZWE\n"
     ]
    }
   ],
   "source": [
    "# Get country full names\n",
    "country_names = []\n",
    "for alpha_3 in query_country_df.alpha_3:\n",
    "    print(f'{alpha_3}')\n",
    "    if not alpha_3:\n",
    "        print(f'No country code')\n",
    "        country_names.append('None')\n",
    "    else:\n",
    "        try:\n",
    "            country_returned = pycountry.countries.get(alpha_3= alpha_3)\n",
    "            if not country_returned:\n",
    "                country_returned = pycountry.historic_countries.get(alpha_3= alpha_3)\n",
    "            if country_returned:\n",
    "                country_names.append(country_returned.name)\n",
    "            else:\n",
    "                print(f'{alpha_3} not found')\n",
    "                country_names.append('None')\n",
    "        except LookupError:\n",
    "            print(f'{alpha_3} not found')\n",
    "            country_names.append('None')\n"
   ],
   "metadata": {
    "collapsed": false,
    "pycharm": {
     "name": "#%%\n"
    }
   }
  },
  {
   "cell_type": "code",
   "execution_count": 156,
   "outputs": [
    {
     "data": {
      "text/plain": "     NOC       region alpha_3    iso_names\n0    AFG  Afghanistan     AFG  Afghanistan\n1    AHO      Curacao     CUW      Curaçao\n2    ALB      Albania     ALB      Albania\n3    ALG      Algeria     DZA      Algeria\n4    AND      Andorra     AND      Andorra\n..   ...          ...     ...          ...\n223  YEM        Yemen     YEM        Yemen\n224  YMD        Yemen     YEM        Yemen\n225  YUG       Serbia     SRB       Serbia\n226  ZAM       Zambia     ZMB       Zambia\n227  ZIM     Zimbabwe     ZWE     Zimbabwe\n\n[228 rows x 4 columns]",
      "text/html": "<div>\n<style scoped>\n    .dataframe tbody tr th:only-of-type {\n        vertical-align: middle;\n    }\n\n    .dataframe tbody tr th {\n        vertical-align: top;\n    }\n\n    .dataframe thead th {\n        text-align: right;\n    }\n</style>\n<table border=\"1\" class=\"dataframe\">\n  <thead>\n    <tr style=\"text-align: right;\">\n      <th></th>\n      <th>NOC</th>\n      <th>region</th>\n      <th>alpha_3</th>\n      <th>iso_names</th>\n    </tr>\n  </thead>\n  <tbody>\n    <tr>\n      <th>0</th>\n      <td>AFG</td>\n      <td>Afghanistan</td>\n      <td>AFG</td>\n      <td>Afghanistan</td>\n    </tr>\n    <tr>\n      <th>1</th>\n      <td>AHO</td>\n      <td>Curacao</td>\n      <td>CUW</td>\n      <td>Curaçao</td>\n    </tr>\n    <tr>\n      <th>2</th>\n      <td>ALB</td>\n      <td>Albania</td>\n      <td>ALB</td>\n      <td>Albania</td>\n    </tr>\n    <tr>\n      <th>3</th>\n      <td>ALG</td>\n      <td>Algeria</td>\n      <td>DZA</td>\n      <td>Algeria</td>\n    </tr>\n    <tr>\n      <th>4</th>\n      <td>AND</td>\n      <td>Andorra</td>\n      <td>AND</td>\n      <td>Andorra</td>\n    </tr>\n    <tr>\n      <th>...</th>\n      <td>...</td>\n      <td>...</td>\n      <td>...</td>\n      <td>...</td>\n    </tr>\n    <tr>\n      <th>223</th>\n      <td>YEM</td>\n      <td>Yemen</td>\n      <td>YEM</td>\n      <td>Yemen</td>\n    </tr>\n    <tr>\n      <th>224</th>\n      <td>YMD</td>\n      <td>Yemen</td>\n      <td>YEM</td>\n      <td>Yemen</td>\n    </tr>\n    <tr>\n      <th>225</th>\n      <td>YUG</td>\n      <td>Serbia</td>\n      <td>SRB</td>\n      <td>Serbia</td>\n    </tr>\n    <tr>\n      <th>226</th>\n      <td>ZAM</td>\n      <td>Zambia</td>\n      <td>ZMB</td>\n      <td>Zambia</td>\n    </tr>\n    <tr>\n      <th>227</th>\n      <td>ZIM</td>\n      <td>Zimbabwe</td>\n      <td>ZWE</td>\n      <td>Zimbabwe</td>\n    </tr>\n  </tbody>\n</table>\n<p>228 rows × 4 columns</p>\n</div>"
     },
     "metadata": {},
     "output_type": "display_data"
    }
   ],
   "source": [
    "query_country_df = query_country_df.assign(iso_names=country_names)\n",
    "query_country_df = query_country_df.reset_index()\n",
    "query_country_df = query_country_df.drop(columns=['notes'])\n",
    "query_country_df.to_parquet(os.path.join('dataset', 'iso_countries.parquet'))\n",
    "display(query_country_df)\n"
   ],
   "metadata": {
    "collapsed": false,
    "pycharm": {
     "name": "#%%\n"
    }
   }
  }
 ],
 "metadata": {
  "kernelspec": {
   "display_name": "Python 3",
   "language": "python",
   "name": "python3"
  },
  "language_info": {
   "codemirror_mode": {
    "name": "ipython",
    "version": 2
   },
   "file_extension": ".py",
   "mimetype": "text/x-python",
   "name": "python",
   "nbconvert_exporter": "python",
   "pygments_lexer": "ipython2",
   "version": "2.7.6"
  }
 },
 "nbformat": 4,
 "nbformat_minor": 0
}