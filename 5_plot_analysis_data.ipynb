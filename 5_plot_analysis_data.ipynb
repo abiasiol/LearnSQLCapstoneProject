{
 "cells": [
  {
   "cell_type": "code",
   "execution_count": 42,
   "metadata": {
    "collapsed": true
   },
   "outputs": [
    {
     "data": {
      "text/plain": "              Year  events_partecipations_no  distinct_athletes_no  \\\ncount   861.000000                861.000000            861.000000   \nmean   1994.466899                162.288037            119.869919   \nstd      15.737095                164.983912            119.404391   \nmin    1964.000000                  3.000000              3.000000   \n25%    1984.000000                 43.000000             36.000000   \n50%    1996.000000                 95.000000             74.000000   \n75%    2008.000000                232.000000            163.000000   \nmax    2016.000000                839.000000            648.000000   \n\n           Bronze        Gold      Silver       Total    Population  \\\ncount  861.000000  861.000000  861.000000  861.000000  8.610000e+02   \nmean     4.441347    3.996516    3.982578   12.420441  5.759738e+07   \nstd      6.834275    8.565275    7.022451   21.663220  1.654930e+08   \nmin      0.000000    0.000000    0.000000    1.000000  5.320000e+04   \n25%      1.000000    0.000000    0.000000    2.000000  5.591572e+06   \n50%      2.000000    1.000000    1.000000    4.000000  1.476009e+07   \n75%      5.000000    4.000000    4.000000   13.000000  4.923058e+07   \nmax     46.000000   82.000000   69.000000  195.000000  1.378665e+09   \n\n       PopulationPerMedal_thousands  EventPartecipationPerMedal  \\\ncount                  8.610000e+02                  861.000000   \nmean                   1.661976e+04                   25.607903   \nstd                    7.955359e+04                   24.845350   \nmin                    5.024067e+01                    2.800000   \n25%                    1.012278e+03                   11.560000   \n50%                    2.463843e+03                   18.000000   \n75%                    9.222692e+03                   31.000000   \nmax                    1.129623e+06                  281.000000   \n\n       AthletePerMedal  AthletePerEventPartecipation  \ncount       861.000000                    861.000000  \nmean         19.748040                      0.785246  \nstd          18.492840                      0.119667  \nmin           2.384615                      0.355263  \n25%           8.684211                      0.713287  \n50%          14.142857                      0.785571  \n75%          24.000000                      0.870370  \nmax         174.000000                      1.000000  ",
      "text/html": "<div>\n<style scoped>\n    .dataframe tbody tr th:only-of-type {\n        vertical-align: middle;\n    }\n\n    .dataframe tbody tr th {\n        vertical-align: top;\n    }\n\n    .dataframe thead th {\n        text-align: right;\n    }\n</style>\n<table border=\"1\" class=\"dataframe\">\n  <thead>\n    <tr style=\"text-align: right;\">\n      <th></th>\n      <th>Year</th>\n      <th>events_partecipations_no</th>\n      <th>distinct_athletes_no</th>\n      <th>Bronze</th>\n      <th>Gold</th>\n      <th>Silver</th>\n      <th>Total</th>\n      <th>Population</th>\n      <th>PopulationPerMedal_thousands</th>\n      <th>EventPartecipationPerMedal</th>\n      <th>AthletePerMedal</th>\n      <th>AthletePerEventPartecipation</th>\n    </tr>\n  </thead>\n  <tbody>\n    <tr>\n      <th>count</th>\n      <td>861.000000</td>\n      <td>861.000000</td>\n      <td>861.000000</td>\n      <td>861.000000</td>\n      <td>861.000000</td>\n      <td>861.000000</td>\n      <td>861.000000</td>\n      <td>8.610000e+02</td>\n      <td>8.610000e+02</td>\n      <td>861.000000</td>\n      <td>861.000000</td>\n      <td>861.000000</td>\n    </tr>\n    <tr>\n      <th>mean</th>\n      <td>1994.466899</td>\n      <td>162.288037</td>\n      <td>119.869919</td>\n      <td>4.441347</td>\n      <td>3.996516</td>\n      <td>3.982578</td>\n      <td>12.420441</td>\n      <td>5.759738e+07</td>\n      <td>1.661976e+04</td>\n      <td>25.607903</td>\n      <td>19.748040</td>\n      <td>0.785246</td>\n    </tr>\n    <tr>\n      <th>std</th>\n      <td>15.737095</td>\n      <td>164.983912</td>\n      <td>119.404391</td>\n      <td>6.834275</td>\n      <td>8.565275</td>\n      <td>7.022451</td>\n      <td>21.663220</td>\n      <td>1.654930e+08</td>\n      <td>7.955359e+04</td>\n      <td>24.845350</td>\n      <td>18.492840</td>\n      <td>0.119667</td>\n    </tr>\n    <tr>\n      <th>min</th>\n      <td>1964.000000</td>\n      <td>3.000000</td>\n      <td>3.000000</td>\n      <td>0.000000</td>\n      <td>0.000000</td>\n      <td>0.000000</td>\n      <td>1.000000</td>\n      <td>5.320000e+04</td>\n      <td>5.024067e+01</td>\n      <td>2.800000</td>\n      <td>2.384615</td>\n      <td>0.355263</td>\n    </tr>\n    <tr>\n      <th>25%</th>\n      <td>1984.000000</td>\n      <td>43.000000</td>\n      <td>36.000000</td>\n      <td>1.000000</td>\n      <td>0.000000</td>\n      <td>0.000000</td>\n      <td>2.000000</td>\n      <td>5.591572e+06</td>\n      <td>1.012278e+03</td>\n      <td>11.560000</td>\n      <td>8.684211</td>\n      <td>0.713287</td>\n    </tr>\n    <tr>\n      <th>50%</th>\n      <td>1996.000000</td>\n      <td>95.000000</td>\n      <td>74.000000</td>\n      <td>2.000000</td>\n      <td>1.000000</td>\n      <td>1.000000</td>\n      <td>4.000000</td>\n      <td>1.476009e+07</td>\n      <td>2.463843e+03</td>\n      <td>18.000000</td>\n      <td>14.142857</td>\n      <td>0.785571</td>\n    </tr>\n    <tr>\n      <th>75%</th>\n      <td>2008.000000</td>\n      <td>232.000000</td>\n      <td>163.000000</td>\n      <td>5.000000</td>\n      <td>4.000000</td>\n      <td>4.000000</td>\n      <td>13.000000</td>\n      <td>4.923058e+07</td>\n      <td>9.222692e+03</td>\n      <td>31.000000</td>\n      <td>24.000000</td>\n      <td>0.870370</td>\n    </tr>\n    <tr>\n      <th>max</th>\n      <td>2016.000000</td>\n      <td>839.000000</td>\n      <td>648.000000</td>\n      <td>46.000000</td>\n      <td>82.000000</td>\n      <td>69.000000</td>\n      <td>195.000000</td>\n      <td>1.378665e+09</td>\n      <td>1.129623e+06</td>\n      <td>281.000000</td>\n      <td>174.000000</td>\n      <td>1.000000</td>\n    </tr>\n  </tbody>\n</table>\n</div>"
     },
     "metadata": {},
     "output_type": "display_data"
    },
    {
     "name": "stdout",
     "output_type": "stream",
     "text": [
      "Filter out NOC/Year pairs that have less than 24.0 events partecipation\n"
     ]
    },
    {
     "data": {
      "text/plain": "      NOC  Year  events_partecipations_no  distinct_athletes_no  Bronze  Gold  \\\n33    ALG  1984                        33                    33       2     0   \n35    ALG  1992                        36                    35       1     1   \n36    ALG  1996                        47                    45       1     2   \n37    ALG  2000                        51                    47       3     1   \n39    ALG  2008                        57                    56       1     0   \n...   ...   ...                       ...                   ...     ...   ...   \n2152  YUG  1976                        95                    88       3     2   \n2153  YUG  1980                       180                   164       4     2   \n2154  YUG  1984                       154                   139       7     7   \n2155  YUG  1988                       183                   155       5     3   \n2170  ZIM  1980                        52                    42       0     1   \n\n      Silver  Total    region  Population  PopulationPerMedal_thousands  \\\n33         0      2   Algeria    21763578                     10881.789   \n35         0      2   Algeria    27028330                     13514.165   \n36         0      3   Algeria    29266415                   9755.471667   \n37         1      5   Algeria    31042238                     6208.4476   \n39         1      2   Algeria    34730604                     17365.302   \n...      ...    ...       ...         ...                           ...   \n2152       3      8    Serbia     7214000                        901.75   \n2153       3      9    Serbia     7362000                         818.0   \n2154       4     18    Serbia     7489000                    416.055556   \n2155       4     12    Serbia     7572000                         631.0   \n2170       0      1  Zimbabwe     7408630                       7408.63   \n\n      EventPartecipationPerMedal  AthletePerMedal  \\\n33                     16.500000        16.500000   \n35                     18.000000        17.500000   \n36                     15.666667        15.000000   \n37                     10.200000         9.400000   \n39                     28.500000        28.000000   \n...                          ...              ...   \n2152                   11.875000        11.000000   \n2153                   20.000000        18.222222   \n2154                    8.555556         7.722222   \n2155                   15.250000        12.916667   \n2170                   52.000000        42.000000   \n\n      AthletePerEventPartecipation  \n33                        1.000000  \n35                        0.972222  \n36                        0.957447  \n37                        0.921569  \n39                        0.982456  \n...                            ...  \n2152                      0.926316  \n2153                      0.911111  \n2154                      0.902597  \n2155                      0.846995  \n2170                      0.807692  \n\n[769 rows x 14 columns]",
      "text/html": "<div>\n<style scoped>\n    .dataframe tbody tr th:only-of-type {\n        vertical-align: middle;\n    }\n\n    .dataframe tbody tr th {\n        vertical-align: top;\n    }\n\n    .dataframe thead th {\n        text-align: right;\n    }\n</style>\n<table border=\"1\" class=\"dataframe\">\n  <thead>\n    <tr style=\"text-align: right;\">\n      <th></th>\n      <th>NOC</th>\n      <th>Year</th>\n      <th>events_partecipations_no</th>\n      <th>distinct_athletes_no</th>\n      <th>Bronze</th>\n      <th>Gold</th>\n      <th>Silver</th>\n      <th>Total</th>\n      <th>region</th>\n      <th>Population</th>\n      <th>PopulationPerMedal_thousands</th>\n      <th>EventPartecipationPerMedal</th>\n      <th>AthletePerMedal</th>\n      <th>AthletePerEventPartecipation</th>\n    </tr>\n  </thead>\n  <tbody>\n    <tr>\n      <th>33</th>\n      <td>ALG</td>\n      <td>1984</td>\n      <td>33</td>\n      <td>33</td>\n      <td>2</td>\n      <td>0</td>\n      <td>0</td>\n      <td>2</td>\n      <td>Algeria</td>\n      <td>21763578</td>\n      <td>10881.789</td>\n      <td>16.500000</td>\n      <td>16.500000</td>\n      <td>1.000000</td>\n    </tr>\n    <tr>\n      <th>35</th>\n      <td>ALG</td>\n      <td>1992</td>\n      <td>36</td>\n      <td>35</td>\n      <td>1</td>\n      <td>1</td>\n      <td>0</td>\n      <td>2</td>\n      <td>Algeria</td>\n      <td>27028330</td>\n      <td>13514.165</td>\n      <td>18.000000</td>\n      <td>17.500000</td>\n      <td>0.972222</td>\n    </tr>\n    <tr>\n      <th>36</th>\n      <td>ALG</td>\n      <td>1996</td>\n      <td>47</td>\n      <td>45</td>\n      <td>1</td>\n      <td>2</td>\n      <td>0</td>\n      <td>3</td>\n      <td>Algeria</td>\n      <td>29266415</td>\n      <td>9755.471667</td>\n      <td>15.666667</td>\n      <td>15.000000</td>\n      <td>0.957447</td>\n    </tr>\n    <tr>\n      <th>37</th>\n      <td>ALG</td>\n      <td>2000</td>\n      <td>51</td>\n      <td>47</td>\n      <td>3</td>\n      <td>1</td>\n      <td>1</td>\n      <td>5</td>\n      <td>Algeria</td>\n      <td>31042238</td>\n      <td>6208.4476</td>\n      <td>10.200000</td>\n      <td>9.400000</td>\n      <td>0.921569</td>\n    </tr>\n    <tr>\n      <th>39</th>\n      <td>ALG</td>\n      <td>2008</td>\n      <td>57</td>\n      <td>56</td>\n      <td>1</td>\n      <td>0</td>\n      <td>1</td>\n      <td>2</td>\n      <td>Algeria</td>\n      <td>34730604</td>\n      <td>17365.302</td>\n      <td>28.500000</td>\n      <td>28.000000</td>\n      <td>0.982456</td>\n    </tr>\n    <tr>\n      <th>...</th>\n      <td>...</td>\n      <td>...</td>\n      <td>...</td>\n      <td>...</td>\n      <td>...</td>\n      <td>...</td>\n      <td>...</td>\n      <td>...</td>\n      <td>...</td>\n      <td>...</td>\n      <td>...</td>\n      <td>...</td>\n      <td>...</td>\n      <td>...</td>\n    </tr>\n    <tr>\n      <th>2152</th>\n      <td>YUG</td>\n      <td>1976</td>\n      <td>95</td>\n      <td>88</td>\n      <td>3</td>\n      <td>2</td>\n      <td>3</td>\n      <td>8</td>\n      <td>Serbia</td>\n      <td>7214000</td>\n      <td>901.75</td>\n      <td>11.875000</td>\n      <td>11.000000</td>\n      <td>0.926316</td>\n    </tr>\n    <tr>\n      <th>2153</th>\n      <td>YUG</td>\n      <td>1980</td>\n      <td>180</td>\n      <td>164</td>\n      <td>4</td>\n      <td>2</td>\n      <td>3</td>\n      <td>9</td>\n      <td>Serbia</td>\n      <td>7362000</td>\n      <td>818.0</td>\n      <td>20.000000</td>\n      <td>18.222222</td>\n      <td>0.911111</td>\n    </tr>\n    <tr>\n      <th>2154</th>\n      <td>YUG</td>\n      <td>1984</td>\n      <td>154</td>\n      <td>139</td>\n      <td>7</td>\n      <td>7</td>\n      <td>4</td>\n      <td>18</td>\n      <td>Serbia</td>\n      <td>7489000</td>\n      <td>416.055556</td>\n      <td>8.555556</td>\n      <td>7.722222</td>\n      <td>0.902597</td>\n    </tr>\n    <tr>\n      <th>2155</th>\n      <td>YUG</td>\n      <td>1988</td>\n      <td>183</td>\n      <td>155</td>\n      <td>5</td>\n      <td>3</td>\n      <td>4</td>\n      <td>12</td>\n      <td>Serbia</td>\n      <td>7572000</td>\n      <td>631.0</td>\n      <td>15.250000</td>\n      <td>12.916667</td>\n      <td>0.846995</td>\n    </tr>\n    <tr>\n      <th>2170</th>\n      <td>ZIM</td>\n      <td>1980</td>\n      <td>52</td>\n      <td>42</td>\n      <td>0</td>\n      <td>1</td>\n      <td>0</td>\n      <td>1</td>\n      <td>Zimbabwe</td>\n      <td>7408630</td>\n      <td>7408.63</td>\n      <td>52.000000</td>\n      <td>42.000000</td>\n      <td>0.807692</td>\n    </tr>\n  </tbody>\n</table>\n<p>769 rows × 14 columns</p>\n</div>"
     },
     "metadata": {},
     "output_type": "display_data"
    }
   ],
   "source": [
    "import pandas as pd\n",
    "import os\n",
    "from IPython.display import display\n",
    "from pandasql import sqldf\n",
    "import numpy as np\n",
    "from scipy import stats\n",
    "import plotly.express as px\n",
    "dataset_path = 'dataset'\n",
    "pysqldf = lambda q: sqldf(q, globals())\n",
    "\n",
    "\n",
    "gold_df = pd.read_parquet(os.path.join(dataset_path, 'gold_partecipants.parquet'))\n",
    "display(gold_df.describe())\n",
    "threshold = gold_df.events_partecipations_no.quantile(0.1)\n",
    "print(f\"Filter out NOC/Year pairs that have less than {threshold:.1f} events partecipation\")\n",
    "gold_df = gold_df.loc[gold_df.events_partecipations_no > threshold]\n",
    "display(gold_df)"
   ]
  },
  {
   "cell_type": "code",
   "execution_count": 44,
   "outputs": [
    {
     "data": {
      "text/plain": "      NOC  Year  events_partecipations_no  distinct_athletes_no  Bronze  Gold  \\\n33    ALG  1984                        33                    33       2     0   \n35    ALG  1992                        36                    35       1     1   \n36    ALG  1996                        47                    45       1     2   \n37    ALG  2000                        51                    47       3     1   \n39    ALG  2008                        57                    56       1     0   \n...   ...   ...                       ...                   ...     ...   ...   \n2152  YUG  1976                        95                    88       3     2   \n2153  YUG  1980                       180                   164       4     2   \n2154  YUG  1984                       154                   139       7     7   \n2155  YUG  1988                       183                   155       5     3   \n2170  ZIM  1980                        52                    42       0     1   \n\n      Silver  Total    region  Population  PopulationPerMedal_thousands  \\\n33         0      2   Algeria    21763578                     10881.789   \n35         0      2   Algeria    27028330                     13514.165   \n36         0      3   Algeria    29266415                   9755.471667   \n37         1      5   Algeria    31042238                     6208.4476   \n39         1      2   Algeria    34730604                     17365.302   \n...      ...    ...       ...         ...                           ...   \n2152       3      8    Serbia     7214000                        901.75   \n2153       3      9    Serbia     7362000                         818.0   \n2154       4     18    Serbia     7489000                    416.055556   \n2155       4     12    Serbia     7572000                         631.0   \n2170       0      1  Zimbabwe     7408630                       7408.63   \n\n      EventPartecipationPerMedal  AthletePerMedal  \\\n33                     16.500000        16.500000   \n35                     18.000000        17.500000   \n36                     15.666667        15.000000   \n37                     10.200000         9.400000   \n39                     28.500000        28.000000   \n...                          ...              ...   \n2152                   11.875000        11.000000   \n2153                   20.000000        18.222222   \n2154                    8.555556         7.722222   \n2155                   15.250000        12.916667   \n2170                   52.000000        42.000000   \n\n      AthletePerEventPartecipation  \n33                        1.000000  \n35                        0.972222  \n36                        0.957447  \n37                        0.921569  \n39                        0.982456  \n...                            ...  \n2152                      0.926316  \n2153                      0.911111  \n2154                      0.902597  \n2155                      0.846995  \n2170                      0.807692  \n\n[737 rows x 14 columns]",
      "text/html": "<div>\n<style scoped>\n    .dataframe tbody tr th:only-of-type {\n        vertical-align: middle;\n    }\n\n    .dataframe tbody tr th {\n        vertical-align: top;\n    }\n\n    .dataframe thead th {\n        text-align: right;\n    }\n</style>\n<table border=\"1\" class=\"dataframe\">\n  <thead>\n    <tr style=\"text-align: right;\">\n      <th></th>\n      <th>NOC</th>\n      <th>Year</th>\n      <th>events_partecipations_no</th>\n      <th>distinct_athletes_no</th>\n      <th>Bronze</th>\n      <th>Gold</th>\n      <th>Silver</th>\n      <th>Total</th>\n      <th>region</th>\n      <th>Population</th>\n      <th>PopulationPerMedal_thousands</th>\n      <th>EventPartecipationPerMedal</th>\n      <th>AthletePerMedal</th>\n      <th>AthletePerEventPartecipation</th>\n    </tr>\n  </thead>\n  <tbody>\n    <tr>\n      <th>33</th>\n      <td>ALG</td>\n      <td>1984</td>\n      <td>33</td>\n      <td>33</td>\n      <td>2</td>\n      <td>0</td>\n      <td>0</td>\n      <td>2</td>\n      <td>Algeria</td>\n      <td>21763578</td>\n      <td>10881.789</td>\n      <td>16.500000</td>\n      <td>16.500000</td>\n      <td>1.000000</td>\n    </tr>\n    <tr>\n      <th>35</th>\n      <td>ALG</td>\n      <td>1992</td>\n      <td>36</td>\n      <td>35</td>\n      <td>1</td>\n      <td>1</td>\n      <td>0</td>\n      <td>2</td>\n      <td>Algeria</td>\n      <td>27028330</td>\n      <td>13514.165</td>\n      <td>18.000000</td>\n      <td>17.500000</td>\n      <td>0.972222</td>\n    </tr>\n    <tr>\n      <th>36</th>\n      <td>ALG</td>\n      <td>1996</td>\n      <td>47</td>\n      <td>45</td>\n      <td>1</td>\n      <td>2</td>\n      <td>0</td>\n      <td>3</td>\n      <td>Algeria</td>\n      <td>29266415</td>\n      <td>9755.471667</td>\n      <td>15.666667</td>\n      <td>15.000000</td>\n      <td>0.957447</td>\n    </tr>\n    <tr>\n      <th>37</th>\n      <td>ALG</td>\n      <td>2000</td>\n      <td>51</td>\n      <td>47</td>\n      <td>3</td>\n      <td>1</td>\n      <td>1</td>\n      <td>5</td>\n      <td>Algeria</td>\n      <td>31042238</td>\n      <td>6208.4476</td>\n      <td>10.200000</td>\n      <td>9.400000</td>\n      <td>0.921569</td>\n    </tr>\n    <tr>\n      <th>39</th>\n      <td>ALG</td>\n      <td>2008</td>\n      <td>57</td>\n      <td>56</td>\n      <td>1</td>\n      <td>0</td>\n      <td>1</td>\n      <td>2</td>\n      <td>Algeria</td>\n      <td>34730604</td>\n      <td>17365.302</td>\n      <td>28.500000</td>\n      <td>28.000000</td>\n      <td>0.982456</td>\n    </tr>\n    <tr>\n      <th>...</th>\n      <td>...</td>\n      <td>...</td>\n      <td>...</td>\n      <td>...</td>\n      <td>...</td>\n      <td>...</td>\n      <td>...</td>\n      <td>...</td>\n      <td>...</td>\n      <td>...</td>\n      <td>...</td>\n      <td>...</td>\n      <td>...</td>\n      <td>...</td>\n    </tr>\n    <tr>\n      <th>2152</th>\n      <td>YUG</td>\n      <td>1976</td>\n      <td>95</td>\n      <td>88</td>\n      <td>3</td>\n      <td>2</td>\n      <td>3</td>\n      <td>8</td>\n      <td>Serbia</td>\n      <td>7214000</td>\n      <td>901.75</td>\n      <td>11.875000</td>\n      <td>11.000000</td>\n      <td>0.926316</td>\n    </tr>\n    <tr>\n      <th>2153</th>\n      <td>YUG</td>\n      <td>1980</td>\n      <td>180</td>\n      <td>164</td>\n      <td>4</td>\n      <td>2</td>\n      <td>3</td>\n      <td>9</td>\n      <td>Serbia</td>\n      <td>7362000</td>\n      <td>818.0</td>\n      <td>20.000000</td>\n      <td>18.222222</td>\n      <td>0.911111</td>\n    </tr>\n    <tr>\n      <th>2154</th>\n      <td>YUG</td>\n      <td>1984</td>\n      <td>154</td>\n      <td>139</td>\n      <td>7</td>\n      <td>7</td>\n      <td>4</td>\n      <td>18</td>\n      <td>Serbia</td>\n      <td>7489000</td>\n      <td>416.055556</td>\n      <td>8.555556</td>\n      <td>7.722222</td>\n      <td>0.902597</td>\n    </tr>\n    <tr>\n      <th>2155</th>\n      <td>YUG</td>\n      <td>1988</td>\n      <td>183</td>\n      <td>155</td>\n      <td>5</td>\n      <td>3</td>\n      <td>4</td>\n      <td>12</td>\n      <td>Serbia</td>\n      <td>7572000</td>\n      <td>631.0</td>\n      <td>15.250000</td>\n      <td>12.916667</td>\n      <td>0.846995</td>\n    </tr>\n    <tr>\n      <th>2170</th>\n      <td>ZIM</td>\n      <td>1980</td>\n      <td>52</td>\n      <td>42</td>\n      <td>0</td>\n      <td>1</td>\n      <td>0</td>\n      <td>1</td>\n      <td>Zimbabwe</td>\n      <td>7408630</td>\n      <td>7408.63</td>\n      <td>52.000000</td>\n      <td>42.000000</td>\n      <td>0.807692</td>\n    </tr>\n  </tbody>\n</table>\n<p>737 rows × 14 columns</p>\n</div>"
     },
     "metadata": {},
     "output_type": "display_data"
    }
   ],
   "source": [
    "display(gold_df.loc[gold_df.PopulationPerMedal_thousands < 50250])"
   ],
   "metadata": {
    "collapsed": false,
    "pycharm": {
     "name": "#%%\n"
    }
   }
  },
  {
   "cell_type": "code",
   "execution_count": 28,
   "outputs": [
    {
     "data": {
      "text/plain": "    NOC  Year  events_partecipations_no  distinct_athletes_no  Bronze  Gold  \\\n33  ALG  1984                        33                    33       2     0   \n35  ALG  1992                        36                    35       1     1   \n36  ALG  1996                        47                    45       1     2   \n37  ALG  2000                        51                    47       3     1   \n39  ALG  2008                        57                    56       1     0   \n40  ALG  2012                        39                    38       0     1   \n41  ALG  2016                        74                    64       0     0   \n72  ARG  1964                       148                   102       0     0   \n73  ARG  1968                       132                    89       2     0   \n74  ARG  1972                       123                    92       0     0   \n\n    Silver  Total     region  Population  PopulationPerMedal_thousands  \\\n33       0      2    Algeria    21763578                     10881.789   \n35       0      2    Algeria    27028330                     13514.165   \n36       0      3    Algeria    29266415                   9755.471667   \n37       1      5    Algeria    31042238                     6208.4476   \n39       1      2    Algeria    34730604                     17365.302   \n40       0      1    Algeria    37383899                     37383.899   \n41       2      2    Algeria    40551398                     20275.699   \n72       1      1  Argentina    21824427                     21824.427   \n73       0      2  Argentina    23168268                     11584.134   \n74       1      1  Argentina    24653172                     24653.172   \n\n    EventPartecipationPerMedal  AthletePerMedal  AthletePerEventPartecipation  \n33                   16.500000             16.5                      1.000000  \n35                   18.000000             17.5                      0.972222  \n36                   15.666667             15.0                      0.957447  \n37                   10.200000              9.4                      0.921569  \n39                   28.500000             28.0                      0.982456  \n40                   39.000000             38.0                      0.974359  \n41                   37.000000             32.0                      0.864865  \n72                  148.000000            102.0                      0.689189  \n73                   66.000000             44.5                      0.674242  \n74                  123.000000             92.0                      0.747967  ",
      "text/html": "<div>\n<style scoped>\n    .dataframe tbody tr th:only-of-type {\n        vertical-align: middle;\n    }\n\n    .dataframe tbody tr th {\n        vertical-align: top;\n    }\n\n    .dataframe thead th {\n        text-align: right;\n    }\n</style>\n<table border=\"1\" class=\"dataframe\">\n  <thead>\n    <tr style=\"text-align: right;\">\n      <th></th>\n      <th>NOC</th>\n      <th>Year</th>\n      <th>events_partecipations_no</th>\n      <th>distinct_athletes_no</th>\n      <th>Bronze</th>\n      <th>Gold</th>\n      <th>Silver</th>\n      <th>Total</th>\n      <th>region</th>\n      <th>Population</th>\n      <th>PopulationPerMedal_thousands</th>\n      <th>EventPartecipationPerMedal</th>\n      <th>AthletePerMedal</th>\n      <th>AthletePerEventPartecipation</th>\n    </tr>\n  </thead>\n  <tbody>\n    <tr>\n      <th>33</th>\n      <td>ALG</td>\n      <td>1984</td>\n      <td>33</td>\n      <td>33</td>\n      <td>2</td>\n      <td>0</td>\n      <td>0</td>\n      <td>2</td>\n      <td>Algeria</td>\n      <td>21763578</td>\n      <td>10881.789</td>\n      <td>16.500000</td>\n      <td>16.5</td>\n      <td>1.000000</td>\n    </tr>\n    <tr>\n      <th>35</th>\n      <td>ALG</td>\n      <td>1992</td>\n      <td>36</td>\n      <td>35</td>\n      <td>1</td>\n      <td>1</td>\n      <td>0</td>\n      <td>2</td>\n      <td>Algeria</td>\n      <td>27028330</td>\n      <td>13514.165</td>\n      <td>18.000000</td>\n      <td>17.5</td>\n      <td>0.972222</td>\n    </tr>\n    <tr>\n      <th>36</th>\n      <td>ALG</td>\n      <td>1996</td>\n      <td>47</td>\n      <td>45</td>\n      <td>1</td>\n      <td>2</td>\n      <td>0</td>\n      <td>3</td>\n      <td>Algeria</td>\n      <td>29266415</td>\n      <td>9755.471667</td>\n      <td>15.666667</td>\n      <td>15.0</td>\n      <td>0.957447</td>\n    </tr>\n    <tr>\n      <th>37</th>\n      <td>ALG</td>\n      <td>2000</td>\n      <td>51</td>\n      <td>47</td>\n      <td>3</td>\n      <td>1</td>\n      <td>1</td>\n      <td>5</td>\n      <td>Algeria</td>\n      <td>31042238</td>\n      <td>6208.4476</td>\n      <td>10.200000</td>\n      <td>9.4</td>\n      <td>0.921569</td>\n    </tr>\n    <tr>\n      <th>39</th>\n      <td>ALG</td>\n      <td>2008</td>\n      <td>57</td>\n      <td>56</td>\n      <td>1</td>\n      <td>0</td>\n      <td>1</td>\n      <td>2</td>\n      <td>Algeria</td>\n      <td>34730604</td>\n      <td>17365.302</td>\n      <td>28.500000</td>\n      <td>28.0</td>\n      <td>0.982456</td>\n    </tr>\n    <tr>\n      <th>40</th>\n      <td>ALG</td>\n      <td>2012</td>\n      <td>39</td>\n      <td>38</td>\n      <td>0</td>\n      <td>1</td>\n      <td>0</td>\n      <td>1</td>\n      <td>Algeria</td>\n      <td>37383899</td>\n      <td>37383.899</td>\n      <td>39.000000</td>\n      <td>38.0</td>\n      <td>0.974359</td>\n    </tr>\n    <tr>\n      <th>41</th>\n      <td>ALG</td>\n      <td>2016</td>\n      <td>74</td>\n      <td>64</td>\n      <td>0</td>\n      <td>0</td>\n      <td>2</td>\n      <td>2</td>\n      <td>Algeria</td>\n      <td>40551398</td>\n      <td>20275.699</td>\n      <td>37.000000</td>\n      <td>32.0</td>\n      <td>0.864865</td>\n    </tr>\n    <tr>\n      <th>72</th>\n      <td>ARG</td>\n      <td>1964</td>\n      <td>148</td>\n      <td>102</td>\n      <td>0</td>\n      <td>0</td>\n      <td>1</td>\n      <td>1</td>\n      <td>Argentina</td>\n      <td>21824427</td>\n      <td>21824.427</td>\n      <td>148.000000</td>\n      <td>102.0</td>\n      <td>0.689189</td>\n    </tr>\n    <tr>\n      <th>73</th>\n      <td>ARG</td>\n      <td>1968</td>\n      <td>132</td>\n      <td>89</td>\n      <td>2</td>\n      <td>0</td>\n      <td>0</td>\n      <td>2</td>\n      <td>Argentina</td>\n      <td>23168268</td>\n      <td>11584.134</td>\n      <td>66.000000</td>\n      <td>44.5</td>\n      <td>0.674242</td>\n    </tr>\n    <tr>\n      <th>74</th>\n      <td>ARG</td>\n      <td>1972</td>\n      <td>123</td>\n      <td>92</td>\n      <td>0</td>\n      <td>0</td>\n      <td>1</td>\n      <td>1</td>\n      <td>Argentina</td>\n      <td>24653172</td>\n      <td>24653.172</td>\n      <td>123.000000</td>\n      <td>92.0</td>\n      <td>0.747967</td>\n    </tr>\n  </tbody>\n</table>\n</div>"
     },
     "metadata": {},
     "output_type": "display_data"
    }
   ],
   "source": [
    "display(gold_df.head(10))"
   ],
   "metadata": {
    "collapsed": false,
    "pycharm": {
     "name": "#%%\n"
    }
   }
  },
  {
   "cell_type": "code",
   "execution_count": 29,
   "outputs": [
    {
     "data": {
      "text/plain": "                                  Year  events_partecipations_no  \\\nYear                          1.000000                 -0.055868   \nevents_partecipations_no     -0.055868                  1.000000   \ndistinct_athletes_no          0.016283                  0.990041   \nBronze                       -0.021743                  0.828204   \nGold                         -0.030097                  0.740685   \nSilver                       -0.036780                  0.793219   \nTotal                        -0.030712                  0.811633   \nPopulation                    0.062941                  0.249030   \nPopulationPerMedal_thousands -0.013327                 -0.104042   \nEventPartecipationPerMedal   -0.162145                 -0.196958   \nAthletePerMedal              -0.089574                 -0.242259   \nAthletePerEventPartecipation  0.433807                 -0.340722   \n\n                              distinct_athletes_no    Bronze      Gold  \\\nYear                                      0.016283 -0.021743 -0.030097   \nevents_partecipations_no                  0.990041  0.828204  0.740685   \ndistinct_athletes_no                      1.000000  0.823177  0.745064   \nBronze                                    0.823177  1.000000  0.874040   \nGold                                      0.745064  0.874040  1.000000   \nSilver                                    0.790931  0.897248  0.921550   \nTotal                                     0.811050  0.952314  0.970637   \nPopulation                                0.256310  0.266701  0.322591   \nPopulationPerMedal_thousands             -0.096271 -0.096182 -0.076123   \nEventPartecipationPerMedal               -0.203729 -0.359837 -0.301076   \nAthletePerMedal                          -0.231785 -0.383213 -0.317720   \nAthletePerEventPartecipation             -0.237270 -0.213699 -0.155964   \n\n                                Silver     Total  Population  \\\nYear                         -0.036780 -0.030712    0.062941   \nevents_partecipations_no      0.793219  0.811633    0.249030   \ndistinct_athletes_no          0.790931  0.811050    0.256310   \nBronze                        0.897248  0.952314    0.266701   \nGold                          0.921550  0.970637    0.322591   \nSilver                        1.000000  0.972211    0.276751   \nTotal                         0.972211  1.000000    0.301667   \nPopulation                    0.276751  0.301667    1.000000   \nPopulationPerMedal_thousands -0.090154 -0.089690    0.555343   \nEventPartecipationPerMedal   -0.322301 -0.337159   -0.024691   \nAthletePerMedal              -0.345155 -0.358526   -0.009586   \nAthletePerEventPartecipation -0.205155 -0.195619    0.012529   \n\n                              PopulationPerMedal_thousands  \\\nYear                                             -0.013327   \nevents_partecipations_no                         -0.104042   \ndistinct_athletes_no                             -0.096271   \nBronze                                           -0.096182   \nGold                                             -0.076123   \nSilver                                           -0.090154   \nTotal                                            -0.089690   \nPopulation                                        0.555343   \nPopulationPerMedal_thousands                      1.000000   \nEventPartecipationPerMedal                        0.214736   \nAthletePerMedal                                   0.255266   \nAthletePerEventPartecipation                      0.121469   \n\n                              EventPartecipationPerMedal  AthletePerMedal  \\\nYear                                           -0.162145        -0.089574   \nevents_partecipations_no                       -0.196958        -0.242259   \ndistinct_athletes_no                           -0.203729        -0.231785   \nBronze                                         -0.359837        -0.383213   \nGold                                           -0.301076        -0.317720   \nSilver                                         -0.322301        -0.345155   \nTotal                                          -0.337159        -0.358526   \nPopulation                                     -0.024691        -0.009586   \nPopulationPerMedal_thousands                    0.214736         0.255266   \nEventPartecipationPerMedal                      1.000000         0.975230   \nAthletePerMedal                                 0.975230         1.000000   \nAthletePerEventPartecipation                   -0.065836         0.099309   \n\n                              AthletePerEventPartecipation  \nYear                                              0.433807  \nevents_partecipations_no                         -0.340722  \ndistinct_athletes_no                             -0.237270  \nBronze                                           -0.213699  \nGold                                             -0.155964  \nSilver                                           -0.205155  \nTotal                                            -0.195619  \nPopulation                                        0.012529  \nPopulationPerMedal_thousands                      0.121469  \nEventPartecipationPerMedal                       -0.065836  \nAthletePerMedal                                   0.099309  \nAthletePerEventPartecipation                      1.000000  ",
      "text/html": "<div>\n<style scoped>\n    .dataframe tbody tr th:only-of-type {\n        vertical-align: middle;\n    }\n\n    .dataframe tbody tr th {\n        vertical-align: top;\n    }\n\n    .dataframe thead th {\n        text-align: right;\n    }\n</style>\n<table border=\"1\" class=\"dataframe\">\n  <thead>\n    <tr style=\"text-align: right;\">\n      <th></th>\n      <th>Year</th>\n      <th>events_partecipations_no</th>\n      <th>distinct_athletes_no</th>\n      <th>Bronze</th>\n      <th>Gold</th>\n      <th>Silver</th>\n      <th>Total</th>\n      <th>Population</th>\n      <th>PopulationPerMedal_thousands</th>\n      <th>EventPartecipationPerMedal</th>\n      <th>AthletePerMedal</th>\n      <th>AthletePerEventPartecipation</th>\n    </tr>\n  </thead>\n  <tbody>\n    <tr>\n      <th>Year</th>\n      <td>1.000000</td>\n      <td>-0.055868</td>\n      <td>0.016283</td>\n      <td>-0.021743</td>\n      <td>-0.030097</td>\n      <td>-0.036780</td>\n      <td>-0.030712</td>\n      <td>0.062941</td>\n      <td>-0.013327</td>\n      <td>-0.162145</td>\n      <td>-0.089574</td>\n      <td>0.433807</td>\n    </tr>\n    <tr>\n      <th>events_partecipations_no</th>\n      <td>-0.055868</td>\n      <td>1.000000</td>\n      <td>0.990041</td>\n      <td>0.828204</td>\n      <td>0.740685</td>\n      <td>0.793219</td>\n      <td>0.811633</td>\n      <td>0.249030</td>\n      <td>-0.104042</td>\n      <td>-0.196958</td>\n      <td>-0.242259</td>\n      <td>-0.340722</td>\n    </tr>\n    <tr>\n      <th>distinct_athletes_no</th>\n      <td>0.016283</td>\n      <td>0.990041</td>\n      <td>1.000000</td>\n      <td>0.823177</td>\n      <td>0.745064</td>\n      <td>0.790931</td>\n      <td>0.811050</td>\n      <td>0.256310</td>\n      <td>-0.096271</td>\n      <td>-0.203729</td>\n      <td>-0.231785</td>\n      <td>-0.237270</td>\n    </tr>\n    <tr>\n      <th>Bronze</th>\n      <td>-0.021743</td>\n      <td>0.828204</td>\n      <td>0.823177</td>\n      <td>1.000000</td>\n      <td>0.874040</td>\n      <td>0.897248</td>\n      <td>0.952314</td>\n      <td>0.266701</td>\n      <td>-0.096182</td>\n      <td>-0.359837</td>\n      <td>-0.383213</td>\n      <td>-0.213699</td>\n    </tr>\n    <tr>\n      <th>Gold</th>\n      <td>-0.030097</td>\n      <td>0.740685</td>\n      <td>0.745064</td>\n      <td>0.874040</td>\n      <td>1.000000</td>\n      <td>0.921550</td>\n      <td>0.970637</td>\n      <td>0.322591</td>\n      <td>-0.076123</td>\n      <td>-0.301076</td>\n      <td>-0.317720</td>\n      <td>-0.155964</td>\n    </tr>\n    <tr>\n      <th>Silver</th>\n      <td>-0.036780</td>\n      <td>0.793219</td>\n      <td>0.790931</td>\n      <td>0.897248</td>\n      <td>0.921550</td>\n      <td>1.000000</td>\n      <td>0.972211</td>\n      <td>0.276751</td>\n      <td>-0.090154</td>\n      <td>-0.322301</td>\n      <td>-0.345155</td>\n      <td>-0.205155</td>\n    </tr>\n    <tr>\n      <th>Total</th>\n      <td>-0.030712</td>\n      <td>0.811633</td>\n      <td>0.811050</td>\n      <td>0.952314</td>\n      <td>0.970637</td>\n      <td>0.972211</td>\n      <td>1.000000</td>\n      <td>0.301667</td>\n      <td>-0.089690</td>\n      <td>-0.337159</td>\n      <td>-0.358526</td>\n      <td>-0.195619</td>\n    </tr>\n    <tr>\n      <th>Population</th>\n      <td>0.062941</td>\n      <td>0.249030</td>\n      <td>0.256310</td>\n      <td>0.266701</td>\n      <td>0.322591</td>\n      <td>0.276751</td>\n      <td>0.301667</td>\n      <td>1.000000</td>\n      <td>0.555343</td>\n      <td>-0.024691</td>\n      <td>-0.009586</td>\n      <td>0.012529</td>\n    </tr>\n    <tr>\n      <th>PopulationPerMedal_thousands</th>\n      <td>-0.013327</td>\n      <td>-0.104042</td>\n      <td>-0.096271</td>\n      <td>-0.096182</td>\n      <td>-0.076123</td>\n      <td>-0.090154</td>\n      <td>-0.089690</td>\n      <td>0.555343</td>\n      <td>1.000000</td>\n      <td>0.214736</td>\n      <td>0.255266</td>\n      <td>0.121469</td>\n    </tr>\n    <tr>\n      <th>EventPartecipationPerMedal</th>\n      <td>-0.162145</td>\n      <td>-0.196958</td>\n      <td>-0.203729</td>\n      <td>-0.359837</td>\n      <td>-0.301076</td>\n      <td>-0.322301</td>\n      <td>-0.337159</td>\n      <td>-0.024691</td>\n      <td>0.214736</td>\n      <td>1.000000</td>\n      <td>0.975230</td>\n      <td>-0.065836</td>\n    </tr>\n    <tr>\n      <th>AthletePerMedal</th>\n      <td>-0.089574</td>\n      <td>-0.242259</td>\n      <td>-0.231785</td>\n      <td>-0.383213</td>\n      <td>-0.317720</td>\n      <td>-0.345155</td>\n      <td>-0.358526</td>\n      <td>-0.009586</td>\n      <td>0.255266</td>\n      <td>0.975230</td>\n      <td>1.000000</td>\n      <td>0.099309</td>\n    </tr>\n    <tr>\n      <th>AthletePerEventPartecipation</th>\n      <td>0.433807</td>\n      <td>-0.340722</td>\n      <td>-0.237270</td>\n      <td>-0.213699</td>\n      <td>-0.155964</td>\n      <td>-0.205155</td>\n      <td>-0.195619</td>\n      <td>0.012529</td>\n      <td>0.121469</td>\n      <td>-0.065836</td>\n      <td>0.099309</td>\n      <td>1.000000</td>\n    </tr>\n  </tbody>\n</table>\n</div>"
     },
     "execution_count": 29,
     "metadata": {},
     "output_type": "execute_result"
    }
   ],
   "source": [
    "gold_df.corr(method='pearson')\n"
   ],
   "metadata": {
    "collapsed": false,
    "pycharm": {
     "name": "#%%\n"
    }
   }
  },
  {
   "cell_type": "code",
   "execution_count": 30,
   "outputs": [
    {
     "data": {
      "application/vnd.plotly.v1+json": {
       "config": {
        "plotlyServerURL": "https://plot.ly"
       },
       "data": [
        {
         "hovertemplate": "events_partecipations_no=%{x}<br>Total=%{y}<extra></extra>",
         "legendgroup": "",
         "marker": {
          "color": "#636efa",
          "symbol": "circle"
         },
         "mode": "markers",
         "name": "",
         "orientation": "v",
         "showlegend": false,
         "type": "scatter",
         "x": [
          33,
          36,
          47,
          51,
          57,
          39,
          74,
          148,
          132,
          123,
          134,
          111,
          221,
          165,
          179,
          145,
          148,
          232,
          38,
          26,
          26,
          31,
          34,
          392,
          224,
          266,
          274,
          190,
          337,
          339,
          390,
          550,
          788,
          601,
          570,
          514,
          518,
          59,
          143,
          73,
          92,
          130,
          96,
          127,
          92,
          114,
          92,
          93,
          85,
          32,
          37,
          44,
          59,
          69,
          36,
          39,
          28,
          33,
          29,
          38,
          28,
          74,
          106,
          106,
          149,
          84,
          86,
          85,
          103,
          81,
          94,
          70,
          112,
          142,
          138,
          259,
          231,
          192,
          237,
          185,
          142,
          65,
          89,
          104,
          89,
          149,
          197,
          233,
          233,
          251,
          236,
          318,
          338,
          306,
          583,
          33,
          116,
          189,
          226,
          254,
          397,
          281,
          236,
          181,
          150,
          119,
          87,
          75,
          58,
          194,
          291,
          344,
          531,
          572,
          503,
          445,
          408,
          422,
          391,
          449,
          354,
          405,
          58,
          29,
          29,
          323,
          427,
          394,
          438,
          414,
          518,
          730,
          479,
          499,
          56,
          39,
          32,
          75,
          48,
          57,
          61,
          54,
          71,
          90,
          120,
          157,
          33,
          46,
          117,
          108,
          100,
          125,
          118,
          93,
          76,
          227,
          201,
          194,
          288,
          196,
          178,
          271,
          177,
          171,
          118,
          143,
          169,
          162,
          171,
          158,
          159,
          135,
          71,
          93,
          155,
          81,
          60,
          74,
          130,
          144,
          145,
          124,
          115,
          108,
          149,
          143,
          33,
          27,
          36,
          30,
          28,
          26,
          148,
          104,
          116,
          132,
          137,
          162,
          160,
          211,
          257,
          317,
          537,
          384,
          431,
          423,
          355,
          339,
          363,
          46,
          41,
          45,
          53,
          36,
          49,
          26,
          40,
          48,
          27,
          27,
          29,
          34,
          38,
          650,
          53,
          151,
          126,
          133,
          108,
          125,
          107,
          101,
          130,
          105,
          88,
          67,
          70,
          69,
          67,
          214,
          311,
          356,
          302,
          200,
          354,
          413,
          486,
          453,
          470,
          461,
          448,
          426,
          512,
          432,
          587,
          452,
          571,
          516,
          301,
          328,
          433,
          353,
          328,
          509,
          472,
          512,
          391,
          415,
          360,
          420,
          684,
          478,
          346,
          454,
          407,
          495,
          402,
          42,
          47,
          39,
          38,
          36,
          45,
          478,
          653,
          626,
          567,
          592,
          558,
          510,
          536,
          40,
          41,
          41,
          44,
          66,
          45,
          73,
          72,
          76,
          180,
          175,
          499,
          176,
          115,
          104,
          32,
          42,
          55,
          319,
          303,
          367,
          288,
          392,
          315,
          351,
          315,
          238,
          258,
          216,
          201,
          204,
          43,
          51,
          45,
          54,
          39,
          26,
          31,
          111,
          27,
          43,
          78,
          54,
          70,
          81,
          67,
          95,
          130,
          96,
          56,
          104,
          26,
          44,
          34,
          37,
          55,
          57,
          67,
          35,
          57,
          55,
          77,
          99,
          76,
          63,
          76,
          93,
          35,
          29,
          31,
          44,
          38,
          58,
          46,
          60,
          59,
          46,
          256,
          268,
          345,
          312,
          203,
          368,
          374,
          431,
          460,
          457,
          474,
          459,
          382,
          399,
          35,
          51,
          36,
          32,
          75,
          49,
          51,
          69,
          65,
          62,
          66,
          62,
          77,
          456,
          289,
          293,
          328,
          365,
          412,
          392,
          448,
          363,
          414,
          457,
          399,
          436,
          142,
          158,
          130,
          146,
          132,
          123,
          41,
          50,
          69,
          67,
          88,
          55,
          54,
          59,
          46,
          47,
          51,
          80,
          71,
          240,
          66,
          43,
          51,
          240,
          551,
          322,
          417,
          359,
          344,
          329,
          312,
          263,
          30,
          40,
          55,
          60,
          45,
          53,
          50,
          36,
          54,
          81,
          77,
          70,
          78,
          72,
          80,
          35,
          29,
          45,
          38,
          55,
          57,
          49,
          67,
          52,
          30,
          43,
          42,
          38,
          42,
          50,
          35,
          30,
          128,
          446,
          281,
          137,
          74,
          155,
          144,
          140,
          111,
          98,
          137,
          103,
          119,
          139,
          38,
          44,
          33,
          57,
          32,
          38,
          31,
          32,
          46,
          34,
          158,
          140,
          199,
          175,
          112,
          185,
          202,
          257,
          290,
          285,
          264,
          283,
          222,
          329,
          36,
          36,
          72,
          84,
          100,
          79,
          89,
          77,
          86,
          161,
          79,
          132,
          79,
          114,
          116,
          115,
          60,
          102,
          69,
          77,
          88,
          65,
          112,
          98,
          162,
          112,
          175,
          129,
          177,
          184,
          201,
          204,
          232,
          47,
          26,
          33,
          33,
          28,
          44,
          26,
          70,
          42,
          38,
          240,
          296,
          418,
          286,
          418,
          192,
          263,
          207,
          240,
          224,
          316,
          256,
          289,
          36,
          48,
          91,
          131,
          64,
          93,
          87,
          98,
          106,
          83,
          40,
          121,
          123,
          36,
          47,
          71,
          66,
          57,
          38,
          112,
          58,
          101,
          91,
          28,
          41,
          30,
          42,
          232,
          100,
          258,
          255,
          339,
          193,
          172,
          306,
          284,
          252,
          193,
          172,
          155,
          121,
          141,
          111,
          161,
          128,
          179,
          145,
          155,
          552,
          602,
          593,
          600,
          549,
          406,
          79,
          125,
          96,
          35,
          36,
          36,
          32,
          47,
          47,
          90,
          102,
          73,
          78,
          70,
          97,
          134,
          127,
          129,
          155,
          265,
          101,
          86,
          245,
          151,
          171,
          172,
          138,
          138,
          116,
          126,
          152,
          98,
          132,
          84,
          67,
          65,
          63,
          175,
          186,
          186,
          163,
          201,
          254,
          251,
          252,
          233,
          198,
          157,
          169,
          168,
          186,
          48,
          187,
          203,
          274,
          251,
          317,
          226,
          269,
          62,
          40,
          64,
          58,
          68,
          51,
          53,
          43,
          58,
          93,
          52,
          38,
          107,
          75,
          104,
          92,
          55,
          67,
          29,
          26,
          35,
          38,
          43,
          37,
          52,
          29,
          87,
          65,
          25,
          30,
          50,
          62,
          51,
          54,
          61,
          67,
          74,
          71,
          119,
          119,
          35,
          351,
          368,
          357,
          327,
          304,
          272,
          463,
          471,
          531,
          574,
          660,
          647,
          29,
          492,
          529,
          578,
          554,
          693,
          715,
          734,
          839,
          764,
          726,
          763,
          689,
          719,
          95,
          85,
          79,
          69,
          56,
          80,
          30,
          56,
          43,
          44,
          53,
          126,
          85,
          105,
          28,
          123,
          130,
          212,
          95,
          180,
          154,
          183,
          52
         ],
         "xaxis": "x",
         "y": [
          2,
          2,
          3,
          5,
          2,
          1,
          2,
          1,
          2,
          1,
          2,
          1,
          3,
          4,
          6,
          6,
          4,
          4,
          2,
          1,
          6,
          3,
          4,
          18,
          17,
          17,
          5,
          9,
          24,
          14,
          27,
          41,
          58,
          50,
          46,
          35,
          29,
          4,
          3,
          1,
          4,
          3,
          1,
          2,
          3,
          3,
          7,
          3,
          1,
          3,
          5,
          7,
          10,
          18,
          1,
          3,
          2,
          2,
          1,
          2,
          1,
          3,
          2,
          2,
          6,
          1,
          4,
          2,
          3,
          6,
          5,
          3,
          2,
          3,
          6,
          15,
          17,
          13,
          18,
          12,
          9,
          1,
          3,
          2,
          2,
          4,
          8,
          6,
          3,
          15,
          12,
          10,
          16,
          17,
          19,
          2,
          10,
          9,
          21,
          22,
          41,
          35,
          16,
          15,
          13,
          12,
          5,
          2,
          3,
          4,
          5,
          5,
          11,
          44,
          10,
          18,
          22,
          14,
          12,
          19,
          18,
          22,
          1,
          3,
          1,
          32,
          28,
          53,
          50,
          58,
          63,
          100,
          88,
          70,
          1,
          1,
          1,
          3,
          1,
          1,
          1,
          1,
          2,
          2,
          8,
          8,
          1,
          3,
          2,
          2,
          5,
          5,
          6,
          10,
          1,
          4,
          8,
          13,
          20,
          31,
          25,
          29,
          27,
          24,
          14,
          11,
          11,
          8,
          9,
          6,
          10,
          10,
          6,
          8,
          1,
          3,
          5,
          6,
          4,
          6,
          6,
          6,
          8,
          9,
          9,
          15,
          1,
          2,
          2,
          1,
          1,
          1,
          1,
          5,
          1,
          2,
          3,
          1,
          2,
          6,
          5,
          4,
          22,
          17,
          11,
          20,
          18,
          17,
          17,
          2,
          3,
          3,
          2,
          2,
          1,
          2,
          2,
          4,
          8,
          7,
          7,
          7,
          8,
          112,
          1,
          5,
          4,
          8,
          6,
          8,
          12,
          4,
          5,
          4,
          4,
          2,
          4,
          3,
          1,
          15,
          15,
          13,
          9,
          14,
          28,
          16,
          29,
          37,
          38,
          33,
          41,
          35,
          42,
          26,
          40,
          39,
          59,
          40,
          18,
          13,
          18,
          13,
          21,
          37,
          24,
          20,
          15,
          28,
          30,
          48,
          65,
          67,
          25,
          66,
          90,
          126,
          102,
          2,
          6,
          4,
          6,
          7,
          7,
          50,
          82,
          65,
          56,
          49,
          43,
          44,
          42,
          1,
          1,
          1,
          1,
          2,
          3,
          2,
          1,
          2,
          8,
          13,
          16,
          4,
          2,
          6,
          1,
          1,
          1,
          22,
          32,
          35,
          22,
          32,
          23,
          30,
          21,
          17,
          17,
          10,
          18,
          15,
          1,
          5,
          4,
          6,
          4,
          5,
          3,
          1,
          1,
          1,
          1,
          1,
          1,
          1,
          3,
          6,
          2,
          2,
          3,
          2,
          1,
          3,
          4,
          6,
          2,
          12,
          8,
          1,
          2,
          1,
          2,
          4,
          1,
          3,
          5,
          2,
          1,
          1,
          1,
          2,
          1,
          1,
          2,
          1,
          2,
          1,
          27,
          16,
          18,
          13,
          15,
          32,
          14,
          19,
          35,
          34,
          32,
          27,
          28,
          28,
          1,
          1,
          2,
          3,
          3,
          2,
          4,
          6,
          9,
          5,
          9,
          12,
          11,
          29,
          25,
          29,
          25,
          31,
          14,
          22,
          14,
          18,
          37,
          25,
          38,
          41,
          11,
          7,
          8,
          13,
          13,
          18,
          1,
          9,
          9,
          3,
          9,
          8,
          8,
          7,
          7,
          15,
          11,
          13,
          1,
          3,
          2,
          1,
          6,
          19,
          33,
          28,
          27,
          28,
          30,
          31,
          28,
          21,
          1,
          3,
          1,
          3,
          4,
          3,
          2,
          1,
          2,
          1,
          5,
          3,
          5,
          5,
          4,
          2,
          3,
          3,
          2,
          5,
          3,
          2,
          1,
          1,
          1,
          2,
          1,
          2,
          5,
          2,
          2,
          1,
          1,
          9,
          1,
          2,
          4,
          6,
          2,
          1,
          1,
          6,
          4,
          3,
          7,
          5,
          4,
          1,
          1,
          4,
          1,
          2,
          4,
          5,
          2,
          1,
          10,
          7,
          5,
          5,
          3,
          13,
          9,
          15,
          19,
          25,
          22,
          18,
          20,
          19,
          1,
          2,
          4,
          6,
          3,
          2,
          4,
          1,
          2,
          4,
          2,
          3,
          5,
          7,
          7,
          10,
          6,
          9,
          4,
          4,
          5,
          3,
          3,
          4,
          11,
          13,
          10,
          6,
          4,
          5,
          9,
          13,
          18,
          1,
          1,
          1,
          1,
          1,
          1,
          1,
          1,
          1,
          1,
          23,
          18,
          21,
          26,
          32,
          16,
          19,
          17,
          14,
          10,
          10,
          10,
          11,
          2,
          3,
          1,
          2,
          2,
          3,
          2,
          1,
          1,
          5,
          2,
          5,
          9,
          5,
          4,
          5,
          6,
          6,
          7,
          1,
          2,
          1,
          1,
          2,
          1,
          1,
          1,
          12,
          15,
          16,
          27,
          25,
          52,
          24,
          18,
          19,
          26,
          19,
          8,
          9,
          4,
          2,
          5,
          5,
          6,
          1,
          6,
          10,
          63,
          89,
          90,
          72,
          82,
          56,
          4,
          3,
          2,
          1,
          1,
          2,
          1,
          2,
          2,
          2,
          4,
          5,
          4,
          4,
          3,
          4,
          8,
          4,
          5,
          3,
          4,
          2,
          8,
          4,
          1,
          7,
          9,
          5,
          7,
          4,
          7,
          3,
          5,
          6,
          6,
          4,
          4,
          8,
          4,
          16,
          5,
          12,
          19,
          11,
          12,
          8,
          12,
          7,
          5,
          8,
          11,
          2,
          14,
          13,
          8,
          8,
          14,
          8,
          7,
          1,
          1,
          1,
          2,
          3,
          8,
          4,
          3,
          6,
          1,
          1,
          1,
          1,
          5,
          5,
          4,
          2,
          3,
          2,
          1,
          2,
          4,
          1,
          1,
          1,
          1,
          3,
          3,
          6,
          2,
          1,
          3,
          2,
          6,
          6,
          5,
          11,
          7,
          5,
          8,
          2,
          23,
          23,
          22,
          27,
          20,
          11,
          93,
          91,
          99,
          125,
          195,
          131,
          1,
          90,
          107,
          94,
          94,
          173,
          94,
          108,
          101,
          91,
          101,
          110,
          103,
          121,
          2,
          4,
          5,
          6,
          3,
          13,
          1,
          1,
          1,
          3,
          2,
          1,
          1,
          3,
          2,
          5,
          8,
          5,
          8,
          9,
          18,
          12,
          1
         ],
         "yaxis": "y"
        }
       ],
       "layout": {
        "legend": {
         "tracegroupgap": 0
        },
        "margin": {
         "t": 60
        },
        "template": {
         "data": {
          "bar": [
           {
            "error_x": {
             "color": "#2a3f5f"
            },
            "error_y": {
             "color": "#2a3f5f"
            },
            "marker": {
             "line": {
              "color": "#E5ECF6",
              "width": 0.5
             },
             "pattern": {
              "fillmode": "overlay",
              "size": 10,
              "solidity": 0.2
             }
            },
            "type": "bar"
           }
          ],
          "barpolar": [
           {
            "marker": {
             "line": {
              "color": "#E5ECF6",
              "width": 0.5
             },
             "pattern": {
              "fillmode": "overlay",
              "size": 10,
              "solidity": 0.2
             }
            },
            "type": "barpolar"
           }
          ],
          "carpet": [
           {
            "aaxis": {
             "endlinecolor": "#2a3f5f",
             "gridcolor": "white",
             "linecolor": "white",
             "minorgridcolor": "white",
             "startlinecolor": "#2a3f5f"
            },
            "baxis": {
             "endlinecolor": "#2a3f5f",
             "gridcolor": "white",
             "linecolor": "white",
             "minorgridcolor": "white",
             "startlinecolor": "#2a3f5f"
            },
            "type": "carpet"
           }
          ],
          "choropleth": [
           {
            "colorbar": {
             "outlinewidth": 0,
             "ticks": ""
            },
            "type": "choropleth"
           }
          ],
          "contour": [
           {
            "colorbar": {
             "outlinewidth": 0,
             "ticks": ""
            },
            "colorscale": [
             [
              0.0,
              "#0d0887"
             ],
             [
              0.1111111111111111,
              "#46039f"
             ],
             [
              0.2222222222222222,
              "#7201a8"
             ],
             [
              0.3333333333333333,
              "#9c179e"
             ],
             [
              0.4444444444444444,
              "#bd3786"
             ],
             [
              0.5555555555555556,
              "#d8576b"
             ],
             [
              0.6666666666666666,
              "#ed7953"
             ],
             [
              0.7777777777777778,
              "#fb9f3a"
             ],
             [
              0.8888888888888888,
              "#fdca26"
             ],
             [
              1.0,
              "#f0f921"
             ]
            ],
            "type": "contour"
           }
          ],
          "contourcarpet": [
           {
            "colorbar": {
             "outlinewidth": 0,
             "ticks": ""
            },
            "type": "contourcarpet"
           }
          ],
          "heatmap": [
           {
            "colorbar": {
             "outlinewidth": 0,
             "ticks": ""
            },
            "colorscale": [
             [
              0.0,
              "#0d0887"
             ],
             [
              0.1111111111111111,
              "#46039f"
             ],
             [
              0.2222222222222222,
              "#7201a8"
             ],
             [
              0.3333333333333333,
              "#9c179e"
             ],
             [
              0.4444444444444444,
              "#bd3786"
             ],
             [
              0.5555555555555556,
              "#d8576b"
             ],
             [
              0.6666666666666666,
              "#ed7953"
             ],
             [
              0.7777777777777778,
              "#fb9f3a"
             ],
             [
              0.8888888888888888,
              "#fdca26"
             ],
             [
              1.0,
              "#f0f921"
             ]
            ],
            "type": "heatmap"
           }
          ],
          "heatmapgl": [
           {
            "colorbar": {
             "outlinewidth": 0,
             "ticks": ""
            },
            "colorscale": [
             [
              0.0,
              "#0d0887"
             ],
             [
              0.1111111111111111,
              "#46039f"
             ],
             [
              0.2222222222222222,
              "#7201a8"
             ],
             [
              0.3333333333333333,
              "#9c179e"
             ],
             [
              0.4444444444444444,
              "#bd3786"
             ],
             [
              0.5555555555555556,
              "#d8576b"
             ],
             [
              0.6666666666666666,
              "#ed7953"
             ],
             [
              0.7777777777777778,
              "#fb9f3a"
             ],
             [
              0.8888888888888888,
              "#fdca26"
             ],
             [
              1.0,
              "#f0f921"
             ]
            ],
            "type": "heatmapgl"
           }
          ],
          "histogram": [
           {
            "marker": {
             "pattern": {
              "fillmode": "overlay",
              "size": 10,
              "solidity": 0.2
             }
            },
            "type": "histogram"
           }
          ],
          "histogram2d": [
           {
            "colorbar": {
             "outlinewidth": 0,
             "ticks": ""
            },
            "colorscale": [
             [
              0.0,
              "#0d0887"
             ],
             [
              0.1111111111111111,
              "#46039f"
             ],
             [
              0.2222222222222222,
              "#7201a8"
             ],
             [
              0.3333333333333333,
              "#9c179e"
             ],
             [
              0.4444444444444444,
              "#bd3786"
             ],
             [
              0.5555555555555556,
              "#d8576b"
             ],
             [
              0.6666666666666666,
              "#ed7953"
             ],
             [
              0.7777777777777778,
              "#fb9f3a"
             ],
             [
              0.8888888888888888,
              "#fdca26"
             ],
             [
              1.0,
              "#f0f921"
             ]
            ],
            "type": "histogram2d"
           }
          ],
          "histogram2dcontour": [
           {
            "colorbar": {
             "outlinewidth": 0,
             "ticks": ""
            },
            "colorscale": [
             [
              0.0,
              "#0d0887"
             ],
             [
              0.1111111111111111,
              "#46039f"
             ],
             [
              0.2222222222222222,
              "#7201a8"
             ],
             [
              0.3333333333333333,
              "#9c179e"
             ],
             [
              0.4444444444444444,
              "#bd3786"
             ],
             [
              0.5555555555555556,
              "#d8576b"
             ],
             [
              0.6666666666666666,
              "#ed7953"
             ],
             [
              0.7777777777777778,
              "#fb9f3a"
             ],
             [
              0.8888888888888888,
              "#fdca26"
             ],
             [
              1.0,
              "#f0f921"
             ]
            ],
            "type": "histogram2dcontour"
           }
          ],
          "mesh3d": [
           {
            "colorbar": {
             "outlinewidth": 0,
             "ticks": ""
            },
            "type": "mesh3d"
           }
          ],
          "parcoords": [
           {
            "line": {
             "colorbar": {
              "outlinewidth": 0,
              "ticks": ""
             }
            },
            "type": "parcoords"
           }
          ],
          "pie": [
           {
            "automargin": true,
            "type": "pie"
           }
          ],
          "scatter": [
           {
            "marker": {
             "colorbar": {
              "outlinewidth": 0,
              "ticks": ""
             }
            },
            "type": "scatter"
           }
          ],
          "scatter3d": [
           {
            "line": {
             "colorbar": {
              "outlinewidth": 0,
              "ticks": ""
             }
            },
            "marker": {
             "colorbar": {
              "outlinewidth": 0,
              "ticks": ""
             }
            },
            "type": "scatter3d"
           }
          ],
          "scattercarpet": [
           {
            "marker": {
             "colorbar": {
              "outlinewidth": 0,
              "ticks": ""
             }
            },
            "type": "scattercarpet"
           }
          ],
          "scattergeo": [
           {
            "marker": {
             "colorbar": {
              "outlinewidth": 0,
              "ticks": ""
             }
            },
            "type": "scattergeo"
           }
          ],
          "scattergl": [
           {
            "marker": {
             "colorbar": {
              "outlinewidth": 0,
              "ticks": ""
             }
            },
            "type": "scattergl"
           }
          ],
          "scattermapbox": [
           {
            "marker": {
             "colorbar": {
              "outlinewidth": 0,
              "ticks": ""
             }
            },
            "type": "scattermapbox"
           }
          ],
          "scatterpolar": [
           {
            "marker": {
             "colorbar": {
              "outlinewidth": 0,
              "ticks": ""
             }
            },
            "type": "scatterpolar"
           }
          ],
          "scatterpolargl": [
           {
            "marker": {
             "colorbar": {
              "outlinewidth": 0,
              "ticks": ""
             }
            },
            "type": "scatterpolargl"
           }
          ],
          "scatterternary": [
           {
            "marker": {
             "colorbar": {
              "outlinewidth": 0,
              "ticks": ""
             }
            },
            "type": "scatterternary"
           }
          ],
          "surface": [
           {
            "colorbar": {
             "outlinewidth": 0,
             "ticks": ""
            },
            "colorscale": [
             [
              0.0,
              "#0d0887"
             ],
             [
              0.1111111111111111,
              "#46039f"
             ],
             [
              0.2222222222222222,
              "#7201a8"
             ],
             [
              0.3333333333333333,
              "#9c179e"
             ],
             [
              0.4444444444444444,
              "#bd3786"
             ],
             [
              0.5555555555555556,
              "#d8576b"
             ],
             [
              0.6666666666666666,
              "#ed7953"
             ],
             [
              0.7777777777777778,
              "#fb9f3a"
             ],
             [
              0.8888888888888888,
              "#fdca26"
             ],
             [
              1.0,
              "#f0f921"
             ]
            ],
            "type": "surface"
           }
          ],
          "table": [
           {
            "cells": {
             "fill": {
              "color": "#EBF0F8"
             },
             "line": {
              "color": "white"
             }
            },
            "header": {
             "fill": {
              "color": "#C8D4E3"
             },
             "line": {
              "color": "white"
             }
            },
            "type": "table"
           }
          ]
         },
         "layout": {
          "annotationdefaults": {
           "arrowcolor": "#2a3f5f",
           "arrowhead": 0,
           "arrowwidth": 1
          },
          "autotypenumbers": "strict",
          "coloraxis": {
           "colorbar": {
            "outlinewidth": 0,
            "ticks": ""
           }
          },
          "colorscale": {
           "diverging": [
            [
             0,
             "#8e0152"
            ],
            [
             0.1,
             "#c51b7d"
            ],
            [
             0.2,
             "#de77ae"
            ],
            [
             0.3,
             "#f1b6da"
            ],
            [
             0.4,
             "#fde0ef"
            ],
            [
             0.5,
             "#f7f7f7"
            ],
            [
             0.6,
             "#e6f5d0"
            ],
            [
             0.7,
             "#b8e186"
            ],
            [
             0.8,
             "#7fbc41"
            ],
            [
             0.9,
             "#4d9221"
            ],
            [
             1,
             "#276419"
            ]
           ],
           "sequential": [
            [
             0.0,
             "#0d0887"
            ],
            [
             0.1111111111111111,
             "#46039f"
            ],
            [
             0.2222222222222222,
             "#7201a8"
            ],
            [
             0.3333333333333333,
             "#9c179e"
            ],
            [
             0.4444444444444444,
             "#bd3786"
            ],
            [
             0.5555555555555556,
             "#d8576b"
            ],
            [
             0.6666666666666666,
             "#ed7953"
            ],
            [
             0.7777777777777778,
             "#fb9f3a"
            ],
            [
             0.8888888888888888,
             "#fdca26"
            ],
            [
             1.0,
             "#f0f921"
            ]
           ],
           "sequentialminus": [
            [
             0.0,
             "#0d0887"
            ],
            [
             0.1111111111111111,
             "#46039f"
            ],
            [
             0.2222222222222222,
             "#7201a8"
            ],
            [
             0.3333333333333333,
             "#9c179e"
            ],
            [
             0.4444444444444444,
             "#bd3786"
            ],
            [
             0.5555555555555556,
             "#d8576b"
            ],
            [
             0.6666666666666666,
             "#ed7953"
            ],
            [
             0.7777777777777778,
             "#fb9f3a"
            ],
            [
             0.8888888888888888,
             "#fdca26"
            ],
            [
             1.0,
             "#f0f921"
            ]
           ]
          },
          "colorway": [
           "#636efa",
           "#EF553B",
           "#00cc96",
           "#ab63fa",
           "#FFA15A",
           "#19d3f3",
           "#FF6692",
           "#B6E880",
           "#FF97FF",
           "#FECB52"
          ],
          "font": {
           "color": "#2a3f5f"
          },
          "geo": {
           "bgcolor": "white",
           "lakecolor": "white",
           "landcolor": "#E5ECF6",
           "showlakes": true,
           "showland": true,
           "subunitcolor": "white"
          },
          "hoverlabel": {
           "align": "left"
          },
          "hovermode": "closest",
          "mapbox": {
           "style": "light"
          },
          "paper_bgcolor": "white",
          "plot_bgcolor": "#E5ECF6",
          "polar": {
           "angularaxis": {
            "gridcolor": "white",
            "linecolor": "white",
            "ticks": ""
           },
           "bgcolor": "#E5ECF6",
           "radialaxis": {
            "gridcolor": "white",
            "linecolor": "white",
            "ticks": ""
           }
          },
          "scene": {
           "xaxis": {
            "backgroundcolor": "#E5ECF6",
            "gridcolor": "white",
            "gridwidth": 2,
            "linecolor": "white",
            "showbackground": true,
            "ticks": "",
            "zerolinecolor": "white"
           },
           "yaxis": {
            "backgroundcolor": "#E5ECF6",
            "gridcolor": "white",
            "gridwidth": 2,
            "linecolor": "white",
            "showbackground": true,
            "ticks": "",
            "zerolinecolor": "white"
           },
           "zaxis": {
            "backgroundcolor": "#E5ECF6",
            "gridcolor": "white",
            "gridwidth": 2,
            "linecolor": "white",
            "showbackground": true,
            "ticks": "",
            "zerolinecolor": "white"
           }
          },
          "shapedefaults": {
           "line": {
            "color": "#2a3f5f"
           }
          },
          "ternary": {
           "aaxis": {
            "gridcolor": "white",
            "linecolor": "white",
            "ticks": ""
           },
           "baxis": {
            "gridcolor": "white",
            "linecolor": "white",
            "ticks": ""
           },
           "bgcolor": "#E5ECF6",
           "caxis": {
            "gridcolor": "white",
            "linecolor": "white",
            "ticks": ""
           }
          },
          "title": {
           "x": 0.05
          },
          "xaxis": {
           "automargin": true,
           "gridcolor": "white",
           "linecolor": "white",
           "ticks": "",
           "title": {
            "standoff": 15
           },
           "zerolinecolor": "white",
           "zerolinewidth": 2
          },
          "yaxis": {
           "automargin": true,
           "gridcolor": "white",
           "linecolor": "white",
           "ticks": "",
           "title": {
            "standoff": 15
           },
           "zerolinecolor": "white",
           "zerolinewidth": 2
          }
         }
        },
        "title": {
         "text": "Medals and event partecipation"
        },
        "xaxis": {
         "anchor": "y",
         "domain": [
          0.0,
          1.0
         ],
         "title": {
          "text": "Events attended"
         }
        },
        "yaxis": {
         "anchor": "x",
         "domain": [
          0.0,
          1.0
         ],
         "title": {
          "text": "Total medals no."
         }
        }
       }
      },
      "text/html": "<div>                            <div id=\"3ff00f30-722b-45bd-8679-81c571a74fd6\" class=\"plotly-graph-div\" style=\"height:525px; width:100%;\"></div>            <script type=\"text/javascript\">                require([\"plotly\"], function(Plotly) {                    window.PLOTLYENV=window.PLOTLYENV || {};                                    if (document.getElementById(\"3ff00f30-722b-45bd-8679-81c571a74fd6\")) {                    Plotly.newPlot(                        \"3ff00f30-722b-45bd-8679-81c571a74fd6\",                        [{\"hovertemplate\":\"events_partecipations_no=%{x}<br>Total=%{y}<extra></extra>\",\"legendgroup\":\"\",\"marker\":{\"color\":\"#636efa\",\"symbol\":\"circle\"},\"mode\":\"markers\",\"name\":\"\",\"orientation\":\"v\",\"showlegend\":false,\"type\":\"scatter\",\"x\":[33,36,47,51,57,39,74,148,132,123,134,111,221,165,179,145,148,232,38,26,26,31,34,392,224,266,274,190,337,339,390,550,788,601,570,514,518,59,143,73,92,130,96,127,92,114,92,93,85,32,37,44,59,69,36,39,28,33,29,38,28,74,106,106,149,84,86,85,103,81,94,70,112,142,138,259,231,192,237,185,142,65,89,104,89,149,197,233,233,251,236,318,338,306,583,33,116,189,226,254,397,281,236,181,150,119,87,75,58,194,291,344,531,572,503,445,408,422,391,449,354,405,58,29,29,323,427,394,438,414,518,730,479,499,56,39,32,75,48,57,61,54,71,90,120,157,33,46,117,108,100,125,118,93,76,227,201,194,288,196,178,271,177,171,118,143,169,162,171,158,159,135,71,93,155,81,60,74,130,144,145,124,115,108,149,143,33,27,36,30,28,26,148,104,116,132,137,162,160,211,257,317,537,384,431,423,355,339,363,46,41,45,53,36,49,26,40,48,27,27,29,34,38,650,53,151,126,133,108,125,107,101,130,105,88,67,70,69,67,214,311,356,302,200,354,413,486,453,470,461,448,426,512,432,587,452,571,516,301,328,433,353,328,509,472,512,391,415,360,420,684,478,346,454,407,495,402,42,47,39,38,36,45,478,653,626,567,592,558,510,536,40,41,41,44,66,45,73,72,76,180,175,499,176,115,104,32,42,55,319,303,367,288,392,315,351,315,238,258,216,201,204,43,51,45,54,39,26,31,111,27,43,78,54,70,81,67,95,130,96,56,104,26,44,34,37,55,57,67,35,57,55,77,99,76,63,76,93,35,29,31,44,38,58,46,60,59,46,256,268,345,312,203,368,374,431,460,457,474,459,382,399,35,51,36,32,75,49,51,69,65,62,66,62,77,456,289,293,328,365,412,392,448,363,414,457,399,436,142,158,130,146,132,123,41,50,69,67,88,55,54,59,46,47,51,80,71,240,66,43,51,240,551,322,417,359,344,329,312,263,30,40,55,60,45,53,50,36,54,81,77,70,78,72,80,35,29,45,38,55,57,49,67,52,30,43,42,38,42,50,35,30,128,446,281,137,74,155,144,140,111,98,137,103,119,139,38,44,33,57,32,38,31,32,46,34,158,140,199,175,112,185,202,257,290,285,264,283,222,329,36,36,72,84,100,79,89,77,86,161,79,132,79,114,116,115,60,102,69,77,88,65,112,98,162,112,175,129,177,184,201,204,232,47,26,33,33,28,44,26,70,42,38,240,296,418,286,418,192,263,207,240,224,316,256,289,36,48,91,131,64,93,87,98,106,83,40,121,123,36,47,71,66,57,38,112,58,101,91,28,41,30,42,232,100,258,255,339,193,172,306,284,252,193,172,155,121,141,111,161,128,179,145,155,552,602,593,600,549,406,79,125,96,35,36,36,32,47,47,90,102,73,78,70,97,134,127,129,155,265,101,86,245,151,171,172,138,138,116,126,152,98,132,84,67,65,63,175,186,186,163,201,254,251,252,233,198,157,169,168,186,48,187,203,274,251,317,226,269,62,40,64,58,68,51,53,43,58,93,52,38,107,75,104,92,55,67,29,26,35,38,43,37,52,29,87,65,25,30,50,62,51,54,61,67,74,71,119,119,35,351,368,357,327,304,272,463,471,531,574,660,647,29,492,529,578,554,693,715,734,839,764,726,763,689,719,95,85,79,69,56,80,30,56,43,44,53,126,85,105,28,123,130,212,95,180,154,183,52],\"xaxis\":\"x\",\"y\":[2,2,3,5,2,1,2,1,2,1,2,1,3,4,6,6,4,4,2,1,6,3,4,18,17,17,5,9,24,14,27,41,58,50,46,35,29,4,3,1,4,3,1,2,3,3,7,3,1,3,5,7,10,18,1,3,2,2,1,2,1,3,2,2,6,1,4,2,3,6,5,3,2,3,6,15,17,13,18,12,9,1,3,2,2,4,8,6,3,15,12,10,16,17,19,2,10,9,21,22,41,35,16,15,13,12,5,2,3,4,5,5,11,44,10,18,22,14,12,19,18,22,1,3,1,32,28,53,50,58,63,100,88,70,1,1,1,3,1,1,1,1,2,2,8,8,1,3,2,2,5,5,6,10,1,4,8,13,20,31,25,29,27,24,14,11,11,8,9,6,10,10,6,8,1,3,5,6,4,6,6,6,8,9,9,15,1,2,2,1,1,1,1,5,1,2,3,1,2,6,5,4,22,17,11,20,18,17,17,2,3,3,2,2,1,2,2,4,8,7,7,7,8,112,1,5,4,8,6,8,12,4,5,4,4,2,4,3,1,15,15,13,9,14,28,16,29,37,38,33,41,35,42,26,40,39,59,40,18,13,18,13,21,37,24,20,15,28,30,48,65,67,25,66,90,126,102,2,6,4,6,7,7,50,82,65,56,49,43,44,42,1,1,1,1,2,3,2,1,2,8,13,16,4,2,6,1,1,1,22,32,35,22,32,23,30,21,17,17,10,18,15,1,5,4,6,4,5,3,1,1,1,1,1,1,1,3,6,2,2,3,2,1,3,4,6,2,12,8,1,2,1,2,4,1,3,5,2,1,1,1,2,1,1,2,1,2,1,27,16,18,13,15,32,14,19,35,34,32,27,28,28,1,1,2,3,3,2,4,6,9,5,9,12,11,29,25,29,25,31,14,22,14,18,37,25,38,41,11,7,8,13,13,18,1,9,9,3,9,8,8,7,7,15,11,13,1,3,2,1,6,19,33,28,27,28,30,31,28,21,1,3,1,3,4,3,2,1,2,1,5,3,5,5,4,2,3,3,2,5,3,2,1,1,1,2,1,2,5,2,2,1,1,9,1,2,4,6,2,1,1,6,4,3,7,5,4,1,1,4,1,2,4,5,2,1,10,7,5,5,3,13,9,15,19,25,22,18,20,19,1,2,4,6,3,2,4,1,2,4,2,3,5,7,7,10,6,9,4,4,5,3,3,4,11,13,10,6,4,5,9,13,18,1,1,1,1,1,1,1,1,1,1,23,18,21,26,32,16,19,17,14,10,10,10,11,2,3,1,2,2,3,2,1,1,5,2,5,9,5,4,5,6,6,7,1,2,1,1,2,1,1,1,12,15,16,27,25,52,24,18,19,26,19,8,9,4,2,5,5,6,1,6,10,63,89,90,72,82,56,4,3,2,1,1,2,1,2,2,2,4,5,4,4,3,4,8,4,5,3,4,2,8,4,1,7,9,5,7,4,7,3,5,6,6,4,4,8,4,16,5,12,19,11,12,8,12,7,5,8,11,2,14,13,8,8,14,8,7,1,1,1,2,3,8,4,3,6,1,1,1,1,5,5,4,2,3,2,1,2,4,1,1,1,1,3,3,6,2,1,3,2,6,6,5,11,7,5,8,2,23,23,22,27,20,11,93,91,99,125,195,131,1,90,107,94,94,173,94,108,101,91,101,110,103,121,2,4,5,6,3,13,1,1,1,3,2,1,1,3,2,5,8,5,8,9,18,12,1],\"yaxis\":\"y\"}],                        {\"legend\":{\"tracegroupgap\":0},\"margin\":{\"t\":60},\"template\":{\"data\":{\"bar\":[{\"error_x\":{\"color\":\"#2a3f5f\"},\"error_y\":{\"color\":\"#2a3f5f\"},\"marker\":{\"line\":{\"color\":\"#E5ECF6\",\"width\":0.5},\"pattern\":{\"fillmode\":\"overlay\",\"size\":10,\"solidity\":0.2}},\"type\":\"bar\"}],\"barpolar\":[{\"marker\":{\"line\":{\"color\":\"#E5ECF6\",\"width\":0.5},\"pattern\":{\"fillmode\":\"overlay\",\"size\":10,\"solidity\":0.2}},\"type\":\"barpolar\"}],\"carpet\":[{\"aaxis\":{\"endlinecolor\":\"#2a3f5f\",\"gridcolor\":\"white\",\"linecolor\":\"white\",\"minorgridcolor\":\"white\",\"startlinecolor\":\"#2a3f5f\"},\"baxis\":{\"endlinecolor\":\"#2a3f5f\",\"gridcolor\":\"white\",\"linecolor\":\"white\",\"minorgridcolor\":\"white\",\"startlinecolor\":\"#2a3f5f\"},\"type\":\"carpet\"}],\"choropleth\":[{\"colorbar\":{\"outlinewidth\":0,\"ticks\":\"\"},\"type\":\"choropleth\"}],\"contour\":[{\"colorbar\":{\"outlinewidth\":0,\"ticks\":\"\"},\"colorscale\":[[0.0,\"#0d0887\"],[0.1111111111111111,\"#46039f\"],[0.2222222222222222,\"#7201a8\"],[0.3333333333333333,\"#9c179e\"],[0.4444444444444444,\"#bd3786\"],[0.5555555555555556,\"#d8576b\"],[0.6666666666666666,\"#ed7953\"],[0.7777777777777778,\"#fb9f3a\"],[0.8888888888888888,\"#fdca26\"],[1.0,\"#f0f921\"]],\"type\":\"contour\"}],\"contourcarpet\":[{\"colorbar\":{\"outlinewidth\":0,\"ticks\":\"\"},\"type\":\"contourcarpet\"}],\"heatmap\":[{\"colorbar\":{\"outlinewidth\":0,\"ticks\":\"\"},\"colorscale\":[[0.0,\"#0d0887\"],[0.1111111111111111,\"#46039f\"],[0.2222222222222222,\"#7201a8\"],[0.3333333333333333,\"#9c179e\"],[0.4444444444444444,\"#bd3786\"],[0.5555555555555556,\"#d8576b\"],[0.6666666666666666,\"#ed7953\"],[0.7777777777777778,\"#fb9f3a\"],[0.8888888888888888,\"#fdca26\"],[1.0,\"#f0f921\"]],\"type\":\"heatmap\"}],\"heatmapgl\":[{\"colorbar\":{\"outlinewidth\":0,\"ticks\":\"\"},\"colorscale\":[[0.0,\"#0d0887\"],[0.1111111111111111,\"#46039f\"],[0.2222222222222222,\"#7201a8\"],[0.3333333333333333,\"#9c179e\"],[0.4444444444444444,\"#bd3786\"],[0.5555555555555556,\"#d8576b\"],[0.6666666666666666,\"#ed7953\"],[0.7777777777777778,\"#fb9f3a\"],[0.8888888888888888,\"#fdca26\"],[1.0,\"#f0f921\"]],\"type\":\"heatmapgl\"}],\"histogram\":[{\"marker\":{\"pattern\":{\"fillmode\":\"overlay\",\"size\":10,\"solidity\":0.2}},\"type\":\"histogram\"}],\"histogram2d\":[{\"colorbar\":{\"outlinewidth\":0,\"ticks\":\"\"},\"colorscale\":[[0.0,\"#0d0887\"],[0.1111111111111111,\"#46039f\"],[0.2222222222222222,\"#7201a8\"],[0.3333333333333333,\"#9c179e\"],[0.4444444444444444,\"#bd3786\"],[0.5555555555555556,\"#d8576b\"],[0.6666666666666666,\"#ed7953\"],[0.7777777777777778,\"#fb9f3a\"],[0.8888888888888888,\"#fdca26\"],[1.0,\"#f0f921\"]],\"type\":\"histogram2d\"}],\"histogram2dcontour\":[{\"colorbar\":{\"outlinewidth\":0,\"ticks\":\"\"},\"colorscale\":[[0.0,\"#0d0887\"],[0.1111111111111111,\"#46039f\"],[0.2222222222222222,\"#7201a8\"],[0.3333333333333333,\"#9c179e\"],[0.4444444444444444,\"#bd3786\"],[0.5555555555555556,\"#d8576b\"],[0.6666666666666666,\"#ed7953\"],[0.7777777777777778,\"#fb9f3a\"],[0.8888888888888888,\"#fdca26\"],[1.0,\"#f0f921\"]],\"type\":\"histogram2dcontour\"}],\"mesh3d\":[{\"colorbar\":{\"outlinewidth\":0,\"ticks\":\"\"},\"type\":\"mesh3d\"}],\"parcoords\":[{\"line\":{\"colorbar\":{\"outlinewidth\":0,\"ticks\":\"\"}},\"type\":\"parcoords\"}],\"pie\":[{\"automargin\":true,\"type\":\"pie\"}],\"scatter\":[{\"marker\":{\"colorbar\":{\"outlinewidth\":0,\"ticks\":\"\"}},\"type\":\"scatter\"}],\"scatter3d\":[{\"line\":{\"colorbar\":{\"outlinewidth\":0,\"ticks\":\"\"}},\"marker\":{\"colorbar\":{\"outlinewidth\":0,\"ticks\":\"\"}},\"type\":\"scatter3d\"}],\"scattercarpet\":[{\"marker\":{\"colorbar\":{\"outlinewidth\":0,\"ticks\":\"\"}},\"type\":\"scattercarpet\"}],\"scattergeo\":[{\"marker\":{\"colorbar\":{\"outlinewidth\":0,\"ticks\":\"\"}},\"type\":\"scattergeo\"}],\"scattergl\":[{\"marker\":{\"colorbar\":{\"outlinewidth\":0,\"ticks\":\"\"}},\"type\":\"scattergl\"}],\"scattermapbox\":[{\"marker\":{\"colorbar\":{\"outlinewidth\":0,\"ticks\":\"\"}},\"type\":\"scattermapbox\"}],\"scatterpolar\":[{\"marker\":{\"colorbar\":{\"outlinewidth\":0,\"ticks\":\"\"}},\"type\":\"scatterpolar\"}],\"scatterpolargl\":[{\"marker\":{\"colorbar\":{\"outlinewidth\":0,\"ticks\":\"\"}},\"type\":\"scatterpolargl\"}],\"scatterternary\":[{\"marker\":{\"colorbar\":{\"outlinewidth\":0,\"ticks\":\"\"}},\"type\":\"scatterternary\"}],\"surface\":[{\"colorbar\":{\"outlinewidth\":0,\"ticks\":\"\"},\"colorscale\":[[0.0,\"#0d0887\"],[0.1111111111111111,\"#46039f\"],[0.2222222222222222,\"#7201a8\"],[0.3333333333333333,\"#9c179e\"],[0.4444444444444444,\"#bd3786\"],[0.5555555555555556,\"#d8576b\"],[0.6666666666666666,\"#ed7953\"],[0.7777777777777778,\"#fb9f3a\"],[0.8888888888888888,\"#fdca26\"],[1.0,\"#f0f921\"]],\"type\":\"surface\"}],\"table\":[{\"cells\":{\"fill\":{\"color\":\"#EBF0F8\"},\"line\":{\"color\":\"white\"}},\"header\":{\"fill\":{\"color\":\"#C8D4E3\"},\"line\":{\"color\":\"white\"}},\"type\":\"table\"}]},\"layout\":{\"annotationdefaults\":{\"arrowcolor\":\"#2a3f5f\",\"arrowhead\":0,\"arrowwidth\":1},\"autotypenumbers\":\"strict\",\"coloraxis\":{\"colorbar\":{\"outlinewidth\":0,\"ticks\":\"\"}},\"colorscale\":{\"diverging\":[[0,\"#8e0152\"],[0.1,\"#c51b7d\"],[0.2,\"#de77ae\"],[0.3,\"#f1b6da\"],[0.4,\"#fde0ef\"],[0.5,\"#f7f7f7\"],[0.6,\"#e6f5d0\"],[0.7,\"#b8e186\"],[0.8,\"#7fbc41\"],[0.9,\"#4d9221\"],[1,\"#276419\"]],\"sequential\":[[0.0,\"#0d0887\"],[0.1111111111111111,\"#46039f\"],[0.2222222222222222,\"#7201a8\"],[0.3333333333333333,\"#9c179e\"],[0.4444444444444444,\"#bd3786\"],[0.5555555555555556,\"#d8576b\"],[0.6666666666666666,\"#ed7953\"],[0.7777777777777778,\"#fb9f3a\"],[0.8888888888888888,\"#fdca26\"],[1.0,\"#f0f921\"]],\"sequentialminus\":[[0.0,\"#0d0887\"],[0.1111111111111111,\"#46039f\"],[0.2222222222222222,\"#7201a8\"],[0.3333333333333333,\"#9c179e\"],[0.4444444444444444,\"#bd3786\"],[0.5555555555555556,\"#d8576b\"],[0.6666666666666666,\"#ed7953\"],[0.7777777777777778,\"#fb9f3a\"],[0.8888888888888888,\"#fdca26\"],[1.0,\"#f0f921\"]]},\"colorway\":[\"#636efa\",\"#EF553B\",\"#00cc96\",\"#ab63fa\",\"#FFA15A\",\"#19d3f3\",\"#FF6692\",\"#B6E880\",\"#FF97FF\",\"#FECB52\"],\"font\":{\"color\":\"#2a3f5f\"},\"geo\":{\"bgcolor\":\"white\",\"lakecolor\":\"white\",\"landcolor\":\"#E5ECF6\",\"showlakes\":true,\"showland\":true,\"subunitcolor\":\"white\"},\"hoverlabel\":{\"align\":\"left\"},\"hovermode\":\"closest\",\"mapbox\":{\"style\":\"light\"},\"paper_bgcolor\":\"white\",\"plot_bgcolor\":\"#E5ECF6\",\"polar\":{\"angularaxis\":{\"gridcolor\":\"white\",\"linecolor\":\"white\",\"ticks\":\"\"},\"bgcolor\":\"#E5ECF6\",\"radialaxis\":{\"gridcolor\":\"white\",\"linecolor\":\"white\",\"ticks\":\"\"}},\"scene\":{\"xaxis\":{\"backgroundcolor\":\"#E5ECF6\",\"gridcolor\":\"white\",\"gridwidth\":2,\"linecolor\":\"white\",\"showbackground\":true,\"ticks\":\"\",\"zerolinecolor\":\"white\"},\"yaxis\":{\"backgroundcolor\":\"#E5ECF6\",\"gridcolor\":\"white\",\"gridwidth\":2,\"linecolor\":\"white\",\"showbackground\":true,\"ticks\":\"\",\"zerolinecolor\":\"white\"},\"zaxis\":{\"backgroundcolor\":\"#E5ECF6\",\"gridcolor\":\"white\",\"gridwidth\":2,\"linecolor\":\"white\",\"showbackground\":true,\"ticks\":\"\",\"zerolinecolor\":\"white\"}},\"shapedefaults\":{\"line\":{\"color\":\"#2a3f5f\"}},\"ternary\":{\"aaxis\":{\"gridcolor\":\"white\",\"linecolor\":\"white\",\"ticks\":\"\"},\"baxis\":{\"gridcolor\":\"white\",\"linecolor\":\"white\",\"ticks\":\"\"},\"bgcolor\":\"#E5ECF6\",\"caxis\":{\"gridcolor\":\"white\",\"linecolor\":\"white\",\"ticks\":\"\"}},\"title\":{\"x\":0.05},\"xaxis\":{\"automargin\":true,\"gridcolor\":\"white\",\"linecolor\":\"white\",\"ticks\":\"\",\"title\":{\"standoff\":15},\"zerolinecolor\":\"white\",\"zerolinewidth\":2},\"yaxis\":{\"automargin\":true,\"gridcolor\":\"white\",\"linecolor\":\"white\",\"ticks\":\"\",\"title\":{\"standoff\":15},\"zerolinecolor\":\"white\",\"zerolinewidth\":2}}},\"title\":{\"text\":\"Medals and event partecipation\"},\"xaxis\":{\"anchor\":\"y\",\"domain\":[0.0,1.0],\"title\":{\"text\":\"Events attended\"}},\"yaxis\":{\"anchor\":\"x\",\"domain\":[0.0,1.0],\"title\":{\"text\":\"Total medals no.\"}}},                        {\"responsive\": true}                    ).then(function(){\n                            \nvar gd = document.getElementById('3ff00f30-722b-45bd-8679-81c571a74fd6');\nvar x = new MutationObserver(function (mutations, observer) {{\n        var display = window.getComputedStyle(gd).display;\n        if (!display || display === 'none') {{\n            console.log([gd, 'removed!']);\n            Plotly.purge(gd);\n            observer.disconnect();\n        }}\n}});\n\n// Listen for the removal of the full notebook cells\nvar notebookContainer = gd.closest('#notebook-container');\nif (notebookContainer) {{\n    x.observe(notebookContainer, {childList: true});\n}}\n\n// Listen for the clearing of the current output cell\nvar outputEl = gd.closest('.output');\nif (outputEl) {{\n    x.observe(outputEl, {childList: true});\n}}\n\n                        })                };                });            </script>        </div>"
     },
     "metadata": {},
     "output_type": "display_data"
    }
   ],
   "source": [
    "fig = px.scatter(gold_df, x='events_partecipations_no', y='Total')\n",
    "fig.update_layout(title='Medals and event partecipation',\n",
    "                   xaxis_title='Events attended',\n",
    "                   yaxis_title='Total medals no.')\n",
    "fig.show()"
   ],
   "metadata": {
    "collapsed": false,
    "pycharm": {
     "name": "#%%\n"
    }
   }
  },
  {
   "cell_type": "code",
   "execution_count": 31,
   "outputs": [
    {
     "data": {
      "application/vnd.plotly.v1+json": {
       "config": {
        "plotlyServerURL": "https://plot.ly"
       },
       "data": [
        {
         "hovertemplate": "Population=%{x}<br>Total=%{y}<extra></extra>",
         "legendgroup": "",
         "marker": {
          "color": "#636efa",
          "symbol": "circle"
         },
         "mode": "markers",
         "name": "",
         "orientation": "v",
         "showlegend": false,
         "type": "scatter",
         "x": [
          21763578,
          27028330,
          29266415,
          31042238,
          34730604,
          37383899,
          40551398,
          21824427,
          23168268,
          24653172,
          31668939,
          33529320,
          35246376,
          36870796,
          38491970,
          40080159,
          41733271,
          43590368,
          3168213,
          3069597,
          2907615,
          2884239,
          2936147,
          11167000,
          12009000,
          13177000,
          14033000,
          14692000,
          15544000,
          16532200,
          17495000,
          18311000,
          19153000,
          20127400,
          21249200,
          22733465,
          24190907,
          7415403,
          7544201,
          7565525,
          7549433,
          7561434,
          7585317,
          7840709,
          7959017,
          8011566,
          8171966,
          8321496,
          8736668,
          8048600,
          8306500,
          8763400,
          9295784,
          9757812,
          283980,
          298045,
          318893,
          343680,
          363581,
          377923,
          271511,
          9378113,
          9618756,
          9711115,
          9818227,
          9859242,
          9855372,
          9901664,
          10045158,
          10156637,
          10251250,
          10421137,
          10709973,
          11106932,
          11331422,
          10160000,
          9979610,
          9730146,
          9527985,
          9464495,
          9501534,
          81064572,
          90387079,
          99859388,
          109790943,
          120694012,
          132383569,
          143627505,
          154259382,
          164614682,
          174790339,
          184006479,
          192030362,
          199287292,
          206163056,
          1425793,
          8144340,
          8369603,
          8576200,
          8758599,
          8861535,
          8981446,
          8540164,
          8362826,
          8170172,
          7716860,
          7492561,
          7305888,
          7127822,
          19325000,
          20744000,
          22218463,
          23449808,
          25607053,
          26791747,
          28371264,
          29610218,
          30685730,
          31940655,
          33247118,
          34714222,
          36109487,
          148439,
          150722,
          156441,
          1036825000,
          1101630000,
          1164970000,
          1217550000,
          1262645000,
          1296075000,
          1324655000,
          1350695000,
          1378665000,
          9757849,
          15513944,
          19252674,
          22516429,
          29331230,
          31822527,
          34422568,
          39629965,
          42075953,
          44254972,
          46075721,
          48175048,
          2960932,
          4575818,
          4557097,
          4468302,
          4304600,
          4309705,
          4267558,
          4174349,
          7793258,
          8413549,
          9025347,
          9554186,
          9849457,
          10736386,
          10939285,
          11126423,
          11250369,
          11236975,
          11257112,
          11335108,
          10315241,
          10255063,
          10197101,
          10384603,
          10510785,
          10566332,
          4722072,
          4864883,
          4991596,
          5072596,
          5123027,
          5111619,
          5129516,
          5171370,
          5263074,
          5339616,
          5404523,
          5493621,
          5591572,
          5728010,
          8974444,
          9458079,
          9930916,
          10397738,
          11703169,
          14535740,
          47968643,
          74172073,
          79636081,
          86422240,
          94447071,
          34604469,
          36137812,
          37491165,
          38330364,
          38766939,
          39157685,
          39889852,
          40567864,
          42921895,
          45954106,
          46773055,
          46484062,
          1533091,
          1396985,
          1362550,
          1337090,
          1322696,
          1315790,
          26944386,
          30140799,
          35141703,
          66224809,
          74239508,
          82916236,
          92726982,
          103603461,
          148538197,
          872406,
          4548543,
          4626469,
          4639657,
          4725664,
          4779535,
          4881803,
          4946481,
          5041992,
          5124573,
          5176209,
          5228172,
          5313399,
          5413971,
          5495303,
          49230585,
          51175507,
          52793151,
          54220033,
          55161510,
          56337675,
          57627106,
          58851216,
          59753095,
          60912500,
          62704901,
          64374979,
          65659814,
          66724104,
          77294314,
          78688452,
          78336950,
          77858685,
          78144619,
          54000000,
          55211700,
          56086065,
          56211968,
          56314216,
          56422072,
          56928327,
          57580402,
          58166950,
          58892514,
          59987905,
          61806995,
          63700215,
          65611593,
          77294314,
          78688452,
          78336950,
          78288576,
          78144619,
          4491699,
          4077131,
          3927340,
          3848449,
          3728874,
          3727505,
          75318337,
          80624598,
          81914831,
          82211508,
          82516260,
          82110097,
          80425823,
          82348669,
          7524470,
          9229640,
          15653345,
          8740765,
          8888628,
          9642505,
          9895801,
          10036983,
          10399061,
          10608800,
          10805808,
          10955141,
          11077841,
          11045011,
          10775971,
          6435500,
          6783500,
          7150100,
          10119835,
          10255815,
          10398489,
          10598677,
          10711122,
          10596487,
          10369341,
          10311238,
          10210971,
          10107146,
          10038188,
          9920362,
          9814023,
          174975953,
          187739786,
          199901231,
          211513822,
          223285666,
          235469755,
          261556386,
          488848139,
          531513834,
          581087255,
          698952837,
          982365248,
          1056575548,
          1129623466,
          1200669762,
          1265780243,
          1324517250,
          24307855,
          30075295,
          33733975,
          53077312,
          58780376,
          65623397,
          68951279,
          72120608,
          75539881,
          79563991,
          2866550,
          3412800,
          3532423,
          3558430,
          3637510,
          3805174,
          4489544,
          4599533,
          4755335,
          239511,
          281205,
          317414,
          5123000,
          5692000,
          6289000,
          6809000,
          7308800,
          8546000,
          100952,
          51675350,
          53235750,
          54381345,
          55718260,
          56433883,
          56576718,
          56629288,
          56797087,
          56860281,
          56942108,
          57685327,
          58826731,
          59539717,
          60627498,
          1825873,
          1935089,
          2055371,
          2162839,
          2306367,
          2389415,
          2461047,
          2558631,
          2654698,
          2725017,
          2781869,
          2842128,
          2906242,
          96903000,
          101011000,
          107188000,
          112775000,
          120083000,
          122578000,
          124425000,
          125757000,
          126843000,
          127761000,
          128063000,
          127629000,
          126994511,
          15578227,
          14883626,
          15012984,
          15776938,
          16792090,
          17794055,
          9222692,
          10539909,
          12146070,
          19146403,
          22153685,
          25326080,
          28589456,
          31964557,
          35635267,
          39791984,
          44343469,
          49051531,
          4898400,
          27984155,
          30838302,
          33505406,
          35848523,
          40405956,
          42031247,
          43747962,
          45524681,
          47008111,
          48082519,
          49054708,
          50199853,
          51217803,
          2045123,
          2614338,
          2457222,
          2367550,
          2263122,
          2177322,
          2034319,
          2417837,
          3700114,
          3601613,
          3499536,
          3377075,
          3198231,
          2987773,
          2868231,
          22002641,
          23903592,
          25711410,
          27383472,
          28793672,
          30115196,
          31536807,
          33241898,
          35126274,
          19002660,
          21017619,
          27236003,
          29068189,
          30684652,
          2946401,
          2923783,
          2867964,
          42771077,
          48431971,
          54689944,
          61242189,
          67761367,
          74352631,
          80788725,
          87075136,
          93147045,
          98899845,
          104514934,
          110815272,
          117274156,
          123333379,
          1207104,
          1356673,
          1520868,
          1689622,
          2089709,
          2243495,
          2631899,
          2824698,
          3056358,
          620601,
          12127120,
          12729721,
          13328593,
          13774037,
          14149800,
          14424211,
          14760094,
          15184166,
          15530498,
          15925513,
          16281779,
          16445593,
          16754962,
          17030314,
          58665813,
          81448757,
          100161708,
          110668784,
          122283853,
          135320420,
          150269622,
          185960244,
          3816486,
          3933004,
          4026152,
          4140099,
          4209488,
          4286401,
          4381336,
          4490967,
          4591910,
          4768212,
          5018573,
          5234519,
          2585400,
          2748100,
          2903900,
          3110500,
          3227100,
          3283400,
          3531700,
          3732000,
          3857700,
          4087500,
          4259800,
          4408100,
          4714100,
          49627623,
          61381982,
          89213708,
          101389603,
          113911126,
          19319746,
          21153462,
          29958687,
          58794999,
          65020124,
          31139450,
          32294655,
          33055650,
          34356300,
          35574150,
          37824487,
          38363667,
          38624370,
          38258629,
          38182222,
          38125759,
          38063164,
          37970087,
          9355810,
          9996232,
          10019610,
          10063945,
          10289898,
          10483861,
          10558177,
          10514844,
          10325452,
          15207765,
          16554744,
          17472144,
          20937407,
          22113428,
          22929078,
          23732740,
          24310143,
          24800638,
          25307665,
          3043854,
          3344190,
          3585176,
          3724655,
          3634488,
          3406672,
          495403,
          2654379,
          18919126,
          19799831,
          20657957,
          21551634,
          22207282,
          22640547,
          23057662,
          22794284,
          22619004,
          22442971,
          21451748,
          20537875,
          20058035,
          19702267,
          38672611,
          42241007,
          44967713,
          47291610,
          49779472,
          52832659,
          56207649,
          148160129,
          146596869,
          144067316,
          142742366,
          143201721,
          144342397,
          7617794,
          7516346,
          7463157,
          7086624,
          4839396,
          5312437,
          5607283,
          1996498,
          1988628,
          1988925,
          1997012,
          2021316,
          2057159,
          2065042,
          7350222,
          7199077,
          7058322,
          5789228,
          6067714,
          6260956,
          6302504,
          6319408,
          6441865,
          6593386,
          6875364,
          7071850,
          7184250,
          7389625,
          7647675,
          7996861,
          8373338,
          5373361,
          5388720,
          5372280,
          5379233,
          5407579,
          5430798,
          7661354,
          7912273,
          8122300,
          8222286,
          8310531,
          8336605,
          8436489,
          8668067,
          8840998,
          8872109,
          8993531,
          9219637,
          9519374,
          9923085,
          18538263,
          9727804,
          9876346,
          9867632,
          10125939,
          10304193,
          10355276,
          10319123,
          43377270,
          51094870,
          57811025,
          60130190,
          62952639,
          64995303,
          66530980,
          67835969,
          68971313,
          14156751,
          19036463,
          20868148,
          21488994,
          21966528,
          22570229,
          23019042,
          23346898,
          23618201,
          1267159,
          1290115,
          1314449,
          1344814,
          1377563,
          5291335,
          9267335,
          10414425,
          10846993,
          11303942,
          30244258,
          33256465,
          36587267,
          48114158,
          52053764,
          55748946,
          59423278,
          63240196,
          67010930,
          70418612,
          74651046,
          79827868,
          9929644,
          51057800,
          49176500,
          47451626,
          46258189,
          45593342,
          45004673,
          125345000,
          128928000,
          131909000,
          135147000,
          139010000,
          146857000,
          2665383,
          191889000,
          200706000,
          209896000,
          218035000,
          235825000,
          244499000,
          256514000,
          269394000,
          282162411,
          292805298,
          304093966,
          313877662,
          323071755,
          23225000,
          24650400,
          25864350,
          27302800,
          29774500,
          31847900,
          10702281,
          13572210,
          15182616,
          16876703,
          25996594,
          27635827,
          29360827,
          29851249,
          93640435,
          6765000,
          6915000,
          7053000,
          7214000,
          7362000,
          7489000,
          7572000,
          7408630
         ],
         "xaxis": "x",
         "y": [
          2,
          2,
          3,
          5,
          2,
          1,
          2,
          1,
          2,
          1,
          2,
          1,
          3,
          4,
          6,
          6,
          4,
          4,
          2,
          1,
          6,
          3,
          4,
          18,
          17,
          17,
          5,
          9,
          24,
          14,
          27,
          41,
          58,
          50,
          46,
          35,
          29,
          4,
          3,
          1,
          4,
          3,
          1,
          2,
          3,
          3,
          7,
          3,
          1,
          3,
          5,
          7,
          10,
          18,
          1,
          3,
          2,
          2,
          1,
          2,
          1,
          3,
          2,
          2,
          6,
          1,
          4,
          2,
          3,
          6,
          5,
          3,
          2,
          3,
          6,
          15,
          17,
          13,
          18,
          12,
          9,
          1,
          3,
          2,
          2,
          4,
          8,
          6,
          3,
          15,
          12,
          10,
          16,
          17,
          19,
          2,
          10,
          9,
          21,
          22,
          41,
          35,
          16,
          15,
          13,
          12,
          5,
          2,
          3,
          4,
          5,
          5,
          11,
          44,
          10,
          18,
          22,
          14,
          12,
          19,
          18,
          22,
          1,
          3,
          1,
          32,
          28,
          53,
          50,
          58,
          63,
          100,
          88,
          70,
          1,
          1,
          1,
          3,
          1,
          1,
          1,
          1,
          2,
          2,
          8,
          8,
          1,
          3,
          2,
          2,
          5,
          5,
          6,
          10,
          1,
          4,
          8,
          13,
          20,
          31,
          25,
          29,
          27,
          24,
          14,
          11,
          11,
          8,
          9,
          6,
          10,
          10,
          6,
          8,
          1,
          3,
          5,
          6,
          4,
          6,
          6,
          6,
          8,
          9,
          9,
          15,
          1,
          2,
          2,
          1,
          1,
          1,
          1,
          5,
          1,
          2,
          3,
          1,
          2,
          6,
          5,
          4,
          22,
          17,
          11,
          20,
          18,
          17,
          17,
          2,
          3,
          3,
          2,
          2,
          1,
          2,
          2,
          4,
          8,
          7,
          7,
          7,
          8,
          112,
          1,
          5,
          4,
          8,
          6,
          8,
          12,
          4,
          5,
          4,
          4,
          2,
          4,
          3,
          1,
          15,
          15,
          13,
          9,
          14,
          28,
          16,
          29,
          37,
          38,
          33,
          41,
          35,
          42,
          26,
          40,
          39,
          59,
          40,
          18,
          13,
          18,
          13,
          21,
          37,
          24,
          20,
          15,
          28,
          30,
          48,
          65,
          67,
          25,
          66,
          90,
          126,
          102,
          2,
          6,
          4,
          6,
          7,
          7,
          50,
          82,
          65,
          56,
          49,
          43,
          44,
          42,
          1,
          1,
          1,
          1,
          2,
          3,
          2,
          1,
          2,
          8,
          13,
          16,
          4,
          2,
          6,
          1,
          1,
          1,
          22,
          32,
          35,
          22,
          32,
          23,
          30,
          21,
          17,
          17,
          10,
          18,
          15,
          1,
          5,
          4,
          6,
          4,
          5,
          3,
          1,
          1,
          1,
          1,
          1,
          1,
          1,
          3,
          6,
          2,
          2,
          3,
          2,
          1,
          3,
          4,
          6,
          2,
          12,
          8,
          1,
          2,
          1,
          2,
          4,
          1,
          3,
          5,
          2,
          1,
          1,
          1,
          2,
          1,
          1,
          2,
          1,
          2,
          1,
          27,
          16,
          18,
          13,
          15,
          32,
          14,
          19,
          35,
          34,
          32,
          27,
          28,
          28,
          1,
          1,
          2,
          3,
          3,
          2,
          4,
          6,
          9,
          5,
          9,
          12,
          11,
          29,
          25,
          29,
          25,
          31,
          14,
          22,
          14,
          18,
          37,
          25,
          38,
          41,
          11,
          7,
          8,
          13,
          13,
          18,
          1,
          9,
          9,
          3,
          9,
          8,
          8,
          7,
          7,
          15,
          11,
          13,
          1,
          3,
          2,
          1,
          6,
          19,
          33,
          28,
          27,
          28,
          30,
          31,
          28,
          21,
          1,
          3,
          1,
          3,
          4,
          3,
          2,
          1,
          2,
          1,
          5,
          3,
          5,
          5,
          4,
          2,
          3,
          3,
          2,
          5,
          3,
          2,
          1,
          1,
          1,
          2,
          1,
          2,
          5,
          2,
          2,
          1,
          1,
          9,
          1,
          2,
          4,
          6,
          2,
          1,
          1,
          6,
          4,
          3,
          7,
          5,
          4,
          1,
          1,
          4,
          1,
          2,
          4,
          5,
          2,
          1,
          10,
          7,
          5,
          5,
          3,
          13,
          9,
          15,
          19,
          25,
          22,
          18,
          20,
          19,
          1,
          2,
          4,
          6,
          3,
          2,
          4,
          1,
          2,
          4,
          2,
          3,
          5,
          7,
          7,
          10,
          6,
          9,
          4,
          4,
          5,
          3,
          3,
          4,
          11,
          13,
          10,
          6,
          4,
          5,
          9,
          13,
          18,
          1,
          1,
          1,
          1,
          1,
          1,
          1,
          1,
          1,
          1,
          23,
          18,
          21,
          26,
          32,
          16,
          19,
          17,
          14,
          10,
          10,
          10,
          11,
          2,
          3,
          1,
          2,
          2,
          3,
          2,
          1,
          1,
          5,
          2,
          5,
          9,
          5,
          4,
          5,
          6,
          6,
          7,
          1,
          2,
          1,
          1,
          2,
          1,
          1,
          1,
          12,
          15,
          16,
          27,
          25,
          52,
          24,
          18,
          19,
          26,
          19,
          8,
          9,
          4,
          2,
          5,
          5,
          6,
          1,
          6,
          10,
          63,
          89,
          90,
          72,
          82,
          56,
          4,
          3,
          2,
          1,
          1,
          2,
          1,
          2,
          2,
          2,
          4,
          5,
          4,
          4,
          3,
          4,
          8,
          4,
          5,
          3,
          4,
          2,
          8,
          4,
          1,
          7,
          9,
          5,
          7,
          4,
          7,
          3,
          5,
          6,
          6,
          4,
          4,
          8,
          4,
          16,
          5,
          12,
          19,
          11,
          12,
          8,
          12,
          7,
          5,
          8,
          11,
          2,
          14,
          13,
          8,
          8,
          14,
          8,
          7,
          1,
          1,
          1,
          2,
          3,
          8,
          4,
          3,
          6,
          1,
          1,
          1,
          1,
          5,
          5,
          4,
          2,
          3,
          2,
          1,
          2,
          4,
          1,
          1,
          1,
          1,
          3,
          3,
          6,
          2,
          1,
          3,
          2,
          6,
          6,
          5,
          11,
          7,
          5,
          8,
          2,
          23,
          23,
          22,
          27,
          20,
          11,
          93,
          91,
          99,
          125,
          195,
          131,
          1,
          90,
          107,
          94,
          94,
          173,
          94,
          108,
          101,
          91,
          101,
          110,
          103,
          121,
          2,
          4,
          5,
          6,
          3,
          13,
          1,
          1,
          1,
          3,
          2,
          1,
          1,
          3,
          2,
          5,
          8,
          5,
          8,
          9,
          18,
          12,
          1
         ],
         "yaxis": "y"
        }
       ],
       "layout": {
        "legend": {
         "tracegroupgap": 0
        },
        "margin": {
         "t": 60
        },
        "template": {
         "data": {
          "bar": [
           {
            "error_x": {
             "color": "#2a3f5f"
            },
            "error_y": {
             "color": "#2a3f5f"
            },
            "marker": {
             "line": {
              "color": "#E5ECF6",
              "width": 0.5
             },
             "pattern": {
              "fillmode": "overlay",
              "size": 10,
              "solidity": 0.2
             }
            },
            "type": "bar"
           }
          ],
          "barpolar": [
           {
            "marker": {
             "line": {
              "color": "#E5ECF6",
              "width": 0.5
             },
             "pattern": {
              "fillmode": "overlay",
              "size": 10,
              "solidity": 0.2
             }
            },
            "type": "barpolar"
           }
          ],
          "carpet": [
           {
            "aaxis": {
             "endlinecolor": "#2a3f5f",
             "gridcolor": "white",
             "linecolor": "white",
             "minorgridcolor": "white",
             "startlinecolor": "#2a3f5f"
            },
            "baxis": {
             "endlinecolor": "#2a3f5f",
             "gridcolor": "white",
             "linecolor": "white",
             "minorgridcolor": "white",
             "startlinecolor": "#2a3f5f"
            },
            "type": "carpet"
           }
          ],
          "choropleth": [
           {
            "colorbar": {
             "outlinewidth": 0,
             "ticks": ""
            },
            "type": "choropleth"
           }
          ],
          "contour": [
           {
            "colorbar": {
             "outlinewidth": 0,
             "ticks": ""
            },
            "colorscale": [
             [
              0.0,
              "#0d0887"
             ],
             [
              0.1111111111111111,
              "#46039f"
             ],
             [
              0.2222222222222222,
              "#7201a8"
             ],
             [
              0.3333333333333333,
              "#9c179e"
             ],
             [
              0.4444444444444444,
              "#bd3786"
             ],
             [
              0.5555555555555556,
              "#d8576b"
             ],
             [
              0.6666666666666666,
              "#ed7953"
             ],
             [
              0.7777777777777778,
              "#fb9f3a"
             ],
             [
              0.8888888888888888,
              "#fdca26"
             ],
             [
              1.0,
              "#f0f921"
             ]
            ],
            "type": "contour"
           }
          ],
          "contourcarpet": [
           {
            "colorbar": {
             "outlinewidth": 0,
             "ticks": ""
            },
            "type": "contourcarpet"
           }
          ],
          "heatmap": [
           {
            "colorbar": {
             "outlinewidth": 0,
             "ticks": ""
            },
            "colorscale": [
             [
              0.0,
              "#0d0887"
             ],
             [
              0.1111111111111111,
              "#46039f"
             ],
             [
              0.2222222222222222,
              "#7201a8"
             ],
             [
              0.3333333333333333,
              "#9c179e"
             ],
             [
              0.4444444444444444,
              "#bd3786"
             ],
             [
              0.5555555555555556,
              "#d8576b"
             ],
             [
              0.6666666666666666,
              "#ed7953"
             ],
             [
              0.7777777777777778,
              "#fb9f3a"
             ],
             [
              0.8888888888888888,
              "#fdca26"
             ],
             [
              1.0,
              "#f0f921"
             ]
            ],
            "type": "heatmap"
           }
          ],
          "heatmapgl": [
           {
            "colorbar": {
             "outlinewidth": 0,
             "ticks": ""
            },
            "colorscale": [
             [
              0.0,
              "#0d0887"
             ],
             [
              0.1111111111111111,
              "#46039f"
             ],
             [
              0.2222222222222222,
              "#7201a8"
             ],
             [
              0.3333333333333333,
              "#9c179e"
             ],
             [
              0.4444444444444444,
              "#bd3786"
             ],
             [
              0.5555555555555556,
              "#d8576b"
             ],
             [
              0.6666666666666666,
              "#ed7953"
             ],
             [
              0.7777777777777778,
              "#fb9f3a"
             ],
             [
              0.8888888888888888,
              "#fdca26"
             ],
             [
              1.0,
              "#f0f921"
             ]
            ],
            "type": "heatmapgl"
           }
          ],
          "histogram": [
           {
            "marker": {
             "pattern": {
              "fillmode": "overlay",
              "size": 10,
              "solidity": 0.2
             }
            },
            "type": "histogram"
           }
          ],
          "histogram2d": [
           {
            "colorbar": {
             "outlinewidth": 0,
             "ticks": ""
            },
            "colorscale": [
             [
              0.0,
              "#0d0887"
             ],
             [
              0.1111111111111111,
              "#46039f"
             ],
             [
              0.2222222222222222,
              "#7201a8"
             ],
             [
              0.3333333333333333,
              "#9c179e"
             ],
             [
              0.4444444444444444,
              "#bd3786"
             ],
             [
              0.5555555555555556,
              "#d8576b"
             ],
             [
              0.6666666666666666,
              "#ed7953"
             ],
             [
              0.7777777777777778,
              "#fb9f3a"
             ],
             [
              0.8888888888888888,
              "#fdca26"
             ],
             [
              1.0,
              "#f0f921"
             ]
            ],
            "type": "histogram2d"
           }
          ],
          "histogram2dcontour": [
           {
            "colorbar": {
             "outlinewidth": 0,
             "ticks": ""
            },
            "colorscale": [
             [
              0.0,
              "#0d0887"
             ],
             [
              0.1111111111111111,
              "#46039f"
             ],
             [
              0.2222222222222222,
              "#7201a8"
             ],
             [
              0.3333333333333333,
              "#9c179e"
             ],
             [
              0.4444444444444444,
              "#bd3786"
             ],
             [
              0.5555555555555556,
              "#d8576b"
             ],
             [
              0.6666666666666666,
              "#ed7953"
             ],
             [
              0.7777777777777778,
              "#fb9f3a"
             ],
             [
              0.8888888888888888,
              "#fdca26"
             ],
             [
              1.0,
              "#f0f921"
             ]
            ],
            "type": "histogram2dcontour"
           }
          ],
          "mesh3d": [
           {
            "colorbar": {
             "outlinewidth": 0,
             "ticks": ""
            },
            "type": "mesh3d"
           }
          ],
          "parcoords": [
           {
            "line": {
             "colorbar": {
              "outlinewidth": 0,
              "ticks": ""
             }
            },
            "type": "parcoords"
           }
          ],
          "pie": [
           {
            "automargin": true,
            "type": "pie"
           }
          ],
          "scatter": [
           {
            "marker": {
             "colorbar": {
              "outlinewidth": 0,
              "ticks": ""
             }
            },
            "type": "scatter"
           }
          ],
          "scatter3d": [
           {
            "line": {
             "colorbar": {
              "outlinewidth": 0,
              "ticks": ""
             }
            },
            "marker": {
             "colorbar": {
              "outlinewidth": 0,
              "ticks": ""
             }
            },
            "type": "scatter3d"
           }
          ],
          "scattercarpet": [
           {
            "marker": {
             "colorbar": {
              "outlinewidth": 0,
              "ticks": ""
             }
            },
            "type": "scattercarpet"
           }
          ],
          "scattergeo": [
           {
            "marker": {
             "colorbar": {
              "outlinewidth": 0,
              "ticks": ""
             }
            },
            "type": "scattergeo"
           }
          ],
          "scattergl": [
           {
            "marker": {
             "colorbar": {
              "outlinewidth": 0,
              "ticks": ""
             }
            },
            "type": "scattergl"
           }
          ],
          "scattermapbox": [
           {
            "marker": {
             "colorbar": {
              "outlinewidth": 0,
              "ticks": ""
             }
            },
            "type": "scattermapbox"
           }
          ],
          "scatterpolar": [
           {
            "marker": {
             "colorbar": {
              "outlinewidth": 0,
              "ticks": ""
             }
            },
            "type": "scatterpolar"
           }
          ],
          "scatterpolargl": [
           {
            "marker": {
             "colorbar": {
              "outlinewidth": 0,
              "ticks": ""
             }
            },
            "type": "scatterpolargl"
           }
          ],
          "scatterternary": [
           {
            "marker": {
             "colorbar": {
              "outlinewidth": 0,
              "ticks": ""
             }
            },
            "type": "scatterternary"
           }
          ],
          "surface": [
           {
            "colorbar": {
             "outlinewidth": 0,
             "ticks": ""
            },
            "colorscale": [
             [
              0.0,
              "#0d0887"
             ],
             [
              0.1111111111111111,
              "#46039f"
             ],
             [
              0.2222222222222222,
              "#7201a8"
             ],
             [
              0.3333333333333333,
              "#9c179e"
             ],
             [
              0.4444444444444444,
              "#bd3786"
             ],
             [
              0.5555555555555556,
              "#d8576b"
             ],
             [
              0.6666666666666666,
              "#ed7953"
             ],
             [
              0.7777777777777778,
              "#fb9f3a"
             ],
             [
              0.8888888888888888,
              "#fdca26"
             ],
             [
              1.0,
              "#f0f921"
             ]
            ],
            "type": "surface"
           }
          ],
          "table": [
           {
            "cells": {
             "fill": {
              "color": "#EBF0F8"
             },
             "line": {
              "color": "white"
             }
            },
            "header": {
             "fill": {
              "color": "#C8D4E3"
             },
             "line": {
              "color": "white"
             }
            },
            "type": "table"
           }
          ]
         },
         "layout": {
          "annotationdefaults": {
           "arrowcolor": "#2a3f5f",
           "arrowhead": 0,
           "arrowwidth": 1
          },
          "autotypenumbers": "strict",
          "coloraxis": {
           "colorbar": {
            "outlinewidth": 0,
            "ticks": ""
           }
          },
          "colorscale": {
           "diverging": [
            [
             0,
             "#8e0152"
            ],
            [
             0.1,
             "#c51b7d"
            ],
            [
             0.2,
             "#de77ae"
            ],
            [
             0.3,
             "#f1b6da"
            ],
            [
             0.4,
             "#fde0ef"
            ],
            [
             0.5,
             "#f7f7f7"
            ],
            [
             0.6,
             "#e6f5d0"
            ],
            [
             0.7,
             "#b8e186"
            ],
            [
             0.8,
             "#7fbc41"
            ],
            [
             0.9,
             "#4d9221"
            ],
            [
             1,
             "#276419"
            ]
           ],
           "sequential": [
            [
             0.0,
             "#0d0887"
            ],
            [
             0.1111111111111111,
             "#46039f"
            ],
            [
             0.2222222222222222,
             "#7201a8"
            ],
            [
             0.3333333333333333,
             "#9c179e"
            ],
            [
             0.4444444444444444,
             "#bd3786"
            ],
            [
             0.5555555555555556,
             "#d8576b"
            ],
            [
             0.6666666666666666,
             "#ed7953"
            ],
            [
             0.7777777777777778,
             "#fb9f3a"
            ],
            [
             0.8888888888888888,
             "#fdca26"
            ],
            [
             1.0,
             "#f0f921"
            ]
           ],
           "sequentialminus": [
            [
             0.0,
             "#0d0887"
            ],
            [
             0.1111111111111111,
             "#46039f"
            ],
            [
             0.2222222222222222,
             "#7201a8"
            ],
            [
             0.3333333333333333,
             "#9c179e"
            ],
            [
             0.4444444444444444,
             "#bd3786"
            ],
            [
             0.5555555555555556,
             "#d8576b"
            ],
            [
             0.6666666666666666,
             "#ed7953"
            ],
            [
             0.7777777777777778,
             "#fb9f3a"
            ],
            [
             0.8888888888888888,
             "#fdca26"
            ],
            [
             1.0,
             "#f0f921"
            ]
           ]
          },
          "colorway": [
           "#636efa",
           "#EF553B",
           "#00cc96",
           "#ab63fa",
           "#FFA15A",
           "#19d3f3",
           "#FF6692",
           "#B6E880",
           "#FF97FF",
           "#FECB52"
          ],
          "font": {
           "color": "#2a3f5f"
          },
          "geo": {
           "bgcolor": "white",
           "lakecolor": "white",
           "landcolor": "#E5ECF6",
           "showlakes": true,
           "showland": true,
           "subunitcolor": "white"
          },
          "hoverlabel": {
           "align": "left"
          },
          "hovermode": "closest",
          "mapbox": {
           "style": "light"
          },
          "paper_bgcolor": "white",
          "plot_bgcolor": "#E5ECF6",
          "polar": {
           "angularaxis": {
            "gridcolor": "white",
            "linecolor": "white",
            "ticks": ""
           },
           "bgcolor": "#E5ECF6",
           "radialaxis": {
            "gridcolor": "white",
            "linecolor": "white",
            "ticks": ""
           }
          },
          "scene": {
           "xaxis": {
            "backgroundcolor": "#E5ECF6",
            "gridcolor": "white",
            "gridwidth": 2,
            "linecolor": "white",
            "showbackground": true,
            "ticks": "",
            "zerolinecolor": "white"
           },
           "yaxis": {
            "backgroundcolor": "#E5ECF6",
            "gridcolor": "white",
            "gridwidth": 2,
            "linecolor": "white",
            "showbackground": true,
            "ticks": "",
            "zerolinecolor": "white"
           },
           "zaxis": {
            "backgroundcolor": "#E5ECF6",
            "gridcolor": "white",
            "gridwidth": 2,
            "linecolor": "white",
            "showbackground": true,
            "ticks": "",
            "zerolinecolor": "white"
           }
          },
          "shapedefaults": {
           "line": {
            "color": "#2a3f5f"
           }
          },
          "ternary": {
           "aaxis": {
            "gridcolor": "white",
            "linecolor": "white",
            "ticks": ""
           },
           "baxis": {
            "gridcolor": "white",
            "linecolor": "white",
            "ticks": ""
           },
           "bgcolor": "#E5ECF6",
           "caxis": {
            "gridcolor": "white",
            "linecolor": "white",
            "ticks": ""
           }
          },
          "title": {
           "x": 0.05
          },
          "xaxis": {
           "automargin": true,
           "gridcolor": "white",
           "linecolor": "white",
           "ticks": "",
           "title": {
            "standoff": 15
           },
           "zerolinecolor": "white",
           "zerolinewidth": 2
          },
          "yaxis": {
           "automargin": true,
           "gridcolor": "white",
           "linecolor": "white",
           "ticks": "",
           "title": {
            "standoff": 15
           },
           "zerolinecolor": "white",
           "zerolinewidth": 2
          }
         }
        },
        "title": {
         "text": "Medals and population"
        },
        "xaxis": {
         "anchor": "y",
         "domain": [
          0.0,
          1.0
         ],
         "title": {
          "text": "Population"
         }
        },
        "yaxis": {
         "anchor": "x",
         "domain": [
          0.0,
          1.0
         ],
         "title": {
          "text": "Total medals no."
         }
        }
       }
      },
      "text/html": "<div>                            <div id=\"213ca81d-abcc-4d60-a7c0-afe629083538\" class=\"plotly-graph-div\" style=\"height:525px; width:100%;\"></div>            <script type=\"text/javascript\">                require([\"plotly\"], function(Plotly) {                    window.PLOTLYENV=window.PLOTLYENV || {};                                    if (document.getElementById(\"213ca81d-abcc-4d60-a7c0-afe629083538\")) {                    Plotly.newPlot(                        \"213ca81d-abcc-4d60-a7c0-afe629083538\",                        [{\"hovertemplate\":\"Population=%{x}<br>Total=%{y}<extra></extra>\",\"legendgroup\":\"\",\"marker\":{\"color\":\"#636efa\",\"symbol\":\"circle\"},\"mode\":\"markers\",\"name\":\"\",\"orientation\":\"v\",\"showlegend\":false,\"type\":\"scatter\",\"x\":[21763578,27028330,29266415,31042238,34730604,37383899,40551398,21824427,23168268,24653172,31668939,33529320,35246376,36870796,38491970,40080159,41733271,43590368,3168213,3069597,2907615,2884239,2936147,11167000,12009000,13177000,14033000,14692000,15544000,16532200,17495000,18311000,19153000,20127400,21249200,22733465,24190907,7415403,7544201,7565525,7549433,7561434,7585317,7840709,7959017,8011566,8171966,8321496,8736668,8048600,8306500,8763400,9295784,9757812,283980,298045,318893,343680,363581,377923,271511,9378113,9618756,9711115,9818227,9859242,9855372,9901664,10045158,10156637,10251250,10421137,10709973,11106932,11331422,10160000,9979610,9730146,9527985,9464495,9501534,81064572,90387079,99859388,109790943,120694012,132383569,143627505,154259382,164614682,174790339,184006479,192030362,199287292,206163056,1425793,8144340,8369603,8576200,8758599,8861535,8981446,8540164,8362826,8170172,7716860,7492561,7305888,7127822,19325000,20744000,22218463,23449808,25607053,26791747,28371264,29610218,30685730,31940655,33247118,34714222,36109487,148439,150722,156441,1036825000,1101630000,1164970000,1217550000,1262645000,1296075000,1324655000,1350695000,1378665000,9757849,15513944,19252674,22516429,29331230,31822527,34422568,39629965,42075953,44254972,46075721,48175048,2960932,4575818,4557097,4468302,4304600,4309705,4267558,4174349,7793258,8413549,9025347,9554186,9849457,10736386,10939285,11126423,11250369,11236975,11257112,11335108,10315241,10255063,10197101,10384603,10510785,10566332,4722072,4864883,4991596,5072596,5123027,5111619,5129516,5171370,5263074,5339616,5404523,5493621,5591572,5728010,8974444,9458079,9930916,10397738,11703169,14535740,47968643,74172073,79636081,86422240,94447071,34604469,36137812,37491165,38330364,38766939,39157685,39889852,40567864,42921895,45954106,46773055,46484062,1533091,1396985,1362550,1337090,1322696,1315790,26944386,30140799,35141703,66224809,74239508,82916236,92726982,103603461,148538197,872406,4548543,4626469,4639657,4725664,4779535,4881803,4946481,5041992,5124573,5176209,5228172,5313399,5413971,5495303,49230585,51175507,52793151,54220033,55161510,56337675,57627106,58851216,59753095,60912500,62704901,64374979,65659814,66724104,77294314,78688452,78336950,77858685,78144619,54000000,55211700,56086065,56211968,56314216,56422072,56928327,57580402,58166950,58892514,59987905,61806995,63700215,65611593,77294314,78688452,78336950,78288576,78144619,4491699,4077131,3927340,3848449,3728874,3727505,75318337,80624598,81914831,82211508,82516260,82110097,80425823,82348669,7524470,9229640,15653345,8740765,8888628,9642505,9895801,10036983,10399061,10608800,10805808,10955141,11077841,11045011,10775971,6435500,6783500,7150100,10119835,10255815,10398489,10598677,10711122,10596487,10369341,10311238,10210971,10107146,10038188,9920362,9814023,174975953,187739786,199901231,211513822,223285666,235469755,261556386,488848139,531513834,581087255,698952837,982365248,1056575548,1129623466,1200669762,1265780243,1324517250,24307855,30075295,33733975,53077312,58780376,65623397,68951279,72120608,75539881,79563991,2866550,3412800,3532423,3558430,3637510,3805174,4489544,4599533,4755335,239511,281205,317414,5123000,5692000,6289000,6809000,7308800,8546000,100952,51675350,53235750,54381345,55718260,56433883,56576718,56629288,56797087,56860281,56942108,57685327,58826731,59539717,60627498,1825873,1935089,2055371,2162839,2306367,2389415,2461047,2558631,2654698,2725017,2781869,2842128,2906242,96903000,101011000,107188000,112775000,120083000,122578000,124425000,125757000,126843000,127761000,128063000,127629000,126994511,15578227,14883626,15012984,15776938,16792090,17794055,9222692,10539909,12146070,19146403,22153685,25326080,28589456,31964557,35635267,39791984,44343469,49051531,4898400,27984155,30838302,33505406,35848523,40405956,42031247,43747962,45524681,47008111,48082519,49054708,50199853,51217803,2045123,2614338,2457222,2367550,2263122,2177322,2034319,2417837,3700114,3601613,3499536,3377075,3198231,2987773,2868231,22002641,23903592,25711410,27383472,28793672,30115196,31536807,33241898,35126274,19002660,21017619,27236003,29068189,30684652,2946401,2923783,2867964,42771077,48431971,54689944,61242189,67761367,74352631,80788725,87075136,93147045,98899845,104514934,110815272,117274156,123333379,1207104,1356673,1520868,1689622,2089709,2243495,2631899,2824698,3056358,620601,12127120,12729721,13328593,13774037,14149800,14424211,14760094,15184166,15530498,15925513,16281779,16445593,16754962,17030314,58665813,81448757,100161708,110668784,122283853,135320420,150269622,185960244,3816486,3933004,4026152,4140099,4209488,4286401,4381336,4490967,4591910,4768212,5018573,5234519,2585400,2748100,2903900,3110500,3227100,3283400,3531700,3732000,3857700,4087500,4259800,4408100,4714100,49627623,61381982,89213708,101389603,113911126,19319746,21153462,29958687,58794999,65020124,31139450,32294655,33055650,34356300,35574150,37824487,38363667,38624370,38258629,38182222,38125759,38063164,37970087,9355810,9996232,10019610,10063945,10289898,10483861,10558177,10514844,10325452,15207765,16554744,17472144,20937407,22113428,22929078,23732740,24310143,24800638,25307665,3043854,3344190,3585176,3724655,3634488,3406672,495403,2654379,18919126,19799831,20657957,21551634,22207282,22640547,23057662,22794284,22619004,22442971,21451748,20537875,20058035,19702267,38672611,42241007,44967713,47291610,49779472,52832659,56207649,148160129,146596869,144067316,142742366,143201721,144342397,7617794,7516346,7463157,7086624,4839396,5312437,5607283,1996498,1988628,1988925,1997012,2021316,2057159,2065042,7350222,7199077,7058322,5789228,6067714,6260956,6302504,6319408,6441865,6593386,6875364,7071850,7184250,7389625,7647675,7996861,8373338,5373361,5388720,5372280,5379233,5407579,5430798,7661354,7912273,8122300,8222286,8310531,8336605,8436489,8668067,8840998,8872109,8993531,9219637,9519374,9923085,18538263,9727804,9876346,9867632,10125939,10304193,10355276,10319123,43377270,51094870,57811025,60130190,62952639,64995303,66530980,67835969,68971313,14156751,19036463,20868148,21488994,21966528,22570229,23019042,23346898,23618201,1267159,1290115,1314449,1344814,1377563,5291335,9267335,10414425,10846993,11303942,30244258,33256465,36587267,48114158,52053764,55748946,59423278,63240196,67010930,70418612,74651046,79827868,9929644,51057800,49176500,47451626,46258189,45593342,45004673,125345000,128928000,131909000,135147000,139010000,146857000,2665383,191889000,200706000,209896000,218035000,235825000,244499000,256514000,269394000,282162411,292805298,304093966,313877662,323071755,23225000,24650400,25864350,27302800,29774500,31847900,10702281,13572210,15182616,16876703,25996594,27635827,29360827,29851249,93640435,6765000,6915000,7053000,7214000,7362000,7489000,7572000,7408630],\"xaxis\":\"x\",\"y\":[2,2,3,5,2,1,2,1,2,1,2,1,3,4,6,6,4,4,2,1,6,3,4,18,17,17,5,9,24,14,27,41,58,50,46,35,29,4,3,1,4,3,1,2,3,3,7,3,1,3,5,7,10,18,1,3,2,2,1,2,1,3,2,2,6,1,4,2,3,6,5,3,2,3,6,15,17,13,18,12,9,1,3,2,2,4,8,6,3,15,12,10,16,17,19,2,10,9,21,22,41,35,16,15,13,12,5,2,3,4,5,5,11,44,10,18,22,14,12,19,18,22,1,3,1,32,28,53,50,58,63,100,88,70,1,1,1,3,1,1,1,1,2,2,8,8,1,3,2,2,5,5,6,10,1,4,8,13,20,31,25,29,27,24,14,11,11,8,9,6,10,10,6,8,1,3,5,6,4,6,6,6,8,9,9,15,1,2,2,1,1,1,1,5,1,2,3,1,2,6,5,4,22,17,11,20,18,17,17,2,3,3,2,2,1,2,2,4,8,7,7,7,8,112,1,5,4,8,6,8,12,4,5,4,4,2,4,3,1,15,15,13,9,14,28,16,29,37,38,33,41,35,42,26,40,39,59,40,18,13,18,13,21,37,24,20,15,28,30,48,65,67,25,66,90,126,102,2,6,4,6,7,7,50,82,65,56,49,43,44,42,1,1,1,1,2,3,2,1,2,8,13,16,4,2,6,1,1,1,22,32,35,22,32,23,30,21,17,17,10,18,15,1,5,4,6,4,5,3,1,1,1,1,1,1,1,3,6,2,2,3,2,1,3,4,6,2,12,8,1,2,1,2,4,1,3,5,2,1,1,1,2,1,1,2,1,2,1,27,16,18,13,15,32,14,19,35,34,32,27,28,28,1,1,2,3,3,2,4,6,9,5,9,12,11,29,25,29,25,31,14,22,14,18,37,25,38,41,11,7,8,13,13,18,1,9,9,3,9,8,8,7,7,15,11,13,1,3,2,1,6,19,33,28,27,28,30,31,28,21,1,3,1,3,4,3,2,1,2,1,5,3,5,5,4,2,3,3,2,5,3,2,1,1,1,2,1,2,5,2,2,1,1,9,1,2,4,6,2,1,1,6,4,3,7,5,4,1,1,4,1,2,4,5,2,1,10,7,5,5,3,13,9,15,19,25,22,18,20,19,1,2,4,6,3,2,4,1,2,4,2,3,5,7,7,10,6,9,4,4,5,3,3,4,11,13,10,6,4,5,9,13,18,1,1,1,1,1,1,1,1,1,1,23,18,21,26,32,16,19,17,14,10,10,10,11,2,3,1,2,2,3,2,1,1,5,2,5,9,5,4,5,6,6,7,1,2,1,1,2,1,1,1,12,15,16,27,25,52,24,18,19,26,19,8,9,4,2,5,5,6,1,6,10,63,89,90,72,82,56,4,3,2,1,1,2,1,2,2,2,4,5,4,4,3,4,8,4,5,3,4,2,8,4,1,7,9,5,7,4,7,3,5,6,6,4,4,8,4,16,5,12,19,11,12,8,12,7,5,8,11,2,14,13,8,8,14,8,7,1,1,1,2,3,8,4,3,6,1,1,1,1,5,5,4,2,3,2,1,2,4,1,1,1,1,3,3,6,2,1,3,2,6,6,5,11,7,5,8,2,23,23,22,27,20,11,93,91,99,125,195,131,1,90,107,94,94,173,94,108,101,91,101,110,103,121,2,4,5,6,3,13,1,1,1,3,2,1,1,3,2,5,8,5,8,9,18,12,1],\"yaxis\":\"y\"}],                        {\"legend\":{\"tracegroupgap\":0},\"margin\":{\"t\":60},\"template\":{\"data\":{\"bar\":[{\"error_x\":{\"color\":\"#2a3f5f\"},\"error_y\":{\"color\":\"#2a3f5f\"},\"marker\":{\"line\":{\"color\":\"#E5ECF6\",\"width\":0.5},\"pattern\":{\"fillmode\":\"overlay\",\"size\":10,\"solidity\":0.2}},\"type\":\"bar\"}],\"barpolar\":[{\"marker\":{\"line\":{\"color\":\"#E5ECF6\",\"width\":0.5},\"pattern\":{\"fillmode\":\"overlay\",\"size\":10,\"solidity\":0.2}},\"type\":\"barpolar\"}],\"carpet\":[{\"aaxis\":{\"endlinecolor\":\"#2a3f5f\",\"gridcolor\":\"white\",\"linecolor\":\"white\",\"minorgridcolor\":\"white\",\"startlinecolor\":\"#2a3f5f\"},\"baxis\":{\"endlinecolor\":\"#2a3f5f\",\"gridcolor\":\"white\",\"linecolor\":\"white\",\"minorgridcolor\":\"white\",\"startlinecolor\":\"#2a3f5f\"},\"type\":\"carpet\"}],\"choropleth\":[{\"colorbar\":{\"outlinewidth\":0,\"ticks\":\"\"},\"type\":\"choropleth\"}],\"contour\":[{\"colorbar\":{\"outlinewidth\":0,\"ticks\":\"\"},\"colorscale\":[[0.0,\"#0d0887\"],[0.1111111111111111,\"#46039f\"],[0.2222222222222222,\"#7201a8\"],[0.3333333333333333,\"#9c179e\"],[0.4444444444444444,\"#bd3786\"],[0.5555555555555556,\"#d8576b\"],[0.6666666666666666,\"#ed7953\"],[0.7777777777777778,\"#fb9f3a\"],[0.8888888888888888,\"#fdca26\"],[1.0,\"#f0f921\"]],\"type\":\"contour\"}],\"contourcarpet\":[{\"colorbar\":{\"outlinewidth\":0,\"ticks\":\"\"},\"type\":\"contourcarpet\"}],\"heatmap\":[{\"colorbar\":{\"outlinewidth\":0,\"ticks\":\"\"},\"colorscale\":[[0.0,\"#0d0887\"],[0.1111111111111111,\"#46039f\"],[0.2222222222222222,\"#7201a8\"],[0.3333333333333333,\"#9c179e\"],[0.4444444444444444,\"#bd3786\"],[0.5555555555555556,\"#d8576b\"],[0.6666666666666666,\"#ed7953\"],[0.7777777777777778,\"#fb9f3a\"],[0.8888888888888888,\"#fdca26\"],[1.0,\"#f0f921\"]],\"type\":\"heatmap\"}],\"heatmapgl\":[{\"colorbar\":{\"outlinewidth\":0,\"ticks\":\"\"},\"colorscale\":[[0.0,\"#0d0887\"],[0.1111111111111111,\"#46039f\"],[0.2222222222222222,\"#7201a8\"],[0.3333333333333333,\"#9c179e\"],[0.4444444444444444,\"#bd3786\"],[0.5555555555555556,\"#d8576b\"],[0.6666666666666666,\"#ed7953\"],[0.7777777777777778,\"#fb9f3a\"],[0.8888888888888888,\"#fdca26\"],[1.0,\"#f0f921\"]],\"type\":\"heatmapgl\"}],\"histogram\":[{\"marker\":{\"pattern\":{\"fillmode\":\"overlay\",\"size\":10,\"solidity\":0.2}},\"type\":\"histogram\"}],\"histogram2d\":[{\"colorbar\":{\"outlinewidth\":0,\"ticks\":\"\"},\"colorscale\":[[0.0,\"#0d0887\"],[0.1111111111111111,\"#46039f\"],[0.2222222222222222,\"#7201a8\"],[0.3333333333333333,\"#9c179e\"],[0.4444444444444444,\"#bd3786\"],[0.5555555555555556,\"#d8576b\"],[0.6666666666666666,\"#ed7953\"],[0.7777777777777778,\"#fb9f3a\"],[0.8888888888888888,\"#fdca26\"],[1.0,\"#f0f921\"]],\"type\":\"histogram2d\"}],\"histogram2dcontour\":[{\"colorbar\":{\"outlinewidth\":0,\"ticks\":\"\"},\"colorscale\":[[0.0,\"#0d0887\"],[0.1111111111111111,\"#46039f\"],[0.2222222222222222,\"#7201a8\"],[0.3333333333333333,\"#9c179e\"],[0.4444444444444444,\"#bd3786\"],[0.5555555555555556,\"#d8576b\"],[0.6666666666666666,\"#ed7953\"],[0.7777777777777778,\"#fb9f3a\"],[0.8888888888888888,\"#fdca26\"],[1.0,\"#f0f921\"]],\"type\":\"histogram2dcontour\"}],\"mesh3d\":[{\"colorbar\":{\"outlinewidth\":0,\"ticks\":\"\"},\"type\":\"mesh3d\"}],\"parcoords\":[{\"line\":{\"colorbar\":{\"outlinewidth\":0,\"ticks\":\"\"}},\"type\":\"parcoords\"}],\"pie\":[{\"automargin\":true,\"type\":\"pie\"}],\"scatter\":[{\"marker\":{\"colorbar\":{\"outlinewidth\":0,\"ticks\":\"\"}},\"type\":\"scatter\"}],\"scatter3d\":[{\"line\":{\"colorbar\":{\"outlinewidth\":0,\"ticks\":\"\"}},\"marker\":{\"colorbar\":{\"outlinewidth\":0,\"ticks\":\"\"}},\"type\":\"scatter3d\"}],\"scattercarpet\":[{\"marker\":{\"colorbar\":{\"outlinewidth\":0,\"ticks\":\"\"}},\"type\":\"scattercarpet\"}],\"scattergeo\":[{\"marker\":{\"colorbar\":{\"outlinewidth\":0,\"ticks\":\"\"}},\"type\":\"scattergeo\"}],\"scattergl\":[{\"marker\":{\"colorbar\":{\"outlinewidth\":0,\"ticks\":\"\"}},\"type\":\"scattergl\"}],\"scattermapbox\":[{\"marker\":{\"colorbar\":{\"outlinewidth\":0,\"ticks\":\"\"}},\"type\":\"scattermapbox\"}],\"scatterpolar\":[{\"marker\":{\"colorbar\":{\"outlinewidth\":0,\"ticks\":\"\"}},\"type\":\"scatterpolar\"}],\"scatterpolargl\":[{\"marker\":{\"colorbar\":{\"outlinewidth\":0,\"ticks\":\"\"}},\"type\":\"scatterpolargl\"}],\"scatterternary\":[{\"marker\":{\"colorbar\":{\"outlinewidth\":0,\"ticks\":\"\"}},\"type\":\"scatterternary\"}],\"surface\":[{\"colorbar\":{\"outlinewidth\":0,\"ticks\":\"\"},\"colorscale\":[[0.0,\"#0d0887\"],[0.1111111111111111,\"#46039f\"],[0.2222222222222222,\"#7201a8\"],[0.3333333333333333,\"#9c179e\"],[0.4444444444444444,\"#bd3786\"],[0.5555555555555556,\"#d8576b\"],[0.6666666666666666,\"#ed7953\"],[0.7777777777777778,\"#fb9f3a\"],[0.8888888888888888,\"#fdca26\"],[1.0,\"#f0f921\"]],\"type\":\"surface\"}],\"table\":[{\"cells\":{\"fill\":{\"color\":\"#EBF0F8\"},\"line\":{\"color\":\"white\"}},\"header\":{\"fill\":{\"color\":\"#C8D4E3\"},\"line\":{\"color\":\"white\"}},\"type\":\"table\"}]},\"layout\":{\"annotationdefaults\":{\"arrowcolor\":\"#2a3f5f\",\"arrowhead\":0,\"arrowwidth\":1},\"autotypenumbers\":\"strict\",\"coloraxis\":{\"colorbar\":{\"outlinewidth\":0,\"ticks\":\"\"}},\"colorscale\":{\"diverging\":[[0,\"#8e0152\"],[0.1,\"#c51b7d\"],[0.2,\"#de77ae\"],[0.3,\"#f1b6da\"],[0.4,\"#fde0ef\"],[0.5,\"#f7f7f7\"],[0.6,\"#e6f5d0\"],[0.7,\"#b8e186\"],[0.8,\"#7fbc41\"],[0.9,\"#4d9221\"],[1,\"#276419\"]],\"sequential\":[[0.0,\"#0d0887\"],[0.1111111111111111,\"#46039f\"],[0.2222222222222222,\"#7201a8\"],[0.3333333333333333,\"#9c179e\"],[0.4444444444444444,\"#bd3786\"],[0.5555555555555556,\"#d8576b\"],[0.6666666666666666,\"#ed7953\"],[0.7777777777777778,\"#fb9f3a\"],[0.8888888888888888,\"#fdca26\"],[1.0,\"#f0f921\"]],\"sequentialminus\":[[0.0,\"#0d0887\"],[0.1111111111111111,\"#46039f\"],[0.2222222222222222,\"#7201a8\"],[0.3333333333333333,\"#9c179e\"],[0.4444444444444444,\"#bd3786\"],[0.5555555555555556,\"#d8576b\"],[0.6666666666666666,\"#ed7953\"],[0.7777777777777778,\"#fb9f3a\"],[0.8888888888888888,\"#fdca26\"],[1.0,\"#f0f921\"]]},\"colorway\":[\"#636efa\",\"#EF553B\",\"#00cc96\",\"#ab63fa\",\"#FFA15A\",\"#19d3f3\",\"#FF6692\",\"#B6E880\",\"#FF97FF\",\"#FECB52\"],\"font\":{\"color\":\"#2a3f5f\"},\"geo\":{\"bgcolor\":\"white\",\"lakecolor\":\"white\",\"landcolor\":\"#E5ECF6\",\"showlakes\":true,\"showland\":true,\"subunitcolor\":\"white\"},\"hoverlabel\":{\"align\":\"left\"},\"hovermode\":\"closest\",\"mapbox\":{\"style\":\"light\"},\"paper_bgcolor\":\"white\",\"plot_bgcolor\":\"#E5ECF6\",\"polar\":{\"angularaxis\":{\"gridcolor\":\"white\",\"linecolor\":\"white\",\"ticks\":\"\"},\"bgcolor\":\"#E5ECF6\",\"radialaxis\":{\"gridcolor\":\"white\",\"linecolor\":\"white\",\"ticks\":\"\"}},\"scene\":{\"xaxis\":{\"backgroundcolor\":\"#E5ECF6\",\"gridcolor\":\"white\",\"gridwidth\":2,\"linecolor\":\"white\",\"showbackground\":true,\"ticks\":\"\",\"zerolinecolor\":\"white\"},\"yaxis\":{\"backgroundcolor\":\"#E5ECF6\",\"gridcolor\":\"white\",\"gridwidth\":2,\"linecolor\":\"white\",\"showbackground\":true,\"ticks\":\"\",\"zerolinecolor\":\"white\"},\"zaxis\":{\"backgroundcolor\":\"#E5ECF6\",\"gridcolor\":\"white\",\"gridwidth\":2,\"linecolor\":\"white\",\"showbackground\":true,\"ticks\":\"\",\"zerolinecolor\":\"white\"}},\"shapedefaults\":{\"line\":{\"color\":\"#2a3f5f\"}},\"ternary\":{\"aaxis\":{\"gridcolor\":\"white\",\"linecolor\":\"white\",\"ticks\":\"\"},\"baxis\":{\"gridcolor\":\"white\",\"linecolor\":\"white\",\"ticks\":\"\"},\"bgcolor\":\"#E5ECF6\",\"caxis\":{\"gridcolor\":\"white\",\"linecolor\":\"white\",\"ticks\":\"\"}},\"title\":{\"x\":0.05},\"xaxis\":{\"automargin\":true,\"gridcolor\":\"white\",\"linecolor\":\"white\",\"ticks\":\"\",\"title\":{\"standoff\":15},\"zerolinecolor\":\"white\",\"zerolinewidth\":2},\"yaxis\":{\"automargin\":true,\"gridcolor\":\"white\",\"linecolor\":\"white\",\"ticks\":\"\",\"title\":{\"standoff\":15},\"zerolinecolor\":\"white\",\"zerolinewidth\":2}}},\"title\":{\"text\":\"Medals and population\"},\"xaxis\":{\"anchor\":\"y\",\"domain\":[0.0,1.0],\"title\":{\"text\":\"Population\"}},\"yaxis\":{\"anchor\":\"x\",\"domain\":[0.0,1.0],\"title\":{\"text\":\"Total medals no.\"}}},                        {\"responsive\": true}                    ).then(function(){\n                            \nvar gd = document.getElementById('213ca81d-abcc-4d60-a7c0-afe629083538');\nvar x = new MutationObserver(function (mutations, observer) {{\n        var display = window.getComputedStyle(gd).display;\n        if (!display || display === 'none') {{\n            console.log([gd, 'removed!']);\n            Plotly.purge(gd);\n            observer.disconnect();\n        }}\n}});\n\n// Listen for the removal of the full notebook cells\nvar notebookContainer = gd.closest('#notebook-container');\nif (notebookContainer) {{\n    x.observe(notebookContainer, {childList: true});\n}}\n\n// Listen for the clearing of the current output cell\nvar outputEl = gd.closest('.output');\nif (outputEl) {{\n    x.observe(outputEl, {childList: true});\n}}\n\n                        })                };                });            </script>        </div>"
     },
     "metadata": {},
     "output_type": "display_data"
    }
   ],
   "source": [
    "fig = px.scatter(gold_df, x='Population', y='Total')\n",
    "fig.update_layout(title='Medals and population',\n",
    "                   xaxis_title='Population',\n",
    "                   yaxis_title='Total medals no.')\n",
    "fig.show()"
   ],
   "metadata": {
    "collapsed": false,
    "pycharm": {
     "name": "#%%\n"
    }
   }
  },
  {
   "cell_type": "code",
   "execution_count": 32,
   "outputs": [
    {
     "data": {
      "application/vnd.plotly.v1+json": {
       "config": {
        "plotlyServerURL": "https://plot.ly"
       },
       "data": [
        {
         "hovertemplate": "distinct_athletes_no=%{x}<br>Total=%{y}<extra></extra>",
         "legendgroup": "",
         "marker": {
          "color": "#636efa",
          "symbol": "circle"
         },
         "mode": "markers",
         "name": "",
         "orientation": "v",
         "showlegend": false,
         "type": "scatter",
         "x": [
          33,
          35,
          45,
          47,
          56,
          38,
          64,
          102,
          89,
          92,
          118,
          84,
          179,
          143,
          152,
          132,
          137,
          215,
          32,
          25,
          25,
          24,
          31,
          243,
          128,
          168,
          180,
          120,
          242,
          252,
          279,
          417,
          617,
          470,
          432,
          405,
          420,
          43,
          111,
          60,
          83,
          102,
          73,
          102,
          72,
          92,
          74,
          70,
          71,
          31,
          36,
          44,
          52,
          56,
          26,
          25,
          22,
          25,
          21,
          29,
          18,
          61,
          82,
          88,
          101,
          59,
          63,
          59,
          68,
          61,
          68,
          50,
          94,
          111,
          104,
          157,
          139,
          151,
          177,
          160,
          120,
          61,
          76,
          81,
          79,
          106,
          147,
          160,
          182,
          221,
          198,
          243,
          268,
          248,
          462,
          33,
          63,
          112,
          130,
          158,
          271,
          172,
          138,
          110,
          91,
          95,
          70,
          63,
          51,
          115,
          139,
          208,
          385,
          408,
          328,
          295,
          303,
          294,
          262,
          332,
          273,
          310,
          50,
          22,
          26,
          215,
          273,
          244,
          294,
          271,
          383,
          599,
          375,
          392,
          46,
          34,
          32,
          59,
          39,
          40,
          49,
          44,
          53,
          67,
          101,
          143,
          16,
          39,
          84,
          88,
          81,
          99,
          107,
          85,
          27,
          115,
          137,
          156,
          208,
          176,
          164,
          229,
          151,
          158,
          109,
          117,
          115,
          119,
          142,
          134,
          133,
          104,
          60,
          64,
          126,
          66,
          58,
          60,
          78,
          110,
          119,
          97,
          92,
          84,
          114,
          119,
          33,
          24,
          33,
          26,
          19,
          25,
          114,
          97,
          100,
          109,
          121,
          123,
          113,
          155,
          179,
          229,
          422,
          289,
          321,
          316,
          283,
          278,
          307,
          37,
          33,
          42,
          47,
          32,
          46,
          18,
          31,
          41,
          26,
          26,
          27,
          33,
          37,
          475,
          53,
          89,
          66,
          96,
          83,
          105,
          86,
          78,
          88,
          76,
          70,
          53,
          57,
          56,
          54,
          138,
          200,
          227,
          206,
          121,
          238,
          266,
          339,
          299,
          336,
          308,
          309,
          324,
          392,
          275,
          424,
          290,
          390,
          347,
          204,
          225,
          284,
          242,
          219,
          337,
          345,
          371,
          300,
          310,
          264,
          304,
          530,
          360,
          226,
          297,
          267,
          346,
          259,
          34,
          36,
          32,
          35,
          34,
          40,
          337,
          463,
          466,
          422,
          441,
          420,
          383,
          418,
          33,
          35,
          34,
          44,
          60,
          41,
          63,
          56,
          70,
          121,
          140,
          426,
          152,
          102,
          92,
          23,
          32,
          41,
          182,
          167,
          232,
          178,
          263,
          188,
          217,
          213,
          178,
          209,
          171,
          152,
          154,
          29,
          42,
          40,
          47,
          38,
          24,
          28,
          53,
          25,
          41,
          72,
          49,
          65,
          73,
          53,
          81,
          112,
          62,
          48,
          84,
          23,
          36,
          33,
          37,
          54,
          52,
          63,
          25,
          47,
          42,
          58,
          78,
          64,
          55,
          64,
          76,
          30,
          18,
          27,
          30,
          25,
          39,
          36,
          43,
          47,
          22,
          168,
          167,
          224,
          210,
          159,
          268,
          253,
          304,
          340,
          361,
          364,
          333,
          281,
          309,
          25,
          33,
          20,
          18,
          45,
          35,
          36,
          46,
          48,
          47,
          50,
          45,
          56,
          328,
          171,
          184,
          213,
          226,
          255,
          256,
          306,
          266,
          306,
          332,
          291,
          335,
          96,
          130,
          114,
          130,
          113,
          101,
          37,
          39,
          57,
          61,
          74,
          49,
          52,
          56,
          46,
          46,
          47,
          79,
          48,
          154,
          54,
          42,
          50,
          175,
          401,
          226,
          303,
          281,
          264,
          265,
          250,
          207,
          29,
          34,
          47,
          45,
          32,
          47,
          45,
          19,
          47,
          61,
          61,
          59,
          71,
          62,
          67,
          34,
          27,
          44,
          34,
          55,
          55,
          47,
          63,
          48,
          26,
          35,
          32,
          29,
          32,
          40,
          34,
          29,
          94,
          275,
          174,
          97,
          45,
          99,
          83,
          102,
          98,
          78,
          109,
          83,
          99,
          123,
          16,
          39,
          32,
          43,
          28,
          33,
          28,
          29,
          43,
          33,
          125,
          107,
          119,
          108,
          75,
          136,
          147,
          201,
          239,
          231,
          210,
          237,
          173,
          237,
          25,
          32,
          55,
          65,
          83,
          70,
          74,
          71,
          46,
          112,
          66,
          103,
          69,
          83,
          97,
          93,
          52,
          84,
          61,
          62,
          64,
          52,
          89,
          80,
          130,
          83,
          134,
          95,
          147,
          148,
          178,
          178,
          195,
          41,
          25,
          31,
          30,
          27,
          35,
          21,
          47,
          31,
          26,
          140,
          177,
          290,
          207,
          306,
          143,
          201,
          165,
          187,
          194,
          257,
          210,
          234,
          19,
          38,
          65,
          107,
          61,
          81,
          77,
          76,
          90,
          37,
          38,
          47,
          64,
          24,
          31,
          36,
          58,
          52,
          31,
          80,
          51,
          71,
          69,
          25,
          40,
          28,
          37,
          138,
          82,
          159,
          157,
          228,
          124,
          68,
          173,
          165,
          145,
          108,
          101,
          105,
          95,
          93,
          84,
          127,
          106,
          134,
          124,
          135,
          390,
          435,
          446,
          454,
          429,
          284,
          68,
          109,
          85,
          23,
          25,
          23,
          25,
          35,
          37,
          74,
          79,
          61,
          65,
          63,
          87,
          116,
          103,
          66,
          85,
          151,
          50,
          73,
          129,
          99,
          102,
          115,
          102,
          98,
          83,
          98,
          102,
          71,
          108,
          64,
          57,
          47,
          51,
          94,
          100,
          131,
          116,
          145,
          174,
          185,
          187,
          177,
          150,
          115,
          123,
          133,
          150,
          41,
          104,
          121,
          181,
          163,
          209,
          163,
          208,
          42,
          35,
          46,
          37,
          52,
          42,
          47,
          37,
          54,
          43,
          38,
          31,
          74,
          55,
          88,
          79,
          44,
          55,
          19,
          19,
          28,
          25,
          28,
          35,
          51,
          26,
          83,
          61,
          23,
          29,
          43,
          46,
          41,
          41,
          53,
          57,
          64,
          67,
          112,
          100,
          33,
          231,
          230,
          239,
          243,
          230,
          204,
          317,
          312,
          371,
          410,
          489,
          481,
          23,
          346,
          357,
          400,
          396,
          522,
          527,
          545,
          648,
          586,
          533,
          588,
          530,
          555,
          71,
          70,
          69,
          56,
          53,
          70,
          23,
          32,
          37,
          26,
          48,
          108,
          68,
          85,
          22,
          75,
          69,
          126,
          88,
          164,
          139,
          155,
          42
         ],
         "xaxis": "x",
         "y": [
          2,
          2,
          3,
          5,
          2,
          1,
          2,
          1,
          2,
          1,
          2,
          1,
          3,
          4,
          6,
          6,
          4,
          4,
          2,
          1,
          6,
          3,
          4,
          18,
          17,
          17,
          5,
          9,
          24,
          14,
          27,
          41,
          58,
          50,
          46,
          35,
          29,
          4,
          3,
          1,
          4,
          3,
          1,
          2,
          3,
          3,
          7,
          3,
          1,
          3,
          5,
          7,
          10,
          18,
          1,
          3,
          2,
          2,
          1,
          2,
          1,
          3,
          2,
          2,
          6,
          1,
          4,
          2,
          3,
          6,
          5,
          3,
          2,
          3,
          6,
          15,
          17,
          13,
          18,
          12,
          9,
          1,
          3,
          2,
          2,
          4,
          8,
          6,
          3,
          15,
          12,
          10,
          16,
          17,
          19,
          2,
          10,
          9,
          21,
          22,
          41,
          35,
          16,
          15,
          13,
          12,
          5,
          2,
          3,
          4,
          5,
          5,
          11,
          44,
          10,
          18,
          22,
          14,
          12,
          19,
          18,
          22,
          1,
          3,
          1,
          32,
          28,
          53,
          50,
          58,
          63,
          100,
          88,
          70,
          1,
          1,
          1,
          3,
          1,
          1,
          1,
          1,
          2,
          2,
          8,
          8,
          1,
          3,
          2,
          2,
          5,
          5,
          6,
          10,
          1,
          4,
          8,
          13,
          20,
          31,
          25,
          29,
          27,
          24,
          14,
          11,
          11,
          8,
          9,
          6,
          10,
          10,
          6,
          8,
          1,
          3,
          5,
          6,
          4,
          6,
          6,
          6,
          8,
          9,
          9,
          15,
          1,
          2,
          2,
          1,
          1,
          1,
          1,
          5,
          1,
          2,
          3,
          1,
          2,
          6,
          5,
          4,
          22,
          17,
          11,
          20,
          18,
          17,
          17,
          2,
          3,
          3,
          2,
          2,
          1,
          2,
          2,
          4,
          8,
          7,
          7,
          7,
          8,
          112,
          1,
          5,
          4,
          8,
          6,
          8,
          12,
          4,
          5,
          4,
          4,
          2,
          4,
          3,
          1,
          15,
          15,
          13,
          9,
          14,
          28,
          16,
          29,
          37,
          38,
          33,
          41,
          35,
          42,
          26,
          40,
          39,
          59,
          40,
          18,
          13,
          18,
          13,
          21,
          37,
          24,
          20,
          15,
          28,
          30,
          48,
          65,
          67,
          25,
          66,
          90,
          126,
          102,
          2,
          6,
          4,
          6,
          7,
          7,
          50,
          82,
          65,
          56,
          49,
          43,
          44,
          42,
          1,
          1,
          1,
          1,
          2,
          3,
          2,
          1,
          2,
          8,
          13,
          16,
          4,
          2,
          6,
          1,
          1,
          1,
          22,
          32,
          35,
          22,
          32,
          23,
          30,
          21,
          17,
          17,
          10,
          18,
          15,
          1,
          5,
          4,
          6,
          4,
          5,
          3,
          1,
          1,
          1,
          1,
          1,
          1,
          1,
          3,
          6,
          2,
          2,
          3,
          2,
          1,
          3,
          4,
          6,
          2,
          12,
          8,
          1,
          2,
          1,
          2,
          4,
          1,
          3,
          5,
          2,
          1,
          1,
          1,
          2,
          1,
          1,
          2,
          1,
          2,
          1,
          27,
          16,
          18,
          13,
          15,
          32,
          14,
          19,
          35,
          34,
          32,
          27,
          28,
          28,
          1,
          1,
          2,
          3,
          3,
          2,
          4,
          6,
          9,
          5,
          9,
          12,
          11,
          29,
          25,
          29,
          25,
          31,
          14,
          22,
          14,
          18,
          37,
          25,
          38,
          41,
          11,
          7,
          8,
          13,
          13,
          18,
          1,
          9,
          9,
          3,
          9,
          8,
          8,
          7,
          7,
          15,
          11,
          13,
          1,
          3,
          2,
          1,
          6,
          19,
          33,
          28,
          27,
          28,
          30,
          31,
          28,
          21,
          1,
          3,
          1,
          3,
          4,
          3,
          2,
          1,
          2,
          1,
          5,
          3,
          5,
          5,
          4,
          2,
          3,
          3,
          2,
          5,
          3,
          2,
          1,
          1,
          1,
          2,
          1,
          2,
          5,
          2,
          2,
          1,
          1,
          9,
          1,
          2,
          4,
          6,
          2,
          1,
          1,
          6,
          4,
          3,
          7,
          5,
          4,
          1,
          1,
          4,
          1,
          2,
          4,
          5,
          2,
          1,
          10,
          7,
          5,
          5,
          3,
          13,
          9,
          15,
          19,
          25,
          22,
          18,
          20,
          19,
          1,
          2,
          4,
          6,
          3,
          2,
          4,
          1,
          2,
          4,
          2,
          3,
          5,
          7,
          7,
          10,
          6,
          9,
          4,
          4,
          5,
          3,
          3,
          4,
          11,
          13,
          10,
          6,
          4,
          5,
          9,
          13,
          18,
          1,
          1,
          1,
          1,
          1,
          1,
          1,
          1,
          1,
          1,
          23,
          18,
          21,
          26,
          32,
          16,
          19,
          17,
          14,
          10,
          10,
          10,
          11,
          2,
          3,
          1,
          2,
          2,
          3,
          2,
          1,
          1,
          5,
          2,
          5,
          9,
          5,
          4,
          5,
          6,
          6,
          7,
          1,
          2,
          1,
          1,
          2,
          1,
          1,
          1,
          12,
          15,
          16,
          27,
          25,
          52,
          24,
          18,
          19,
          26,
          19,
          8,
          9,
          4,
          2,
          5,
          5,
          6,
          1,
          6,
          10,
          63,
          89,
          90,
          72,
          82,
          56,
          4,
          3,
          2,
          1,
          1,
          2,
          1,
          2,
          2,
          2,
          4,
          5,
          4,
          4,
          3,
          4,
          8,
          4,
          5,
          3,
          4,
          2,
          8,
          4,
          1,
          7,
          9,
          5,
          7,
          4,
          7,
          3,
          5,
          6,
          6,
          4,
          4,
          8,
          4,
          16,
          5,
          12,
          19,
          11,
          12,
          8,
          12,
          7,
          5,
          8,
          11,
          2,
          14,
          13,
          8,
          8,
          14,
          8,
          7,
          1,
          1,
          1,
          2,
          3,
          8,
          4,
          3,
          6,
          1,
          1,
          1,
          1,
          5,
          5,
          4,
          2,
          3,
          2,
          1,
          2,
          4,
          1,
          1,
          1,
          1,
          3,
          3,
          6,
          2,
          1,
          3,
          2,
          6,
          6,
          5,
          11,
          7,
          5,
          8,
          2,
          23,
          23,
          22,
          27,
          20,
          11,
          93,
          91,
          99,
          125,
          195,
          131,
          1,
          90,
          107,
          94,
          94,
          173,
          94,
          108,
          101,
          91,
          101,
          110,
          103,
          121,
          2,
          4,
          5,
          6,
          3,
          13,
          1,
          1,
          1,
          3,
          2,
          1,
          1,
          3,
          2,
          5,
          8,
          5,
          8,
          9,
          18,
          12,
          1
         ],
         "yaxis": "y"
        }
       ],
       "layout": {
        "legend": {
         "tracegroupgap": 0
        },
        "margin": {
         "t": 60
        },
        "template": {
         "data": {
          "bar": [
           {
            "error_x": {
             "color": "#2a3f5f"
            },
            "error_y": {
             "color": "#2a3f5f"
            },
            "marker": {
             "line": {
              "color": "#E5ECF6",
              "width": 0.5
             },
             "pattern": {
              "fillmode": "overlay",
              "size": 10,
              "solidity": 0.2
             }
            },
            "type": "bar"
           }
          ],
          "barpolar": [
           {
            "marker": {
             "line": {
              "color": "#E5ECF6",
              "width": 0.5
             },
             "pattern": {
              "fillmode": "overlay",
              "size": 10,
              "solidity": 0.2
             }
            },
            "type": "barpolar"
           }
          ],
          "carpet": [
           {
            "aaxis": {
             "endlinecolor": "#2a3f5f",
             "gridcolor": "white",
             "linecolor": "white",
             "minorgridcolor": "white",
             "startlinecolor": "#2a3f5f"
            },
            "baxis": {
             "endlinecolor": "#2a3f5f",
             "gridcolor": "white",
             "linecolor": "white",
             "minorgridcolor": "white",
             "startlinecolor": "#2a3f5f"
            },
            "type": "carpet"
           }
          ],
          "choropleth": [
           {
            "colorbar": {
             "outlinewidth": 0,
             "ticks": ""
            },
            "type": "choropleth"
           }
          ],
          "contour": [
           {
            "colorbar": {
             "outlinewidth": 0,
             "ticks": ""
            },
            "colorscale": [
             [
              0.0,
              "#0d0887"
             ],
             [
              0.1111111111111111,
              "#46039f"
             ],
             [
              0.2222222222222222,
              "#7201a8"
             ],
             [
              0.3333333333333333,
              "#9c179e"
             ],
             [
              0.4444444444444444,
              "#bd3786"
             ],
             [
              0.5555555555555556,
              "#d8576b"
             ],
             [
              0.6666666666666666,
              "#ed7953"
             ],
             [
              0.7777777777777778,
              "#fb9f3a"
             ],
             [
              0.8888888888888888,
              "#fdca26"
             ],
             [
              1.0,
              "#f0f921"
             ]
            ],
            "type": "contour"
           }
          ],
          "contourcarpet": [
           {
            "colorbar": {
             "outlinewidth": 0,
             "ticks": ""
            },
            "type": "contourcarpet"
           }
          ],
          "heatmap": [
           {
            "colorbar": {
             "outlinewidth": 0,
             "ticks": ""
            },
            "colorscale": [
             [
              0.0,
              "#0d0887"
             ],
             [
              0.1111111111111111,
              "#46039f"
             ],
             [
              0.2222222222222222,
              "#7201a8"
             ],
             [
              0.3333333333333333,
              "#9c179e"
             ],
             [
              0.4444444444444444,
              "#bd3786"
             ],
             [
              0.5555555555555556,
              "#d8576b"
             ],
             [
              0.6666666666666666,
              "#ed7953"
             ],
             [
              0.7777777777777778,
              "#fb9f3a"
             ],
             [
              0.8888888888888888,
              "#fdca26"
             ],
             [
              1.0,
              "#f0f921"
             ]
            ],
            "type": "heatmap"
           }
          ],
          "heatmapgl": [
           {
            "colorbar": {
             "outlinewidth": 0,
             "ticks": ""
            },
            "colorscale": [
             [
              0.0,
              "#0d0887"
             ],
             [
              0.1111111111111111,
              "#46039f"
             ],
             [
              0.2222222222222222,
              "#7201a8"
             ],
             [
              0.3333333333333333,
              "#9c179e"
             ],
             [
              0.4444444444444444,
              "#bd3786"
             ],
             [
              0.5555555555555556,
              "#d8576b"
             ],
             [
              0.6666666666666666,
              "#ed7953"
             ],
             [
              0.7777777777777778,
              "#fb9f3a"
             ],
             [
              0.8888888888888888,
              "#fdca26"
             ],
             [
              1.0,
              "#f0f921"
             ]
            ],
            "type": "heatmapgl"
           }
          ],
          "histogram": [
           {
            "marker": {
             "pattern": {
              "fillmode": "overlay",
              "size": 10,
              "solidity": 0.2
             }
            },
            "type": "histogram"
           }
          ],
          "histogram2d": [
           {
            "colorbar": {
             "outlinewidth": 0,
             "ticks": ""
            },
            "colorscale": [
             [
              0.0,
              "#0d0887"
             ],
             [
              0.1111111111111111,
              "#46039f"
             ],
             [
              0.2222222222222222,
              "#7201a8"
             ],
             [
              0.3333333333333333,
              "#9c179e"
             ],
             [
              0.4444444444444444,
              "#bd3786"
             ],
             [
              0.5555555555555556,
              "#d8576b"
             ],
             [
              0.6666666666666666,
              "#ed7953"
             ],
             [
              0.7777777777777778,
              "#fb9f3a"
             ],
             [
              0.8888888888888888,
              "#fdca26"
             ],
             [
              1.0,
              "#f0f921"
             ]
            ],
            "type": "histogram2d"
           }
          ],
          "histogram2dcontour": [
           {
            "colorbar": {
             "outlinewidth": 0,
             "ticks": ""
            },
            "colorscale": [
             [
              0.0,
              "#0d0887"
             ],
             [
              0.1111111111111111,
              "#46039f"
             ],
             [
              0.2222222222222222,
              "#7201a8"
             ],
             [
              0.3333333333333333,
              "#9c179e"
             ],
             [
              0.4444444444444444,
              "#bd3786"
             ],
             [
              0.5555555555555556,
              "#d8576b"
             ],
             [
              0.6666666666666666,
              "#ed7953"
             ],
             [
              0.7777777777777778,
              "#fb9f3a"
             ],
             [
              0.8888888888888888,
              "#fdca26"
             ],
             [
              1.0,
              "#f0f921"
             ]
            ],
            "type": "histogram2dcontour"
           }
          ],
          "mesh3d": [
           {
            "colorbar": {
             "outlinewidth": 0,
             "ticks": ""
            },
            "type": "mesh3d"
           }
          ],
          "parcoords": [
           {
            "line": {
             "colorbar": {
              "outlinewidth": 0,
              "ticks": ""
             }
            },
            "type": "parcoords"
           }
          ],
          "pie": [
           {
            "automargin": true,
            "type": "pie"
           }
          ],
          "scatter": [
           {
            "marker": {
             "colorbar": {
              "outlinewidth": 0,
              "ticks": ""
             }
            },
            "type": "scatter"
           }
          ],
          "scatter3d": [
           {
            "line": {
             "colorbar": {
              "outlinewidth": 0,
              "ticks": ""
             }
            },
            "marker": {
             "colorbar": {
              "outlinewidth": 0,
              "ticks": ""
             }
            },
            "type": "scatter3d"
           }
          ],
          "scattercarpet": [
           {
            "marker": {
             "colorbar": {
              "outlinewidth": 0,
              "ticks": ""
             }
            },
            "type": "scattercarpet"
           }
          ],
          "scattergeo": [
           {
            "marker": {
             "colorbar": {
              "outlinewidth": 0,
              "ticks": ""
             }
            },
            "type": "scattergeo"
           }
          ],
          "scattergl": [
           {
            "marker": {
             "colorbar": {
              "outlinewidth": 0,
              "ticks": ""
             }
            },
            "type": "scattergl"
           }
          ],
          "scattermapbox": [
           {
            "marker": {
             "colorbar": {
              "outlinewidth": 0,
              "ticks": ""
             }
            },
            "type": "scattermapbox"
           }
          ],
          "scatterpolar": [
           {
            "marker": {
             "colorbar": {
              "outlinewidth": 0,
              "ticks": ""
             }
            },
            "type": "scatterpolar"
           }
          ],
          "scatterpolargl": [
           {
            "marker": {
             "colorbar": {
              "outlinewidth": 0,
              "ticks": ""
             }
            },
            "type": "scatterpolargl"
           }
          ],
          "scatterternary": [
           {
            "marker": {
             "colorbar": {
              "outlinewidth": 0,
              "ticks": ""
             }
            },
            "type": "scatterternary"
           }
          ],
          "surface": [
           {
            "colorbar": {
             "outlinewidth": 0,
             "ticks": ""
            },
            "colorscale": [
             [
              0.0,
              "#0d0887"
             ],
             [
              0.1111111111111111,
              "#46039f"
             ],
             [
              0.2222222222222222,
              "#7201a8"
             ],
             [
              0.3333333333333333,
              "#9c179e"
             ],
             [
              0.4444444444444444,
              "#bd3786"
             ],
             [
              0.5555555555555556,
              "#d8576b"
             ],
             [
              0.6666666666666666,
              "#ed7953"
             ],
             [
              0.7777777777777778,
              "#fb9f3a"
             ],
             [
              0.8888888888888888,
              "#fdca26"
             ],
             [
              1.0,
              "#f0f921"
             ]
            ],
            "type": "surface"
           }
          ],
          "table": [
           {
            "cells": {
             "fill": {
              "color": "#EBF0F8"
             },
             "line": {
              "color": "white"
             }
            },
            "header": {
             "fill": {
              "color": "#C8D4E3"
             },
             "line": {
              "color": "white"
             }
            },
            "type": "table"
           }
          ]
         },
         "layout": {
          "annotationdefaults": {
           "arrowcolor": "#2a3f5f",
           "arrowhead": 0,
           "arrowwidth": 1
          },
          "autotypenumbers": "strict",
          "coloraxis": {
           "colorbar": {
            "outlinewidth": 0,
            "ticks": ""
           }
          },
          "colorscale": {
           "diverging": [
            [
             0,
             "#8e0152"
            ],
            [
             0.1,
             "#c51b7d"
            ],
            [
             0.2,
             "#de77ae"
            ],
            [
             0.3,
             "#f1b6da"
            ],
            [
             0.4,
             "#fde0ef"
            ],
            [
             0.5,
             "#f7f7f7"
            ],
            [
             0.6,
             "#e6f5d0"
            ],
            [
             0.7,
             "#b8e186"
            ],
            [
             0.8,
             "#7fbc41"
            ],
            [
             0.9,
             "#4d9221"
            ],
            [
             1,
             "#276419"
            ]
           ],
           "sequential": [
            [
             0.0,
             "#0d0887"
            ],
            [
             0.1111111111111111,
             "#46039f"
            ],
            [
             0.2222222222222222,
             "#7201a8"
            ],
            [
             0.3333333333333333,
             "#9c179e"
            ],
            [
             0.4444444444444444,
             "#bd3786"
            ],
            [
             0.5555555555555556,
             "#d8576b"
            ],
            [
             0.6666666666666666,
             "#ed7953"
            ],
            [
             0.7777777777777778,
             "#fb9f3a"
            ],
            [
             0.8888888888888888,
             "#fdca26"
            ],
            [
             1.0,
             "#f0f921"
            ]
           ],
           "sequentialminus": [
            [
             0.0,
             "#0d0887"
            ],
            [
             0.1111111111111111,
             "#46039f"
            ],
            [
             0.2222222222222222,
             "#7201a8"
            ],
            [
             0.3333333333333333,
             "#9c179e"
            ],
            [
             0.4444444444444444,
             "#bd3786"
            ],
            [
             0.5555555555555556,
             "#d8576b"
            ],
            [
             0.6666666666666666,
             "#ed7953"
            ],
            [
             0.7777777777777778,
             "#fb9f3a"
            ],
            [
             0.8888888888888888,
             "#fdca26"
            ],
            [
             1.0,
             "#f0f921"
            ]
           ]
          },
          "colorway": [
           "#636efa",
           "#EF553B",
           "#00cc96",
           "#ab63fa",
           "#FFA15A",
           "#19d3f3",
           "#FF6692",
           "#B6E880",
           "#FF97FF",
           "#FECB52"
          ],
          "font": {
           "color": "#2a3f5f"
          },
          "geo": {
           "bgcolor": "white",
           "lakecolor": "white",
           "landcolor": "#E5ECF6",
           "showlakes": true,
           "showland": true,
           "subunitcolor": "white"
          },
          "hoverlabel": {
           "align": "left"
          },
          "hovermode": "closest",
          "mapbox": {
           "style": "light"
          },
          "paper_bgcolor": "white",
          "plot_bgcolor": "#E5ECF6",
          "polar": {
           "angularaxis": {
            "gridcolor": "white",
            "linecolor": "white",
            "ticks": ""
           },
           "bgcolor": "#E5ECF6",
           "radialaxis": {
            "gridcolor": "white",
            "linecolor": "white",
            "ticks": ""
           }
          },
          "scene": {
           "xaxis": {
            "backgroundcolor": "#E5ECF6",
            "gridcolor": "white",
            "gridwidth": 2,
            "linecolor": "white",
            "showbackground": true,
            "ticks": "",
            "zerolinecolor": "white"
           },
           "yaxis": {
            "backgroundcolor": "#E5ECF6",
            "gridcolor": "white",
            "gridwidth": 2,
            "linecolor": "white",
            "showbackground": true,
            "ticks": "",
            "zerolinecolor": "white"
           },
           "zaxis": {
            "backgroundcolor": "#E5ECF6",
            "gridcolor": "white",
            "gridwidth": 2,
            "linecolor": "white",
            "showbackground": true,
            "ticks": "",
            "zerolinecolor": "white"
           }
          },
          "shapedefaults": {
           "line": {
            "color": "#2a3f5f"
           }
          },
          "ternary": {
           "aaxis": {
            "gridcolor": "white",
            "linecolor": "white",
            "ticks": ""
           },
           "baxis": {
            "gridcolor": "white",
            "linecolor": "white",
            "ticks": ""
           },
           "bgcolor": "#E5ECF6",
           "caxis": {
            "gridcolor": "white",
            "linecolor": "white",
            "ticks": ""
           }
          },
          "title": {
           "x": 0.05
          },
          "xaxis": {
           "automargin": true,
           "gridcolor": "white",
           "linecolor": "white",
           "ticks": "",
           "title": {
            "standoff": 15
           },
           "zerolinecolor": "white",
           "zerolinewidth": 2
          },
          "yaxis": {
           "automargin": true,
           "gridcolor": "white",
           "linecolor": "white",
           "ticks": "",
           "title": {
            "standoff": 15
           },
           "zerolinecolor": "white",
           "zerolinewidth": 2
          }
         }
        },
        "title": {
         "text": "Medals and distinct_athletes_no"
        },
        "xaxis": {
         "anchor": "y",
         "domain": [
          0.0,
          1.0
         ],
         "title": {
          "text": "Athletes"
         }
        },
        "yaxis": {
         "anchor": "x",
         "domain": [
          0.0,
          1.0
         ],
         "title": {
          "text": "Total medals no."
         }
        }
       }
      },
      "text/html": "<div>                            <div id=\"2c7a6ced-07c8-41aa-bf31-fd81ef486ee8\" class=\"plotly-graph-div\" style=\"height:525px; width:100%;\"></div>            <script type=\"text/javascript\">                require([\"plotly\"], function(Plotly) {                    window.PLOTLYENV=window.PLOTLYENV || {};                                    if (document.getElementById(\"2c7a6ced-07c8-41aa-bf31-fd81ef486ee8\")) {                    Plotly.newPlot(                        \"2c7a6ced-07c8-41aa-bf31-fd81ef486ee8\",                        [{\"hovertemplate\":\"distinct_athletes_no=%{x}<br>Total=%{y}<extra></extra>\",\"legendgroup\":\"\",\"marker\":{\"color\":\"#636efa\",\"symbol\":\"circle\"},\"mode\":\"markers\",\"name\":\"\",\"orientation\":\"v\",\"showlegend\":false,\"type\":\"scatter\",\"x\":[33,35,45,47,56,38,64,102,89,92,118,84,179,143,152,132,137,215,32,25,25,24,31,243,128,168,180,120,242,252,279,417,617,470,432,405,420,43,111,60,83,102,73,102,72,92,74,70,71,31,36,44,52,56,26,25,22,25,21,29,18,61,82,88,101,59,63,59,68,61,68,50,94,111,104,157,139,151,177,160,120,61,76,81,79,106,147,160,182,221,198,243,268,248,462,33,63,112,130,158,271,172,138,110,91,95,70,63,51,115,139,208,385,408,328,295,303,294,262,332,273,310,50,22,26,215,273,244,294,271,383,599,375,392,46,34,32,59,39,40,49,44,53,67,101,143,16,39,84,88,81,99,107,85,27,115,137,156,208,176,164,229,151,158,109,117,115,119,142,134,133,104,60,64,126,66,58,60,78,110,119,97,92,84,114,119,33,24,33,26,19,25,114,97,100,109,121,123,113,155,179,229,422,289,321,316,283,278,307,37,33,42,47,32,46,18,31,41,26,26,27,33,37,475,53,89,66,96,83,105,86,78,88,76,70,53,57,56,54,138,200,227,206,121,238,266,339,299,336,308,309,324,392,275,424,290,390,347,204,225,284,242,219,337,345,371,300,310,264,304,530,360,226,297,267,346,259,34,36,32,35,34,40,337,463,466,422,441,420,383,418,33,35,34,44,60,41,63,56,70,121,140,426,152,102,92,23,32,41,182,167,232,178,263,188,217,213,178,209,171,152,154,29,42,40,47,38,24,28,53,25,41,72,49,65,73,53,81,112,62,48,84,23,36,33,37,54,52,63,25,47,42,58,78,64,55,64,76,30,18,27,30,25,39,36,43,47,22,168,167,224,210,159,268,253,304,340,361,364,333,281,309,25,33,20,18,45,35,36,46,48,47,50,45,56,328,171,184,213,226,255,256,306,266,306,332,291,335,96,130,114,130,113,101,37,39,57,61,74,49,52,56,46,46,47,79,48,154,54,42,50,175,401,226,303,281,264,265,250,207,29,34,47,45,32,47,45,19,47,61,61,59,71,62,67,34,27,44,34,55,55,47,63,48,26,35,32,29,32,40,34,29,94,275,174,97,45,99,83,102,98,78,109,83,99,123,16,39,32,43,28,33,28,29,43,33,125,107,119,108,75,136,147,201,239,231,210,237,173,237,25,32,55,65,83,70,74,71,46,112,66,103,69,83,97,93,52,84,61,62,64,52,89,80,130,83,134,95,147,148,178,178,195,41,25,31,30,27,35,21,47,31,26,140,177,290,207,306,143,201,165,187,194,257,210,234,19,38,65,107,61,81,77,76,90,37,38,47,64,24,31,36,58,52,31,80,51,71,69,25,40,28,37,138,82,159,157,228,124,68,173,165,145,108,101,105,95,93,84,127,106,134,124,135,390,435,446,454,429,284,68,109,85,23,25,23,25,35,37,74,79,61,65,63,87,116,103,66,85,151,50,73,129,99,102,115,102,98,83,98,102,71,108,64,57,47,51,94,100,131,116,145,174,185,187,177,150,115,123,133,150,41,104,121,181,163,209,163,208,42,35,46,37,52,42,47,37,54,43,38,31,74,55,88,79,44,55,19,19,28,25,28,35,51,26,83,61,23,29,43,46,41,41,53,57,64,67,112,100,33,231,230,239,243,230,204,317,312,371,410,489,481,23,346,357,400,396,522,527,545,648,586,533,588,530,555,71,70,69,56,53,70,23,32,37,26,48,108,68,85,22,75,69,126,88,164,139,155,42],\"xaxis\":\"x\",\"y\":[2,2,3,5,2,1,2,1,2,1,2,1,3,4,6,6,4,4,2,1,6,3,4,18,17,17,5,9,24,14,27,41,58,50,46,35,29,4,3,1,4,3,1,2,3,3,7,3,1,3,5,7,10,18,1,3,2,2,1,2,1,3,2,2,6,1,4,2,3,6,5,3,2,3,6,15,17,13,18,12,9,1,3,2,2,4,8,6,3,15,12,10,16,17,19,2,10,9,21,22,41,35,16,15,13,12,5,2,3,4,5,5,11,44,10,18,22,14,12,19,18,22,1,3,1,32,28,53,50,58,63,100,88,70,1,1,1,3,1,1,1,1,2,2,8,8,1,3,2,2,5,5,6,10,1,4,8,13,20,31,25,29,27,24,14,11,11,8,9,6,10,10,6,8,1,3,5,6,4,6,6,6,8,9,9,15,1,2,2,1,1,1,1,5,1,2,3,1,2,6,5,4,22,17,11,20,18,17,17,2,3,3,2,2,1,2,2,4,8,7,7,7,8,112,1,5,4,8,6,8,12,4,5,4,4,2,4,3,1,15,15,13,9,14,28,16,29,37,38,33,41,35,42,26,40,39,59,40,18,13,18,13,21,37,24,20,15,28,30,48,65,67,25,66,90,126,102,2,6,4,6,7,7,50,82,65,56,49,43,44,42,1,1,1,1,2,3,2,1,2,8,13,16,4,2,6,1,1,1,22,32,35,22,32,23,30,21,17,17,10,18,15,1,5,4,6,4,5,3,1,1,1,1,1,1,1,3,6,2,2,3,2,1,3,4,6,2,12,8,1,2,1,2,4,1,3,5,2,1,1,1,2,1,1,2,1,2,1,27,16,18,13,15,32,14,19,35,34,32,27,28,28,1,1,2,3,3,2,4,6,9,5,9,12,11,29,25,29,25,31,14,22,14,18,37,25,38,41,11,7,8,13,13,18,1,9,9,3,9,8,8,7,7,15,11,13,1,3,2,1,6,19,33,28,27,28,30,31,28,21,1,3,1,3,4,3,2,1,2,1,5,3,5,5,4,2,3,3,2,5,3,2,1,1,1,2,1,2,5,2,2,1,1,9,1,2,4,6,2,1,1,6,4,3,7,5,4,1,1,4,1,2,4,5,2,1,10,7,5,5,3,13,9,15,19,25,22,18,20,19,1,2,4,6,3,2,4,1,2,4,2,3,5,7,7,10,6,9,4,4,5,3,3,4,11,13,10,6,4,5,9,13,18,1,1,1,1,1,1,1,1,1,1,23,18,21,26,32,16,19,17,14,10,10,10,11,2,3,1,2,2,3,2,1,1,5,2,5,9,5,4,5,6,6,7,1,2,1,1,2,1,1,1,12,15,16,27,25,52,24,18,19,26,19,8,9,4,2,5,5,6,1,6,10,63,89,90,72,82,56,4,3,2,1,1,2,1,2,2,2,4,5,4,4,3,4,8,4,5,3,4,2,8,4,1,7,9,5,7,4,7,3,5,6,6,4,4,8,4,16,5,12,19,11,12,8,12,7,5,8,11,2,14,13,8,8,14,8,7,1,1,1,2,3,8,4,3,6,1,1,1,1,5,5,4,2,3,2,1,2,4,1,1,1,1,3,3,6,2,1,3,2,6,6,5,11,7,5,8,2,23,23,22,27,20,11,93,91,99,125,195,131,1,90,107,94,94,173,94,108,101,91,101,110,103,121,2,4,5,6,3,13,1,1,1,3,2,1,1,3,2,5,8,5,8,9,18,12,1],\"yaxis\":\"y\"}],                        {\"legend\":{\"tracegroupgap\":0},\"margin\":{\"t\":60},\"template\":{\"data\":{\"bar\":[{\"error_x\":{\"color\":\"#2a3f5f\"},\"error_y\":{\"color\":\"#2a3f5f\"},\"marker\":{\"line\":{\"color\":\"#E5ECF6\",\"width\":0.5},\"pattern\":{\"fillmode\":\"overlay\",\"size\":10,\"solidity\":0.2}},\"type\":\"bar\"}],\"barpolar\":[{\"marker\":{\"line\":{\"color\":\"#E5ECF6\",\"width\":0.5},\"pattern\":{\"fillmode\":\"overlay\",\"size\":10,\"solidity\":0.2}},\"type\":\"barpolar\"}],\"carpet\":[{\"aaxis\":{\"endlinecolor\":\"#2a3f5f\",\"gridcolor\":\"white\",\"linecolor\":\"white\",\"minorgridcolor\":\"white\",\"startlinecolor\":\"#2a3f5f\"},\"baxis\":{\"endlinecolor\":\"#2a3f5f\",\"gridcolor\":\"white\",\"linecolor\":\"white\",\"minorgridcolor\":\"white\",\"startlinecolor\":\"#2a3f5f\"},\"type\":\"carpet\"}],\"choropleth\":[{\"colorbar\":{\"outlinewidth\":0,\"ticks\":\"\"},\"type\":\"choropleth\"}],\"contour\":[{\"colorbar\":{\"outlinewidth\":0,\"ticks\":\"\"},\"colorscale\":[[0.0,\"#0d0887\"],[0.1111111111111111,\"#46039f\"],[0.2222222222222222,\"#7201a8\"],[0.3333333333333333,\"#9c179e\"],[0.4444444444444444,\"#bd3786\"],[0.5555555555555556,\"#d8576b\"],[0.6666666666666666,\"#ed7953\"],[0.7777777777777778,\"#fb9f3a\"],[0.8888888888888888,\"#fdca26\"],[1.0,\"#f0f921\"]],\"type\":\"contour\"}],\"contourcarpet\":[{\"colorbar\":{\"outlinewidth\":0,\"ticks\":\"\"},\"type\":\"contourcarpet\"}],\"heatmap\":[{\"colorbar\":{\"outlinewidth\":0,\"ticks\":\"\"},\"colorscale\":[[0.0,\"#0d0887\"],[0.1111111111111111,\"#46039f\"],[0.2222222222222222,\"#7201a8\"],[0.3333333333333333,\"#9c179e\"],[0.4444444444444444,\"#bd3786\"],[0.5555555555555556,\"#d8576b\"],[0.6666666666666666,\"#ed7953\"],[0.7777777777777778,\"#fb9f3a\"],[0.8888888888888888,\"#fdca26\"],[1.0,\"#f0f921\"]],\"type\":\"heatmap\"}],\"heatmapgl\":[{\"colorbar\":{\"outlinewidth\":0,\"ticks\":\"\"},\"colorscale\":[[0.0,\"#0d0887\"],[0.1111111111111111,\"#46039f\"],[0.2222222222222222,\"#7201a8\"],[0.3333333333333333,\"#9c179e\"],[0.4444444444444444,\"#bd3786\"],[0.5555555555555556,\"#d8576b\"],[0.6666666666666666,\"#ed7953\"],[0.7777777777777778,\"#fb9f3a\"],[0.8888888888888888,\"#fdca26\"],[1.0,\"#f0f921\"]],\"type\":\"heatmapgl\"}],\"histogram\":[{\"marker\":{\"pattern\":{\"fillmode\":\"overlay\",\"size\":10,\"solidity\":0.2}},\"type\":\"histogram\"}],\"histogram2d\":[{\"colorbar\":{\"outlinewidth\":0,\"ticks\":\"\"},\"colorscale\":[[0.0,\"#0d0887\"],[0.1111111111111111,\"#46039f\"],[0.2222222222222222,\"#7201a8\"],[0.3333333333333333,\"#9c179e\"],[0.4444444444444444,\"#bd3786\"],[0.5555555555555556,\"#d8576b\"],[0.6666666666666666,\"#ed7953\"],[0.7777777777777778,\"#fb9f3a\"],[0.8888888888888888,\"#fdca26\"],[1.0,\"#f0f921\"]],\"type\":\"histogram2d\"}],\"histogram2dcontour\":[{\"colorbar\":{\"outlinewidth\":0,\"ticks\":\"\"},\"colorscale\":[[0.0,\"#0d0887\"],[0.1111111111111111,\"#46039f\"],[0.2222222222222222,\"#7201a8\"],[0.3333333333333333,\"#9c179e\"],[0.4444444444444444,\"#bd3786\"],[0.5555555555555556,\"#d8576b\"],[0.6666666666666666,\"#ed7953\"],[0.7777777777777778,\"#fb9f3a\"],[0.8888888888888888,\"#fdca26\"],[1.0,\"#f0f921\"]],\"type\":\"histogram2dcontour\"}],\"mesh3d\":[{\"colorbar\":{\"outlinewidth\":0,\"ticks\":\"\"},\"type\":\"mesh3d\"}],\"parcoords\":[{\"line\":{\"colorbar\":{\"outlinewidth\":0,\"ticks\":\"\"}},\"type\":\"parcoords\"}],\"pie\":[{\"automargin\":true,\"type\":\"pie\"}],\"scatter\":[{\"marker\":{\"colorbar\":{\"outlinewidth\":0,\"ticks\":\"\"}},\"type\":\"scatter\"}],\"scatter3d\":[{\"line\":{\"colorbar\":{\"outlinewidth\":0,\"ticks\":\"\"}},\"marker\":{\"colorbar\":{\"outlinewidth\":0,\"ticks\":\"\"}},\"type\":\"scatter3d\"}],\"scattercarpet\":[{\"marker\":{\"colorbar\":{\"outlinewidth\":0,\"ticks\":\"\"}},\"type\":\"scattercarpet\"}],\"scattergeo\":[{\"marker\":{\"colorbar\":{\"outlinewidth\":0,\"ticks\":\"\"}},\"type\":\"scattergeo\"}],\"scattergl\":[{\"marker\":{\"colorbar\":{\"outlinewidth\":0,\"ticks\":\"\"}},\"type\":\"scattergl\"}],\"scattermapbox\":[{\"marker\":{\"colorbar\":{\"outlinewidth\":0,\"ticks\":\"\"}},\"type\":\"scattermapbox\"}],\"scatterpolar\":[{\"marker\":{\"colorbar\":{\"outlinewidth\":0,\"ticks\":\"\"}},\"type\":\"scatterpolar\"}],\"scatterpolargl\":[{\"marker\":{\"colorbar\":{\"outlinewidth\":0,\"ticks\":\"\"}},\"type\":\"scatterpolargl\"}],\"scatterternary\":[{\"marker\":{\"colorbar\":{\"outlinewidth\":0,\"ticks\":\"\"}},\"type\":\"scatterternary\"}],\"surface\":[{\"colorbar\":{\"outlinewidth\":0,\"ticks\":\"\"},\"colorscale\":[[0.0,\"#0d0887\"],[0.1111111111111111,\"#46039f\"],[0.2222222222222222,\"#7201a8\"],[0.3333333333333333,\"#9c179e\"],[0.4444444444444444,\"#bd3786\"],[0.5555555555555556,\"#d8576b\"],[0.6666666666666666,\"#ed7953\"],[0.7777777777777778,\"#fb9f3a\"],[0.8888888888888888,\"#fdca26\"],[1.0,\"#f0f921\"]],\"type\":\"surface\"}],\"table\":[{\"cells\":{\"fill\":{\"color\":\"#EBF0F8\"},\"line\":{\"color\":\"white\"}},\"header\":{\"fill\":{\"color\":\"#C8D4E3\"},\"line\":{\"color\":\"white\"}},\"type\":\"table\"}]},\"layout\":{\"annotationdefaults\":{\"arrowcolor\":\"#2a3f5f\",\"arrowhead\":0,\"arrowwidth\":1},\"autotypenumbers\":\"strict\",\"coloraxis\":{\"colorbar\":{\"outlinewidth\":0,\"ticks\":\"\"}},\"colorscale\":{\"diverging\":[[0,\"#8e0152\"],[0.1,\"#c51b7d\"],[0.2,\"#de77ae\"],[0.3,\"#f1b6da\"],[0.4,\"#fde0ef\"],[0.5,\"#f7f7f7\"],[0.6,\"#e6f5d0\"],[0.7,\"#b8e186\"],[0.8,\"#7fbc41\"],[0.9,\"#4d9221\"],[1,\"#276419\"]],\"sequential\":[[0.0,\"#0d0887\"],[0.1111111111111111,\"#46039f\"],[0.2222222222222222,\"#7201a8\"],[0.3333333333333333,\"#9c179e\"],[0.4444444444444444,\"#bd3786\"],[0.5555555555555556,\"#d8576b\"],[0.6666666666666666,\"#ed7953\"],[0.7777777777777778,\"#fb9f3a\"],[0.8888888888888888,\"#fdca26\"],[1.0,\"#f0f921\"]],\"sequentialminus\":[[0.0,\"#0d0887\"],[0.1111111111111111,\"#46039f\"],[0.2222222222222222,\"#7201a8\"],[0.3333333333333333,\"#9c179e\"],[0.4444444444444444,\"#bd3786\"],[0.5555555555555556,\"#d8576b\"],[0.6666666666666666,\"#ed7953\"],[0.7777777777777778,\"#fb9f3a\"],[0.8888888888888888,\"#fdca26\"],[1.0,\"#f0f921\"]]},\"colorway\":[\"#636efa\",\"#EF553B\",\"#00cc96\",\"#ab63fa\",\"#FFA15A\",\"#19d3f3\",\"#FF6692\",\"#B6E880\",\"#FF97FF\",\"#FECB52\"],\"font\":{\"color\":\"#2a3f5f\"},\"geo\":{\"bgcolor\":\"white\",\"lakecolor\":\"white\",\"landcolor\":\"#E5ECF6\",\"showlakes\":true,\"showland\":true,\"subunitcolor\":\"white\"},\"hoverlabel\":{\"align\":\"left\"},\"hovermode\":\"closest\",\"mapbox\":{\"style\":\"light\"},\"paper_bgcolor\":\"white\",\"plot_bgcolor\":\"#E5ECF6\",\"polar\":{\"angularaxis\":{\"gridcolor\":\"white\",\"linecolor\":\"white\",\"ticks\":\"\"},\"bgcolor\":\"#E5ECF6\",\"radialaxis\":{\"gridcolor\":\"white\",\"linecolor\":\"white\",\"ticks\":\"\"}},\"scene\":{\"xaxis\":{\"backgroundcolor\":\"#E5ECF6\",\"gridcolor\":\"white\",\"gridwidth\":2,\"linecolor\":\"white\",\"showbackground\":true,\"ticks\":\"\",\"zerolinecolor\":\"white\"},\"yaxis\":{\"backgroundcolor\":\"#E5ECF6\",\"gridcolor\":\"white\",\"gridwidth\":2,\"linecolor\":\"white\",\"showbackground\":true,\"ticks\":\"\",\"zerolinecolor\":\"white\"},\"zaxis\":{\"backgroundcolor\":\"#E5ECF6\",\"gridcolor\":\"white\",\"gridwidth\":2,\"linecolor\":\"white\",\"showbackground\":true,\"ticks\":\"\",\"zerolinecolor\":\"white\"}},\"shapedefaults\":{\"line\":{\"color\":\"#2a3f5f\"}},\"ternary\":{\"aaxis\":{\"gridcolor\":\"white\",\"linecolor\":\"white\",\"ticks\":\"\"},\"baxis\":{\"gridcolor\":\"white\",\"linecolor\":\"white\",\"ticks\":\"\"},\"bgcolor\":\"#E5ECF6\",\"caxis\":{\"gridcolor\":\"white\",\"linecolor\":\"white\",\"ticks\":\"\"}},\"title\":{\"x\":0.05},\"xaxis\":{\"automargin\":true,\"gridcolor\":\"white\",\"linecolor\":\"white\",\"ticks\":\"\",\"title\":{\"standoff\":15},\"zerolinecolor\":\"white\",\"zerolinewidth\":2},\"yaxis\":{\"automargin\":true,\"gridcolor\":\"white\",\"linecolor\":\"white\",\"ticks\":\"\",\"title\":{\"standoff\":15},\"zerolinecolor\":\"white\",\"zerolinewidth\":2}}},\"title\":{\"text\":\"Medals and distinct_athletes_no\"},\"xaxis\":{\"anchor\":\"y\",\"domain\":[0.0,1.0],\"title\":{\"text\":\"Athletes\"}},\"yaxis\":{\"anchor\":\"x\",\"domain\":[0.0,1.0],\"title\":{\"text\":\"Total medals no.\"}}},                        {\"responsive\": true}                    ).then(function(){\n                            \nvar gd = document.getElementById('2c7a6ced-07c8-41aa-bf31-fd81ef486ee8');\nvar x = new MutationObserver(function (mutations, observer) {{\n        var display = window.getComputedStyle(gd).display;\n        if (!display || display === 'none') {{\n            console.log([gd, 'removed!']);\n            Plotly.purge(gd);\n            observer.disconnect();\n        }}\n}});\n\n// Listen for the removal of the full notebook cells\nvar notebookContainer = gd.closest('#notebook-container');\nif (notebookContainer) {{\n    x.observe(notebookContainer, {childList: true});\n}}\n\n// Listen for the clearing of the current output cell\nvar outputEl = gd.closest('.output');\nif (outputEl) {{\n    x.observe(outputEl, {childList: true});\n}}\n\n                        })                };                });            </script>        </div>"
     },
     "metadata": {},
     "output_type": "display_data"
    }
   ],
   "source": [
    "\n",
    "fig = px.scatter(gold_df, x='distinct_athletes_no', y='Total')\n",
    "fig.update_layout(title='Medals and distinct_athletes_no',\n",
    "                   xaxis_title='Athletes',\n",
    "                   yaxis_title='Total medals no.')\n",
    "fig.show()"
   ],
   "metadata": {
    "collapsed": false,
    "pycharm": {
     "name": "#%%\n"
    }
   }
  },
  {
   "cell_type": "code",
   "execution_count": 33,
   "outputs": [
    {
     "name": "stdout",
     "output_type": "stream",
     "text": [
      "(0.8110503741711875, 8.812983892788103e-181)\n"
     ]
    }
   ],
   "source": [
    "print(stats.pearsonr(gold_df.distinct_athletes_no, gold_df.Total))"
   ],
   "metadata": {
    "collapsed": false,
    "pycharm": {
     "name": "#%%\n"
    }
   }
  },
  {
   "cell_type": "code",
   "execution_count": 34,
   "outputs": [
    {
     "data": {
      "text/plain": "count    769.000000\nmean      20.913540\nstd       19.149162\nmin        2.384615\n25%        9.240000\n50%       15.250000\n75%       25.500000\nmax      174.000000\nName: AthletePerMedal, dtype: float64"
     },
     "execution_count": 34,
     "metadata": {},
     "output_type": "execute_result"
    }
   ],
   "source": [
    "gold_df.AthletePerMedal.describe()"
   ],
   "metadata": {
    "collapsed": false,
    "pycharm": {
     "name": "#%%\n"
    }
   }
  },
  {
   "cell_type": "code",
   "execution_count": 38,
   "outputs": [
    {
     "data": {
      "text/plain": "      NOC  Year  events_partecipations_no  distinct_athletes_no  Bronze  Gold  \\\n1292  MEX  1972                       281                   174       0     0   \n\n      Silver  Total  region  Population  PopulationPerMedal_thousands  \\\n1292       1      1  Mexico    54689944                     54689.944   \n\n      EventPartecipationPerMedal  AthletePerMedal  \\\n1292                       281.0            174.0   \n\n      AthletePerEventPartecipation  \n1292                      0.619217  ",
      "text/html": "<div>\n<style scoped>\n    .dataframe tbody tr th:only-of-type {\n        vertical-align: middle;\n    }\n\n    .dataframe tbody tr th {\n        vertical-align: top;\n    }\n\n    .dataframe thead th {\n        text-align: right;\n    }\n</style>\n<table border=\"1\" class=\"dataframe\">\n  <thead>\n    <tr style=\"text-align: right;\">\n      <th></th>\n      <th>NOC</th>\n      <th>Year</th>\n      <th>events_partecipations_no</th>\n      <th>distinct_athletes_no</th>\n      <th>Bronze</th>\n      <th>Gold</th>\n      <th>Silver</th>\n      <th>Total</th>\n      <th>region</th>\n      <th>Population</th>\n      <th>PopulationPerMedal_thousands</th>\n      <th>EventPartecipationPerMedal</th>\n      <th>AthletePerMedal</th>\n      <th>AthletePerEventPartecipation</th>\n    </tr>\n  </thead>\n  <tbody>\n    <tr>\n      <th>1292</th>\n      <td>MEX</td>\n      <td>1972</td>\n      <td>281</td>\n      <td>174</td>\n      <td>0</td>\n      <td>0</td>\n      <td>1</td>\n      <td>1</td>\n      <td>Mexico</td>\n      <td>54689944</td>\n      <td>54689.944</td>\n      <td>281.0</td>\n      <td>174.0</td>\n      <td>0.619217</td>\n    </tr>\n  </tbody>\n</table>\n</div>"
     },
     "execution_count": 38,
     "metadata": {},
     "output_type": "execute_result"
    }
   ],
   "source": [
    "gold_df[gold_df.AthletePerMedal > 173]\n"
   ],
   "metadata": {
    "collapsed": false,
    "pycharm": {
     "name": "#%%\n"
    }
   }
  },
  {
   "cell_type": "code",
   "execution_count": 48,
   "outputs": [
    {
     "data": {
      "text/plain": "count    769.000000\nmean       0.773310\nstd        0.114394\nmin        0.355263\n25%        0.701863\n50%        0.775000\n75%        0.854167\nmax        1.000000\nName: AthletePerEventPartecipation, dtype: float64"
     },
     "execution_count": 48,
     "metadata": {},
     "output_type": "execute_result"
    }
   ],
   "source": [
    "gold_df.AthletePerEventPartecipation.describe()"
   ],
   "metadata": {
    "collapsed": false,
    "pycharm": {
     "name": "#%%\n"
    }
   }
  },
  {
   "cell_type": "code",
   "execution_count": 47,
   "outputs": [
    {
     "data": {
      "text/plain": "     NOC  Year  events_partecipations_no  distinct_athletes_no  Bronze  Gold  \\\n400  CHI  2004                        29                    22       1     2   \n\n     Silver  Total region  Population  PopulationPerMedal_thousands  \\\n400       0      3  Chile      150722                     50.240667   \n\n     EventPartecipationPerMedal  AthletePerMedal  AthletePerEventPartecipation  \n400                    9.666667         7.333333                      0.758621  ",
      "text/html": "<div>\n<style scoped>\n    .dataframe tbody tr th:only-of-type {\n        vertical-align: middle;\n    }\n\n    .dataframe tbody tr th {\n        vertical-align: top;\n    }\n\n    .dataframe thead th {\n        text-align: right;\n    }\n</style>\n<table border=\"1\" class=\"dataframe\">\n  <thead>\n    <tr style=\"text-align: right;\">\n      <th></th>\n      <th>NOC</th>\n      <th>Year</th>\n      <th>events_partecipations_no</th>\n      <th>distinct_athletes_no</th>\n      <th>Bronze</th>\n      <th>Gold</th>\n      <th>Silver</th>\n      <th>Total</th>\n      <th>region</th>\n      <th>Population</th>\n      <th>PopulationPerMedal_thousands</th>\n      <th>EventPartecipationPerMedal</th>\n      <th>AthletePerMedal</th>\n      <th>AthletePerEventPartecipation</th>\n    </tr>\n  </thead>\n  <tbody>\n    <tr>\n      <th>400</th>\n      <td>CHI</td>\n      <td>2004</td>\n      <td>29</td>\n      <td>22</td>\n      <td>1</td>\n      <td>2</td>\n      <td>0</td>\n      <td>3</td>\n      <td>Chile</td>\n      <td>150722</td>\n      <td>50.240667</td>\n      <td>9.666667</td>\n      <td>7.333333</td>\n      <td>0.758621</td>\n    </tr>\n  </tbody>\n</table>\n</div>"
     },
     "metadata": {},
     "output_type": "display_data"
    }
   ],
   "source": [
    "\n",
    "\n",
    "display(gold_df.loc[gold_df.PopulationPerMedal_thousands <= 5.024067e+01])"
   ],
   "metadata": {
    "collapsed": false,
    "pycharm": {
     "name": "#%%\n"
    }
   }
  }
 ],
 "metadata": {
  "kernelspec": {
   "display_name": "Python 3",
   "language": "python",
   "name": "python3"
  },
  "language_info": {
   "codemirror_mode": {
    "name": "ipython",
    "version": 2
   },
   "file_extension": ".py",
   "mimetype": "text/x-python",
   "name": "python",
   "nbconvert_exporter": "python",
   "pygments_lexer": "ipython2",
   "version": "2.7.6"
  }
 },
 "nbformat": 4,
 "nbformat_minor": 0
}